{
 "metadata": {
  "name": "",
  "signature": "sha256:3e48f82a3c9d97a2b9d6d1a7914bb7acaf1b45362640d2ce24b274596bf9fc89"
 },
 "nbformat": 3,
 "nbformat_minor": 0,
 "worksheets": [
  {
   "cells": [
    {
     "cell_type": "code",
     "collapsed": false,
     "input": [
      "import numpy as np\n",
      "from scipy.integrate import odeint\n",
      "import scipy.integrate as integrate \n",
      "import matplotlib.pyplot as plt\n",
      "from IPython.html.widgets import interact, interactive"
     ],
     "language": "python",
     "metadata": {},
     "outputs": [],
     "prompt_number": 1
    },
    {
     "cell_type": "heading",
     "level": 1,
     "metadata": {},
     "source": [
      "Variables"
     ]
    },
    {
     "cell_type": "code",
     "collapsed": false,
     "input": [
      "#Important Variables\n",
      "M = 1.\n",
      "S = 1.\n",
      "G = 4.302*1e-3\n",
      "time = 4."
     ],
     "language": "python",
     "metadata": {},
     "outputs": [],
     "prompt_number": 41
    },
    {
     "cell_type": "heading",
     "level": 5,
     "metadata": {},
     "source": [
      "Initial Array = [XPos, YPos, XVeloc, YVeloc]"
     ]
    },
    {
     "cell_type": "code",
     "collapsed": false,
     "input": [
      "#Disruptor galaxy initial conditions\n",
      "starstuff = [1.,0.,-.3,-.1]\n",
      "disruptStart = [starstuff[0], starstuff[1]]\n",
      "#Centre = ((S+M)/S)*magnitude(disruptStart)\n",
      "\n",
      "\n",
      "#Main galaxy w/ massless points\n",
      "#bigG = [-Centre,-Centre, .3, .1] \n",
      "\n",
      "\n",
      "#This is the array that we'll run to our 3rd derivative function\n",
      "#combineG = [1.,0.,-.6,-.3,-Centre,-Centre, .6, .3]"
     ],
     "language": "python",
     "metadata": {},
     "outputs": [],
     "prompt_number": 5
    },
    {
     "cell_type": "heading",
     "level": 1,
     "metadata": {},
     "source": [
      "Helper Functions "
     ]
    },
    {
     "cell_type": "code",
     "collapsed": false,
     "input": [
      "def magnitude(vector):\n",
      "    s = 0.\n",
      "    \n",
      "    for i in range(len(vector)):\n",
      "        s += vector[i]**2\n",
      "    \n",
      "    mag = np.sqrt(s)\n",
      "    return mag"
     ],
     "language": "python",
     "metadata": {},
     "outputs": [],
     "prompt_number": 6
    },
    {
     "cell_type": "code",
     "collapsed": false,
     "input": [
      "def noPolar(r,theta):\n",
      "    x = r*np.cos(theta)\n",
      "    y = r*np.sin(theta)\n",
      "    return x, y"
     ],
     "language": "python",
     "metadata": {},
     "outputs": [],
     "prompt_number": 7
    },
    {
     "cell_type": "heading",
     "level": 4,
     "metadata": {},
     "source": [
      "The beginningPoints method sets the initial position for our massless points.\n",
      "After going through all the necessary calculations, the function returns the x, y, r, and theta values for all points, but in individual arrays."
     ]
    },
    {
     "cell_type": "code",
     "collapsed": false,
     "input": [
      "def beginningPoints(Rmin):\n",
      "    \"\"\"\n",
      "    We will create an array that contains all of the radian values\n",
      "    for each particular ring. Since we know the radius, we can \n",
      "    deduce the x and y coordinates\n",
      "    \"\"\"\n",
      "    \"\"\"\n",
      "    Warning: THIS ONLY PLOTS PARTICLES DURING THE RESTING STAGE\n",
      "    \"\"\"\n",
      "    particles = 120.\n",
      "    angle=0.\n",
      "    \n",
      "    #The radius of the 5 rings\n",
      "    r1 = .2*Rmin\n",
      "    r2 = .3*Rmin\n",
      "    r3 = .4*Rmin\n",
      "    r4 = .5*Rmin\n",
      "    r5 = .6*Rmin\n",
      "    \n",
      "    #Create lists corresponding to each ring that contains theta\n",
      "    #values for the massless points.\n",
      "    \n",
      "    r11 = [] #12 particles\n",
      "    r22 = [] #18 particles\n",
      "    r33 = [] #24 particles\n",
      "    r44 = [] #30 particles\n",
      "    r55 = [] #36 particles\n",
      "    \n",
      "    #Find the incremental angles of the points on the rings  (in rads)\n",
      "    incr1 = (2.*np.pi)/12.\n",
      "    incr2 = (2.*np.pi)/18.\n",
      "    incr3 = (2.*np.pi)/24.\n",
      "    incr4 = (2.*np.pi)/30.\n",
      "    incr5 = (2.*np.pi)/36.\n",
      "    \n",
      "    array = [incr1,incr2,incr3,incr4,incr5]\n",
      "    \n",
      "    for j in array:\n",
      "        \n",
      "        if j == incr1:\n",
      "            for i in range(12):\n",
      "                angle += incr1\n",
      "                r11.append(angle)\n",
      "        \n",
      "        elif j == incr2:\n",
      "            for i in range(18):\n",
      "                angle += incr2\n",
      "                r22.append(angle)    \n",
      "        \n",
      "        elif j == incr3:\n",
      "            for i in range(24):\n",
      "                angle += incr3\n",
      "                r33.append(angle)\n",
      "        \n",
      "        elif j == incr4:\n",
      "            for i in range(30):\n",
      "                angle += incr4\n",
      "                r44.append(angle)\n",
      "        \n",
      "        else:\n",
      "            for i in range(36):\n",
      "                angle += incr5\n",
      "                r55.append(angle)\n",
      "    \n",
      "    \"\"\"\n",
      "    Now we have our arrays of the angles of the points, and we \n",
      "    have the radii. Now we must individually plot all the points.\n",
      "    To do this, we must convert all of our points into x and y \n",
      "    from r and theta. \n",
      "    \"\"\"\n",
      "    \n",
      "    radii = [r1,r2,r3,r4,r5]\n",
      "    theta = [r11,r22,r33,r44,r55]\n",
      "    xval = []\n",
      "    yval = []\n",
      "    \n",
      "    for i in r11:\n",
      "        x, y = noPolar(r1,i)\n",
      "        xval.append(x)\n",
      "        yval.append(y)\n",
      "    \n",
      "    for i in r22:\n",
      "        x, y = noPolar(r2,i)\n",
      "        xval.append(x)\n",
      "        yval.append(y)\n",
      "    \n",
      "    for i in r33:\n",
      "        x, y = noPolar(r3,i)\n",
      "        xval.append(x)\n",
      "        yval.append(y)\n",
      "        \n",
      "    for i in r44:\n",
      "        x, y = noPolar(r4,i)\n",
      "        xval.append(x)\n",
      "        yval.append(y)\n",
      "        \n",
      "    for i in r55:\n",
      "        x, y = noPolar(r5,i)\n",
      "        xval.append(x)\n",
      "        yval.append(y)\n",
      "\n",
      "    return  xval, yval, radii, theta"
     ],
     "language": "python",
     "metadata": {},
     "outputs": [],
     "prompt_number": 8
    },
    {
     "cell_type": "code",
     "collapsed": false,
     "input": [
      "def periodStar(r,theta):\n",
      "    \"\"\"\n",
      "    Take polar coordinates and finds the velocity due to orbiting the center of mass. This will produce \n",
      "    the initial velocity in the correct direction for the respective point.\n",
      "    \"\"\"\n",
      "    x,y = noPolar(r,theta)\n",
      "    unitpv = [-y/r, x/r]\n",
      "    #veloc = ((2.*np.pi)/5.45)*r\n",
      "    veloc = np.sqrt(G/r)\n",
      "    \n",
      "    #Must find the direction\n",
      "    \n",
      "    xveloc = (veloc)*unitpv[0]\n",
      "    yveloc = (veloc)*unitpv[1]\n",
      "    \n",
      "    \n",
      "    \n",
      "    return np.array([xveloc, yveloc])\n",
      "\n",
      "periodStar(.4, np.pi/4)"
     ],
     "language": "python",
     "metadata": {},
     "outputs": [
      {
       "metadata": {},
       "output_type": "pyout",
       "prompt_number": 31,
       "text": [
        "array([-0.07333144,  0.07333144])"
       ]
      }
     ],
     "prompt_number": 31
    },
    {
     "cell_type": "heading",
     "level": 1,
     "metadata": {},
     "source": [
      "Start\n"
     ]
    },
    {
     "cell_type": "heading",
     "level": 4,
     "metadata": {},
     "source": [
      "In the beginning, we start out by extracting all x and y positions along with their respective x and theta values. Then we use a series of for loops (A for loop for every ring) in order to extract the velocities for our massless points. "
     ]
    },
    {
     "cell_type": "code",
     "collapsed": false,
     "input": [
      "x,y,r,t = beginningPoints(1.0)\n",
      "templist = []\n",
      "\n",
      "for j in t[0]:\n",
      "    templist.append(periodStar(r[0],j))\n",
      "    \n",
      "for j in t[1]:\n",
      "    templist.append(periodStar(r[1],j))\n",
      "    \n",
      "for j in t[2]:\n",
      "    templist.append(periodStar(r[2],j))\n",
      "    \n",
      "for j in t[3]:\n",
      "    templist.append(periodStar(r[3],j))\n",
      "    \n",
      "for j in t[4]:\n",
      "    templist.append(periodStar(r[4],j))\n",
      "    \n",
      "xveloc = []\n",
      "yveloc = []\n",
      "\n",
      "\n",
      "for i in range(len(templist)):\n",
      "    temp = templist[i]\n",
      "    h = temp[0]\n",
      "    d = temp[1]\n",
      "    \n",
      "    xveloc.append(h)\n",
      "    yveloc.append(d)"
     ],
     "language": "python",
     "metadata": {},
     "outputs": [],
     "prompt_number": 32
    },
    {
     "cell_type": "heading",
     "level": 4,
     "metadata": {},
     "source": [
      "In this cell, we are assigning all 480 initial values of the massless points to one big 2 dimensional array. We can easily extract the point we are talking about when we run it through the odeint function by calling the row number"
     ]
    },
    {
     "cell_type": "code",
     "collapsed": false,
     "input": [
      "truStars = np.zeros(480).reshape(120,4)\n",
      "\n",
      "for i in range(120):\n",
      "    for j in range(4):\n",
      "        if j == 0:\n",
      "            #X position first\n",
      "            truStars[i][j] = x[i]\n",
      "        elif j == 1:\n",
      "            #Y Position second\n",
      "            truStars[i][j] = y[i]\n",
      "        elif j == 2:\n",
      "            #X velocity third\n",
      "            truStars[i][j] = xveloc[i]\n",
      "        else:\n",
      "            #Y velocity fourth\n",
      "            truStars[i][j] = yveloc[i]"
     ],
     "language": "python",
     "metadata": {},
     "outputs": [],
     "prompt_number": 33
    },
    {
     "cell_type": "heading",
     "level": 1,
     "metadata": {},
     "source": [
      "Derivatives & Mapping the Stars"
     ]
    },
    {
     "cell_type": "code",
     "collapsed": false,
     "input": [
      "def Deriv1(init, t):\n",
      "    \"\"\"\n",
      "    Compute the derivatives for the COM, and plug into deriv function\n",
      "    for stars\n",
      "    \"\"\"\n",
      "    Rvec = np.array([init[0],init[1]])\n",
      "    xvel = init[2]\n",
      "    yvel = init[3]\n",
      "    \n",
      "    Rmag = magnitude(Rvec)\n",
      "    Raccel = []\n",
      "    \n",
      "    for i in range(2):\n",
      "        Raccel.append(-G*((M+S)/(Rmag**3.)*Rvec[i]))\n",
      "    \n",
      "    xaccel = Raccel[0]\n",
      "    yaccel = Raccel[1]\n",
      "    \n",
      "    return np.array([xvel, yvel, xaccel, yaccel])\n",
      "\n",
      "\n",
      "\n",
      "\n",
      "\n",
      "\n",
      "def Deriv2(stars, t, init, G):\n",
      "    \"\"\"\n",
      "    Compute the derivatives for the stars. You will have to call ODE\n",
      "    INT for your Deriv1 function, as the positions of the stars\n",
      "    depend on the position of the COM\n",
      "    \"\"\"\n",
      "    rvec = np.array([stars[0],stars[1]])\n",
      "    xvel = stars[2]\n",
      "    yvel = stars[3]\n",
      "    \n",
      "    Rarr = odeint(Deriv1, init, np.linspace(.01, t,t+1))\n",
      "    \n",
      "    #The positions at the most recent time\n",
      "    Rx = Rarr[-1, 0]\n",
      "    Ry = Rarr[-1, 1]\n",
      "    Rvec = np.array([Rx,Ry])\n",
      "    rhovec = Rvec - rvec\n",
      "    \n",
      "    \n",
      "    rmag = magnitude(rvec)\n",
      "    Rmag = magnitude(Rvec)\n",
      "    rhomag = magnitude(rhovec)\n",
      "    \n",
      "    raccel = []\n",
      "    \n",
      "    for i in range(2):\n",
      "        raccel.append(-G*(((M/(rmag**3.))*rvec[i])  -  ((S/(rhomag**3.))*rhovec[i])  \n",
      "                +  ((S/(Rmag**3.))*Rvec[i])))\n",
      "        \n",
      "    xaccel = raccel[0]\n",
      "    yaccel = raccel[1]\n",
      "    \n",
      "    return np.array([xvel, yvel, xaccel, yaccel])\n"
     ],
     "language": "python",
     "metadata": {},
     "outputs": [],
     "prompt_number": 34
    },
    {
     "cell_type": "code",
     "collapsed": false,
     "input": [
      "#New derivative function that computes the center of mass\n",
      "#Instead of running the radius vector from disruptor to the main galaxy, the radius vector is just\n",
      "#The distance between the two galaxies. Must compute new center of mass everytime.\n",
      "def Deriv3(init, t):\n",
      "    \"\"\"\n",
      "    Start out w/ initial positions for galaxy along with starting velocities. \n",
      "    We must find the Radius vector from the two galaxies and do the same calculation as Deriv1. \n",
      "    The acceleration will be the opposite if the \n",
      "    \"\"\"\n",
      "    \n",
      "    \n",
      "    Dpos = np.array([init[0], init[1]])\n",
      "    Rvec = [init[0]+init[4], init[1]+init[5]]   \n",
      "    Dxvel = init[2]\n",
      "    Dyvel = init[3]\n",
      "    Mxvel = init[6]\n",
      "    Myvel = init[7]\n",
      "    \n",
      "    Rmag = magnitude(Rvec)\n",
      "    Raccel = []\n",
      "    \n",
      "    for i in range(2):\n",
      "        Raccel.append(-G*((M+S)/(Rmag**3.)*Rvec[i]))\n",
      "    \n",
      "    Dxaccel = Raccel[0]\n",
      "    Dyaccel = Raccel[1]\n",
      "    Mxaccel = -Raccel[0]\n",
      "    Myaccel = -Raccel[1]\n",
      "    \n",
      "    return np.array([Dxvel, Dyvel, Dxaccel, Dyaccel, Mxvel, Myvel, Mxaccel, Myaccel])"
     ],
     "language": "python",
     "metadata": {},
     "outputs": [],
     "prompt_number": 35
    },
    {
     "cell_type": "code",
     "collapsed": false,
     "input": [
      "#############Finds the derivatives for the motion of the stars while the center of mass is a fixed point \n",
      "def Deriv4(stars, t, init, G):\n",
      "    \"\"\"\n",
      "    Compute the derivatives for the stars. You will have to call ODE\n",
      "    INT for your Deriv1 function, as the positions of the stars\n",
      "    depend on the position of the COM\n",
      "    \"\"\"\n",
      "    rvec = np.array([stars[0],stars[1]])\n",
      "    xvel = stars[2]\n",
      "    yvel = stars[3]\n",
      "    \n",
      "    Rarr = odeint(Deriv1, init, np.linspace(.01, t,t+1))\n",
      "    \n",
      "    #The positions at the most recent time\n",
      "    Rx = Rarr[-1, 0]\n",
      "    Ry = Rarr[-1, 1]\n",
      "    Rvec = np.array([Rx,Ry])\n",
      "    rhovec = Rvec - rvec\n",
      "    \n",
      "    \n",
      "    rmag = magnitude(rvec)\n",
      "    Rmag = magnitude(Rvec)\n",
      "    rhomag = magnitude(rhovec)\n",
      "    \n",
      "    raccel = []\n",
      "    \n",
      "    for i in range(2):\n",
      "        raccel.append(-G*(((M/(rmag**3.))*rvec[i])  -  ((S/(rhomag**3.))*rhovec[i])  \n",
      "                +  ((S/(Rmag**3.))*Rvec[i])))\n",
      "        \n",
      "    xaccel = raccel[0]\n",
      "    yaccel = raccel[1]\n",
      "    \n",
      "    return np.array([xvel, yvel, xaccel, yaccel])"
     ],
     "language": "python",
     "metadata": {},
     "outputs": [],
     "prompt_number": 36
    },
    {
     "cell_type": "heading",
     "level": 1,
     "metadata": {},
     "source": [
      "Putting it all into 'Motion' (HA!) "
     ]
    },
    {
     "cell_type": "code",
     "collapsed": false,
     "input": [
      "Disruptor = odeint(Deriv1, starstuff, np.linspace(0.,time,time*10+1))"
     ],
     "language": "python",
     "metadata": {},
     "outputs": [],
     "prompt_number": 42
    },
    {
     "cell_type": "code",
     "collapsed": false,
     "input": [
      "randomloc = odeint(Deriv2, truStars[0], np.linspace(0,time,time*10+1), args=(starstuff,G))"
     ],
     "language": "python",
     "metadata": {},
     "outputs": [],
     "prompt_number": 43
    },
    {
     "cell_type": "code",
     "collapsed": false,
     "input": [
      "CenterMass = odeint(Deriv3, combineG, np.linspace(0,time,time*10+1))"
     ],
     "language": "python",
     "metadata": {},
     "outputs": [
      {
       "ename": "NameError",
       "evalue": "name 'combineG' is not defined",
       "output_type": "pyerr",
       "traceback": [
        "\u001b[0;31m---------------------------------------------------------------------------\u001b[0m\n\u001b[0;31mNameError\u001b[0m                                 Traceback (most recent call last)",
        "\u001b[0;32m<ipython-input-17-f83e71895e07>\u001b[0m in \u001b[0;36m<module>\u001b[0;34m()\u001b[0m\n\u001b[0;32m----> 1\u001b[0;31m \u001b[0mCenterMass\u001b[0m \u001b[0;34m=\u001b[0m \u001b[0modeint\u001b[0m\u001b[0;34m(\u001b[0m\u001b[0mDeriv3\u001b[0m\u001b[0;34m,\u001b[0m \u001b[0mcombineG\u001b[0m\u001b[0;34m,\u001b[0m \u001b[0mnp\u001b[0m\u001b[0;34m.\u001b[0m\u001b[0mlinspace\u001b[0m\u001b[0;34m(\u001b[0m\u001b[0;36m0\u001b[0m\u001b[0;34m,\u001b[0m\u001b[0mtime\u001b[0m\u001b[0;34m,\u001b[0m\u001b[0mtime\u001b[0m\u001b[0;34m*\u001b[0m\u001b[0;36m10\u001b[0m\u001b[0;34m+\u001b[0m\u001b[0;36m1\u001b[0m\u001b[0;34m)\u001b[0m\u001b[0;34m)\u001b[0m\u001b[0;34m\u001b[0m\u001b[0m\n\u001b[0m",
        "\u001b[0;31mNameError\u001b[0m: name 'combineG' is not defined"
       ]
      }
     ],
     "prompt_number": 17
    },
    {
     "cell_type": "heading",
     "level": 4,
     "metadata": {},
     "source": [
      "Period of main galaxy and massless points"
     ]
    },
    {
     "cell_type": "code",
     "collapsed": false,
     "input": [
      "x,y,r,t = beginningPoints(15)\n",
      "\n",
      "\n",
      "for j in t[0]:\n",
      "    xx1, yy1 = periodStar(r[0],j)\n",
      "    xa, ya = noPolar(r[0],j)\n",
      "    plt.quiver(xa,ya,xx1,yy1)\n",
      "    \n",
      "for j in t[1]:\n",
      "    xx2, yy2 = periodStar(r[1],j)\n",
      "    xb, yb = noPolar(r[1], j)\n",
      "    plt.quiver(xb, yb, xx2,yy2)\n",
      "for j in t[2]:\n",
      "    xx3, yy3 = periodStar(r[2],j)\n",
      "    xc, yc = noPolar(r[2],j)\n",
      "    plt.quiver(xc, yc, xx3,yy3)\n",
      "for j in t[3]:\n",
      "    xx4, yy4 = periodStar(r[3],j)\n",
      "    xd, yd = noPolar(r[3],j)\n",
      "    plt.quiver(xd, yd, xx4,yy4)\n",
      "for j in t[4]:\n",
      "    xx5, yy5 = periodStar(r[4],j)\n",
      "    xe, ye = noPolar(r[4], j)\n",
      "    plt.quiver(xe, ye, xx5,yy5)\n",
      "\n",
      "    \n",
      "plt.show()"
     ],
     "language": "python",
     "metadata": {},
     "outputs": [],
     "prompt_number": 44
    },
    {
     "cell_type": "heading",
     "level": 1,
     "metadata": {},
     "source": [
      "Center of Mass as main galaxy"
     ]
    },
    {
     "cell_type": "heading",
     "level": 4,
     "metadata": {},
     "source": [
      "All stars in motion "
     ]
    },
    {
     "cell_type": "code",
     "collapsed": false,
     "input": [
      "for i in range(120):\n",
      "    output = odeint(Deriv2, truStars[i], np.linspace(0,time,time*10+1), args=(starstuff,G))\n",
      "    f = output[:,0]\n",
      "    g = output[:,1]\n",
      "    plt.plot(f,g)\n",
      "\n",
      "\n",
      "    \n",
      "dis = Disruptor[:,0]\n",
      "sid = Disruptor[:,1]\n",
      "plt.plot(dis,sid, 'k--')\n",
      "plt.show()"
     ],
     "language": "python",
     "metadata": {},
     "outputs": [],
     "prompt_number": 45
    },
    {
     "cell_type": "heading",
     "level": 4,
     "metadata": {},
     "source": [
      "Motion of the Disruptor Galaxy "
     ]
    },
    {
     "cell_type": "code",
     "collapsed": false,
     "input": [
      "plt.plot(x,y, 'k.')\n",
      "plt.plot(dis, sid, 'r--')\n",
      "plt.show()"
     ],
     "language": "python",
     "metadata": {},
     "outputs": []
    },
    {
     "cell_type": "heading",
     "level": 4,
     "metadata": {},
     "source": [
      "Motion of Individual particle while Disruptor is moving "
     ]
    },
    {
     "cell_type": "code",
     "collapsed": false,
     "input": [
      "plt.plot(x,y,'.')\n",
      "\n",
      "locx = randomloc[:,0]\n",
      "locy = randomloc[:,1]\n",
      "\n",
      "plt.plot(locx, locy, 'r--')\n",
      "plt.show()"
     ],
     "language": "python",
     "metadata": {},
     "outputs": []
    },
    {
     "cell_type": "heading",
     "level": 1,
     "metadata": {},
     "source": [
      "Center of Mass as Fixed Point"
     ]
    },
    {
     "cell_type": "code",
     "collapsed": false,
     "input": [
      "disx = CenterMass[:,0]\n",
      "disy = CenterMass[:,1]\n",
      "mainx = CenterMass[:,4]\n",
      "mainy = CenterMass[:,5]\n",
      "\n",
      "plt.plot(disx, disy, 'b--')\n",
      "plt.plot(mainx, mainy, 'r--')\n",
      "plt.show()"
     ],
     "language": "python",
     "metadata": {},
     "outputs": []
    },
    {
     "cell_type": "code",
     "collapsed": false,
     "input": [],
     "language": "python",
     "metadata": {},
     "outputs": []
    },
    {
     "cell_type": "heading",
     "level": 1,
     "metadata": {},
     "source": [
      "Troubleshoot"
     ]
    },
    {
     "cell_type": "code",
     "collapsed": false,
     "input": [],
     "language": "python",
     "metadata": {},
     "outputs": []
    },
    {
     "cell_type": "code",
     "collapsed": false,
     "input": [],
     "language": "python",
     "metadata": {},
     "outputs": []
    },
    {
     "cell_type": "heading",
     "level": 1,
     "metadata": {},
     "source": [
      "To Do "
     ]
    },
    {
     "cell_type": "markdown",
     "metadata": {},
     "source": [
      "- create 3rd deriv function in order to calculate the appropriate numbers for the center of mass. \n",
      "- make galaxy colliding a video"
     ]
    }
   ],
   "metadata": {}
  }
 ]
}