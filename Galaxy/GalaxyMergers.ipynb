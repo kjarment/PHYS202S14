{
 "metadata": {
  "name": "",
  "signature": "sha256:769f4701f4ca8a7d4192f9dae846176c9df3412fac9111b9a7945be6060eae65"
 },
 "nbformat": 3,
 "nbformat_minor": 0,
 "worksheets": []
}