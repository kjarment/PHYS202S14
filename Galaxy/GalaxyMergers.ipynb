{
 "metadata": {
  "name": "",
  "signature": "sha256:077145bca7a8eb253aa351eaaba4e2c9bde110b1727e50edb83edadbdcbaa832"
 },
 "nbformat": 3,
 "nbformat_minor": 0,
 "worksheets": [
  {
   "cells": [
    {
     "cell_type": "code",
     "collapsed": false,
     "input": [
      "class Body:\n",
      "    \n",
      "    def __init__(self, x0, y0, vx0, vy0, Gravity, Mass):\n",
      "        self.x = x0\n",
      "        self.y = y0\n",
      "        self.vx = vx0\n",
      "        self.vy = vy0\n",
      "        self.G = Gravity\n",
      "        self.M = Mass\n",
      "        \n",
      "    \n",
      "    "
     ],
     "language": "python",
     "metadata": {},
     "outputs": [],
     "prompt_number": 1
    },
    {
     "cell_type": "code",
     "collapsed": false,
     "input": [
      "class Stars:\n",
      "    \n",
      "    def __init__(self, r0, theta, vx, vy, SLoc,  )"
     ],
     "language": "python",
     "metadata": {},
     "outputs": []
    }
   ],
   "metadata": {}
  }
 ]
}