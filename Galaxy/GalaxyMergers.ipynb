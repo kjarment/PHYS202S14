{
 "metadata": {
  "name": "",
  "signature": "sha256:a16b84243ef0e8082f4557a713840d241cb3898332d230d1d5cf76485df2d0d9"
 },
 "nbformat": 3,
 "nbformat_minor": 0,
 "worksheets": [
  {
   "cells": [
    {
     "cell_type": "code",
     "collapsed": false,
     "input": [
      "class Body:\n",
      "    \"\"\"We will instantiate several arrays in replace of location \n",
      "    (x,y), velocity (vx, vy), and acceleration (ax, ay), and we \n",
      "    can find the angle of the direction and magnitude by using\n",
      "    triangles\"\"\"\n",
      "    \n",
      "    \n",
      "    def __init__(self, gravity, mass):\n",
      "        self.loc = [[]*2 for x in range(2)]\n",
      "        self.veloc = [[]*2 for x in range(2)]\n",
      "        self.accel = [[]*2 for x in range(2)]\n",
      "        self.G = gravity\n",
      "        self.M = mass\n",
      "        \n",
      "    \n",
      "    def addLoc(self, x, y):\n",
      "        #The first array is the x location\n",
      "        #Second array is the y location\n",
      "        self.loc[0].append(x)\n",
      "        self.loc[1].append(y)\n",
      "        \n",
      "    def addVeloc(self, vx, vy):\n",
      "        #First array is x velocity\n",
      "        #Second array is y velocity\n",
      "        self.veloc[0].append(vx)\n",
      "        self.veloc[1].append(vy)\n",
      "        \n",
      "    def addAccel(self, ax, ay):\n",
      "        #First array is x acceleration\n",
      "        #Second array is y acceleration\n",
      "        self.accel[0].append(ax)\n",
      "        self.accel[1].append(ay)\n",
      "        \n",
      "    def setMass(self, m):\n",
      "        self.M = m\n",
      "    \n",
      "    def setLoc(self,x,y):\n",
      "        self.loc[0].append(x)\n",
      "        self.loc[1].append(y)\n",
      "        \n",
      "    def setVeloc(self, vx,vy):\n",
      "        self.veloc[0].append(vx)\n",
      "        self.veloc[1].append(vy)\n",
      "        \n",
      "    def setAccel(self, ax, ay):\n",
      "        self.accel[0].append(ax)\n",
      "        self.accel[1].append(ay)\n",
      "        \n",
      "    def setG(self,g):\n",
      "        self.G = g\n",
      "        \n",
      "    "
     ],
     "language": "python",
     "metadata": {},
     "outputs": [],
     "prompt_number": 13
    },
    {
     "cell_type": "code",
     "collapsed": false,
     "input": [
      "class Stars(Body):\n",
      "    \"\"\"The orbit of the stars will move with the body and will \n",
      "    react to the gravitational force of the other galaxy the same \n",
      "    way\"\"\"\n",
      "   \n",
      "    def __init__(self, ringNum, theta):\n",
      "        self.r = []\n",
      "        self.rings = ringNum\n",
      "        self.theta = theta\n",
      "        self.sVeloc = [[]*2 for x in range(2)]\n",
      "        self.sLoc = [[]*2 for x in range(2)]\n",
      "        self.sAccel = [[]*2 for x in range(2)]\n",
      "        \n",
      "    def setRings(self, ringNum):\n",
      "        self.rings = ringNum\n",
      "    \n",
      "    \n",
      "    def setRadius(self, ringNum, rarray):\n",
      "        #Takes the amount of rings, and an array consisting of \n",
      "        #radius values. \n",
      "        \n",
      "        length = len(ringNum)\n",
      "        for i in range(length):\n",
      "            self.r.append(rarray[i])\n",
      "            "
     ],
     "language": "python",
     "metadata": {},
     "outputs": [],
     "prompt_number": 23
    },
    {
     "cell_type": "code",
     "collapsed": false,
     "input": [
      "import numpy as np"
     ],
     "language": "python",
     "metadata": {},
     "outputs": [],
     "prompt_number": 7
    },
    {
     "cell_type": "code",
     "collapsed": false,
     "input": [
      "a = [[]*2 for x in range(2)]\n",
      "b = np.arange(100)"
     ],
     "language": "python",
     "metadata": {},
     "outputs": [],
     "prompt_number": 21
    },
    {
     "cell_type": "code",
     "collapsed": false,
     "input": [
      "print a\n",
      "\n",
      "for i in range(2):\n",
      "    a[i].append(1)\n",
      "    \n",
      "print a"
     ],
     "language": "python",
     "metadata": {},
     "outputs": [
      {
       "output_type": "stream",
       "stream": "stdout",
       "text": [
        "[[], []]\n",
        "[[1], [1]]\n"
       ]
      }
     ],
     "prompt_number": 22
    },
    {
     "cell_type": "code",
     "collapsed": false,
     "input": [
      "a[1].append(b)"
     ],
     "language": "python",
     "metadata": {},
     "outputs": [],
     "prompt_number": 11
    },
    {
     "cell_type": "code",
     "collapsed": false,
     "input": [
      "print a"
     ],
     "language": "python",
     "metadata": {},
     "outputs": [
      {
       "output_type": "stream",
       "stream": "stdout",
       "text": [
        "[[], [array([ 0,  1,  2,  3,  4,  5,  6,  7,  8,  9, 10, 11, 12, 13, 14, 15, 16,\n",
        "       17, 18, 19, 20, 21, 22, 23, 24, 25, 26, 27, 28, 29, 30, 31, 32, 33,\n",
        "       34, 35, 36, 37, 38, 39, 40, 41, 42, 43, 44, 45, 46, 47, 48, 49, 50,\n",
        "       51, 52, 53, 54, 55, 56, 57, 58, 59, 60, 61, 62, 63, 64, 65, 66, 67,\n",
        "       68, 69, 70, 71, 72, 73, 74, 75, 76, 77, 78, 79, 80, 81, 82, 83, 84,\n",
        "       85, 86, 87, 88, 89, 90, 91, 92, 93, 94, 95, 96, 97, 98, 99])]]\n"
       ]
      }
     ],
     "prompt_number": 12
    },
    {
     "cell_type": "code",
     "collapsed": false,
     "input": [],
     "language": "python",
     "metadata": {},
     "outputs": []
    }
   ],
   "metadata": {}
  }
 ]
}