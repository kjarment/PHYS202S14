{
 "metadata": {
  "name": "",
  "signature": "sha256:b534bd5a482b8826c94e721e73fb8617febce275e49014e3c2c4a3be6df45174"
 },
 "nbformat": 3,
 "nbformat_minor": 0,
 "worksheets": [
  {
   "cells": [
    {
     "cell_type": "heading",
     "level": 2,
     "metadata": {},
     "source": [
      "Trajectory Setup\n"
     ]
    },
    {
     "cell_type": "code",
     "collapsed": false,
     "input": [
      "#@author: Cody Jones\n",
      "\n",
      "import numpy as np\n",
      "\n",
      "from matplotlib import pyplot as plt\n",
      "\n",
      "from scipy.integrate import odeint\n",
      "\n",
      "C = -4 # a constant which is a combo of the grav const, masses, etc.\n",
      "\n",
      "timeLimit = 99\n",
      "\n",
      "# format [x velocity, x position, y velocity, y position]\n",
      "\n",
      "loc = [1, 10, 2, 5] # initial values\n",
      "\n",
      "# function used by odeint which returns various derivatives\n",
      "\n",
      "def R(r, t):\n",
      "\n",
      " xaccel = np.cos(np.arctan2(r[3], r[1])) * (C / (r[1]**2 + r[3]**2)**.5); \n",
      "\n",
      " xvel = r[0];\n",
      "\n",
      " yaccel = np.sin(np.arctan2(r[3], r[1])) * C / (r[1]**2 + r[3]**2)**.5;\n",
      "\n",
      " yvel = r[2];\n",
      "\n",
      " \n",
      "\n",
      " return np.array([xaccel, xvel, yaccel, yvel])\n",
      "\n",
      "loc = odeint(R, loc, np.linspace(0, timeLimit, timeLimit + 1));\n",
      "\n",
      " \n",
      "\n",
      "x = loc[:,1]; # extracts the x values from loc\n",
      "\"\"\"\n",
      "loc is a multi dimensional array and x is extracting the element in the first index of all 100 arrays. loc is multidimensional\n",
      "and it goes through all arrays.\n",
      "\"\"\"\n",
      "\n",
      "\n",
      "y = loc[:,3]; # extracts the y values from loc\n",
      "\n",
      "plt.plot(x, y); #plot trajectory\n",
      "\n",
      "plt.scatter(0, 0, s=400, c = 'r') #center of galaxy\n",
      "\n",
      "plt.annotate(\"t = 0\", xy = (loc[1, 1], loc[1,3]), xytext=(loc[1, 1] + 2, loc[1,3]- 15), \\\n",
      "\n",
      " arrowprops=dict(facecolor='black', shrink=0.05, width=.5)); #label start\n",
      "\n",
      "plt.grid();\n",
      "\n",
      "plt.show();"
     ],
     "language": "python",
     "metadata": {},
     "outputs": [],
     "prompt_number": 1
    },
    {
     "cell_type": "code",
     "collapsed": false,
     "input": [
      "help(np.linspace\n",
      "     )"
     ],
     "language": "python",
     "metadata": {},
     "outputs": [
      {
       "output_type": "stream",
       "stream": "stdout",
       "text": [
        "Help on function linspace in module numpy.core.function_base:\n",
        "\n",
        "linspace(start, stop, num=50, endpoint=True, retstep=False)\n",
        "    Return evenly spaced numbers over a specified interval.\n",
        "    \n",
        "    Returns `num` evenly spaced samples, calculated over the\n",
        "    interval [`start`, `stop` ].\n",
        "    \n",
        "    The endpoint of the interval can optionally be excluded.\n",
        "    \n",
        "    Parameters\n",
        "    ----------\n",
        "    start : scalar\n",
        "        The starting value of the sequence.\n",
        "    stop : scalar\n",
        "        The end value of the sequence, unless `endpoint` is set to False.\n",
        "        In that case, the sequence consists of all but the last of ``num + 1``\n",
        "        evenly spaced samples, so that `stop` is excluded.  Note that the step\n",
        "        size changes when `endpoint` is False.\n",
        "    num : int, optional\n",
        "        Number of samples to generate. Default is 50.\n",
        "    endpoint : bool, optional\n",
        "        If True, `stop` is the last sample. Otherwise, it is not included.\n",
        "        Default is True.\n",
        "    retstep : bool, optional\n",
        "        If True, return (`samples`, `step`), where `step` is the spacing\n",
        "        between samples.\n",
        "    \n",
        "    Returns\n",
        "    -------\n",
        "    samples : ndarray\n",
        "        There are `num` equally spaced samples in the closed interval\n",
        "        ``[start, stop]`` or the half-open interval ``[start, stop)``\n",
        "        (depending on whether `endpoint` is True or False).\n",
        "    step : float (only if `retstep` is True)\n",
        "        Size of spacing between samples.\n",
        "    \n",
        "    \n",
        "    See Also\n",
        "    --------\n",
        "    arange : Similar to `linspace`, but uses a step size (instead of the\n",
        "             number of samples).\n",
        "    logspace : Samples uniformly distributed in log space.\n",
        "    \n",
        "    Examples\n",
        "    --------\n",
        "    >>> np.linspace(2.0, 3.0, num=5)\n",
        "        array([ 2.  ,  2.25,  2.5 ,  2.75,  3.  ])\n",
        "    >>> np.linspace(2.0, 3.0, num=5, endpoint=False)\n",
        "        array([ 2. ,  2.2,  2.4,  2.6,  2.8])\n",
        "    >>> np.linspace(2.0, 3.0, num=5, retstep=True)\n",
        "        (array([ 2.  ,  2.25,  2.5 ,  2.75,  3.  ]), 0.25)\n",
        "    \n",
        "    Graphical illustration:\n",
        "    \n",
        "    >>> import matplotlib.pyplot as plt\n",
        "    >>> N = 8\n",
        "    >>> y = np.zeros(N)\n",
        "    >>> x1 = np.linspace(0, 10, N, endpoint=True)\n",
        "    >>> x2 = np.linspace(0, 10, N, endpoint=False)\n",
        "    >>> plt.plot(x1, y, 'o')\n",
        "    [<matplotlib.lines.Line2D object at 0x...>]\n",
        "    >>> plt.plot(x2, y + 0.5, 'o')\n",
        "    [<matplotlib.lines.Line2D object at 0x...>]\n",
        "    >>> plt.ylim([-0.5, 1])\n",
        "    (-0.5, 1)\n",
        "    >>> plt.show()\n",
        "\n"
       ]
      }
     ],
     "prompt_number": 38
    },
    {
     "cell_type": "code",
     "collapsed": false,
     "input": [
      "print np.arctan(10)\n",
      "print np.arctan(5)\n",
      "print np.arctan2(10,5)\n",
      "print np.arctan(()"
     ],
     "language": "python",
     "metadata": {},
     "outputs": [
      {
       "output_type": "stream",
       "stream": "stdout",
       "text": [
        "1.4711276743\n",
        "1.37340076695\n",
        "1.10714871779\n",
        "1.42889927219\n"
       ]
      }
     ],
     "prompt_number": 7
    },
    {
     "cell_type": "code",
     "collapsed": false,
     "input": [],
     "language": "python",
     "metadata": {},
     "outputs": []
    }
   ],
   "metadata": {}
  }
 ]
}