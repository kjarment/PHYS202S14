{
 "metadata": {
  "name": "",
  "signature": "sha256:c092f2b2e51e4f3acefffaba66d9fda287a7bc72f6b58895169f022579417ede"
 },
 "nbformat": 3,
 "nbformat_minor": 0,
 "worksheets": [
  {
   "cells": [
    {
     "cell_type": "heading",
     "level": 1,
     "metadata": {},
     "source": [
      "Midterm"
     ]
    },
    {
     "cell_type": "heading",
     "level": 4,
     "metadata": {},
     "source": [
      "Question 1"
     ]
    },
    {
     "cell_type": "code",
     "collapsed": false,
     "input": [
      "prefixes = 'JKLMNOPQ'\n",
      "suffix = 'ack'\n",
      "for letter in prefixes:\n",
      "    if letter == 'O' or letter == 'Q':\n",
      "        newlet = letter + 'u'\n",
      "        print newlet + suffix\n",
      "    else:\n",
      "        print letter +suffix"
     ],
     "language": "python",
     "metadata": {},
     "outputs": [
      {
       "output_type": "stream",
       "stream": "stdout",
       "text": [
        "Jack\n",
        "Kack\n",
        "Lack\n",
        "Mack\n",
        "Nack\n",
        "Ouack\n",
        "Pack\n",
        "Quack\n"
       ]
      }
     ],
     "prompt_number": 4
    },
    {
     "cell_type": "heading",
     "level": 4,
     "metadata": {},
     "source": [
      "Question 2"
     ]
    },
    {
     "cell_type": "code",
     "collapsed": false,
     "input": [
      "from ipythonblocks import BlockGrid\n",
      "from ipythonblocks import colors"
     ],
     "language": "python",
     "metadata": {},
     "outputs": [],
     "prompt_number": 11
    },
    {
     "cell_type": "code",
     "collapsed": false,
     "input": [
      "grid = BlockGrid(8, 8, fill = (0, 130, 200))\n",
      "grid"
     ],
     "language": "python",
     "metadata": {},
     "outputs": [
      {
       "html": [
        "<style type=\"text/css\">table.blockgrid {border: none;} .blockgrid tr {border: none;} .blockgrid td {padding: 0px;} #blocksc61b3cf1-789c-49b0-9c91-f939cd928d0b td {border: 1px solid white;}</style><table id=\"blocksc61b3cf1-789c-49b0-9c91-f939cd928d0b\" class=\"blockgrid\"><tbody><tr><td title=\"Index: [0, 0]&#10;Color: (0, 130, 200)\" style=\"width: 20px; height: 20px;background-color: rgb(0, 130, 200);\"></td><td title=\"Index: [0, 1]&#10;Color: (0, 130, 200)\" style=\"width: 20px; height: 20px;background-color: rgb(0, 130, 200);\"></td><td title=\"Index: [0, 2]&#10;Color: (0, 130, 200)\" style=\"width: 20px; height: 20px;background-color: rgb(0, 130, 200);\"></td><td title=\"Index: [0, 3]&#10;Color: (0, 130, 200)\" style=\"width: 20px; height: 20px;background-color: rgb(0, 130, 200);\"></td><td title=\"Index: [0, 4]&#10;Color: (0, 130, 200)\" style=\"width: 20px; height: 20px;background-color: rgb(0, 130, 200);\"></td><td title=\"Index: [0, 5]&#10;Color: (0, 130, 200)\" style=\"width: 20px; height: 20px;background-color: rgb(0, 130, 200);\"></td><td title=\"Index: [0, 6]&#10;Color: (0, 130, 200)\" style=\"width: 20px; height: 20px;background-color: rgb(0, 130, 200);\"></td><td title=\"Index: [0, 7]&#10;Color: (0, 130, 200)\" style=\"width: 20px; height: 20px;background-color: rgb(0, 130, 200);\"></td></tr><tr><td title=\"Index: [1, 0]&#10;Color: (0, 130, 200)\" style=\"width: 20px; height: 20px;background-color: rgb(0, 130, 200);\"></td><td title=\"Index: [1, 1]&#10;Color: (0, 130, 200)\" style=\"width: 20px; height: 20px;background-color: rgb(0, 130, 200);\"></td><td title=\"Index: [1, 2]&#10;Color: (0, 130, 200)\" style=\"width: 20px; height: 20px;background-color: rgb(0, 130, 200);\"></td><td title=\"Index: [1, 3]&#10;Color: (0, 130, 200)\" style=\"width: 20px; height: 20px;background-color: rgb(0, 130, 200);\"></td><td title=\"Index: [1, 4]&#10;Color: (0, 130, 200)\" style=\"width: 20px; height: 20px;background-color: rgb(0, 130, 200);\"></td><td title=\"Index: [1, 5]&#10;Color: (0, 130, 200)\" style=\"width: 20px; height: 20px;background-color: rgb(0, 130, 200);\"></td><td title=\"Index: [1, 6]&#10;Color: (0, 130, 200)\" style=\"width: 20px; height: 20px;background-color: rgb(0, 130, 200);\"></td><td title=\"Index: [1, 7]&#10;Color: (0, 130, 200)\" style=\"width: 20px; height: 20px;background-color: rgb(0, 130, 200);\"></td></tr><tr><td title=\"Index: [2, 0]&#10;Color: (0, 130, 200)\" style=\"width: 20px; height: 20px;background-color: rgb(0, 130, 200);\"></td><td title=\"Index: [2, 1]&#10;Color: (0, 130, 200)\" style=\"width: 20px; height: 20px;background-color: rgb(0, 130, 200);\"></td><td title=\"Index: [2, 2]&#10;Color: (0, 130, 200)\" style=\"width: 20px; height: 20px;background-color: rgb(0, 130, 200);\"></td><td title=\"Index: [2, 3]&#10;Color: (0, 130, 200)\" style=\"width: 20px; height: 20px;background-color: rgb(0, 130, 200);\"></td><td title=\"Index: [2, 4]&#10;Color: (0, 130, 200)\" style=\"width: 20px; height: 20px;background-color: rgb(0, 130, 200);\"></td><td title=\"Index: [2, 5]&#10;Color: (0, 130, 200)\" style=\"width: 20px; height: 20px;background-color: rgb(0, 130, 200);\"></td><td title=\"Index: [2, 6]&#10;Color: (0, 130, 200)\" style=\"width: 20px; height: 20px;background-color: rgb(0, 130, 200);\"></td><td title=\"Index: [2, 7]&#10;Color: (0, 130, 200)\" style=\"width: 20px; height: 20px;background-color: rgb(0, 130, 200);\"></td></tr><tr><td title=\"Index: [3, 0]&#10;Color: (0, 130, 200)\" style=\"width: 20px; height: 20px;background-color: rgb(0, 130, 200);\"></td><td title=\"Index: [3, 1]&#10;Color: (0, 130, 200)\" style=\"width: 20px; height: 20px;background-color: rgb(0, 130, 200);\"></td><td title=\"Index: [3, 2]&#10;Color: (0, 130, 200)\" style=\"width: 20px; height: 20px;background-color: rgb(0, 130, 200);\"></td><td title=\"Index: [3, 3]&#10;Color: (0, 130, 200)\" style=\"width: 20px; height: 20px;background-color: rgb(0, 130, 200);\"></td><td title=\"Index: [3, 4]&#10;Color: (0, 130, 200)\" style=\"width: 20px; height: 20px;background-color: rgb(0, 130, 200);\"></td><td title=\"Index: [3, 5]&#10;Color: (0, 130, 200)\" style=\"width: 20px; height: 20px;background-color: rgb(0, 130, 200);\"></td><td title=\"Index: [3, 6]&#10;Color: (0, 130, 200)\" style=\"width: 20px; height: 20px;background-color: rgb(0, 130, 200);\"></td><td title=\"Index: [3, 7]&#10;Color: (0, 130, 200)\" style=\"width: 20px; height: 20px;background-color: rgb(0, 130, 200);\"></td></tr><tr><td title=\"Index: [4, 0]&#10;Color: (0, 130, 200)\" style=\"width: 20px; height: 20px;background-color: rgb(0, 130, 200);\"></td><td title=\"Index: [4, 1]&#10;Color: (0, 130, 200)\" style=\"width: 20px; height: 20px;background-color: rgb(0, 130, 200);\"></td><td title=\"Index: [4, 2]&#10;Color: (0, 130, 200)\" style=\"width: 20px; height: 20px;background-color: rgb(0, 130, 200);\"></td><td title=\"Index: [4, 3]&#10;Color: (0, 130, 200)\" style=\"width: 20px; height: 20px;background-color: rgb(0, 130, 200);\"></td><td title=\"Index: [4, 4]&#10;Color: (0, 130, 200)\" style=\"width: 20px; height: 20px;background-color: rgb(0, 130, 200);\"></td><td title=\"Index: [4, 5]&#10;Color: (0, 130, 200)\" style=\"width: 20px; height: 20px;background-color: rgb(0, 130, 200);\"></td><td title=\"Index: [4, 6]&#10;Color: (0, 130, 200)\" style=\"width: 20px; height: 20px;background-color: rgb(0, 130, 200);\"></td><td title=\"Index: [4, 7]&#10;Color: (0, 130, 200)\" style=\"width: 20px; height: 20px;background-color: rgb(0, 130, 200);\"></td></tr><tr><td title=\"Index: [5, 0]&#10;Color: (0, 130, 200)\" style=\"width: 20px; height: 20px;background-color: rgb(0, 130, 200);\"></td><td title=\"Index: [5, 1]&#10;Color: (0, 130, 200)\" style=\"width: 20px; height: 20px;background-color: rgb(0, 130, 200);\"></td><td title=\"Index: [5, 2]&#10;Color: (0, 130, 200)\" style=\"width: 20px; height: 20px;background-color: rgb(0, 130, 200);\"></td><td title=\"Index: [5, 3]&#10;Color: (0, 130, 200)\" style=\"width: 20px; height: 20px;background-color: rgb(0, 130, 200);\"></td><td title=\"Index: [5, 4]&#10;Color: (0, 130, 200)\" style=\"width: 20px; height: 20px;background-color: rgb(0, 130, 200);\"></td><td title=\"Index: [5, 5]&#10;Color: (0, 130, 200)\" style=\"width: 20px; height: 20px;background-color: rgb(0, 130, 200);\"></td><td title=\"Index: [5, 6]&#10;Color: (0, 130, 200)\" style=\"width: 20px; height: 20px;background-color: rgb(0, 130, 200);\"></td><td title=\"Index: [5, 7]&#10;Color: (0, 130, 200)\" style=\"width: 20px; height: 20px;background-color: rgb(0, 130, 200);\"></td></tr><tr><td title=\"Index: [6, 0]&#10;Color: (0, 130, 200)\" style=\"width: 20px; height: 20px;background-color: rgb(0, 130, 200);\"></td><td title=\"Index: [6, 1]&#10;Color: (0, 130, 200)\" style=\"width: 20px; height: 20px;background-color: rgb(0, 130, 200);\"></td><td title=\"Index: [6, 2]&#10;Color: (0, 130, 200)\" style=\"width: 20px; height: 20px;background-color: rgb(0, 130, 200);\"></td><td title=\"Index: [6, 3]&#10;Color: (0, 130, 200)\" style=\"width: 20px; height: 20px;background-color: rgb(0, 130, 200);\"></td><td title=\"Index: [6, 4]&#10;Color: (0, 130, 200)\" style=\"width: 20px; height: 20px;background-color: rgb(0, 130, 200);\"></td><td title=\"Index: [6, 5]&#10;Color: (0, 130, 200)\" style=\"width: 20px; height: 20px;background-color: rgb(0, 130, 200);\"></td><td title=\"Index: [6, 6]&#10;Color: (0, 130, 200)\" style=\"width: 20px; height: 20px;background-color: rgb(0, 130, 200);\"></td><td title=\"Index: [6, 7]&#10;Color: (0, 130, 200)\" style=\"width: 20px; height: 20px;background-color: rgb(0, 130, 200);\"></td></tr><tr><td title=\"Index: [7, 0]&#10;Color: (0, 130, 200)\" style=\"width: 20px; height: 20px;background-color: rgb(0, 130, 200);\"></td><td title=\"Index: [7, 1]&#10;Color: (0, 130, 200)\" style=\"width: 20px; height: 20px;background-color: rgb(0, 130, 200);\"></td><td title=\"Index: [7, 2]&#10;Color: (0, 130, 200)\" style=\"width: 20px; height: 20px;background-color: rgb(0, 130, 200);\"></td><td title=\"Index: [7, 3]&#10;Color: (0, 130, 200)\" style=\"width: 20px; height: 20px;background-color: rgb(0, 130, 200);\"></td><td title=\"Index: [7, 4]&#10;Color: (0, 130, 200)\" style=\"width: 20px; height: 20px;background-color: rgb(0, 130, 200);\"></td><td title=\"Index: [7, 5]&#10;Color: (0, 130, 200)\" style=\"width: 20px; height: 20px;background-color: rgb(0, 130, 200);\"></td><td title=\"Index: [7, 6]&#10;Color: (0, 130, 200)\" style=\"width: 20px; height: 20px;background-color: rgb(0, 130, 200);\"></td><td title=\"Index: [7, 7]&#10;Color: (0, 130, 200)\" style=\"width: 20px; height: 20px;background-color: rgb(0, 130, 200);\"></td></tr></tbody></table>"
       ],
       "metadata": {},
       "output_type": "pyout",
       "prompt_number": 59,
       "text": [
        "<ipythonblocks.ipythonblocks.BlockGrid at 0x10264b050>"
       ]
      }
     ],
     "prompt_number": 59
    },
    {
     "cell_type": "code",
     "collapsed": false,
     "input": [
      "def halfA1(grid):\n",
      "    \"\"\"The whole point of this section of code is to create the left half of\n",
      "    the A. We will start from the top, at [0,3], and every two rows, subtract\n",
      "    1 from our column position, making our colored section go half-way across\n",
      "    the grid\"\"\"\n",
      "    intcol = 3\n",
      "    row = 0\n",
      "    for i in range(grid.height):\n",
      "        for j in range(grid.width):\n",
      "            if i % 2 == 0 and j == intcol:\n",
      "                grid[i,j] = (255, 135, 0)\n",
      "            if i % 2 != 0 and j == intcol:\n",
      "                grid[i,j] = (255, 135, 0)\n",
      "        if i != 0 and i % 2 == 0:\n",
      "            intcol -= 1\n",
      "        \n",
      "    \n",
      "    return grid           \n",
      "                \n",
      "halfA1(grid)\n"
     ],
     "language": "python",
     "metadata": {},
     "outputs": [
      {
       "html": [
        "<style type=\"text/css\">table.blockgrid {border: none;} .blockgrid tr {border: none;} .blockgrid td {padding: 0px;} #blocks10d6291e-c4ef-496c-a51e-5bbd7b9ff6c6 td {border: 1px solid white;}</style><table id=\"blocks10d6291e-c4ef-496c-a51e-5bbd7b9ff6c6\" class=\"blockgrid\"><tbody><tr><td title=\"Index: [0, 0]&#10;Color: (0, 130, 200)\" style=\"width: 20px; height: 20px;background-color: rgb(0, 130, 200);\"></td><td title=\"Index: [0, 1]&#10;Color: (0, 130, 200)\" style=\"width: 20px; height: 20px;background-color: rgb(0, 130, 200);\"></td><td title=\"Index: [0, 2]&#10;Color: (0, 130, 200)\" style=\"width: 20px; height: 20px;background-color: rgb(0, 130, 200);\"></td><td title=\"Index: [0, 3]&#10;Color: (255, 135, 0)\" style=\"width: 20px; height: 20px;background-color: rgb(255, 135, 0);\"></td><td title=\"Index: [0, 4]&#10;Color: (0, 130, 200)\" style=\"width: 20px; height: 20px;background-color: rgb(0, 130, 200);\"></td><td title=\"Index: [0, 5]&#10;Color: (0, 130, 200)\" style=\"width: 20px; height: 20px;background-color: rgb(0, 130, 200);\"></td><td title=\"Index: [0, 6]&#10;Color: (0, 130, 200)\" style=\"width: 20px; height: 20px;background-color: rgb(0, 130, 200);\"></td><td title=\"Index: [0, 7]&#10;Color: (0, 130, 200)\" style=\"width: 20px; height: 20px;background-color: rgb(0, 130, 200);\"></td></tr><tr><td title=\"Index: [1, 0]&#10;Color: (0, 130, 200)\" style=\"width: 20px; height: 20px;background-color: rgb(0, 130, 200);\"></td><td title=\"Index: [1, 1]&#10;Color: (0, 130, 200)\" style=\"width: 20px; height: 20px;background-color: rgb(0, 130, 200);\"></td><td title=\"Index: [1, 2]&#10;Color: (0, 130, 200)\" style=\"width: 20px; height: 20px;background-color: rgb(0, 130, 200);\"></td><td title=\"Index: [1, 3]&#10;Color: (255, 135, 0)\" style=\"width: 20px; height: 20px;background-color: rgb(255, 135, 0);\"></td><td title=\"Index: [1, 4]&#10;Color: (0, 130, 200)\" style=\"width: 20px; height: 20px;background-color: rgb(0, 130, 200);\"></td><td title=\"Index: [1, 5]&#10;Color: (0, 130, 200)\" style=\"width: 20px; height: 20px;background-color: rgb(0, 130, 200);\"></td><td title=\"Index: [1, 6]&#10;Color: (0, 130, 200)\" style=\"width: 20px; height: 20px;background-color: rgb(0, 130, 200);\"></td><td title=\"Index: [1, 7]&#10;Color: (0, 130, 200)\" style=\"width: 20px; height: 20px;background-color: rgb(0, 130, 200);\"></td></tr><tr><td title=\"Index: [2, 0]&#10;Color: (0, 130, 200)\" style=\"width: 20px; height: 20px;background-color: rgb(0, 130, 200);\"></td><td title=\"Index: [2, 1]&#10;Color: (0, 130, 200)\" style=\"width: 20px; height: 20px;background-color: rgb(0, 130, 200);\"></td><td title=\"Index: [2, 2]&#10;Color: (0, 130, 200)\" style=\"width: 20px; height: 20px;background-color: rgb(0, 130, 200);\"></td><td title=\"Index: [2, 3]&#10;Color: (255, 135, 0)\" style=\"width: 20px; height: 20px;background-color: rgb(255, 135, 0);\"></td><td title=\"Index: [2, 4]&#10;Color: (0, 130, 200)\" style=\"width: 20px; height: 20px;background-color: rgb(0, 130, 200);\"></td><td title=\"Index: [2, 5]&#10;Color: (0, 130, 200)\" style=\"width: 20px; height: 20px;background-color: rgb(0, 130, 200);\"></td><td title=\"Index: [2, 6]&#10;Color: (0, 130, 200)\" style=\"width: 20px; height: 20px;background-color: rgb(0, 130, 200);\"></td><td title=\"Index: [2, 7]&#10;Color: (0, 130, 200)\" style=\"width: 20px; height: 20px;background-color: rgb(0, 130, 200);\"></td></tr><tr><td title=\"Index: [3, 0]&#10;Color: (0, 130, 200)\" style=\"width: 20px; height: 20px;background-color: rgb(0, 130, 200);\"></td><td title=\"Index: [3, 1]&#10;Color: (0, 130, 200)\" style=\"width: 20px; height: 20px;background-color: rgb(0, 130, 200);\"></td><td title=\"Index: [3, 2]&#10;Color: (255, 135, 0)\" style=\"width: 20px; height: 20px;background-color: rgb(255, 135, 0);\"></td><td title=\"Index: [3, 3]&#10;Color: (0, 130, 200)\" style=\"width: 20px; height: 20px;background-color: rgb(0, 130, 200);\"></td><td title=\"Index: [3, 4]&#10;Color: (0, 130, 200)\" style=\"width: 20px; height: 20px;background-color: rgb(0, 130, 200);\"></td><td title=\"Index: [3, 5]&#10;Color: (0, 130, 200)\" style=\"width: 20px; height: 20px;background-color: rgb(0, 130, 200);\"></td><td title=\"Index: [3, 6]&#10;Color: (0, 130, 200)\" style=\"width: 20px; height: 20px;background-color: rgb(0, 130, 200);\"></td><td title=\"Index: [3, 7]&#10;Color: (0, 130, 200)\" style=\"width: 20px; height: 20px;background-color: rgb(0, 130, 200);\"></td></tr><tr><td title=\"Index: [4, 0]&#10;Color: (0, 130, 200)\" style=\"width: 20px; height: 20px;background-color: rgb(0, 130, 200);\"></td><td title=\"Index: [4, 1]&#10;Color: (0, 130, 200)\" style=\"width: 20px; height: 20px;background-color: rgb(0, 130, 200);\"></td><td title=\"Index: [4, 2]&#10;Color: (255, 135, 0)\" style=\"width: 20px; height: 20px;background-color: rgb(255, 135, 0);\"></td><td title=\"Index: [4, 3]&#10;Color: (0, 130, 200)\" style=\"width: 20px; height: 20px;background-color: rgb(0, 130, 200);\"></td><td title=\"Index: [4, 4]&#10;Color: (0, 130, 200)\" style=\"width: 20px; height: 20px;background-color: rgb(0, 130, 200);\"></td><td title=\"Index: [4, 5]&#10;Color: (0, 130, 200)\" style=\"width: 20px; height: 20px;background-color: rgb(0, 130, 200);\"></td><td title=\"Index: [4, 6]&#10;Color: (0, 130, 200)\" style=\"width: 20px; height: 20px;background-color: rgb(0, 130, 200);\"></td><td title=\"Index: [4, 7]&#10;Color: (0, 130, 200)\" style=\"width: 20px; height: 20px;background-color: rgb(0, 130, 200);\"></td></tr><tr><td title=\"Index: [5, 0]&#10;Color: (0, 130, 200)\" style=\"width: 20px; height: 20px;background-color: rgb(0, 130, 200);\"></td><td title=\"Index: [5, 1]&#10;Color: (255, 135, 0)\" style=\"width: 20px; height: 20px;background-color: rgb(255, 135, 0);\"></td><td title=\"Index: [5, 2]&#10;Color: (0, 130, 200)\" style=\"width: 20px; height: 20px;background-color: rgb(0, 130, 200);\"></td><td title=\"Index: [5, 3]&#10;Color: (0, 130, 200)\" style=\"width: 20px; height: 20px;background-color: rgb(0, 130, 200);\"></td><td title=\"Index: [5, 4]&#10;Color: (0, 130, 200)\" style=\"width: 20px; height: 20px;background-color: rgb(0, 130, 200);\"></td><td title=\"Index: [5, 5]&#10;Color: (0, 130, 200)\" style=\"width: 20px; height: 20px;background-color: rgb(0, 130, 200);\"></td><td title=\"Index: [5, 6]&#10;Color: (0, 130, 200)\" style=\"width: 20px; height: 20px;background-color: rgb(0, 130, 200);\"></td><td title=\"Index: [5, 7]&#10;Color: (0, 130, 200)\" style=\"width: 20px; height: 20px;background-color: rgb(0, 130, 200);\"></td></tr><tr><td title=\"Index: [6, 0]&#10;Color: (0, 130, 200)\" style=\"width: 20px; height: 20px;background-color: rgb(0, 130, 200);\"></td><td title=\"Index: [6, 1]&#10;Color: (255, 135, 0)\" style=\"width: 20px; height: 20px;background-color: rgb(255, 135, 0);\"></td><td title=\"Index: [6, 2]&#10;Color: (0, 130, 200)\" style=\"width: 20px; height: 20px;background-color: rgb(0, 130, 200);\"></td><td title=\"Index: [6, 3]&#10;Color: (0, 130, 200)\" style=\"width: 20px; height: 20px;background-color: rgb(0, 130, 200);\"></td><td title=\"Index: [6, 4]&#10;Color: (0, 130, 200)\" style=\"width: 20px; height: 20px;background-color: rgb(0, 130, 200);\"></td><td title=\"Index: [6, 5]&#10;Color: (0, 130, 200)\" style=\"width: 20px; height: 20px;background-color: rgb(0, 130, 200);\"></td><td title=\"Index: [6, 6]&#10;Color: (0, 130, 200)\" style=\"width: 20px; height: 20px;background-color: rgb(0, 130, 200);\"></td><td title=\"Index: [6, 7]&#10;Color: (0, 130, 200)\" style=\"width: 20px; height: 20px;background-color: rgb(0, 130, 200);\"></td></tr><tr><td title=\"Index: [7, 0]&#10;Color: (255, 135, 0)\" style=\"width: 20px; height: 20px;background-color: rgb(255, 135, 0);\"></td><td title=\"Index: [7, 1]&#10;Color: (0, 130, 200)\" style=\"width: 20px; height: 20px;background-color: rgb(0, 130, 200);\"></td><td title=\"Index: [7, 2]&#10;Color: (0, 130, 200)\" style=\"width: 20px; height: 20px;background-color: rgb(0, 130, 200);\"></td><td title=\"Index: [7, 3]&#10;Color: (0, 130, 200)\" style=\"width: 20px; height: 20px;background-color: rgb(0, 130, 200);\"></td><td title=\"Index: [7, 4]&#10;Color: (0, 130, 200)\" style=\"width: 20px; height: 20px;background-color: rgb(0, 130, 200);\"></td><td title=\"Index: [7, 5]&#10;Color: (0, 130, 200)\" style=\"width: 20px; height: 20px;background-color: rgb(0, 130, 200);\"></td><td title=\"Index: [7, 6]&#10;Color: (0, 130, 200)\" style=\"width: 20px; height: 20px;background-color: rgb(0, 130, 200);\"></td><td title=\"Index: [7, 7]&#10;Color: (0, 130, 200)\" style=\"width: 20px; height: 20px;background-color: rgb(0, 130, 200);\"></td></tr></tbody></table>"
       ],
       "metadata": {},
       "output_type": "pyout",
       "prompt_number": 60,
       "text": [
        "<ipythonblocks.ipythonblocks.BlockGrid at 0x10264b050>"
       ]
      }
     ],
     "prompt_number": 60
    },
    {
     "cell_type": "code",
     "collapsed": false,
     "input": [
      "def halfA2(grid):\n",
      "    \"\"\"The whole point of this section of code is to create the left half of\n",
      "    the A. We will start from the top, at [0,4], and every two rows, add\n",
      "    1 from our column position, making our colored section go half-way across\n",
      "    the grid. It is identical to our other method.\"\"\"\n",
      "    intcol = 4\n",
      "    for i in range(grid.height):\n",
      "        for j in range(grid.width):\n",
      "            if i % 2 == 0 and j == intcol:\n",
      "                grid[i,j] = (255, 135, 0)\n",
      "            if i % 2 != 0 and j == intcol:\n",
      "                grid[i,j] = (255, 135, 0)\n",
      "        if i != 0 and i % 2 == 0:\n",
      "            intcol += 1\n",
      "            \n",
      "    return grid           \n",
      "                \n",
      "halfA2(grid)"
     ],
     "language": "python",
     "metadata": {},
     "outputs": [
      {
       "html": [
        "<style type=\"text/css\">table.blockgrid {border: none;} .blockgrid tr {border: none;} .blockgrid td {padding: 0px;} #blocks8ba580ce-cd9a-4310-99ce-b3c1de4ae754 td {border: 1px solid white;}</style><table id=\"blocks8ba580ce-cd9a-4310-99ce-b3c1de4ae754\" class=\"blockgrid\"><tbody><tr><td title=\"Index: [0, 0]&#10;Color: (0, 130, 200)\" style=\"width: 20px; height: 20px;background-color: rgb(0, 130, 200);\"></td><td title=\"Index: [0, 1]&#10;Color: (0, 130, 200)\" style=\"width: 20px; height: 20px;background-color: rgb(0, 130, 200);\"></td><td title=\"Index: [0, 2]&#10;Color: (0, 130, 200)\" style=\"width: 20px; height: 20px;background-color: rgb(0, 130, 200);\"></td><td title=\"Index: [0, 3]&#10;Color: (255, 135, 0)\" style=\"width: 20px; height: 20px;background-color: rgb(255, 135, 0);\"></td><td title=\"Index: [0, 4]&#10;Color: (255, 135, 0)\" style=\"width: 20px; height: 20px;background-color: rgb(255, 135, 0);\"></td><td title=\"Index: [0, 5]&#10;Color: (0, 130, 200)\" style=\"width: 20px; height: 20px;background-color: rgb(0, 130, 200);\"></td><td title=\"Index: [0, 6]&#10;Color: (0, 130, 200)\" style=\"width: 20px; height: 20px;background-color: rgb(0, 130, 200);\"></td><td title=\"Index: [0, 7]&#10;Color: (0, 130, 200)\" style=\"width: 20px; height: 20px;background-color: rgb(0, 130, 200);\"></td></tr><tr><td title=\"Index: [1, 0]&#10;Color: (0, 130, 200)\" style=\"width: 20px; height: 20px;background-color: rgb(0, 130, 200);\"></td><td title=\"Index: [1, 1]&#10;Color: (0, 130, 200)\" style=\"width: 20px; height: 20px;background-color: rgb(0, 130, 200);\"></td><td title=\"Index: [1, 2]&#10;Color: (0, 130, 200)\" style=\"width: 20px; height: 20px;background-color: rgb(0, 130, 200);\"></td><td title=\"Index: [1, 3]&#10;Color: (255, 135, 0)\" style=\"width: 20px; height: 20px;background-color: rgb(255, 135, 0);\"></td><td title=\"Index: [1, 4]&#10;Color: (255, 135, 0)\" style=\"width: 20px; height: 20px;background-color: rgb(255, 135, 0);\"></td><td title=\"Index: [1, 5]&#10;Color: (0, 130, 200)\" style=\"width: 20px; height: 20px;background-color: rgb(0, 130, 200);\"></td><td title=\"Index: [1, 6]&#10;Color: (0, 130, 200)\" style=\"width: 20px; height: 20px;background-color: rgb(0, 130, 200);\"></td><td title=\"Index: [1, 7]&#10;Color: (0, 130, 200)\" style=\"width: 20px; height: 20px;background-color: rgb(0, 130, 200);\"></td></tr><tr><td title=\"Index: [2, 0]&#10;Color: (0, 130, 200)\" style=\"width: 20px; height: 20px;background-color: rgb(0, 130, 200);\"></td><td title=\"Index: [2, 1]&#10;Color: (0, 130, 200)\" style=\"width: 20px; height: 20px;background-color: rgb(0, 130, 200);\"></td><td title=\"Index: [2, 2]&#10;Color: (0, 130, 200)\" style=\"width: 20px; height: 20px;background-color: rgb(0, 130, 200);\"></td><td title=\"Index: [2, 3]&#10;Color: (255, 135, 0)\" style=\"width: 20px; height: 20px;background-color: rgb(255, 135, 0);\"></td><td title=\"Index: [2, 4]&#10;Color: (255, 135, 0)\" style=\"width: 20px; height: 20px;background-color: rgb(255, 135, 0);\"></td><td title=\"Index: [2, 5]&#10;Color: (0, 130, 200)\" style=\"width: 20px; height: 20px;background-color: rgb(0, 130, 200);\"></td><td title=\"Index: [2, 6]&#10;Color: (0, 130, 200)\" style=\"width: 20px; height: 20px;background-color: rgb(0, 130, 200);\"></td><td title=\"Index: [2, 7]&#10;Color: (0, 130, 200)\" style=\"width: 20px; height: 20px;background-color: rgb(0, 130, 200);\"></td></tr><tr><td title=\"Index: [3, 0]&#10;Color: (0, 130, 200)\" style=\"width: 20px; height: 20px;background-color: rgb(0, 130, 200);\"></td><td title=\"Index: [3, 1]&#10;Color: (0, 130, 200)\" style=\"width: 20px; height: 20px;background-color: rgb(0, 130, 200);\"></td><td title=\"Index: [3, 2]&#10;Color: (255, 135, 0)\" style=\"width: 20px; height: 20px;background-color: rgb(255, 135, 0);\"></td><td title=\"Index: [3, 3]&#10;Color: (0, 130, 200)\" style=\"width: 20px; height: 20px;background-color: rgb(0, 130, 200);\"></td><td title=\"Index: [3, 4]&#10;Color: (0, 130, 200)\" style=\"width: 20px; height: 20px;background-color: rgb(0, 130, 200);\"></td><td title=\"Index: [3, 5]&#10;Color: (255, 135, 0)\" style=\"width: 20px; height: 20px;background-color: rgb(255, 135, 0);\"></td><td title=\"Index: [3, 6]&#10;Color: (0, 130, 200)\" style=\"width: 20px; height: 20px;background-color: rgb(0, 130, 200);\"></td><td title=\"Index: [3, 7]&#10;Color: (0, 130, 200)\" style=\"width: 20px; height: 20px;background-color: rgb(0, 130, 200);\"></td></tr><tr><td title=\"Index: [4, 0]&#10;Color: (0, 130, 200)\" style=\"width: 20px; height: 20px;background-color: rgb(0, 130, 200);\"></td><td title=\"Index: [4, 1]&#10;Color: (0, 130, 200)\" style=\"width: 20px; height: 20px;background-color: rgb(0, 130, 200);\"></td><td title=\"Index: [4, 2]&#10;Color: (255, 135, 0)\" style=\"width: 20px; height: 20px;background-color: rgb(255, 135, 0);\"></td><td title=\"Index: [4, 3]&#10;Color: (0, 130, 200)\" style=\"width: 20px; height: 20px;background-color: rgb(0, 130, 200);\"></td><td title=\"Index: [4, 4]&#10;Color: (0, 130, 200)\" style=\"width: 20px; height: 20px;background-color: rgb(0, 130, 200);\"></td><td title=\"Index: [4, 5]&#10;Color: (255, 135, 0)\" style=\"width: 20px; height: 20px;background-color: rgb(255, 135, 0);\"></td><td title=\"Index: [4, 6]&#10;Color: (0, 130, 200)\" style=\"width: 20px; height: 20px;background-color: rgb(0, 130, 200);\"></td><td title=\"Index: [4, 7]&#10;Color: (0, 130, 200)\" style=\"width: 20px; height: 20px;background-color: rgb(0, 130, 200);\"></td></tr><tr><td title=\"Index: [5, 0]&#10;Color: (0, 130, 200)\" style=\"width: 20px; height: 20px;background-color: rgb(0, 130, 200);\"></td><td title=\"Index: [5, 1]&#10;Color: (255, 135, 0)\" style=\"width: 20px; height: 20px;background-color: rgb(255, 135, 0);\"></td><td title=\"Index: [5, 2]&#10;Color: (0, 130, 200)\" style=\"width: 20px; height: 20px;background-color: rgb(0, 130, 200);\"></td><td title=\"Index: [5, 3]&#10;Color: (0, 130, 200)\" style=\"width: 20px; height: 20px;background-color: rgb(0, 130, 200);\"></td><td title=\"Index: [5, 4]&#10;Color: (0, 130, 200)\" style=\"width: 20px; height: 20px;background-color: rgb(0, 130, 200);\"></td><td title=\"Index: [5, 5]&#10;Color: (0, 130, 200)\" style=\"width: 20px; height: 20px;background-color: rgb(0, 130, 200);\"></td><td title=\"Index: [5, 6]&#10;Color: (255, 135, 0)\" style=\"width: 20px; height: 20px;background-color: rgb(255, 135, 0);\"></td><td title=\"Index: [5, 7]&#10;Color: (0, 130, 200)\" style=\"width: 20px; height: 20px;background-color: rgb(0, 130, 200);\"></td></tr><tr><td title=\"Index: [6, 0]&#10;Color: (0, 130, 200)\" style=\"width: 20px; height: 20px;background-color: rgb(0, 130, 200);\"></td><td title=\"Index: [6, 1]&#10;Color: (255, 135, 0)\" style=\"width: 20px; height: 20px;background-color: rgb(255, 135, 0);\"></td><td title=\"Index: [6, 2]&#10;Color: (0, 130, 200)\" style=\"width: 20px; height: 20px;background-color: rgb(0, 130, 200);\"></td><td title=\"Index: [6, 3]&#10;Color: (0, 130, 200)\" style=\"width: 20px; height: 20px;background-color: rgb(0, 130, 200);\"></td><td title=\"Index: [6, 4]&#10;Color: (0, 130, 200)\" style=\"width: 20px; height: 20px;background-color: rgb(0, 130, 200);\"></td><td title=\"Index: [6, 5]&#10;Color: (0, 130, 200)\" style=\"width: 20px; height: 20px;background-color: rgb(0, 130, 200);\"></td><td title=\"Index: [6, 6]&#10;Color: (255, 135, 0)\" style=\"width: 20px; height: 20px;background-color: rgb(255, 135, 0);\"></td><td title=\"Index: [6, 7]&#10;Color: (0, 130, 200)\" style=\"width: 20px; height: 20px;background-color: rgb(0, 130, 200);\"></td></tr><tr><td title=\"Index: [7, 0]&#10;Color: (255, 135, 0)\" style=\"width: 20px; height: 20px;background-color: rgb(255, 135, 0);\"></td><td title=\"Index: [7, 1]&#10;Color: (0, 130, 200)\" style=\"width: 20px; height: 20px;background-color: rgb(0, 130, 200);\"></td><td title=\"Index: [7, 2]&#10;Color: (0, 130, 200)\" style=\"width: 20px; height: 20px;background-color: rgb(0, 130, 200);\"></td><td title=\"Index: [7, 3]&#10;Color: (0, 130, 200)\" style=\"width: 20px; height: 20px;background-color: rgb(0, 130, 200);\"></td><td title=\"Index: [7, 4]&#10;Color: (0, 130, 200)\" style=\"width: 20px; height: 20px;background-color: rgb(0, 130, 200);\"></td><td title=\"Index: [7, 5]&#10;Color: (0, 130, 200)\" style=\"width: 20px; height: 20px;background-color: rgb(0, 130, 200);\"></td><td title=\"Index: [7, 6]&#10;Color: (0, 130, 200)\" style=\"width: 20px; height: 20px;background-color: rgb(0, 130, 200);\"></td><td title=\"Index: [7, 7]&#10;Color: (255, 135, 0)\" style=\"width: 20px; height: 20px;background-color: rgb(255, 135, 0);\"></td></tr></tbody></table>"
       ],
       "metadata": {},
       "output_type": "pyout",
       "prompt_number": 61,
       "text": [
        "<ipythonblocks.ipythonblocks.BlockGrid at 0x10264b050>"
       ]
      }
     ],
     "prompt_number": 61
    },
    {
     "cell_type": "code",
     "collapsed": false,
     "input": [
      "grid[5, 2:6] = (255, 135, 0)\n",
      "grid"
     ],
     "language": "python",
     "metadata": {},
     "outputs": [
      {
       "html": [
        "<style type=\"text/css\">table.blockgrid {border: none;} .blockgrid tr {border: none;} .blockgrid td {padding: 0px;} #blocksb7c6a0e7-a693-468e-8b60-294ab4a0d966 td {border: 1px solid white;}</style><table id=\"blocksb7c6a0e7-a693-468e-8b60-294ab4a0d966\" class=\"blockgrid\"><tbody><tr><td title=\"Index: [0, 0]&#10;Color: (0, 130, 200)\" style=\"width: 20px; height: 20px;background-color: rgb(0, 130, 200);\"></td><td title=\"Index: [0, 1]&#10;Color: (0, 130, 200)\" style=\"width: 20px; height: 20px;background-color: rgb(0, 130, 200);\"></td><td title=\"Index: [0, 2]&#10;Color: (0, 130, 200)\" style=\"width: 20px; height: 20px;background-color: rgb(0, 130, 200);\"></td><td title=\"Index: [0, 3]&#10;Color: (255, 135, 0)\" style=\"width: 20px; height: 20px;background-color: rgb(255, 135, 0);\"></td><td title=\"Index: [0, 4]&#10;Color: (255, 135, 0)\" style=\"width: 20px; height: 20px;background-color: rgb(255, 135, 0);\"></td><td title=\"Index: [0, 5]&#10;Color: (0, 130, 200)\" style=\"width: 20px; height: 20px;background-color: rgb(0, 130, 200);\"></td><td title=\"Index: [0, 6]&#10;Color: (0, 130, 200)\" style=\"width: 20px; height: 20px;background-color: rgb(0, 130, 200);\"></td><td title=\"Index: [0, 7]&#10;Color: (0, 130, 200)\" style=\"width: 20px; height: 20px;background-color: rgb(0, 130, 200);\"></td></tr><tr><td title=\"Index: [1, 0]&#10;Color: (0, 130, 200)\" style=\"width: 20px; height: 20px;background-color: rgb(0, 130, 200);\"></td><td title=\"Index: [1, 1]&#10;Color: (0, 130, 200)\" style=\"width: 20px; height: 20px;background-color: rgb(0, 130, 200);\"></td><td title=\"Index: [1, 2]&#10;Color: (0, 130, 200)\" style=\"width: 20px; height: 20px;background-color: rgb(0, 130, 200);\"></td><td title=\"Index: [1, 3]&#10;Color: (255, 135, 0)\" style=\"width: 20px; height: 20px;background-color: rgb(255, 135, 0);\"></td><td title=\"Index: [1, 4]&#10;Color: (255, 135, 0)\" style=\"width: 20px; height: 20px;background-color: rgb(255, 135, 0);\"></td><td title=\"Index: [1, 5]&#10;Color: (0, 130, 200)\" style=\"width: 20px; height: 20px;background-color: rgb(0, 130, 200);\"></td><td title=\"Index: [1, 6]&#10;Color: (0, 130, 200)\" style=\"width: 20px; height: 20px;background-color: rgb(0, 130, 200);\"></td><td title=\"Index: [1, 7]&#10;Color: (0, 130, 200)\" style=\"width: 20px; height: 20px;background-color: rgb(0, 130, 200);\"></td></tr><tr><td title=\"Index: [2, 0]&#10;Color: (0, 130, 200)\" style=\"width: 20px; height: 20px;background-color: rgb(0, 130, 200);\"></td><td title=\"Index: [2, 1]&#10;Color: (0, 130, 200)\" style=\"width: 20px; height: 20px;background-color: rgb(0, 130, 200);\"></td><td title=\"Index: [2, 2]&#10;Color: (0, 130, 200)\" style=\"width: 20px; height: 20px;background-color: rgb(0, 130, 200);\"></td><td title=\"Index: [2, 3]&#10;Color: (255, 135, 0)\" style=\"width: 20px; height: 20px;background-color: rgb(255, 135, 0);\"></td><td title=\"Index: [2, 4]&#10;Color: (255, 135, 0)\" style=\"width: 20px; height: 20px;background-color: rgb(255, 135, 0);\"></td><td title=\"Index: [2, 5]&#10;Color: (0, 130, 200)\" style=\"width: 20px; height: 20px;background-color: rgb(0, 130, 200);\"></td><td title=\"Index: [2, 6]&#10;Color: (0, 130, 200)\" style=\"width: 20px; height: 20px;background-color: rgb(0, 130, 200);\"></td><td title=\"Index: [2, 7]&#10;Color: (0, 130, 200)\" style=\"width: 20px; height: 20px;background-color: rgb(0, 130, 200);\"></td></tr><tr><td title=\"Index: [3, 0]&#10;Color: (0, 130, 200)\" style=\"width: 20px; height: 20px;background-color: rgb(0, 130, 200);\"></td><td title=\"Index: [3, 1]&#10;Color: (0, 130, 200)\" style=\"width: 20px; height: 20px;background-color: rgb(0, 130, 200);\"></td><td title=\"Index: [3, 2]&#10;Color: (255, 135, 0)\" style=\"width: 20px; height: 20px;background-color: rgb(255, 135, 0);\"></td><td title=\"Index: [3, 3]&#10;Color: (0, 130, 200)\" style=\"width: 20px; height: 20px;background-color: rgb(0, 130, 200);\"></td><td title=\"Index: [3, 4]&#10;Color: (0, 130, 200)\" style=\"width: 20px; height: 20px;background-color: rgb(0, 130, 200);\"></td><td title=\"Index: [3, 5]&#10;Color: (255, 135, 0)\" style=\"width: 20px; height: 20px;background-color: rgb(255, 135, 0);\"></td><td title=\"Index: [3, 6]&#10;Color: (0, 130, 200)\" style=\"width: 20px; height: 20px;background-color: rgb(0, 130, 200);\"></td><td title=\"Index: [3, 7]&#10;Color: (0, 130, 200)\" style=\"width: 20px; height: 20px;background-color: rgb(0, 130, 200);\"></td></tr><tr><td title=\"Index: [4, 0]&#10;Color: (0, 130, 200)\" style=\"width: 20px; height: 20px;background-color: rgb(0, 130, 200);\"></td><td title=\"Index: [4, 1]&#10;Color: (0, 130, 200)\" style=\"width: 20px; height: 20px;background-color: rgb(0, 130, 200);\"></td><td title=\"Index: [4, 2]&#10;Color: (255, 135, 0)\" style=\"width: 20px; height: 20px;background-color: rgb(255, 135, 0);\"></td><td title=\"Index: [4, 3]&#10;Color: (0, 130, 200)\" style=\"width: 20px; height: 20px;background-color: rgb(0, 130, 200);\"></td><td title=\"Index: [4, 4]&#10;Color: (0, 130, 200)\" style=\"width: 20px; height: 20px;background-color: rgb(0, 130, 200);\"></td><td title=\"Index: [4, 5]&#10;Color: (255, 135, 0)\" style=\"width: 20px; height: 20px;background-color: rgb(255, 135, 0);\"></td><td title=\"Index: [4, 6]&#10;Color: (0, 130, 200)\" style=\"width: 20px; height: 20px;background-color: rgb(0, 130, 200);\"></td><td title=\"Index: [4, 7]&#10;Color: (0, 130, 200)\" style=\"width: 20px; height: 20px;background-color: rgb(0, 130, 200);\"></td></tr><tr><td title=\"Index: [5, 0]&#10;Color: (0, 130, 200)\" style=\"width: 20px; height: 20px;background-color: rgb(0, 130, 200);\"></td><td title=\"Index: [5, 1]&#10;Color: (255, 135, 0)\" style=\"width: 20px; height: 20px;background-color: rgb(255, 135, 0);\"></td><td title=\"Index: [5, 2]&#10;Color: (255, 135, 0)\" style=\"width: 20px; height: 20px;background-color: rgb(255, 135, 0);\"></td><td title=\"Index: [5, 3]&#10;Color: (255, 135, 0)\" style=\"width: 20px; height: 20px;background-color: rgb(255, 135, 0);\"></td><td title=\"Index: [5, 4]&#10;Color: (255, 135, 0)\" style=\"width: 20px; height: 20px;background-color: rgb(255, 135, 0);\"></td><td title=\"Index: [5, 5]&#10;Color: (255, 135, 0)\" style=\"width: 20px; height: 20px;background-color: rgb(255, 135, 0);\"></td><td title=\"Index: [5, 6]&#10;Color: (255, 135, 0)\" style=\"width: 20px; height: 20px;background-color: rgb(255, 135, 0);\"></td><td title=\"Index: [5, 7]&#10;Color: (0, 130, 200)\" style=\"width: 20px; height: 20px;background-color: rgb(0, 130, 200);\"></td></tr><tr><td title=\"Index: [6, 0]&#10;Color: (0, 130, 200)\" style=\"width: 20px; height: 20px;background-color: rgb(0, 130, 200);\"></td><td title=\"Index: [6, 1]&#10;Color: (255, 135, 0)\" style=\"width: 20px; height: 20px;background-color: rgb(255, 135, 0);\"></td><td title=\"Index: [6, 2]&#10;Color: (0, 130, 200)\" style=\"width: 20px; height: 20px;background-color: rgb(0, 130, 200);\"></td><td title=\"Index: [6, 3]&#10;Color: (0, 130, 200)\" style=\"width: 20px; height: 20px;background-color: rgb(0, 130, 200);\"></td><td title=\"Index: [6, 4]&#10;Color: (0, 130, 200)\" style=\"width: 20px; height: 20px;background-color: rgb(0, 130, 200);\"></td><td title=\"Index: [6, 5]&#10;Color: (0, 130, 200)\" style=\"width: 20px; height: 20px;background-color: rgb(0, 130, 200);\"></td><td title=\"Index: [6, 6]&#10;Color: (255, 135, 0)\" style=\"width: 20px; height: 20px;background-color: rgb(255, 135, 0);\"></td><td title=\"Index: [6, 7]&#10;Color: (0, 130, 200)\" style=\"width: 20px; height: 20px;background-color: rgb(0, 130, 200);\"></td></tr><tr><td title=\"Index: [7, 0]&#10;Color: (255, 135, 0)\" style=\"width: 20px; height: 20px;background-color: rgb(255, 135, 0);\"></td><td title=\"Index: [7, 1]&#10;Color: (0, 130, 200)\" style=\"width: 20px; height: 20px;background-color: rgb(0, 130, 200);\"></td><td title=\"Index: [7, 2]&#10;Color: (0, 130, 200)\" style=\"width: 20px; height: 20px;background-color: rgb(0, 130, 200);\"></td><td title=\"Index: [7, 3]&#10;Color: (0, 130, 200)\" style=\"width: 20px; height: 20px;background-color: rgb(0, 130, 200);\"></td><td title=\"Index: [7, 4]&#10;Color: (0, 130, 200)\" style=\"width: 20px; height: 20px;background-color: rgb(0, 130, 200);\"></td><td title=\"Index: [7, 5]&#10;Color: (0, 130, 200)\" style=\"width: 20px; height: 20px;background-color: rgb(0, 130, 200);\"></td><td title=\"Index: [7, 6]&#10;Color: (0, 130, 200)\" style=\"width: 20px; height: 20px;background-color: rgb(0, 130, 200);\"></td><td title=\"Index: [7, 7]&#10;Color: (255, 135, 0)\" style=\"width: 20px; height: 20px;background-color: rgb(255, 135, 0);\"></td></tr></tbody></table>"
       ],
       "metadata": {},
       "output_type": "pyout",
       "prompt_number": 62,
       "text": [
        "<ipythonblocks.ipythonblocks.BlockGrid at 0x10264b050>"
       ]
      }
     ],
     "prompt_number": 62
    },
    {
     "cell_type": "heading",
     "level": 4,
     "metadata": {},
     "source": [
      "Question 3"
     ]
    },
    {
     "cell_type": "code",
     "collapsed": false,
     "input": [
      "def bottles(number):\n",
      "    for i in reversed(range(number)):\n",
      "        if i == 0:\n",
      "            break\n",
      "        if i == 1:\n",
      "            print \"%s bottle of beer on the wall, %s bottle of beer.\\n Take one down, pass it around, no more bottles of beer on the wall! Lets get some more!\" %(i, i)\n",
      "        else:\n",
      "            print \"%s bottles of beer on the wall, %s bottles of beer.\\n Take one down, pass it around, %s bottles of beer on the wall\" %(i, i, i-1)\n",
      "\n",
      "bottles(99)        "
     ],
     "language": "python",
     "metadata": {},
     "outputs": [
      {
       "output_type": "stream",
       "stream": "stdout",
       "text": [
        "98 bottles of beer on the wall, 98 bottles of beer.\n",
        " Take one down, pass it around, 97 bottles of beer on the wall\n",
        "97 bottles of beer on the wall, 97 bottles of beer.\n",
        " Take one down, pass it around, 96 bottles of beer on the wall\n",
        "96 bottles of beer on the wall, 96 bottles of beer.\n",
        " Take one down, pass it around, 95 bottles of beer on the wall\n",
        "95 bottles of beer on the wall, 95 bottles of beer.\n",
        " Take one down, pass it around, 94 bottles of beer on the wall\n",
        "94 bottles of beer on the wall, 94 bottles of beer.\n",
        " Take one down, pass it around, 93 bottles of beer on the wall\n",
        "93 bottles of beer on the wall, 93 bottles of beer.\n",
        " Take one down, pass it around, 92 bottles of beer on the wall\n",
        "92 bottles of beer on the wall, 92 bottles of beer.\n",
        " Take one down, pass it around, 91 bottles of beer on the wall\n",
        "91 bottles of beer on the wall, 91 bottles of beer.\n",
        " Take one down, pass it around, 90 bottles of beer on the wall\n",
        "90 bottles of beer on the wall, 90 bottles of beer.\n",
        " Take one down, pass it around, 89 bottles of beer on the wall\n",
        "89 bottles of beer on the wall, 89 bottles of beer.\n",
        " Take one down, pass it around, 88 bottles of beer on the wall\n",
        "88 bottles of beer on the wall, 88 bottles of beer.\n",
        " Take one down, pass it around, 87 bottles of beer on the wall\n",
        "87 bottles of beer on the wall, 87 bottles of beer.\n",
        " Take one down, pass it around, 86 bottles of beer on the wall\n",
        "86 bottles of beer on the wall, 86 bottles of beer.\n",
        " Take one down, pass it around, 85 bottles of beer on the wall\n",
        "85 bottles of beer on the wall, 85 bottles of beer.\n",
        " Take one down, pass it around, 84 bottles of beer on the wall\n",
        "84 bottles of beer on the wall, 84 bottles of beer.\n",
        " Take one down, pass it around, 83 bottles of beer on the wall\n",
        "83 bottles of beer on the wall, 83 bottles of beer.\n",
        " Take one down, pass it around, 82 bottles of beer on the wall\n",
        "82 bottles of beer on the wall, 82 bottles of beer.\n",
        " Take one down, pass it around, 81 bottles of beer on the wall\n",
        "81 bottles of beer on the wall, 81 bottles of beer.\n",
        " Take one down, pass it around, 80 bottles of beer on the wall\n",
        "80 bottles of beer on the wall, 80 bottles of beer.\n",
        " Take one down, pass it around, 79 bottles of beer on the wall\n",
        "79 bottles of beer on the wall, 79 bottles of beer.\n",
        " Take one down, pass it around, 78 bottles of beer on the wall\n",
        "78 bottles of beer on the wall, 78 bottles of beer.\n",
        " Take one down, pass it around, 77 bottles of beer on the wall\n",
        "77 bottles of beer on the wall, 77 bottles of beer.\n",
        " Take one down, pass it around, 76 bottles of beer on the wall\n",
        "76 bottles of beer on the wall, 76 bottles of beer.\n",
        " Take one down, pass it around, 75 bottles of beer on the wall\n",
        "75 bottles of beer on the wall, 75 bottles of beer.\n",
        " Take one down, pass it around, 74 bottles of beer on the wall\n",
        "74 bottles of beer on the wall, 74 bottles of beer.\n",
        " Take one down, pass it around, 73 bottles of beer on the wall\n",
        "73 bottles of beer on the wall, 73 bottles of beer.\n",
        " Take one down, pass it around, 72 bottles of beer on the wall\n",
        "72 bottles of beer on the wall, 72 bottles of beer.\n",
        " Take one down, pass it around, 71 bottles of beer on the wall\n",
        "71 bottles of beer on the wall, 71 bottles of beer.\n",
        " Take one down, pass it around, 70 bottles of beer on the wall\n",
        "70 bottles of beer on the wall, 70 bottles of beer.\n",
        " Take one down, pass it around, 69 bottles of beer on the wall\n",
        "69 bottles of beer on the wall, 69 bottles of beer.\n",
        " Take one down, pass it around, 68 bottles of beer on the wall\n",
        "68 bottles of beer on the wall, 68 bottles of beer.\n",
        " Take one down, pass it around, 67 bottles of beer on the wall\n",
        "67 bottles of beer on the wall, 67 bottles of beer.\n",
        " Take one down, pass it around, 66 bottles of beer on the wall\n",
        "66 bottles of beer on the wall, 66 bottles of beer.\n",
        " Take one down, pass it around, 65 bottles of beer on the wall\n",
        "65 bottles of beer on the wall, 65 bottles of beer.\n",
        " Take one down, pass it around, 64 bottles of beer on the wall\n",
        "64 bottles of beer on the wall, 64 bottles of beer.\n",
        " Take one down, pass it around, 63 bottles of beer on the wall\n",
        "63 bottles of beer on the wall, 63 bottles of beer.\n",
        " Take one down, pass it around, 62 bottles of beer on the wall\n",
        "62 bottles of beer on the wall, 62 bottles of beer.\n",
        " Take one down, pass it around, 61 bottles of beer on the wall\n",
        "61 bottles of beer on the wall, 61 bottles of beer.\n",
        " Take one down, pass it around, 60 bottles of beer on the wall\n",
        "60 bottles of beer on the wall, 60 bottles of beer.\n",
        " Take one down, pass it around, 59 bottles of beer on the wall\n",
        "59 bottles of beer on the wall, 59 bottles of beer.\n",
        " Take one down, pass it around, 58 bottles of beer on the wall\n",
        "58 bottles of beer on the wall, 58 bottles of beer.\n",
        " Take one down, pass it around, 57 bottles of beer on the wall\n",
        "57 bottles of beer on the wall, 57 bottles of beer.\n",
        " Take one down, pass it around, 56 bottles of beer on the wall\n",
        "56 bottles of beer on the wall, 56 bottles of beer.\n",
        " Take one down, pass it around, 55 bottles of beer on the wall\n",
        "55 bottles of beer on the wall, 55 bottles of beer.\n",
        " Take one down, pass it around, 54 bottles of beer on the wall\n",
        "54 bottles of beer on the wall, 54 bottles of beer.\n",
        " Take one down, pass it around, 53 bottles of beer on the wall\n",
        "53 bottles of beer on the wall, 53 bottles of beer.\n",
        " Take one down, pass it around, 52 bottles of beer on the wall\n",
        "52 bottles of beer on the wall, 52 bottles of beer.\n",
        " Take one down, pass it around, 51 bottles of beer on the wall\n",
        "51 bottles of beer on the wall, 51 bottles of beer.\n",
        " Take one down, pass it around, 50 bottles of beer on the wall\n",
        "50 bottles of beer on the wall, 50 bottles of beer.\n",
        " Take one down, pass it around, 49 bottles of beer on the wall\n",
        "49 bottles of beer on the wall, 49 bottles of beer.\n",
        " Take one down, pass it around, 48 bottles of beer on the wall\n",
        "48 bottles of beer on the wall, 48 bottles of beer.\n",
        " Take one down, pass it around, 47 bottles of beer on the wall\n",
        "47 bottles of beer on the wall, 47 bottles of beer.\n",
        " Take one down, pass it around, 46 bottles of beer on the wall\n",
        "46 bottles of beer on the wall, 46 bottles of beer.\n",
        " Take one down, pass it around, 45 bottles of beer on the wall\n",
        "45 bottles of beer on the wall, 45 bottles of beer.\n",
        " Take one down, pass it around, 44 bottles of beer on the wall\n",
        "44 bottles of beer on the wall, 44 bottles of beer.\n",
        " Take one down, pass it around, 43 bottles of beer on the wall\n",
        "43 bottles of beer on the wall, 43 bottles of beer.\n",
        " Take one down, pass it around, 42 bottles of beer on the wall\n",
        "42 bottles of beer on the wall, 42 bottles of beer.\n",
        " Take one down, pass it around, 41 bottles of beer on the wall\n",
        "41 bottles of beer on the wall, 41 bottles of beer.\n",
        " Take one down, pass it around, 40 bottles of beer on the wall\n",
        "40 bottles of beer on the wall, 40 bottles of beer.\n",
        " Take one down, pass it around, 39 bottles of beer on the wall\n",
        "39 bottles of beer on the wall, 39 bottles of beer.\n",
        " Take one down, pass it around, 38 bottles of beer on the wall\n",
        "38 bottles of beer on the wall, 38 bottles of beer.\n",
        " Take one down, pass it around, 37 bottles of beer on the wall\n",
        "37 bottles of beer on the wall, 37 bottles of beer.\n",
        " Take one down, pass it around, 36 bottles of beer on the wall\n",
        "36 bottles of beer on the wall, 36 bottles of beer.\n",
        " Take one down, pass it around, 35 bottles of beer on the wall\n",
        "35 bottles of beer on the wall, 35 bottles of beer.\n",
        " Take one down, pass it around, 34 bottles of beer on the wall\n",
        "34 bottles of beer on the wall, 34 bottles of beer.\n",
        " Take one down, pass it around, 33 bottles of beer on the wall\n",
        "33 bottles of beer on the wall, 33 bottles of beer.\n",
        " Take one down, pass it around, 32 bottles of beer on the wall\n",
        "32 bottles of beer on the wall, 32 bottles of beer.\n",
        " Take one down, pass it around, 31 bottles of beer on the wall\n",
        "31 bottles of beer on the wall, 31 bottles of beer.\n",
        " Take one down, pass it around, 30 bottles of beer on the wall\n",
        "30 bottles of beer on the wall, 30 bottles of beer.\n",
        " Take one down, pass it around, 29 bottles of beer on the wall\n",
        "29 bottles of beer on the wall, 29 bottles of beer.\n",
        " Take one down, pass it around, 28 bottles of beer on the wall\n",
        "28 bottles of beer on the wall, 28 bottles of beer.\n",
        " Take one down, pass it around, 27 bottles of beer on the wall\n",
        "27 bottles of beer on the wall, 27 bottles of beer.\n",
        " Take one down, pass it around, 26 bottles of beer on the wall\n",
        "26 bottles of beer on the wall, 26 bottles of beer.\n",
        " Take one down, pass it around, 25 bottles of beer on the wall\n",
        "25 bottles of beer on the wall, 25 bottles of beer.\n",
        " Take one down, pass it around, 24 bottles of beer on the wall\n",
        "24 bottles of beer on the wall, 24 bottles of beer.\n",
        " Take one down, pass it around, 23 bottles of beer on the wall\n",
        "23 bottles of beer on the wall, 23 bottles of beer.\n",
        " Take one down, pass it around, 22 bottles of beer on the wall\n",
        "22 bottles of beer on the wall, 22 bottles of beer.\n",
        " Take one down, pass it around, 21 bottles of beer on the wall\n",
        "21 bottles of beer on the wall, 21 bottles of beer.\n",
        " Take one down, pass it around, 20 bottles of beer on the wall\n",
        "20 bottles of beer on the wall, 20 bottles of beer.\n",
        " Take one down, pass it around, 19 bottles of beer on the wall\n",
        "19 bottles of beer on the wall, 19 bottles of beer.\n",
        " Take one down, pass it around, 18 bottles of beer on the wall\n",
        "18 bottles of beer on the wall, 18 bottles of beer.\n",
        " Take one down, pass it around, 17 bottles of beer on the wall\n",
        "17 bottles of beer on the wall, 17 bottles of beer.\n",
        " Take one down, pass it around, 16 bottles of beer on the wall\n",
        "16 bottles of beer on the wall, 16 bottles of beer.\n",
        " Take one down, pass it around, 15 bottles of beer on the wall\n",
        "15 bottles of beer on the wall, 15 bottles of beer.\n",
        " Take one down, pass it around, 14 bottles of beer on the wall\n",
        "14 bottles of beer on the wall, 14 bottles of beer.\n",
        " Take one down, pass it around, 13 bottles of beer on the wall\n",
        "13 bottles of beer on the wall, 13 bottles of beer.\n",
        " Take one down, pass it around, 12 bottles of beer on the wall\n",
        "12 bottles of beer on the wall, 12 bottles of beer.\n",
        " Take one down, pass it around, 11 bottles of beer on the wall\n",
        "11 bottles of beer on the wall, 11 bottles of beer.\n",
        " Take one down, pass it around, 10 bottles of beer on the wall\n",
        "10 bottles of beer on the wall, 10 bottles of beer.\n",
        " Take one down, pass it around, 9 bottles of beer on the wall\n",
        "9 bottles of beer on the wall, 9 bottles of beer.\n",
        " Take one down, pass it around, 8 bottles of beer on the wall\n",
        "8 bottles of beer on the wall, 8 bottles of beer.\n",
        " Take one down, pass it around, 7 bottles of beer on the wall\n",
        "7 bottles of beer on the wall, 7 bottles of beer.\n",
        " Take one down, pass it around, 6 bottles of beer on the wall\n",
        "6 bottles of beer on the wall, 6 bottles of beer.\n",
        " Take one down, pass it around, 5 bottles of beer on the wall\n",
        "5 bottles of beer on the wall, 5 bottles of beer.\n",
        " Take one down, pass it around, 4 bottles of beer on the wall\n",
        "4 bottles of beer on the wall, 4 bottles of beer.\n",
        " Take one down, pass it around, 3 bottles of beer on the wall\n",
        "3 bottles of beer on the wall, 3 bottles of beer.\n",
        " Take one down, pass it around, 2 bottles of beer on the wall\n",
        "2 bottles of beer on the wall, 2 bottles of beer.\n",
        " Take one down, pass it around, 1 bottles of beer on the wall\n",
        "1 bottle of beer on the wall, 1 bottle of beer.\n",
        " Take one down, pass it around, no more bottles of beer on the wall! Lets get some more!\n"
       ]
      }
     ],
     "prompt_number": 69
    },
    {
     "cell_type": "heading",
     "level": 4,
     "metadata": {},
     "source": [
      "Question 4"
     ]
    },
    {
     "cell_type": "code",
     "collapsed": false,
     "input": [
      "%pylab inline\n",
      "import numpy as np\n",
      "import matplotlib\n",
      "import matplotlib.pyplot as plt\n",
      "from sklearn.datasets import load_iris\n",
      "\n",
      "import mpld3\n",
      "from mpld3 import plugins, utils"
     ],
     "language": "python",
     "metadata": {},
     "outputs": [
      {
       "output_type": "stream",
       "stream": "stdout",
       "text": [
        "Populating the interactive namespace from numpy and matplotlib\n"
       ]
      }
     ],
     "prompt_number": 122
    },
    {
     "cell_type": "code",
     "collapsed": false,
     "input": [
      "x = np.linspace(0 , 2*np.pi, 100)\n",
      "y = np.sin(x)"
     ],
     "language": "python",
     "metadata": {},
     "outputs": []
    },
    {
     "cell_type": "code",
     "collapsed": false,
     "input": [],
     "language": "python",
     "metadata": {},
     "outputs": []
    },
    {
     "cell_type": "code",
     "collapsed": false,
     "input": [],
     "language": "python",
     "metadata": {},
     "outputs": []
    },
    {
     "cell_type": "code",
     "collapsed": false,
     "input": [],
     "language": "python",
     "metadata": {},
     "outputs": []
    },
    {
     "cell_type": "heading",
     "level": 4,
     "metadata": {},
     "source": [
      "Question 5"
     ]
    },
    {
     "cell_type": "code",
     "collapsed": false,
     "input": [
      "import numpy as np\n",
      "import random as r\n",
      "\n",
      "arr = np.arange(500, dtype = float)\n",
      "\n",
      "for i in arr:\n",
      "    arr[i] = r.uniform(10.7, 36.2)\n",
      "    \n",
      "arr = arr.reshape(100,5)\n",
      "\n",
      "print arr"
     ],
     "language": "python",
     "metadata": {},
     "outputs": [
      {
       "output_type": "stream",
       "stream": "stdout",
       "text": [
        "[[ 24.97300822  34.34098715  33.23967024  21.29926501  11.90188148]\n",
        " [ 34.7312592   10.805838    25.77319686  12.9698412   19.08211201]\n",
        " [ 27.71591387  16.54468799  18.18014381  33.04654894  26.35984139]\n",
        " [ 34.82262956  19.99533547  34.17788874  26.81346776  14.70822061]\n",
        " [ 12.96630456  13.45581522  32.68063709  33.05809962  35.74941626]\n",
        " [ 23.48949471  34.23477388  34.54783146  15.22659108  15.73840451]\n",
        " [ 24.8901237   22.86042186  21.34269905  15.32082075  33.10690038]\n",
        " [ 30.66061926  27.70977798  35.57886588  19.36699773  12.67783515]\n",
        " [ 12.42537003  34.56710056  19.73071741  33.7098103   35.29185177]\n",
        " [ 28.91393855  29.53266849  27.16808173  28.06547842  16.29718808]\n",
        " [ 25.27582396  25.07848878  15.13701397  20.67406949  17.83219276]\n",
        " [ 27.88750176  20.04279876  23.97181466  28.22477567  32.83465778]\n",
        " [ 33.07056021  34.58320995  18.70035371  24.25394214  32.41346128]\n",
        " [ 12.24524291  28.94807898  28.2280233   17.37858929  15.72268417]\n",
        " [ 33.48718094  10.99903211  11.54672882  27.39098602  13.78565773]\n",
        " [ 34.91081022  20.21213345  35.91417059  34.77038641  21.55459018]\n",
        " [ 21.58151985  21.4942097   17.71990884  22.69923048  14.31558564]\n",
        " [ 16.06205297  13.57083768  24.92282226  15.5171665   19.87979118]\n",
        " [ 29.31595368  28.40813973  13.28581225  10.76818164  27.06222331]\n",
        " [ 27.94208742  12.62130889  28.97027198  19.6476208   27.39107215]\n",
        " [ 29.23784285  30.72448283  25.81723875  22.8610426   29.6254783 ]\n",
        " [ 27.9528955   31.25335008  10.9319281   31.57809739  16.80945687]\n",
        " [ 25.80712077  22.59073331  24.64511255  29.02517154  33.48049841]\n",
        " [ 10.81278819  31.72616476  11.70684303  27.58465406  19.85656525]\n",
        " [ 30.20828648  35.8253697   28.17369729  28.17554773  21.20152534]\n",
        " [ 32.99384102  34.44297804  17.89686701  33.34197106  13.99216782]\n",
        " [ 34.17067985  16.42791917  14.15085854  20.97080478  14.64469536]\n",
        " [ 31.66806851  11.61947843  29.07692032  27.11873191  23.7912836 ]\n",
        " [ 11.27453641  12.10526568  21.09328478  35.15007676  32.36521898]\n",
        " [ 25.36787956  29.93150892  12.42299305  23.53738502  22.15789704]\n",
        " [ 23.7198812   32.06787898  20.70071458  24.33270431  19.51106033]\n",
        " [ 33.37709408  12.82357257  28.52391934  16.54401657  35.32992973]\n",
        " [ 22.28149207  16.3920121   23.73439396  29.42257008  23.72693985]\n",
        " [ 32.69590472  23.63660613  26.76408215  29.39346264  27.6540802 ]\n",
        " [ 31.41164605  24.72467417  13.38565468  12.45507486  10.85774873]\n",
        " [ 33.82068498  13.87858542  36.17285085  34.3013845   19.95543798]\n",
        " [ 21.36466002  19.23823559  23.16375987  33.08842791  27.92197979]\n",
        " [ 33.94542376  22.92822518  31.96419038  21.35947052  22.86865752]\n",
        " [ 33.99300332  14.43616422  27.7927231   24.10911196  13.65870448]\n",
        " [ 33.94233144  33.765988    19.93412778  33.48900768  11.82169252]\n",
        " [ 23.60039179  13.58694121  13.33175557  24.76334349  12.59256261]\n",
        " [ 11.14700126  25.48157741  24.68229361  24.41977372  26.73594806]\n",
        " [ 28.44229201  32.43485113  23.5503621   14.91292896  26.68472498]\n",
        " [ 13.03269898  35.03340751  26.16003629  22.19311099  31.30313084]\n",
        " [ 25.2515105   19.57395838  11.1227895   32.20504449  31.59266748]\n",
        " [ 16.33824493  24.7049908   21.61548746  13.79322083  27.61216989]\n",
        " [ 25.7328204   32.62528432  10.72122033  13.21945499  17.21454996]\n",
        " [ 19.20674208  26.54219086  21.48205261  20.99955661  28.41204258]\n",
        " [ 20.71901261  19.18156952  12.78865027  11.27566213  11.80928228]\n",
        " [ 30.20668746  17.9885766   30.25627003  26.7575842   18.54957908]\n",
        " [ 15.81199431  28.97128283  28.83767451  26.10815025  19.90715156]\n",
        " [ 16.59691822  29.03613317  23.42547711  14.4902108   18.95073317]\n",
        " [ 13.18436099  15.74067125  22.75545176  22.75968494  19.39064164]\n",
        " [ 13.28956298  28.10966974  23.55952021  15.14583511  14.29114043]\n",
        " [ 28.65409392  25.02408173  24.74067074  16.35533648  12.0488732 ]\n",
        " [ 24.53127227  35.37473993  31.23539694  22.26219279  20.14824001]\n",
        " [ 34.11653606  30.73751201  35.71454905  13.75245535  12.46511384]\n",
        " [ 15.74432656  26.77689733  19.97840822  17.13306851  15.46826435]\n",
        " [ 33.29663705  35.89185706  32.18130234  32.66273313  25.28425488]\n",
        " [ 13.23679949  24.14023118  15.88230997  31.16115126  35.24573485]\n",
        " [ 26.20359359  33.49519392  17.37825978  15.85137115  26.84405221]\n",
        " [ 34.85296627  25.02334789  31.1795882   24.18065971  16.52930282]\n",
        " [ 30.27319775  10.71994307  22.60273356  35.26485126  17.83523415]\n",
        " [ 16.01782208  32.51610668  35.46889251  35.84913163  26.67442372]\n",
        " [ 32.55861174  10.84842565  20.95949358  19.09120752  34.29178908]\n",
        " [ 17.20655455  27.83932048  13.58393255  33.16665944  12.61764133]\n",
        " [ 30.02270022  32.12919241  15.71097728  17.8479075   15.73492345]\n",
        " [ 17.08834437  32.92314805  14.95300869  30.96319816  27.42822486]\n",
        " [ 16.00172364  14.85321451  23.0538166   34.35058242  21.67507929]\n",
        " [ 26.39542742  18.98295001  24.07619086  21.81804341  23.98947358]\n",
        " [ 14.39375733  11.1264116   27.4151244   35.87918273  28.25360501]\n",
        " [ 16.16190572  25.62015763  11.70802182  35.27305179  13.45825816]\n",
        " [ 19.05738099  22.16210926  27.96590772  28.38404708  19.70882975]\n",
        " [ 12.03212308  17.86629753  33.0087025   17.38629646  32.19394813]\n",
        " [ 34.2476943   26.41584694  33.12784276  22.81053066  29.33920438]\n",
        " [ 24.46694336  16.48512694  20.75996974  34.98940396  14.47510611]\n",
        " [ 19.5351686   16.46173825  34.90901343  26.46090152  28.32985688]\n",
        " [ 19.5273718   12.88163789  23.39155582  14.66166219  32.83058957]\n",
        " [ 36.00343002  17.98803117  25.94308213  36.06954608  27.14009043]\n",
        " [ 15.0857321   30.5057015   34.56825101  31.49107572  11.74358951]\n",
        " [ 16.55398346  29.47542831  28.18867841  17.67604131  32.33228655]\n",
        " [ 10.7049508   35.66640923  16.5220546   21.1222471   25.2999072 ]\n",
        " [ 29.32177911  18.18192077  12.29101918  25.38605838  32.44073447]\n",
        " [ 22.7102791   17.23595437  27.7376533   20.90881905  32.37944095]\n",
        " [ 30.48746605  11.80545368  25.55372286  12.04086135  11.75077913]\n",
        " [ 19.13175088  19.51295687  30.76263606  26.73111142  22.58660318]\n",
        " [ 24.95236542  30.43036455  30.07106056  25.46252955  14.55236465]\n",
        " [ 23.69749782  23.74013872  13.23763652  15.02715259  24.99976685]\n",
        " [ 34.97695816  23.59728596  24.12621226  23.02811073  11.04909061]\n",
        " [ 31.93521124  23.22840261  16.28829994  20.58494569  24.94428606]\n",
        " [ 34.22115307  22.59510892  16.04165505  15.56095525  30.0168967 ]\n",
        " [ 35.23594357  13.35427157  23.62641844  26.43939561  12.53682807]\n",
        " [ 33.19442707  25.58356892  18.99453059  16.21351208  22.38479514]\n",
        " [ 28.30998584  35.2410088   28.96563631  24.0549346   13.37955674]\n",
        " [ 20.91627371  23.43571255  13.47167217  30.39326396  16.72298892]\n",
        " [ 19.79879508  18.40923394  23.43450515  31.3499694   29.77699965]\n",
        " [ 11.12095793  13.24350594  15.7427646   15.95454919  13.77988527]\n",
        " [ 15.71406645  33.93174821  32.623854    30.85024898  21.37065246]\n",
        " [ 14.49161276  30.99439492  32.46126665  29.10959512  16.87276159]\n",
        " [ 28.70902669  20.05450399  30.20088459  18.51074467  13.32225908]]\n"
       ]
      }
     ],
     "prompt_number": 85
    },
    {
     "cell_type": "code",
     "collapsed": false,
     "input": [
      "today = !date\n",
      "myheader = \"\\nName: Kevin Armenta \\nDate: \" + str(today) + \"\\nClass: PHYS202-03\""
     ],
     "language": "python",
     "metadata": {},
     "outputs": [],
     "prompt_number": 109
    },
    {
     "cell_type": "code",
     "collapsed": false,
     "input": [
      "newfile = open('notnumbers.txt', 'w')\n",
      "\n",
      "for i in range(100):\n",
      "    for j in range(5):\n",
      "        newfile.write(\"%6.3f\"%arr[i,j]),\n",
      "        newfile.write('  '),\n",
      "    newfile.write('\\n')\n",
      "newfile.close()\n",
      "\n",
      "!head -5 'notnumbers.txt'"
     ],
     "language": "python",
     "metadata": {},
     "outputs": [
      {
       "output_type": "stream",
       "stream": "stdout",
       "text": [
        "24.973  34.341  33.240  21.299  11.902  \r\n",
        "34.731  10.806  25.773  12.970  19.082  \r\n",
        "27.716  16.545  18.180  33.047  26.360  \r\n",
        "34.823  19.995  34.178  26.813  14.708  \r\n",
        "12.966  13.456  32.681  33.058  35.749  \r\n"
       ]
      }
     ],
     "prompt_number": 110
    },
    {
     "cell_type": "code",
     "collapsed": false,
     "input": [
      "nf2 = np.loadtxt('notnumbers.txt')\n",
      "np.savetxt(\"numbers.txt\", nf2, fmt = '%6.3f', header = myheader)"
     ],
     "language": "python",
     "metadata": {},
     "outputs": [],
     "prompt_number": 111
    },
    {
     "cell_type": "code",
     "collapsed": false,
     "input": [
      "!head -5 numbers.txt"
     ],
     "language": "python",
     "metadata": {},
     "outputs": [
      {
       "output_type": "stream",
       "stream": "stdout",
       "text": [
        "# \r\n",
        "# Name: Kevin Armenta \r\n",
        "# Date: ['Tue Apr 29 15:35:08 PDT 2014']\r\n",
        "# Class: PHYS202-03\r\n",
        "24.973 34.341 33.240 21.299 11.902\r\n"
       ]
      }
     ],
     "prompt_number": 112
    },
    {
     "cell_type": "code",
     "collapsed": false,
     "input": [
      "arr2 = np.arange(500).reshape(100, 5)\n",
      "\n",
      "i = 0\n",
      "j = 0\n",
      "for line in open('numbers.txt'):\n",
      "    for item in line.split('  '):\n",
      "        arr2[i,j] = float(item)\n",
      "        j += 1\n",
      "    i += 1\n",
      "print arr2"
     ],
     "language": "python",
     "metadata": {},
     "outputs": [
      {
       "ename": "ValueError",
       "evalue": "could not convert string to float: # \n",
       "output_type": "pyerr",
       "traceback": [
        "\u001b[0;31m---------------------------------------------------------------------------\u001b[0m\n\u001b[0;31mValueError\u001b[0m                                Traceback (most recent call last)",
        "\u001b[0;32m<ipython-input-125-43f3d1b8b08d>\u001b[0m in \u001b[0;36m<module>\u001b[0;34m()\u001b[0m\n\u001b[1;32m      5\u001b[0m \u001b[0;32mfor\u001b[0m \u001b[0mline\u001b[0m \u001b[0;32min\u001b[0m \u001b[0mopen\u001b[0m\u001b[0;34m(\u001b[0m\u001b[0;34m'numbers.txt'\u001b[0m\u001b[0;34m)\u001b[0m\u001b[0;34m:\u001b[0m\u001b[0;34m\u001b[0m\u001b[0m\n\u001b[1;32m      6\u001b[0m     \u001b[0;32mfor\u001b[0m \u001b[0mitem\u001b[0m \u001b[0;32min\u001b[0m \u001b[0mline\u001b[0m\u001b[0;34m.\u001b[0m\u001b[0msplit\u001b[0m\u001b[0;34m(\u001b[0m\u001b[0;34m'  '\u001b[0m\u001b[0;34m)\u001b[0m\u001b[0;34m:\u001b[0m\u001b[0;34m\u001b[0m\u001b[0m\n\u001b[0;32m----> 7\u001b[0;31m         \u001b[0marr2\u001b[0m\u001b[0;34m[\u001b[0m\u001b[0mi\u001b[0m\u001b[0;34m,\u001b[0m\u001b[0mj\u001b[0m\u001b[0;34m]\u001b[0m \u001b[0;34m=\u001b[0m \u001b[0mfloat\u001b[0m\u001b[0;34m(\u001b[0m\u001b[0mitem\u001b[0m\u001b[0;34m)\u001b[0m\u001b[0;34m\u001b[0m\u001b[0m\n\u001b[0m\u001b[1;32m      8\u001b[0m         \u001b[0mj\u001b[0m \u001b[0;34m+=\u001b[0m \u001b[0;36m1\u001b[0m\u001b[0;34m\u001b[0m\u001b[0m\n\u001b[1;32m      9\u001b[0m     \u001b[0mi\u001b[0m \u001b[0;34m+=\u001b[0m \u001b[0;36m1\u001b[0m\u001b[0;34m\u001b[0m\u001b[0m\n",
        "\u001b[0;31mValueError\u001b[0m: could not convert string to float: # \n"
       ]
      }
     ],
     "prompt_number": 125
    },
    {
     "cell_type": "code",
     "collapsed": false,
     "input": [],
     "language": "python",
     "metadata": {},
     "outputs": []
    }
   ],
   "metadata": {}
  }
 ]
}