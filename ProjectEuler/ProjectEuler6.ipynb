{
 "metadata": {
  "name": "",
  "signature": "sha256:e0aba819ddfb840d6b564b9d3f9c77e534ca9b5f6f50aaa3f09c9e60fbe47efc"
 },
 "nbformat": 3,
 "nbformat_minor": 0,
 "worksheets": [
  {
   "cells": [
    {
     "cell_type": "heading",
     "level": 1,
     "metadata": {},
     "source": [
      "Sum Square Difference"
     ]
    },
    {
     "cell_type": "heading",
     "level": 2,
     "metadata": {},
     "source": [
      "Problem 6"
     ]
    },
    {
     "cell_type": "markdown",
     "metadata": {},
     "source": [
      "The sum of the squares of the first ten natural numbers is,\n",
      "\n",
      "1^2 + 2^2 + ... + 10^2 = 385\n",
      "The square of the sum of the first ten natural numbers is,\n",
      "\n",
      "(1 + 2 + ... + 10)^2 = 55^2 = 3025\n",
      "Hence the difference between the sum of the squares of the first ten natural numbers and the square of the sum is 3025 - 385 = 2640.\n",
      "\n",
      "Find the difference between the sum of the squares of the first one hundred natural numbers and the square of the sum."
     ]
    },
    {
     "cell_type": "code",
     "collapsed": false,
     "input": [
      "# This 1st part of the code helps us find the sum of the square of numbers\n",
      "def sqsum(x):\n",
      "    numsum = 0\n",
      "    for i in range(x+1):\n",
      "        numsum += i ** 2\n",
      "    return numsum\n",
      "\n",
      "#This part of the code helps us find the square of the sum of numbers\n",
      "def sumsq(x):\n",
      "    sumnum = 0\n",
      "    for i in range(x+1):\n",
      "       sumnum += i\n",
      "    return sumnum ** 2\n",
      "\n",
      "def subtract(x):\n",
      "    return sumsq(x) - sqsum(x) \n",
      "\n",
      "print subtract(10)\n",
      "print subtract(100)"
     ],
     "language": "python",
     "metadata": {},
     "outputs": [
      {
       "output_type": "stream",
       "stream": "stdout",
       "text": [
        "2640\n",
        "25164150\n"
       ]
      }
     ],
     "prompt_number": 10
    },
    {
     "cell_type": "code",
     "collapsed": false,
     "input": [],
     "language": "python",
     "metadata": {},
     "outputs": []
    }
   ],
   "metadata": {}
  }
 ]
}