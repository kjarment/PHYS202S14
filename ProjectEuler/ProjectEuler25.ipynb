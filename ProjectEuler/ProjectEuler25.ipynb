{
 "metadata": {
  "name": "",
  "signature": "sha256:625becf10ee842e328b1bec82ac313e1cde10e7402e5f31981d741e459c1cbc7"
 },
 "nbformat": 3,
 "nbformat_minor": 0,
 "worksheets": [
  {
   "cells": [
    {
     "cell_type": "heading",
     "level": 1,
     "metadata": {},
     "source": [
      "1000 Digit Fibonacci Number "
     ]
    },
    {
     "cell_type": "raw",
     "metadata": {},
     "source": [
      "The Fibonacci sequence is defined by the recurrence relation:\n",
      "\n",
      "Fn = Fn\u22121 + Fn\u22122, where F1 = 1 and F2 = 1.\n",
      "Hence the first 12 terms will be:\n",
      "\n",
      "F1 = 1\n",
      "F2 = 1\n",
      "F3 = 2\n",
      "F4 = 3\n",
      "F5 = 5\n",
      "F6 = 8\n",
      "F7 = 13\n",
      "F8 = 21\n",
      "F9 = 34\n",
      "F10 = 55\n",
      "F11 = 89\n",
      "F12 = 144\n",
      "The 12th term, F12, is the first term to contain three digits.\n",
      "\n",
      "What is the first term in the Fibonacci sequence to contain 1000 digits?"
     ]
    },
    {
     "cell_type": "code",
     "collapsed": false,
     "input": [
      "import numpy as np\n"
     ],
     "language": "python",
     "metadata": {},
     "outputs": [],
     "prompt_number": 1
    },
    {
     "cell_type": "code",
     "collapsed": false,
     "input": [
      "def Fibdigit(n):\n",
      "    \"\"\"\n",
      "    First we define the first two fibonacci terms as 1 and 1. We create a temp variable, which is the next term, and the variable count\n",
      "    keeps track of what term we're looking at. Since we've already defined the first 2 terms, we initalize it at 2. The while loop\n",
      "    lets us keep looping until we find a number whose digits reach the number specified by the user.\n",
      "    \"\"\"\n",
      "    \n",
      "    \n",
      "    f1 = 1\n",
      "    f2 = 1\n",
      "    temp = 0\n",
      "    count = 2\n",
      "    \n",
      "    while len(str(temp)) < n:\n",
      "        temp = f1 + f2\n",
      "        f1 = f2\n",
      "        f2 = temp\n",
      "        count += 1\n",
      "    \n",
      "    return count\n",
      "\n",
      "print Fibdigit(3)\n",
      "print Fibdigit(1000)"
     ],
     "language": "python",
     "metadata": {},
     "outputs": [
      {
       "output_type": "stream",
       "stream": "stdout",
       "text": [
        "12\n",
        "4782"
       ]
      },
      {
       "output_type": "stream",
       "stream": "stdout",
       "text": [
        "\n"
       ]
      }
     ],
     "prompt_number": 5
    },
    {
     "cell_type": "code",
     "collapsed": false,
     "input": [],
     "language": "python",
     "metadata": {},
     "outputs": []
    }
   ],
   "metadata": {}
  }
 ]
}