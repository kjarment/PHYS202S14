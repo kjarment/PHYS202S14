{
 "metadata": {
  "name": "",
  "signature": "sha256:93c9515740d2768b0f1fc83a13961d663b9a01bf758b236a308f4d6c79da412a"
 },
 "nbformat": 3,
 "nbformat_minor": 0,
 "worksheets": [
  {
   "cells": [
    {
     "cell_type": "markdown",
     "metadata": {},
     "source": [
      "215 = 32768 and the sum of its digits is 3 + 2 + 7 + 6 + 8 = 26.\n",
      "\n",
      "What is the sum of the digits of the number 21000?"
     ]
    },
    {
     "cell_type": "code",
     "collapsed": false,
     "input": [
      "def powersum(exponent):\n",
      "    s = 0\n",
      "    value = 2 ** exponent\n",
      "    string = str(value)\n",
      "    for i in range(len(string)):\n",
      "        s += int(string[i])\n",
      "    return s\n",
      "\n",
      "print powersum(15)\n",
      "print powersum(1000)"
     ],
     "language": "python",
     "metadata": {},
     "outputs": [
      {
       "output_type": "stream",
       "stream": "stdout",
       "text": [
        "26\n",
        "1366\n"
       ]
      }
     ],
     "prompt_number": 14
    },
    {
     "cell_type": "code",
     "collapsed": false,
     "input": [],
     "language": "python",
     "metadata": {},
     "outputs": []
    }
   ],
   "metadata": {}
  }
 ]
}