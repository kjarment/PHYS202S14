{
 "metadata": {
  "name": "",
  "signature": "sha256:fa3fd9d6eafacd19a098e33ff7eb1f8e98f2633025ab273c9292ad7572398dcf"
 },
 "nbformat": 3,
 "nbformat_minor": 0,
 "worksheets": [
  {
   "cells": [
    {
     "cell_type": "heading",
     "level": 1,
     "metadata": {},
     "source": [
      "Coin Sums"
     ]
    },
    {
     "cell_type": "markdown",
     "metadata": {},
     "source": [
      "In England the currency is made up of pound, \u00a3, and pence, p, and there are eight coins in general circulation:\n",
      "\n",
      "1p, 2p, 5p, 10p, 20p, 50p, \u00a31 (100p) and \u00a32 (200p).\n",
      "It is possible to make \u00a32 in the following way:\n",
      "\n",
      "1\u00d7\u00a31 + 1\u00d750p + 2\u00d720p + 1\u00d75p + 1\u00d72p + 3\u00d71p\n",
      "How many different ways can \u00a32 be made using any number of coins?"
     ]
    },
    {
     "cell_type": "code",
     "collapsed": false,
     "input": [
      "import numpy as np"
     ],
     "language": "python",
     "metadata": {},
     "outputs": [],
     "prompt_number": 2
    },
    {
     "cell_type": "code",
     "collapsed": false,
     "input": [
      "p1= 1\n",
      "p2= 2\n",
      "p5= 5\n",
      "p10= 10\n",
      "p20= 20\n",
      "p50= 50\n",
      "p100 = 100\n",
      "p200 = 200\n"
     ],
     "language": "python",
     "metadata": {},
     "outputs": [],
     "prompt_number": 3
    },
    {
     "cell_type": "code",
     "collapsed": false,
     "input": [],
     "language": "python",
     "metadata": {},
     "outputs": []
    }
   ],
   "metadata": {}
  }
 ]
}