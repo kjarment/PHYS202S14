{
 "metadata": {
  "name": "",
  "signature": "sha256:153ed6770b8b32d3e4e9996f68e962d9633edc673383d3fcaadece16fbbd2da6"
 },
 "nbformat": 3,
 "nbformat_minor": 0,
 "worksheets": [
  {
   "cells": [
    {
     "cell_type": "heading",
     "level": 1,
     "metadata": {},
     "source": [
      "Coin Sums"
     ]
    },
    {
     "cell_type": "markdown",
     "metadata": {},
     "source": [
      "In England the currency is made up of pound, \u00a3, and pence, p, and there are eight coins in general circulation:\n",
      "\n",
      "1p, 2p, 5p, 10p, 20p, 50p, \u00a31 (100p) and \u00a32 (200p).\n",
      "It is possible to make \u00a32 in the following way:\n",
      "\n",
      "1\u00d7\u00a31 + 1\u00d750p + 2\u00d720p + 1\u00d75p + 1\u00d72p + 3\u00d71p\n",
      "How many different ways can \u00a32 be made using any number of coins?"
     ]
    },
    {
     "cell_type": "code",
     "collapsed": false,
     "input": [
      "import numpy as np"
     ],
     "language": "python",
     "metadata": {},
     "outputs": [],
     "prompt_number": 11
    },
    {
     "cell_type": "code",
     "collapsed": false,
     "input": [
      "p2= 2\n",
      "p5= 5\n",
      "p10= 10\n",
      "p20= 20\n",
      "p50= 50\n",
      "p100= 100"
     ],
     "language": "python",
     "metadata": {},
     "outputs": [],
     "prompt_number": 12
    },
    {
     "cell_type": "code",
     "collapsed": false,
     "input": [
      "ca = np.zeros(7)\n",
      "\"\"\" ca = currency array \"\"\"\n",
      "masterp = np.arange(201)\n",
      "\"\"\" masterp = 1 pence array of 200 \"\"\"\n",
      "total = 0\n",
      "\"\"\" total combinations \"\"\"\n",
      "\n",
      "\n",
      "for element in reversed(masterp):\n",
      "    ca[0] = element \n",
      "    \n",
      "    \n",
      "    if np.sum(ca) == 200:\n",
      "        total += 1 \n",
      "    \n",
      "    if np.sum(ca) < 200:\n",
      "        \n",
      "        for a in reversed(np.arange(101)): \n",
      "            for b in reversed(np.arange(41)):\n",
      "                for c in reversed(np.arange(21)):\n",
      "                    for d in reversed(np.arange(11)):\n",
      "                        for e in reversed(np.arange(5)):\n",
      "                            for f in reversed(np.arange(3)):\n",
      "                                ca[6] = p2 * a\n",
      "                                ca[5] = p5 * b\n",
      "                                ca[4] = p10 * c\n",
      "                                ca[3] = p20 * d\n",
      "                                ca[2] = p50 * e\n",
      "                                ca[1] = p100 * f\n",
      "                                \n",
      "                                if np.sum(ca) == 200:\n",
      "                                    total += 1\n",
      "                                    \n",
      "                \n",
      "                \n",
      "\n",
      "                \n",
      "                \n",
      "                \n",
      "                \n",
      "                \n",
      "print total\n",
      "                "
     ],
     "language": "python",
     "metadata": {},
     "outputs": [
      {
       "ename": "KeyboardInterrupt",
       "evalue": "",
       "output_type": "pyerr",
       "traceback": [
        "\u001b[0;31m---------------------------------------------------------------------------\u001b[0m\n\u001b[0;31mKeyboardInterrupt\u001b[0m                         Traceback (most recent call last)",
        "\u001b[0;32m<ipython-input-13-e78a01d58acf>\u001b[0m in \u001b[0;36m<module>\u001b[0;34m()\u001b[0m\n\u001b[1;32m     29\u001b[0m                                 \u001b[0mca\u001b[0m\u001b[0;34m[\u001b[0m\u001b[0;36m1\u001b[0m\u001b[0;34m]\u001b[0m \u001b[0;34m=\u001b[0m \u001b[0mp100\u001b[0m \u001b[0;34m*\u001b[0m \u001b[0mf\u001b[0m\u001b[0;34m\u001b[0m\u001b[0m\n\u001b[1;32m     30\u001b[0m \u001b[0;34m\u001b[0m\u001b[0m\n\u001b[0;32m---> 31\u001b[0;31m                                 \u001b[0;32mif\u001b[0m \u001b[0mnp\u001b[0m\u001b[0;34m.\u001b[0m\u001b[0msum\u001b[0m\u001b[0;34m(\u001b[0m\u001b[0mca\u001b[0m\u001b[0;34m)\u001b[0m \u001b[0;34m==\u001b[0m \u001b[0;36m200\u001b[0m\u001b[0;34m:\u001b[0m\u001b[0;34m\u001b[0m\u001b[0m\n\u001b[0m\u001b[1;32m     32\u001b[0m                                     \u001b[0mtotal\u001b[0m \u001b[0;34m+=\u001b[0m \u001b[0;36m1\u001b[0m\u001b[0;34m\u001b[0m\u001b[0m\n\u001b[1;32m     33\u001b[0m \u001b[0;34m\u001b[0m\u001b[0m\n",
        "\u001b[0;32m/Users/Kevin/anaconda/lib/python2.7/site-packages/numpy/core/fromnumeric.pyc\u001b[0m in \u001b[0;36msum\u001b[0;34m(a, axis, dtype, out, keepdims)\u001b[0m\n\u001b[1;32m   1712\u001b[0m     \u001b[0;32melse\u001b[0m\u001b[0;34m:\u001b[0m\u001b[0;34m\u001b[0m\u001b[0m\n\u001b[1;32m   1713\u001b[0m         return _methods._sum(a, axis=axis, dtype=dtype,\n\u001b[0;32m-> 1714\u001b[0;31m                             out=out, keepdims=keepdims)\n\u001b[0m\u001b[1;32m   1715\u001b[0m \u001b[0;34m\u001b[0m\u001b[0m\n\u001b[1;32m   1716\u001b[0m \u001b[0;32mdef\u001b[0m \u001b[0mproduct\u001b[0m \u001b[0;34m(\u001b[0m\u001b[0ma\u001b[0m\u001b[0;34m,\u001b[0m \u001b[0maxis\u001b[0m\u001b[0;34m=\u001b[0m\u001b[0mNone\u001b[0m\u001b[0;34m,\u001b[0m \u001b[0mdtype\u001b[0m\u001b[0;34m=\u001b[0m\u001b[0mNone\u001b[0m\u001b[0;34m,\u001b[0m \u001b[0mout\u001b[0m\u001b[0;34m=\u001b[0m\u001b[0mNone\u001b[0m\u001b[0;34m,\u001b[0m \u001b[0mkeepdims\u001b[0m\u001b[0;34m=\u001b[0m\u001b[0mFalse\u001b[0m\u001b[0;34m)\u001b[0m\u001b[0;34m:\u001b[0m\u001b[0;34m\u001b[0m\u001b[0m\n",
        "\u001b[0;32m/Users/Kevin/anaconda/lib/python2.7/site-packages/numpy/core/_methods.pyc\u001b[0m in \u001b[0;36m_sum\u001b[0;34m(a, axis, dtype, out, keepdims)\u001b[0m\n\u001b[1;32m     23\u001b[0m \u001b[0;32mdef\u001b[0m \u001b[0m_sum\u001b[0m\u001b[0;34m(\u001b[0m\u001b[0ma\u001b[0m\u001b[0;34m,\u001b[0m \u001b[0maxis\u001b[0m\u001b[0;34m=\u001b[0m\u001b[0mNone\u001b[0m\u001b[0;34m,\u001b[0m \u001b[0mdtype\u001b[0m\u001b[0;34m=\u001b[0m\u001b[0mNone\u001b[0m\u001b[0;34m,\u001b[0m \u001b[0mout\u001b[0m\u001b[0;34m=\u001b[0m\u001b[0mNone\u001b[0m\u001b[0;34m,\u001b[0m \u001b[0mkeepdims\u001b[0m\u001b[0;34m=\u001b[0m\u001b[0mFalse\u001b[0m\u001b[0;34m)\u001b[0m\u001b[0;34m:\u001b[0m\u001b[0;34m\u001b[0m\u001b[0m\n\u001b[1;32m     24\u001b[0m     return um.add.reduce(a, axis=axis, dtype=dtype,\n\u001b[0;32m---> 25\u001b[0;31m                             out=out, keepdims=keepdims)\n\u001b[0m\u001b[1;32m     26\u001b[0m \u001b[0;34m\u001b[0m\u001b[0m\n\u001b[1;32m     27\u001b[0m \u001b[0;32mdef\u001b[0m \u001b[0m_prod\u001b[0m\u001b[0;34m(\u001b[0m\u001b[0ma\u001b[0m\u001b[0;34m,\u001b[0m \u001b[0maxis\u001b[0m\u001b[0;34m=\u001b[0m\u001b[0mNone\u001b[0m\u001b[0;34m,\u001b[0m \u001b[0mdtype\u001b[0m\u001b[0;34m=\u001b[0m\u001b[0mNone\u001b[0m\u001b[0;34m,\u001b[0m \u001b[0mout\u001b[0m\u001b[0;34m=\u001b[0m\u001b[0mNone\u001b[0m\u001b[0;34m,\u001b[0m \u001b[0mkeepdims\u001b[0m\u001b[0;34m=\u001b[0m\u001b[0mFalse\u001b[0m\u001b[0;34m)\u001b[0m\u001b[0;34m:\u001b[0m\u001b[0;34m\u001b[0m\u001b[0m\n",
        "\u001b[0;31mKeyboardInterrupt\u001b[0m: "
       ]
      }
     ],
     "prompt_number": 13
    },
    {
     "cell_type": "heading",
     "level": 1,
     "metadata": {},
     "source": [
      "BrainStorming "
     ]
    },
    {
     "cell_type": "raw",
     "metadata": {},
     "source": [
      "    We can create an array of all of our values of the 1 pence (0-200) and we will create a for loop that will check all possible \n",
      "combinations to create 2 pounds with that value. We use the 1 pence because it is the smallest value, and we should obtain all\n",
      "possible combinations with the other currency. \n",
      "\n",
      "\n",
      "    The index of ca tells us the value of the coin, with the 1 pence as the first element but 100 pence, 50 pence, 20 pence, 10 pence, 5 pence and 2 pence as elements 2, 3, 4, 5, 6, and 7 respectively. The reason why we do this is for simplicity. When we want to increment the count of the next value, we can see much faster which values are immediately too big for the amount of pence we have. Plus, it is much easier to manipulate the coins of smaller value last because if we start incrementing them first, we would have to create a lot more code to decrement previous values and increment other values to find what combinations of currency equal 200."
     ]
    },
    {
     "cell_type": "raw",
     "metadata": {},
     "source": [
      " We find the value of the second element that got closest to 200 \n",
      "(in a designated range specified for that value of currency. i.e. 199 <= sum <= 201 for 2\n",
      "pence, 196 <= sum <= 204 for 5 pence). If the sum of the array is less than 200, then we increment the other smaller values to see if we can get a sum of 200. This will require a series of for loops that change the value of the elements (think for element in reversed(arange(n)), where n equals a number that multiplies by the currencies value to equal 200 + 1 i.e. 50 * 4 = 200, so n = 5). There will be if statements that determine when the sum of the current array is 200. If the sum is over 200, then the for loop will decrimate the value of the most recent element, until it either equals 200, or is under 200. If it is under, then we rinse and repeat until we get 200. \n",
      "\n",
      "When we get to 200, we decrement the most recent element, and begin the arduous process of incrementing other elements until either over 200 or equals 200. This is recursive. \n",
      "\n",
      "****NOTE: When you are running these for loops with nested if statements, you are going through an array that multiplies your number by a factor.  If any multiple of the number does not work, AKA the if statement works at 0, then we are just moving on to the next number and doing the same thing."
     ]
    },
    {
     "cell_type": "raw",
     "metadata": {},
     "source": [
      "After we do all of this, we complete the for loop for the second element and decrement its value, and the process begins all over again. Incrementing the next element until it reaches a certain range, then we begin doing the same thing that I stated in the cell block above until eventually we'll reach the second smallest currency, and have gone through all possible cases."
     ]
    }
   ],
   "metadata": {}
  }
 ]
}