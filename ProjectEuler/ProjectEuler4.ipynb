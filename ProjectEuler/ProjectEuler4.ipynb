{
 "metadata": {
  "name": "",
  "signature": "sha256:79d985178f7d7a90e5cfad299f629d12b3332652b85650ca8a420eaabca0d57d"
 },
 "nbformat": 3,
 "nbformat_minor": 0,
 "worksheets": [
  {
   "cells": [
    {
     "cell_type": "heading",
     "level": 1,
     "metadata": {},
     "source": [
      "Problem 4"
     ]
    },
    {
     "cell_type": "markdown",
     "metadata": {},
     "source": [
      "A palindromic number reads the same both ways. The largest palindrome made from the product of two 2-digit numbers is 9009 = 91 \u00d7 99.\n",
      "\n",
      "Find the largest palindrome made from the product of two 3-digit numbers."
     ]
    },
    {
     "cell_type": "code",
     "collapsed": false,
     "input": [
      "import numpy as np"
     ],
     "language": "python",
     "metadata": {},
     "outputs": [],
     "prompt_number": 1
    },
    {
     "cell_type": "code",
     "collapsed": false,
     "input": [
      "def Palindrome(N):\n",
      "\n",
      "    base10 = 10 ** N\n",
      "    r1 = r2 = np.arange(1,base10)\n",
      "    numstring = \"\"\n",
      "    length = 0 \n",
      "    A = [] \n",
      "    \n",
      "    for i in r1:\n",
      "        \n",
      "        for j in r2:\n",
      "            \n",
      "            Num = i*j\n",
      "            numstring = str(Num)\n",
      "            l = len(numstring)\n",
      "            \n",
      "            if l % 2 == 0:\n",
      "                half1 = []\n",
      "                half2 = []\n",
      "                list1 = []\n",
      "                list2 = []\n",
      "            \n",
      "                for k in np.arange(0,l):\n",
      "                    \n",
      "                    if 0 <= k < l/2:\n",
      "                        half1.append(numstring[k])\n",
      "                    \n",
      "                    if l/2 <= k < l:\n",
      "                        half2.append(numstring[k])\n",
      "            \n",
      "                for k in half1:\n",
      "                    list1.append(k)\n",
      "                for k in reversed(half2):\n",
      "                    list2.append(k)\n",
      "                \n",
      "                if list1 == list2:\n",
      "                     A.append(Num)\n",
      "            else:\n",
      "                Num = 1\n",
      "                \n",
      "    return A"
     ],
     "language": "python",
     "metadata": {},
     "outputs": [],
     "prompt_number": 87
    },
    {
     "cell_type": "code",
     "collapsed": false,
     "input": [
      "def Maximum(A):\n",
      "    length = len(A)\n",
      "    Max = A[length-1]\n",
      "    return Max\n"
     ],
     "language": "python",
     "metadata": {},
     "outputs": [],
     "prompt_number": 93
    },
    {
     "cell_type": "code",
     "collapsed": false,
     "input": [
      "digit2 = Palindrome(2)\n",
      "Max2 = Maximum(digit2)\n",
      "print Max2"
     ],
     "language": "python",
     "metadata": {},
     "outputs": [
      {
       "output_type": "stream",
       "stream": "stdout",
       "text": [
        "9009\n"
       ]
      }
     ],
     "prompt_number": 94
    },
    {
     "cell_type": "code",
     "collapsed": false,
     "input": [
      "#Takes awhile because lots of calculation\n",
      "digit3 = Palindrome(3)"
     ],
     "language": "python",
     "metadata": {},
     "outputs": [],
     "prompt_number": 95
    },
    {
     "cell_type": "code",
     "collapsed": false,
     "input": [
      "Max3 = Maximum(digit3)\n",
      "print Max3"
     ],
     "language": "python",
     "metadata": {},
     "outputs": [
      {
       "output_type": "stream",
       "stream": "stdout",
       "text": [
        "580085\n"
       ]
      }
     ],
     "prompt_number": 96
    },
    {
     "cell_type": "code",
     "collapsed": false,
     "input": [],
     "language": "python",
     "metadata": {},
     "outputs": []
    }
   ],
   "metadata": {}
  }
 ]
}