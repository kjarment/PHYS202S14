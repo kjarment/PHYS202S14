{
 "metadata": {
  "name": "",
  "signature": "sha256:a148899756abc9637491dcdc75b4a1658c185b340cc56b267701f2e5a019e7e3"
 },
 "nbformat": 3,
 "nbformat_minor": 0,
 "worksheets": [
  {
   "cells": [
    {
     "cell_type": "heading",
     "level": 1,
     "metadata": {},
     "source": [
      "Multiples of 3 and 5"
     ]
    },
    {
     "cell_type": "heading",
     "level": 3,
     "metadata": {},
     "source": [
      "Problem 1"
     ]
    },
    {
     "cell_type": "markdown",
     "metadata": {},
     "source": [
      "If we list all the natural numbers below 10 that are multiples of 3 or 5, we get 3, 5, 6 and 9. The sum of these multiples is 23.\n",
      "\n",
      "Find the sum of all the multiples of 3 or 5 below 1000."
     ]
    },
    {
     "cell_type": "markdown",
     "metadata": {},
     "source": [
      "Driver: Kevin\n",
      "\n",
      "Navigator: Jake"
     ]
    },
    {
     "cell_type": "code",
     "collapsed": false,
     "input": [
      "def mult(x):\n",
      "    sum = 0\n",
      "    for i in range(x):\n",
      "        if i%3 == 0 or i%5 == 0:\n",
      "            sum = sum + i\n",
      "    return sum\n",
      "\n",
      "print mult(10)"
     ],
     "language": "python",
     "metadata": {},
     "outputs": [
      {
       "output_type": "stream",
       "stream": "stdout",
       "text": [
        "23\n"
       ]
      }
     ],
     "prompt_number": 5
    },
    {
     "cell_type": "code",
     "collapsed": false,
     "input": [
      "def mult(x):\n",
      "    sum = 0\n",
      "    for i in range(x):\n",
      "        if i%3 == 0 or i%5 == 0:\n",
      "            sum += i\n",
      "    return sum\n",
      "\n",
      "print mult(1000)"
     ],
     "language": "python",
     "metadata": {},
     "outputs": [
      {
       "output_type": "stream",
       "stream": "stdout",
       "text": [
        "233168\n"
       ]
      }
     ],
     "prompt_number": 6
    },
    {
     "cell_type": "code",
     "collapsed": false,
     "input": [],
     "language": "python",
     "metadata": {},
     "outputs": []
    }
   ],
   "metadata": {}
  }
 ]
}