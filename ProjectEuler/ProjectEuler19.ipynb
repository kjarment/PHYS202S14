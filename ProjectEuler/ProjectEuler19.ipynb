{
 "metadata": {
  "name": "",
  "signature": "sha256:1a3879ce4ed771d9d7bbb1ff34e91a80dbf74e32ec6b1abf0700c60a110fe85e"
 },
 "nbformat": 3,
 "nbformat_minor": 0,
 "worksheets": [
  {
   "cells": [
    {
     "cell_type": "heading",
     "level": 1,
     "metadata": {},
     "source": [
      "Counting Sundays\n"
     ]
    },
    {
     "cell_type": "code",
     "collapsed": false,
     "input": [
      "import numpy as np"
     ],
     "language": "python",
     "metadata": {},
     "outputs": [],
     "prompt_number": 6
    },
    {
     "cell_type": "code",
     "collapsed": false,
     "input": [
      "week = np.array('Monday', 'Tuesday', 'Wednesday', 'Thursday', 'Friday', 'Saturday', 'Sunday')\n",
      "Jan = np.arange(31)\n",
      "Feb = np.arange(28)\n",
      "LeapFeb = np.arange(29)\n",
      "March = np.arange(31)\n",
      "April = np.arange(30)\n",
      "May = np.arange(31)\n",
      "June = np.arange(30)\n",
      "July = np.arange(31)\n",
      "Aug = np.arange(31)\n",
      "Sept = np.arange(30)\n",
      "Oct = np.arange(31)\n",
      "Nov = np.arange(30)\n",
      "Dec = np.arange(31)\n",
      "\n",
      "\n",
      "year = np.array[Jan, Feb, March, April, May, June, July, Aug, Sept, Oct, Nov, Dec]\n",
      "leapyear = np.array[Jan, LeapFeb, March, April, May, June, July, Aug, Sept, Oct, Nov, Dec]\n",
      "\n",
      "\n",
      "\n",
      "\n",
      "\n",
      "\n",
      "\n",
      "\n",
      "\n",
      "\n",
      "\n",
      "\n",
      "def countSunday(year1, year2):\n",
      "    year2 - year1 = yrs\n",
      "    yrarr = np.arange(yrs) + 1\n",
      "    for element in yrarr:\n",
      "        yrarr[element] = year\n",
      "        if element % 4:\n",
      "            yrarr[element] = leapyear\n",
      "    \"\"\"\n",
      "    We create an array with as many elements as there are years. \n",
      "    Then at each element, we insert either a year array, or a leap year array when appropriate.\n",
      "    \"\"\"\n",
      "    \n",
      "    \n",
      "    for i in yrarr:\n",
      "        for j in yrarr[i]:\n",
      "            "
     ],
     "language": "python",
     "metadata": {},
     "outputs": [
      {
       "ename": "IndentationError",
       "evalue": "expected an indented block (<ipython-input-5-da8c8db01024>, line 28)",
       "output_type": "pyerr",
       "traceback": [
        "\u001b[0;36m  File \u001b[0;32m\"<ipython-input-5-da8c8db01024>\"\u001b[0;36m, line \u001b[0;32m28\u001b[0m\n\u001b[0;31m    \u001b[0m\n\u001b[0m    ^\u001b[0m\n\u001b[0;31mIndentationError\u001b[0m\u001b[0;31m:\u001b[0m expected an indented block\n"
       ]
      }
     ],
     "prompt_number": 5
    },
    {
     "cell_type": "code",
     "collapsed": false,
     "input": [
      "yr1900 = np.arange(365) + 1\n",
      "daylst = []\n",
      "\n",
      "\n",
      "for day in yr1900:\n",
      "    try daylst[day-1] == 'Sunday':\n",
      "        daylst.append('Monday')\n",
      "    except IndexError as err:\n",
      "        if day == 1:\n",
      "            daylst.append('Monday')\n",
      "   \n",
      "    elif daylst[day-1] == 'Monday':\n",
      "        daylst.append('Tuesday')\n",
      "    elif daylst[day-1] == 'Tuesday':\n",
      "        daylst.append('Wednesday')\n",
      "    elif daylst[day-1] == 'Wednesday':\n",
      "        daylst.append('Thursday')\n",
      "    elif daylst[day-1] == 'Thursday':\n",
      "        daylst.append('Friday')\n",
      "    elif daylst[day-1] == 'Friday':\n",
      "        daylst.append('Saturday')\n",
      "    else:\n",
      "        daylst.append('Sunday')\n",
      "    \n",
      "print daylst"
     ],
     "language": "python",
     "metadata": {},
     "outputs": [
      {
       "ename": "SyntaxError",
       "evalue": "invalid syntax (<ipython-input-17-5bd3b875906d>, line 6)",
       "output_type": "pyerr",
       "traceback": [
        "\u001b[0;36m  File \u001b[0;32m\"<ipython-input-17-5bd3b875906d>\"\u001b[0;36m, line \u001b[0;32m6\u001b[0m\n\u001b[0;31m    try daylst[day-1] == 'Sunday':\u001b[0m\n\u001b[0m             ^\u001b[0m\n\u001b[0;31mSyntaxError\u001b[0m\u001b[0;31m:\u001b[0m invalid syntax\n"
       ]
      }
     ],
     "prompt_number": 17
    },
    {
     "cell_type": "code",
     "collapsed": false,
     "input": [],
     "language": "python",
     "metadata": {},
     "outputs": []
    }
   ],
   "metadata": {}
  }
 ]
}