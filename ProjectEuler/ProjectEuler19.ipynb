{
 "metadata": {
  "name": "",
  "signature": "sha256:dfb2c56a7dc7a1e4d6444bbfa805d38468dea5b2013b017ea121fde53373ae0e"
 },
 "nbformat": 3,
 "nbformat_minor": 0,
 "worksheets": [
  {
   "cells": [
    {
     "cell_type": "heading",
     "level": 1,
     "metadata": {},
     "source": [
      "Counting Sundays\n"
     ]
    },
    {
     "cell_type": "code",
     "collapsed": false,
     "input": [
      "import numpy as np\n"
     ],
     "language": "python",
     "metadata": {},
     "outputs": [],
     "prompt_number": 8
    },
    {
     "cell_type": "code",
     "collapsed": false,
     "input": [
      "week = np.arange(7) \n",
      "Jan = np.arange(31)\n",
      "Feb = np.arange(28)\n",
      "LeapFeb = np.arange(29)\n",
      "March = np.arange(31)\n",
      "April = np.arange(30)\n",
      "May = np.arange(31)\n",
      "June = np.arange(30)\n",
      "July = np.arange(31)\n",
      "Aug = np.arange(31)\n",
      "Sept = np.arange(30)\n",
      "Oct = np.arange(31)\n",
      "Nov = np.arange(30)\n",
      "Dec = np.arange(31)\n",
      "\n",
      "\n",
      "year = [Jan, Feb, March, April, May, June, July, Aug, Sept, Oct, Nov, Dec]\n",
      "leapyear = [Jan, LeapFeb, March, April, May, June, July, Aug, Sept, Oct, Nov, Dec]\n"
     ],
     "language": "python",
     "metadata": {},
     "outputs": [],
     "prompt_number": 19
    },
    {
     "cell_type": "code",
     "collapsed": false,
     "input": [
      "def countSunday(year1, year2):\n",
      "    yrs = year2 - year1\n",
      "    yrarr = np.arange(yrs) \n",
      "    totalSundays = 0\n",
      "    total = 0\n",
      "    n = 0\n",
      "    \n",
      "    for i in yrarr:\n",
      "        for j in np.arange(12):\n",
      "            if j == 3 or j==5 or j==8 or j==10:\n",
      "                month = np.arange(30) \n",
      "                for element in month:\n",
      "                    if week[n] == 6:\n",
      "                        month[element] = 6\n",
      "                        totalSundays += 1\n",
      "                    if n <6:\n",
      "                        n+=1\n",
      "                    if n == 6:\n",
      "                        n=0\n",
      "           \n",
      "            elif j ==1:\n",
      "                if (i + 1) % 4 == 0:\n",
      "                    month = np.arange(29) \n",
      "                    for element in month:\n",
      "                        if week[n] == 6:\n",
      "                            month[element] = 6\n",
      "                            totalSundays += 1\n",
      "                        if n <6:\n",
      "                            n+=1\n",
      "                        if n == 6:\n",
      "                            n=0\n",
      "                                       \n",
      "                else:\n",
      "                    month = np.arange(28) \n",
      "                    for element in month:\n",
      "                        if week[n] == 6:\n",
      "                            month[element] = 6\n",
      "                            totalSundays += 1\n",
      "                \n",
      "                        if n <6:\n",
      "                            n+=1\n",
      "                        elif n == 6:\n",
      "                            n=0\n",
      "            \n",
      "            else:\n",
      "                month = np.arange(31) \n",
      "                for element in month:\n",
      "                    if week[n] == 6:\n",
      "                        month[element] = 6\n",
      "                        totalSundays += 1\n",
      "                    if n <6:\n",
      "                        n+=1\n",
      "                    elif n == 6:\n",
      "                        n=0\n",
      "                    \n",
      "            if month[0] == 6:\n",
      "                total +=1\n",
      "                \n",
      "                   \n",
      "                \n",
      "            \n",
      "    \n",
      "    return total, totalSundays\n",
      "    \n",
      "    \n",
      "\n",
      "\n",
      "print countSunday(1900, 2000)"
     ],
     "language": "python",
     "metadata": {},
     "outputs": [
      {
       "output_type": "stream",
       "stream": "stdout",
       "text": [
        "(133, 3425)\n"
       ]
      }
     ],
     "prompt_number": 44
    },
    {
     "cell_type": "code",
     "collapsed": false,
     "input": [],
     "language": "python",
     "metadata": {},
     "outputs": []
    }
   ],
   "metadata": {}
  }
 ]
}