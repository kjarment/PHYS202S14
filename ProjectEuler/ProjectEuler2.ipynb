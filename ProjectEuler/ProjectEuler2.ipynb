{
 "metadata": {
  "name": "",
  "signature": "sha256:be3ac89c77b9451296e707c384400579b658abba7787988b9826df021524cbed"
 },
 "nbformat": 3,
 "nbformat_minor": 0,
 "worksheets": []
}