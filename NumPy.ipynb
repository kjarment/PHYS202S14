{
 "metadata": {
  "name": "",
  "signature": "sha256:66d014f0cf77284b3bdb0b05debafeae678d628e2e0b8d511c0a8fd108879501"
 },
 "nbformat": 3,
 "nbformat_minor": 0,
 "worksheets": [
  {
   "cells": [
    {
     "cell_type": "heading",
     "level": 1,
     "metadata": {},
     "source": [
      "Tour of NumPy\n"
     ]
    },
    {
     "cell_type": "heading",
     "level": 1,
     "metadata": {},
     "source": [
      "1. BASICS OF NumPy ARRAYS"
     ]
    },
    {
     "cell_type": "code",
     "collapsed": false,
     "input": [
      "import numpy as np\n",
      "\n",
      "lst = [10, 20, 30, 40]\n",
      "arr = np.array([10,20,30,40])\n",
      "\"\"\"If we want to initialize an array, we MUST follow this syntax\"\"\""
     ],
     "language": "python",
     "metadata": {},
     "outputs": [],
     "prompt_number": 1
    },
    {
     "cell_type": "code",
     "collapsed": false,
     "input": [
      "print arr[0]\n",
      "print lst[0]\n",
      "print arr[-1]\n",
      "arr[2:]\n",
      "\"\"\"Arrays behave very similarly to lists when it comes to syntax\"\"\""
     ],
     "language": "python",
     "metadata": {},
     "outputs": [
      {
       "output_type": "stream",
       "stream": "stdout",
       "text": [
        "10\n",
        "10\n",
        "40\n"
       ]
      },
      {
       "metadata": {},
       "output_type": "pyout",
       "prompt_number": 3,
       "text": [
        "array([30, 40])"
       ]
      }
     ],
     "prompt_number": 3
    },
    {
     "cell_type": "heading",
     "level": 1,
     "metadata": {},
     "source": [
      "2. DIFFERENCES BETWEEN ARRAYS & LISTS"
     ]
    },
    {
     "cell_type": "code",
     "collapsed": false,
     "input": [
      "lst[-1] = 'a string inside a list'\n",
      "print lst\n",
      "\n",
      "arr[-1] = 'a string inside an array' \n",
      "\"\"\" This returns an error because arrays are what we call homogenous! All elements inside of an array\n",
      "must be of the same type! When we try to put in a string in an array of numbers, the computer gives \n",
      "us an error \"\"\""
     ],
     "language": "python",
     "metadata": {},
     "outputs": [
      {
       "output_type": "stream",
       "stream": "stdout",
       "text": [
        "[10, 20, 30, 'a string inside a list']\n"
       ]
      },
      {
       "ename": "ValueError",
       "evalue": "invalid literal for long() with base 10: 'a string inside an array'",
       "output_type": "pyerr",
       "traceback": [
        "\u001b[0;31m---------------------------------------------------------------------------\u001b[0m\n\u001b[0;31mValueError\u001b[0m                                Traceback (most recent call last)",
        "\u001b[0;32m<ipython-input-4-b0f9d71abfa3>\u001b[0m in \u001b[0;36m<module>\u001b[0;34m()\u001b[0m\n\u001b[1;32m      2\u001b[0m \u001b[0;32mprint\u001b[0m \u001b[0mlst\u001b[0m\u001b[0;34m\u001b[0m\u001b[0m\n\u001b[1;32m      3\u001b[0m \u001b[0;34m\u001b[0m\u001b[0m\n\u001b[0;32m----> 4\u001b[0;31m \u001b[0marr\u001b[0m\u001b[0;34m[\u001b[0m\u001b[0;34m-\u001b[0m\u001b[0;36m1\u001b[0m\u001b[0;34m]\u001b[0m \u001b[0;34m=\u001b[0m \u001b[0;34m'a string inside an array'\u001b[0m\u001b[0;34m\u001b[0m\u001b[0m\n\u001b[0m",
        "\u001b[0;31mValueError\u001b[0m: invalid literal for long() with base 10: 'a string inside an array'"
       ]
      }
     ],
     "prompt_number": 4
    },
    {
     "cell_type": "code",
     "collapsed": false,
     "input": [
      "print arr.dtype\n",
      "\"\"\" the dtype attribute lets us know what type of element is being stored inside the array\"\"\""
     ],
     "language": "python",
     "metadata": {},
     "outputs": [
      {
       "output_type": "stream",
       "stream": "stdout",
       "text": [
        "int64\n"
       ]
      }
     ],
     "prompt_number": 5
    },
    {
     "cell_type": "code",
     "collapsed": false,
     "input": [
      "arr[-1] = 1.234\n",
      "print arr\n",
      "\"\"\"When we try to store a floatinmg point number inside the array of integers, the computer automatically\n",
      "changes it to an integer\"\"\""
     ],
     "language": "python",
     "metadata": {},
     "outputs": [
      {
       "output_type": "stream",
       "stream": "stdout",
       "text": [
        "[10 20 30  1]\n"
       ]
      }
     ],
     "prompt_number": 6
    },
    {
     "cell_type": "heading",
     "level": 1,
     "metadata": {},
     "source": [
      "3. ARRAY CREATION"
     ]
    },
    {
     "cell_type": "code",
     "collapsed": false,
     "input": [
      "np.zeros(5, dtype=float)\n",
      "\"\"\"Creates an array of length 5 with all zeros that have the attributes of floating point numbers\"\"\" \n",
      "np.zeros(3, dtype=int)\n",
      "\"\"\"Creates an array of length 3 with zeroes in all elements with type integer\"\"\"\n",
      "np.zeros(3, dtype=complex)\n",
      "\"\"\"Creates an array of length 3 with zeroes of type complex in all elements\"\"\""
     ],
     "language": "python",
     "metadata": {},
     "outputs": [
      {
       "metadata": {},
       "output_type": "pyout",
       "prompt_number": 9,
       "text": [
        "'Creates an array of length 3 with zeroes of type complex in all elements'"
       ]
      }
     ],
     "prompt_number": 9
    },
    {
     "cell_type": "code",
     "collapsed": false,
     "input": [
      "print '5 ones:', np.ones(5)"
     ],
     "language": "python",
     "metadata": {},
     "outputs": [
      {
       "output_type": "stream",
       "stream": "stdout",
       "text": [
        "5 ones: [ 1.  1.  1.  1.  1.]"
       ]
      },
      {
       "output_type": "stream",
       "stream": "stdout",
       "text": [
        "\n"
       ]
      }
     ],
     "prompt_number": 10
    },
    {
     "cell_type": "code",
     "collapsed": false,
     "input": [
      "a = np.empty(4)\n",
      "a.fill(5.5)\n",
      "print a\n"
     ],
     "language": "python",
     "metadata": {},
     "outputs": [
      {
       "output_type": "stream",
       "stream": "stdout",
       "text": [
        "[ 5.5  5.5  5.5  5.5]\n"
       ]
      }
     ],
     "prompt_number": 11
    },
    {
     "cell_type": "code",
     "collapsed": false,
     "input": [
      "print np.arange(5)\n",
      "\"\"\"The .arange() function acts alot like the range function only it creates an array instead of a list\"\"\""
     ],
     "language": "python",
     "metadata": {},
     "outputs": [
      {
       "output_type": "stream",
       "stream": "stdout",
       "text": [
        "[0 1 2 3 4]\n"
       ]
      }
     ],
     "prompt_number": 12
    },
    {
     "cell_type": "code",
     "collapsed": false,
     "input": [
      "c = np.arange(2,16,2)\n",
      "print c\n",
      "\"\"\"REMEMBER: First element is starting index (inclusive), second element is last index (exclusive), and \n",
      "third element is stride\"\"\""
     ],
     "language": "python",
     "metadata": {},
     "outputs": [
      {
       "output_type": "stream",
       "stream": "stdout",
       "text": [
        "[ 2  4  6  8 10 12 14]\n"
       ]
      }
     ],
     "prompt_number": 14
    },
    {
     "cell_type": "code",
     "collapsed": false,
     "input": [
      "print \"A linear grid between 0 and 1 with 4 elements:\"\n",
      "print np.linspace(0,1,4)"
     ],
     "language": "python",
     "metadata": {},
     "outputs": [
      {
       "output_type": "stream",
       "stream": "stdout",
       "text": [
        "A linear grid between 0 and 1 with 4 elements:\n",
        "[ 0.          0.33333333  0.66666667  1.        ]\n"
       ]
      }
     ],
     "prompt_number": 15
    },
    {
     "cell_type": "code",
     "collapsed": false,
     "input": [
      "print \"A logarithmic grid between 10**1 and 10**3 with 4 elements:\"\n",
      "print np.logspace(1,3,4)"
     ],
     "language": "python",
     "metadata": {},
     "outputs": [
      {
       "output_type": "stream",
       "stream": "stdout",
       "text": [
        "A logarithmic grid between 10**1 and 10**3 with 4 elements:\n",
        "[   10.            46.41588834   215.443469    1000.        ]\n"
       ]
      }
     ],
     "prompt_number": 16
    },
    {
     "cell_type": "code",
     "collapsed": false,
     "input": [
      "print np.random.randn(5)\n",
      "\"\"\"This piece of code produces an array of 5 samples taken from a standard normal distribution.\n",
      "The mean is 0, and the variance is 1 since we did input their parameters\"\"\""
     ],
     "language": "python",
     "metadata": {},
     "outputs": [
      {
       "output_type": "stream",
       "stream": "stdout",
       "text": [
        "[-0.93626261  0.36266274 -0.584075    2.14367644 -0.63688485]\n"
       ]
      },
      {
       "metadata": {},
       "output_type": "pyout",
       "prompt_number": 21,
       "text": [
        "'This piece of code produces an array odf 5 samples taken from a standard normal distribution.\\nThe mean is 0, and the variance is 1 since we did input their parameters'"
       ]
      }
     ],
     "prompt_number": 21
    },
    {
     "cell_type": "code",
     "collapsed": false,
     "input": [
      "norm10 = np.random.normal(10,3,5)\n",
      "print norm10\n",
      "\"\"\"This gives us 5 samples, but from normal distribution with a MEAN of 10 and a VARIANCE of 3\"\"\""
     ],
     "language": "python",
     "metadata": {},
     "outputs": [
      {
       "output_type": "stream",
       "stream": "stdout",
       "text": [
        "[  5.067        7.94911548   9.29370637  14.05332346  12.53258388]\n"
       ]
      },
      {
       "metadata": {},
       "output_type": "pyout",
       "prompt_number": 20,
       "text": [
        "'This gives us 5 samples, but from normal distribution with a MEAN of 10 and a VARIANCE of 3'"
       ]
      }
     ],
     "prompt_number": 20
    },
    {
     "cell_type": "heading",
     "level": 1,
     "metadata": {},
     "source": [
      "4. MULTIDIMENSIONAL ARRAYS"
     ]
    },
    {
     "cell_type": "code",
     "collapsed": false,
     "input": [
      "lst2 = [[1,2], [3,4]]\n",
      "arr2 = np.array([[1,2], [3,4]])\n",
      "print arr2"
     ],
     "language": "python",
     "metadata": {},
     "outputs": [
      {
       "output_type": "stream",
       "stream": "stdout",
       "text": [
        "[[1 2]\n",
        " [3 4]]\n"
       ]
      }
     ],
     "prompt_number": 24
    },
    {
     "cell_type": "code",
     "collapsed": false,
     "input": [
      "print lst2[0][1]\n",
      "print arr2[0,1]\n",
      "\"\"\"Arrays use different syntax then lists when it comes to accessesing these multidimensional lists\"\"\""
     ],
     "language": "python",
     "metadata": {},
     "outputs": [
      {
       "output_type": "stream",
       "stream": "stdout",
       "text": [
        "2\n",
        "2\n"
       ]
      },
      {
       "metadata": {},
       "output_type": "pyout",
       "prompt_number": 25,
       "text": [
        "'Arrays use different syntax then lists when it comes to accessesing these multidimensional lists'"
       ]
      }
     ],
     "prompt_number": 25
    },
    {
     "cell_type": "code",
     "collapsed": false,
     "input": [
      "print np.zeros((2,3))\n",
      "\"\"\"Creates an array of 2 rows and 3 columns\"\"\""
     ],
     "language": "python",
     "metadata": {},
     "outputs": [
      {
       "output_type": "stream",
       "stream": "stdout",
       "text": [
        "[[ 0.  0.  0.]\n",
        " [ 0.  0.  0.]]\n"
       ]
      }
     ],
     "prompt_number": 26
    },
    {
     "cell_type": "code",
     "collapsed": false,
     "input": [
      "arr = np.arange(8).reshape(2,4)\n",
      "print arr\n",
      "\"\"\"The .reshape() attribute allows us to define the dimensions of the array that we want to create\"\"\""
     ],
     "language": "python",
     "metadata": {},
     "outputs": [
      {
       "output_type": "stream",
       "stream": "stdout",
       "text": [
        "[[0 1 2 3]\n",
        " [4 5 6 7]]\n"
       ]
      },
      {
       "metadata": {},
       "output_type": "pyout",
       "prompt_number": 29,
       "text": [
        "'The .reshape() attribute allows us to define the dimensions of the array that we want to create'"
       ]
      }
     ],
     "prompt_number": 29
    },
    {
     "cell_type": "code",
     "collapsed": false,
     "input": [
      "arr = np.arange(8)\n",
      "arr2 = arr.reshape(2,4)\n",
      "\n",
      "arr[0] = 1000\n",
      "print arr\n",
      "print arr2"
     ],
     "language": "python",
     "metadata": {},
     "outputs": [
      {
       "output_type": "stream",
       "stream": "stdout",
       "text": [
        "[1000    1    2    3    4    5    6    7]\n",
        "[[1000    1    2    3]\n",
        " [   4    5    6    7]]\n"
       ]
      }
     ],
     "prompt_number": 30
    },
    {
     "cell_type": "code",
     "collapsed": false,
     "input": [
      "print 'Slicing in the second row:', arr2[1, 2:4]\n",
      "print 'All rows, third column:', arr2[:,2]"
     ],
     "language": "python",
     "metadata": {},
     "outputs": [
      {
       "output_type": "stream",
       "stream": "stdout",
       "text": [
        "Slicing in the second row: [6 7]\n",
        "All rows, third column: [2 6]\n"
       ]
      }
     ],
     "prompt_number": 34
    },
    {
     "cell_type": "code",
     "collapsed": false,
     "input": [
      "print 'First row: ', arr2[0]\n",
      "print 'Second row: ', arr2[1]\n"
     ],
     "language": "python",
     "metadata": {},
     "outputs": [
      {
       "output_type": "stream",
       "stream": "stdout",
       "text": [
        "First row:  [1000    1    2    3]\n",
        "Second row:  [4 5 6 7]\n"
       ]
      }
     ],
     "prompt_number": 32
    },
    {
     "cell_type": "code",
     "collapsed": false,
     "input": [
      "\"\"\"Properties of the array arr2\"\"\"\n",
      "\n",
      "print 'Data type:', arr2.dtype\n",
      "print 'Total number of elements:', arr2.size\n",
      "print 'Number of dimensions:', arr2.ndim\n",
      "print 'Shape (dimensionality):', arr2.shape\n",
      "print 'Memory use (in bytes):', arr2.nbytes"
     ],
     "language": "python",
     "metadata": {},
     "outputs": [
      {
       "output_type": "stream",
       "stream": "stdout",
       "text": [
        "Data type: int64\n",
        "Total number of elements: 8\n",
        "Number of dimensions: 2\n",
        "Shape (dimensionality): (2, 4)\n",
        "Memory use (in bytes): 64\n"
       ]
      }
     ],
     "prompt_number": 35
    },
    {
     "cell_type": "code",
     "collapsed": false,
     "input": [
      "\"\"\"Print some useful information that the arrays can calculate for us\"\"\"\n",
      "\n",
      "print \"Minimum and maximum:\", arr2.min(), arr2.max()\n",
      "print \"Sum and product of all elements:\", arr2.sum(), arr2.prod()\n",
      "print \"Mean and standard deviation:\", arr2.mean(), arr2.std()"
     ],
     "language": "python",
     "metadata": {},
     "outputs": [
      {
       "output_type": "stream",
       "stream": "stdout",
       "text": [
        "Minimum and maximum: 1 1000\n",
        "Sum and product of all elements: 1028 5040000\n",
        "Mean and standard deviation: 128.5 329.401350938\n"
       ]
      }
     ],
     "prompt_number": 36
    },
    {
     "cell_type": "code",
     "collapsed": false,
     "input": [
      "print \"The sum of elements along the row is: \", arr2.sum(axis=1)\n",
      "print \"The sum of elements along the column is:\", arr2.sum(axis=0)"
     ],
     "language": "python",
     "metadata": {},
     "outputs": [
      {
       "output_type": "stream",
       "stream": "stdout",
       "text": [
        "The sum of elements along the row is:  [1006   22]\n",
        "The sum of elements along the column is: [1004    6    8   10]\n"
       ]
      }
     ],
     "prompt_number": 38
    },
    {
     "cell_type": "code",
     "collapsed": false,
     "input": [
      "print 'Array:\\n', arr2\n",
      "print 'Transpose:\\n', arr2.T"
     ],
     "language": "python",
     "metadata": {},
     "outputs": [
      {
       "output_type": "stream",
       "stream": "stdout",
       "text": [
        "Array:\n",
        "[[1000    1    2    3]\n",
        " [   4    5    6    7]]\n",
        "Transpose:\n",
        "[[1000    4]\n",
        " [   1    5]\n",
        " [   2    6]\n",
        " [   3    7]]\n"
       ]
      }
     ],
     "prompt_number": 39
    },
    {
     "cell_type": "code",
     "collapsed": false,
     "input": [
      "c = np.eye(3)\n",
      "print c\n",
      "\"\"\"This creates an identity matrix (The equivalent of a 1 in matrix world)\"\"\""
     ],
     "language": "python",
     "metadata": {},
     "outputs": [
      {
       "output_type": "stream",
       "stream": "stdout",
       "text": [
        "[[ 1.  0.  0.]\n",
        " [ 0.  1.  0.]\n",
        " [ 0.  0.  1.]]\n"
       ]
      }
     ],
     "prompt_number": 41
    },
    {
     "cell_type": "code",
     "collapsed": false,
     "input": [
      "d = np.diag(np.array([1,2,3,4]))\n",
      "print d \n",
      "\"\"\"Creates a diagonal matrix with the numbers you input as the diagonal\"\"\""
     ],
     "language": "python",
     "metadata": {},
     "outputs": [
      {
       "output_type": "stream",
       "stream": "stdout",
       "text": [
        "[[1 0 0 0]\n",
        " [0 2 0 0]\n",
        " [0 0 3 0]\n",
        " [0 0 0 4]]\n"
       ]
      },
      {
       "metadata": {},
       "output_type": "pyout",
       "prompt_number": 43,
       "text": [
        "'Creates a diagonal matrix with the numbers you input as the diagonal'"
       ]
      }
     ],
     "prompt_number": 43
    },
    {
     "cell_type": "code",
     "collapsed": false,
     "input": [
      "e = np.diag(np.linspace(0,1,6))\n",
      "print e "
     ],
     "language": "python",
     "metadata": {},
     "outputs": [
      {
       "output_type": "stream",
       "stream": "stdout",
       "text": [
        "[[ 0.   0.   0.   0.   0.   0. ]\n",
        " [ 0.   0.2  0.   0.   0.   0. ]\n",
        " [ 0.   0.   0.4  0.   0.   0. ]\n",
        " [ 0.   0.   0.   0.6  0.   0. ]\n",
        " [ 0.   0.   0.   0.   0.8  0. ]\n",
        " [ 0.   0.   0.   0.   0.   1. ]]\n"
       ]
      }
     ],
     "prompt_number": 44
    },
    {
     "cell_type": "code",
     "collapsed": false,
     "input": [
      "print e[1,1]\n",
      "print e[2,2]\n",
      "\"\"\"Ways to access a 2 dimensional array\"\"\""
     ],
     "language": "python",
     "metadata": {},
     "outputs": [
      {
       "output_type": "stream",
       "stream": "stdout",
       "text": [
        "0.2\n",
        "0.4\n"
       ]
      }
     ],
     "prompt_number": 45
    },
    {
     "cell_type": "heading",
     "level": 1,
     "metadata": {},
     "source": [
      "5. SLICING BASICS"
     ]
    },
    {
     "cell_type": "code",
     "collapsed": false,
     "input": [
      "a = np.arange(10)\n",
      "print a "
     ],
     "language": "python",
     "metadata": {},
     "outputs": [
      {
       "output_type": "stream",
       "stream": "stdout",
       "text": [
        "[0 1 2 3 4 5 6 7 8 9]\n"
       ]
      }
     ],
     "prompt_number": 46
    },
    {
     "cell_type": "code",
     "collapsed": false,
     "input": [
      "print a[:4]\n",
      "print a[2:4]\n",
      "print a[5:]\n",
      "print a[:]\n",
      "\"\"\"Array slicing works very similar to the way lists get sliced\"\"\""
     ],
     "language": "python",
     "metadata": {},
     "outputs": [
      {
       "output_type": "stream",
       "stream": "stdout",
       "text": [
        "[0 1 2 3]\n",
        "[2 3]\n",
        "[5 6 7 8 9]\n",
        "[0 1 2 3 4 5 6 7 8 9]\n"
       ]
      }
     ],
     "prompt_number": 47
    },
    {
     "cell_type": "code",
     "collapsed": false,
     "input": [
      "norm10 = np.random.normal(10, 3, 5)\n",
      "print norm10"
     ],
     "language": "python",
     "metadata": {},
     "outputs": [
      {
       "output_type": "stream",
       "stream": "stdout",
       "text": [
        "[  6.50412604  14.75893018   9.35543578  13.49428179  13.80242277]\n"
       ]
      }
     ],
     "prompt_number": 48
    },
    {
     "cell_type": "code",
     "collapsed": false,
     "input": [
      "mask = norm10 > 9\n",
      "\"\"\"We set a condition that lets us know what elements inside the array are above 10\"\"\"\n",
      "print norm10\n",
      "print mask"
     ],
     "language": "python",
     "metadata": {},
     "outputs": [
      {
       "output_type": "stream",
       "stream": "stdout",
       "text": [
        "[  6.50412604  14.75893018   9.35543578  13.49428179  13.80242277]\n",
        "[False  True  True  True  True]\n"
       ]
      }
     ],
     "prompt_number": 50
    },
    {
     "cell_type": "code",
     "collapsed": false,
     "input": [
      "print 'Values above 9:', norm10[mask]\n",
      "\n",
      "print 'Resetting all values above 9 to 0...'\n",
      "norm10[mask] = 0\n",
      "print norm10"
     ],
     "language": "python",
     "metadata": {},
     "outputs": [
      {
       "output_type": "stream",
       "stream": "stdout",
       "text": [
        "Values above 9: [ 14.75893018   9.35543578  13.49428179  13.80242277]\n",
        "Resetting all values above 9 to 0...\n",
        "[ 6.50412604  0.          0.          0.          0.        ]\n"
       ]
      }
     ],
     "prompt_number": 51
    },
    {
     "cell_type": "heading",
     "level": 1,
     "metadata": {},
     "source": [
      "6. OPERATIONS WITH ARRAYS"
     ]
    },
    {
     "cell_type": "code",
     "collapsed": false,
     "input": [
      "arr1 = np.arange(4)\n",
      "arr2 = np.arange(10,14)\n",
      "print arr1, '+', arr2, '=', arr1+arr2"
     ],
     "language": "python",
     "metadata": {},
     "outputs": [
      {
       "output_type": "stream",
       "stream": "stdout",
       "text": [
        "[0 1 2 3] + [10 11 12 13] = [10 12 14 16]\n"
       ]
      }
     ],
     "prompt_number": 53
    },
    {
     "cell_type": "code",
     "collapsed": false,
     "input": [
      "print arr1, '*', arr2, '=', arr1*arr2"
     ],
     "language": "python",
     "metadata": {},
     "outputs": [
      {
       "output_type": "stream",
       "stream": "stdout",
       "text": [
        "[0 1 2 3] * [10 11 12 13] = [ 0 11 24 39]\n"
       ]
      }
     ],
     "prompt_number": 54
    },
    {
     "cell_type": "code",
     "collapsed": false,
     "input": [
      "print 1.5*arr1"
     ],
     "language": "python",
     "metadata": {},
     "outputs": [
      {
       "output_type": "stream",
       "stream": "stdout",
       "text": [
        "[ 0.   1.5  3.   4.5]\n"
       ]
      }
     ],
     "prompt_number": 55
    },
    {
     "cell_type": "heading",
     "level": 1,
     "metadata": {},
     "source": [
      "7. BROADCASTING"
     ]
    },
    {
     "cell_type": "code",
     "collapsed": false,
     "input": [
      "print np.arange(3)\n",
      "print np.arange(3) + 5"
     ],
     "language": "python",
     "metadata": {},
     "outputs": [
      {
       "output_type": "stream",
       "stream": "stdout",
       "text": [
        "[0 1 2]\n",
        "[5 6 7]\n"
       ]
      }
     ],
     "prompt_number": 56
    },
    {
     "cell_type": "code",
     "collapsed": false,
     "input": [
      "\"\"\"We have the ability to add a 1D array to a 2D array\"\"\"\n",
      "\n",
      "print np.ones((3,3))\n",
      "print '+'\n",
      "print np.arange(3)\n",
      "print '='\n",
      "print np.ones((3,3)) + np.arange(3)"
     ],
     "language": "python",
     "metadata": {},
     "outputs": [
      {
       "output_type": "stream",
       "stream": "stdout",
       "text": [
        "[[ 1.  1.  1.]\n",
        " [ 1.  1.  1.]\n",
        " [ 1.  1.  1.]]\n",
        "+\n",
        "[0 1 2]\n",
        "=\n",
        "[[ 1.  2.  3.]\n",
        " [ 1.  2.  3.]\n",
        " [ 1.  2.  3.]]\n"
       ]
      }
     ],
     "prompt_number": 57
    },
    {
     "cell_type": "code",
     "collapsed": false,
     "input": [
      "c = np.arange(3).reshape((3,1)) + np.arange(3)\n",
      "print c"
     ],
     "language": "python",
     "metadata": {},
     "outputs": [
      {
       "output_type": "stream",
       "stream": "stdout",
       "text": [
        "[[0 1 2]\n",
        " [1 2 3]\n",
        " [2 3 4]]\n"
       ]
      }
     ],
     "prompt_number": 59
    },
    {
     "cell_type": "heading",
     "level": 1,
     "metadata": {},
     "source": [
      "8. UNIVERSAL FUNCTIONS OR UFUNCS"
     ]
    },
    {
     "cell_type": "code",
     "collapsed": false,
     "input": [
      "x = np.linspace(0, 2*np.pi,100)\n",
      "y = np.sin(x)\n",
      "\n",
      "print x \n",
      "print y"
     ],
     "language": "python",
     "metadata": {},
     "outputs": [
      {
       "output_type": "stream",
       "stream": "stdout",
       "text": [
        "[ 0.          0.06346652  0.12693304  0.19039955  0.25386607  0.31733259\n",
        "  0.38079911  0.44426563  0.50773215  0.57119866  0.63466518  0.6981317\n",
        "  0.76159822  0.82506474  0.88853126  0.95199777  1.01546429  1.07893081\n",
        "  1.14239733  1.20586385  1.26933037  1.33279688  1.3962634   1.45972992\n",
        "  1.52319644  1.58666296  1.65012947  1.71359599  1.77706251  1.84052903\n",
        "  1.90399555  1.96746207  2.03092858  2.0943951   2.15786162  2.22132814\n",
        "  2.28479466  2.34826118  2.41172769  2.47519421  2.53866073  2.60212725\n",
        "  2.66559377  2.72906028  2.7925268   2.85599332  2.91945984  2.98292636\n",
        "  3.04639288  3.10985939  3.17332591  3.23679243  3.30025895  3.36372547\n",
        "  3.42719199  3.4906585   3.55412502  3.61759154  3.68105806  3.74452458\n",
        "  3.8079911   3.87145761  3.93492413  3.99839065  4.06185717  4.12532369\n",
        "  4.1887902   4.25225672  4.31572324  4.37918976  4.44265628  4.5061228\n",
        "  4.56958931  4.63305583  4.69652235  4.75998887  4.82345539  4.88692191\n",
        "  4.95038842  5.01385494  5.07732146  5.14078798  5.2042545   5.26772102\n",
        "  5.33118753  5.39465405  5.45812057  5.52158709  5.58505361  5.64852012\n",
        "  5.71198664  5.77545316  5.83891968  5.9023862   5.96585272  6.02931923\n",
        "  6.09278575  6.15625227  6.21971879  6.28318531]\n",
        "[  0.00000000e+00   6.34239197e-02   1.26592454e-01   1.89251244e-01\n",
        "   2.51147987e-01   3.12033446e-01   3.71662456e-01   4.29794912e-01\n",
        "   4.86196736e-01   5.40640817e-01   5.92907929e-01   6.42787610e-01\n",
        "   6.90079011e-01   7.34591709e-01   7.76146464e-01   8.14575952e-01\n",
        "   8.49725430e-01   8.81453363e-01   9.09631995e-01   9.34147860e-01\n",
        "   9.54902241e-01   9.71811568e-01   9.84807753e-01   9.93838464e-01\n",
        "   9.98867339e-01   9.99874128e-01   9.96854776e-01   9.89821442e-01\n",
        "   9.78802446e-01   9.63842159e-01   9.45000819e-01   9.22354294e-01\n",
        "   8.95993774e-01   8.66025404e-01   8.32569855e-01   7.95761841e-01\n",
        "   7.55749574e-01   7.12694171e-01   6.66769001e-01   6.18158986e-01\n",
        "   5.67059864e-01   5.13677392e-01   4.58226522e-01   4.00930535e-01\n",
        "   3.42020143e-01   2.81732557e-01   2.20310533e-01   1.58001396e-01\n",
        "   9.50560433e-02   3.17279335e-02  -3.17279335e-02  -9.50560433e-02\n",
        "  -1.58001396e-01  -2.20310533e-01  -2.81732557e-01  -3.42020143e-01\n",
        "  -4.00930535e-01  -4.58226522e-01  -5.13677392e-01  -5.67059864e-01\n",
        "  -6.18158986e-01  -6.66769001e-01  -7.12694171e-01  -7.55749574e-01\n",
        "  -7.95761841e-01  -8.32569855e-01  -8.66025404e-01  -8.95993774e-01\n",
        "  -9.22354294e-01  -9.45000819e-01  -9.63842159e-01  -9.78802446e-01\n",
        "  -9.89821442e-01  -9.96854776e-01  -9.99874128e-01  -9.98867339e-01\n",
        "  -9.93838464e-01  -9.84807753e-01  -9.71811568e-01  -9.54902241e-01\n",
        "  -9.34147860e-01  -9.09631995e-01  -8.81453363e-01  -8.49725430e-01\n",
        "  -8.14575952e-01  -7.76146464e-01  -7.34591709e-01  -6.90079011e-01\n",
        "  -6.42787610e-01  -5.92907929e-01  -5.40640817e-01  -4.86196736e-01\n",
        "  -4.29794912e-01  -3.71662456e-01  -3.12033446e-01  -2.51147987e-01\n",
        "  -1.89251244e-01  -1.26592454e-01  -6.34239197e-02  -2.44929360e-16]\n"
       ]
      }
     ],
     "prompt_number": 60
    },
    {
     "cell_type": "code",
     "collapsed": false,
     "input": [
      "x = np.random.random(4)\n",
      "print x\n",
      "print x + 1"
     ],
     "language": "python",
     "metadata": {},
     "outputs": [
      {
       "output_type": "stream",
       "stream": "stdout",
       "text": [
        "[ 0.74876738  0.66864755  0.50786833  0.10934168]\n",
        "[ 1.74876738  1.66864755  1.50786833  1.10934168]\n"
       ]
      }
     ],
     "prompt_number": 61
    },
    {
     "cell_type": "code",
     "collapsed": false,
     "input": [
      "print x * 2\n",
      "print x * x\n",
      "print x[1:] - x[:-1]"
     ],
     "language": "python",
     "metadata": {},
     "outputs": [
      {
       "output_type": "stream",
       "stream": "stdout",
       "text": [
        "[ 1.49753476  1.3372951   1.01573667  0.21868335]\n",
        "[ 0.56065259  0.44708954  0.25793025  0.0119556 ]\n",
        "[-0.08011983 -0.16077921 -0.39852666]\n"
       ]
      }
     ],
     "prompt_number": 62
    },
    {
     "cell_type": "code",
     "collapsed": false,
     "input": [
      "print -x\n",
      "print np.sin(x)"
     ],
     "language": "python",
     "metadata": {},
     "outputs": [
      {
       "output_type": "stream",
       "stream": "stdout",
       "text": [
        "[-0.74876738 -0.66864755 -0.50786833 -0.10934168]\n",
        "[ 0.68073635  0.61992534  0.48631574  0.10912393]\n"
       ]
      }
     ],
     "prompt_number": 63
    },
    {
     "cell_type": "code",
     "collapsed": false,
     "input": [
      "%%timeit\n",
      "\n",
      "y = np.zeros_like(x)\n",
      "y = x +1 \n"
     ],
     "language": "python",
     "metadata": {},
     "outputs": [
      {
       "output_type": "stream",
       "stream": "stdout",
       "text": [
        "100000 loops, best of 3: 8.55 \u00b5s per loop\n"
       ]
      }
     ],
     "prompt_number": 69
    },
    {
     "cell_type": "code",
     "collapsed": false,
     "input": [
      "%%timeit\n",
      "\n",
      "y = np.zeros_like(x)\n",
      "for i in range(len(x)):\n",
      "    y[i] = x[i] + 1"
     ],
     "language": "python",
     "metadata": {},
     "outputs": [
      {
       "output_type": "stream",
       "stream": "stdout",
       "text": [
        "100000 loops, best of 3: 11.4 \u00b5s per loop\n"
       ]
      }
     ],
     "prompt_number": 68
    },
    {
     "cell_type": "code",
     "collapsed": false,
     "input": [
      "x = np.random.random(5)\n",
      "print x\n",
      "print np.minimum(x, 0.5)\n",
      "print np.maximum(x, 0.5)\n",
      "\n",
      "print np.min(x)\n",
      "print np.max(x)"
     ],
     "language": "python",
     "metadata": {},
     "outputs": [
      {
       "output_type": "stream",
       "stream": "stdout",
       "text": [
        "[ 0.60293752  0.80662658  0.6242676   0.41485851  0.05176882]\n",
        "[ 0.5         0.5         0.5         0.41485851  0.05176882]\n",
        "[ 0.60293752  0.80662658  0.6242676   0.5         0.5       ]\n",
        "0.0517688183913\n",
        "0.806626581176\n"
       ]
      }
     ],
     "prompt_number": 70
    },
    {
     "cell_type": "heading",
     "level": 1,
     "metadata": {},
     "source": [
      "9. LINEAR ALGEBRA WITH NumPy"
     ]
    },
    {
     "cell_type": "code",
     "collapsed": false,
     "input": [
      "v1 = np.array([2,3,4])\n",
      "v2 = np.array([1,0,-1])\n",
      "\n",
      "print v1, '.', v2, '=', np.dot(v1,v2)"
     ],
     "language": "python",
     "metadata": {},
     "outputs": [
      {
       "output_type": "stream",
       "stream": "stdout",
       "text": [
        "[2 3 4] . [ 1  0 -1] = -2\n"
       ]
      }
     ],
     "prompt_number": 71
    },
    {
     "cell_type": "code",
     "collapsed": false,
     "input": [
      "A = np.arange(6).reshape(2,3)\n",
      "print A, 'x', v1, '=', np.dot(A,v1)\n",
      "\"\"\"The .dot() attribute also works for matrix multiplication, as well as vector multiplication\"\"\""
     ],
     "language": "python",
     "metadata": {},
     "outputs": [
      {
       "output_type": "stream",
       "stream": "stdout",
       "text": [
        "[[0 1 2]\n",
        " [3 4 5]] x [2 3 4] = [11 38]\n"
       ]
      },
      {
       "metadata": {},
       "output_type": "pyout",
       "prompt_number": 72,
       "text": [
        "'The .dot() attribute also works for matrix multiplication, as well as vector multiplication'"
       ]
      }
     ],
     "prompt_number": 72
    },
    {
     "cell_type": "code",
     "collapsed": false,
     "input": [
      "print np.dot(A,A.T)"
     ],
     "language": "python",
     "metadata": {},
     "outputs": [
      {
       "output_type": "stream",
       "stream": "stdout",
       "text": [
        "[[ 5 14]\n",
        " [14 50]]\n"
       ]
      }
     ],
     "prompt_number": 73
    },
    {
     "cell_type": "code",
     "collapsed": false,
     "input": [
      "print np.dot(A.T, A)"
     ],
     "language": "python",
     "metadata": {},
     "outputs": [
      {
       "output_type": "stream",
       "stream": "stdout",
       "text": [
        "[[ 9 12 15]\n",
        " [12 17 22]\n",
        " [15 22 29]]\n"
       ]
      }
     ],
     "prompt_number": 74
    },
    {
     "cell_type": "heading",
     "level": 1,
     "metadata": {},
     "source": [
      "10. NumPy Aggregates"
     ]
    },
    {
     "cell_type": "heading",
     "level": 4,
     "metadata": {},
     "source": [
      "Aggregates are functions over arrays which return smaller arrays. NumPy has several buily in:"
     ]
    },
    {
     "cell_type": "code",
     "collapsed": false,
     "input": [
      "x = np.random.randn(10,10)\n",
      "print x\n",
      "\"\"\"10 x 10 array\"\"\""
     ],
     "language": "python",
     "metadata": {},
     "outputs": [
      {
       "output_type": "stream",
       "stream": "stdout",
       "text": [
        "[[-0.1562293  -0.18503736  3.17430228 -0.29587478  1.62131635  0.14780593\n",
        "   0.09499306  0.46018441  0.66906491  1.53426111]\n",
        " [ 0.60549306 -0.03237783  0.0742004   0.04243125 -0.7643302  -0.13512772\n",
        "   1.78594309 -1.35307612  0.52404869  2.48402727]\n",
        " [ 0.70179615  1.64361865 -0.00367002 -0.44952064  0.74299135  0.23490335\n",
        "   1.31367035 -0.26635761 -0.23033726 -0.32462231]\n",
        " [ 1.82644717  0.9993436   0.81127434 -0.3945796  -0.46718359 -0.07695165\n",
        "  -0.23206295  0.81298367  0.8671027  -1.50805251]\n",
        " [ 1.46321574  0.93547766  0.34190855  2.12461094  0.35580135 -1.86519605\n",
        "   0.37405371  0.42451898  1.57605679 -1.16087055]\n",
        " [-1.11088169  0.61566074  1.21986692 -0.96790823 -1.12964126  0.13909081\n",
        "  -0.30634494  1.91908246 -0.6488683   2.02010083]\n",
        " [-0.44855775  0.27141051 -0.96783142 -0.07675068 -0.85133094  1.6756229\n",
        "   0.41688641 -0.67162634  0.97838146  1.09033164]\n",
        " [-0.42286626  0.31861095 -0.11066488 -0.10643181  0.07248562  0.55079481\n",
        "  -1.95227389  1.05290065 -1.39278047 -0.83153005]\n",
        " [-2.13207988 -0.17422245  0.38444524 -0.6192743   1.29236071  0.41169223\n",
        "  -1.09624551 -1.30543088  1.13856048 -0.94388904]\n",
        " [-1.46096745  0.90175337 -1.87031107 -0.02401253  1.11253906  0.52186877\n",
        "   1.04888907 -0.83464998  0.1724486  -0.68030313]]\n"
       ]
      }
     ],
     "prompt_number": 75
    },
    {
     "cell_type": "code",
     "collapsed": false,
     "input": [
      "\"\"\"Mean of the values\"\"\"\n",
      "print x.mean()\n",
      "\n",
      "\"\"\"Standard deviation\"\"\"\n",
      "print x.std()\n",
      "\n",
      "\"\"\"Variance\"\"\"\n",
      "print x.var()\n",
      "\n",
      "\"\"\"Sum of all elements\"\"\"\n",
      "print x.sum()\n",
      "\n",
      "\"\"\"Multiply all elements\"\"\"\n",
      "print x.prod()\n",
      "\n",
      "\"\"\"Median\"\"\"\n",
      "print np.median(x)"
     ],
     "language": "python",
     "metadata": {},
     "outputs": [
      {
       "output_type": "stream",
       "stream": "stdout",
       "text": [
        "0.170544979204\n",
        "1.03676599971\n",
        "1.07488373815\n",
        "17.0544979204\n",
        "7.33270365567e-28\n",
        "0.117041934677\n"
       ]
      }
     ],
     "prompt_number": 76
    },
    {
     "cell_type": "code",
     "collapsed": false,
     "input": [
      "\"\"\"You can also take aggregates along certain axes:\"\"\"\n",
      "\n",
      "x = np.random.rand(3,5)\n",
      "print x\n",
      "\n",
      "print x.sum(0) #sum along columns\n",
      "\n",
      "print x.sum(1) #sum along rows\n",
      "\n",
      "print np.mean(x,1) #mean along rows"
     ],
     "language": "python",
     "metadata": {},
     "outputs": [
      {
       "output_type": "stream",
       "stream": "stdout",
       "text": [
        "[[  2.20707194e-01   1.14270034e-01   6.12949354e-01   9.37991248e-01\n",
        "    1.29276478e-01]\n",
        " [  5.41358176e-01   6.86905927e-01   2.81331793e-01   3.59111040e-01\n",
        "    1.12208282e-01]\n",
        " [  8.83963413e-04   9.50379149e-01   1.51210617e-01   5.63225018e-01\n",
        "    7.24207851e-01]]\n",
        "[ 0.76294933  1.75155511  1.04549176  1.86032731  0.96569261]\n",
        "[ 2.01519431  1.98091522  2.3899066 ]\n",
        "[ 0.40303886  0.39618304  0.47798132]\n"
       ]
      }
     ],
     "prompt_number": 77
    },
    {
     "cell_type": "heading",
     "level": 1,
     "metadata": {},
     "source": [
      "11. MORE SLICING AND HEADING"
     ]
    },
    {
     "cell_type": "code",
     "collapsed": false,
     "input": [
      "x = np.array([1,2,3,-999,2,4,-999])"
     ],
     "language": "python",
     "metadata": {},
     "outputs": [],
     "prompt_number": 79
    },
    {
     "cell_type": "code",
     "collapsed": false,
     "input": [
      "\"\"\"How do we clean this array by setting all negative values to 0? This is how!\"\"\"\n",
      "\n",
      "for i in range(len(x)):\n",
      "    if x[i] < 0:\n",
      "        x[i] = 0\n",
      "print x"
     ],
     "language": "python",
     "metadata": {},
     "outputs": [
      {
       "output_type": "stream",
       "stream": "stdout",
       "text": [
        "[1 2 3 0 2 4 0]\n"
       ]
      }
     ],
     "prompt_number": 80
    },
    {
     "cell_type": "code",
     "collapsed": false,
     "input": [
      "\"\"\"This is a much faster way\"\"\"\n",
      "x = np.array([1,2,3,-999,2,4,-999])\n",
      "\n",
      "mask = (x<0)\n",
      "print mask\n",
      "\"\"\"We construct an array of boolean data types to see which elements are less than 0\"\"\""
     ],
     "language": "python",
     "metadata": {},
     "outputs": [
      {
       "output_type": "stream",
       "stream": "stdout",
       "text": [
        "[False False False  True False False  True]\n"
       ]
      }
     ],
     "prompt_number": 81
    },
    {
     "cell_type": "code",
     "collapsed": false,
     "input": [
      "x[mask] = 0\n",
      "print x\n",
      "\"\"\"All indices where the array was true in the boolean array, are indices whose element is set to 0\n",
      "in the other array\"\"\""
     ],
     "language": "python",
     "metadata": {},
     "outputs": [
      {
       "output_type": "stream",
       "stream": "stdout",
       "text": [
        "[1 2 3 0 2 4 0]\n"
       ]
      }
     ],
     "prompt_number": 82
    },
    {
     "cell_type": "code",
     "collapsed": false,
     "input": [
      "\"\"\"The fastest/ most direct way\"\"\"\n",
      "x = np.array([1,2,3,-999,2,4,-999])\n",
      "x[x<0] = 0\n",
      "print x"
     ],
     "language": "python",
     "metadata": {},
     "outputs": [
      {
       "output_type": "stream",
       "stream": "stdout",
       "text": [
        "[1 2 3 0 2 4 0]\n"
       ]
      }
     ],
     "prompt_number": 83
    },
    {
     "cell_type": "heading",
     "level": 3,
     "metadata": {},
     "source": [
      "USEFUL MASKING FUNCTIONS"
     ]
    },
    {
     "cell_type": "code",
     "collapsed": false,
     "input": [
      "x = np.random.random(5)\n",
      "print x"
     ],
     "language": "python",
     "metadata": {},
     "outputs": [
      {
       "output_type": "stream",
       "stream": "stdout",
       "text": [
        "[ 0.93413858  0.74199549  0.83116928  0.72910815  0.56333955]\n"
       ]
      }
     ],
     "prompt_number": 84
    },
    {
     "cell_type": "code",
     "collapsed": false,
     "input": [
      "x[x > .5] = np.nan\n",
      "print x"
     ],
     "language": "python",
     "metadata": {},
     "outputs": [
      {
       "output_type": "stream",
       "stream": "stdout",
       "text": [
        "[ nan  nan  nan  nan  nan]\n"
       ]
      }
     ],
     "prompt_number": 85
    },
    {
     "cell_type": "code",
     "collapsed": false,
     "input": [
      "x[np.isnan(x)] = np.inf\n",
      "print x"
     ],
     "language": "python",
     "metadata": {},
     "outputs": [
      {
       "output_type": "stream",
       "stream": "stdout",
       "text": [
        "[ inf  inf  inf  inf  inf]\n"
       ]
      }
     ],
     "prompt_number": 86
    },
    {
     "cell_type": "code",
     "collapsed": false,
     "input": [
      "np.nan == np.nan"
     ],
     "language": "python",
     "metadata": {},
     "outputs": [
      {
       "metadata": {},
       "output_type": "pyout",
       "prompt_number": 87,
       "text": [
        "False"
       ]
      }
     ],
     "prompt_number": 87
    },
    {
     "cell_type": "code",
     "collapsed": false,
     "input": [
      "x[np.isinf(x)] = 0\n",
      "print x"
     ],
     "language": "python",
     "metadata": {},
     "outputs": [
      {
       "output_type": "stream",
       "stream": "stdout",
       "text": [
        "[ 0.  0.  0.  0.  0.]\n"
       ]
      }
     ],
     "prompt_number": 88
    },
    {
     "cell_type": "code",
     "collapsed": false,
     "input": [
      "x = np.array([1, 0, -np.inf, np.inf, np.nan])\n",
      "\n",
      "print \"input \", x\n",
      "print \"x < 0 \", (x < 0)\n",
      "print \"x > 0 \", (x > 0)\n",
      "print \"isinf \", np.isinf(x)\n",
      "print \"isnan \", np.isnan(x)\n",
      "print \"isposinf\", np.isposinf(x)\n",
      "print \"isneginf\", np.isneginf(x)"
     ],
     "language": "python",
     "metadata": {},
     "outputs": [
      {
       "output_type": "stream",
       "stream": "stdout",
       "text": [
        "input  [  1.   0. -inf  inf  nan]\n",
        "x < 0  [False False  True False False]\n",
        "x > 0  [ True False False  True False]\n",
        "isinf  [False False  True  True False]\n",
        "isnan  [False False False False  True]\n",
        "isposinf [False False False  True False]\n",
        "isneginf [False False  True False False]\n"
       ]
      },
      {
       "output_type": "stream",
       "stream": "stderr",
       "text": [
        "-c:4: RuntimeWarning: invalid value encountered in less\n",
        "-c:5: RuntimeWarning: invalid value encountered in greater\n"
       ]
      }
     ],
     "prompt_number": 89
    },
    {
     "cell_type": "code",
     "collapsed": false,
     "input": [],
     "language": "python",
     "metadata": {},
     "outputs": []
    }
   ],
   "metadata": {}
  }
 ]
}