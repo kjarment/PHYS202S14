{
 "metadata": {
  "name": "",
  "signature": "sha256:d3fe00d03cc51bac04bdf8afd5b694b83392ed77998758a0e79d8fbe050cd3dc"
 },
 "nbformat": 3,
 "nbformat_minor": 0,
 "worksheets": [
  {
   "cells": [
    {
     "cell_type": "markdown",
     "metadata": {},
     "source": [
      "(a) Write a function that can compute the weighted linear least squares (WLSQ) best fit line to a set of data. Here is the function template to use:\n",
      "\n",
      "def WeightedLLSqFit(x,y,w):\n",
      "    \"\"\"Take in arrays representing (x,y) values for a set of linearly varying data and an array of weights w.\n",
      "    Perform a weighted linear least squares regression.  Return the resulting slope and intercept\n",
      "    parameters of the best fit line with their uncertainties.\n",
      "\n",
      "    If the weights are all equal to one, the uncertainties on the parameters are calculated using the \n",
      "    non-weighted least squares equations.\"\"\"\n",
      "\n",
      "    #your code goes here...\n",
      "\n",
      "    return slope,slerr,intercept,interr\n",
      "Your function should test whether there are unequal weights on the data points and return the correctly calculated uncertainties for whichever case is requested.\n",
      "Use the features of numpy arrays rather than loops to take advantage of their superior computational speed.\n",
      " "
     ]
    },
    {
     "cell_type": "code",
     "collapsed": false,
     "input": [
      "%pylab inline\n",
      "import numpy as np\n",
      "import matplotlib.pyplot as plt"
     ],
     "language": "python",
     "metadata": {},
     "outputs": [
      {
       "output_type": "stream",
       "stream": "stdout",
       "text": [
        "Populating the interactive namespace from numpy and matplotlib\n"
       ]
      }
     ],
     "prompt_number": 1
    },
    {
     "cell_type": "code",
     "collapsed": false,
     "input": [
      "def WeightedLLSqFit(x,y,w):\n",
      "    \"\"\"Take in arrays representing (x,y) values for a set of \n",
      "    linearly varying data and an array of weights w.\n",
      "    Perform a weighted linear least squares regression.  \n",
      "    \n",
      "    Return the resulting slope and intercept\n",
      "    parameters of the best fit line with their uncertainties.\n",
      "\n",
      "    If the weights are all equal to one, the uncertainties on the parameters are calculated using the \n",
      "    non-weighted least squares equations.\"\"\"\n",
      "    \n",
      "    \n",
      "    \n",
      "    #Instantiating variables\n",
      "    xave = x.mean()\n",
      "    yave = y.mean()\n",
      "    xyave = (x*y).mean()\n",
      "    x2ave = (x*x).mean()\n",
      "    wave = w.sum()\n",
      "    wxyave = (w*x*y).sum()\n",
      "    wxave = (w*x).sum()\n",
      "    wyave = (w*y).sum()\n",
      "    wx2ave = (w*x*x).sum()\n",
      "    denom = x2ave - xave**2\n",
      "    denom1 =(wave*wx2ave) - wxave**2 \n",
      "    n = len(y)\n",
      "        \n",
      "    \n",
      "   \n",
      "        \n",
      "    if w.mean() == 1:\n",
      "        m = (xyave - xave*yave)/denom\n",
      "        b = (x2ave*yave - xave*xyave)/denom\n",
      "        delta = y- (m*x + b)\n",
      "        d2ave = (delta**2).mean()\n",
      "        merr = sqrt((n-2)**(-1)*d2ave/denom)\n",
      "        berr = sqrt((n-2)**(-1)*d2ave*x2ave/denom)\n",
      "    \n",
      "    else:\n",
      "        \n",
      "        m = (wave*wxyave - wxave*wyave)/denom1\n",
      "        b = (wx2ave*wyave - wxave*wxyave)/denom1\n",
      "        delta = y - (m*x + b)\n",
      "        d2ave = (delta**2).mean()\n",
      "        merr = sqrt(wave/denom1)\n",
      "        berr = sqrt(wx2ave/denom1)\n",
      "    \n",
      "    return m, merr, b, berr"
     ],
     "language": "python",
     "metadata": {},
     "outputs": [],
     "prompt_number": 2
    },
    {
     "cell_type": "code",
     "collapsed": false,
     "input": [
      "w = [1,1,1,1,1,1]\n",
      "print w.index(1, 0,len(w))"
     ],
     "language": "python",
     "metadata": {},
     "outputs": [
      {
       "output_type": "stream",
       "stream": "stdout",
       "text": [
        "0\n"
       ]
      }
     ],
     "prompt_number": 3
    },
    {
     "cell_type": "code",
     "collapsed": false,
     "input": [
      "for i,j in enumerate(w):\n",
      "    if j == 1:\n",
      "        print i"
     ],
     "language": "python",
     "metadata": {},
     "outputs": [
      {
       "output_type": "stream",
       "stream": "stdout",
       "text": [
        "0\n",
        "1\n",
        "2\n",
        "3\n",
        "4\n",
        "5\n"
       ]
      }
     ],
     "prompt_number": 4
    },
    {
     "cell_type": "code",
     "collapsed": false,
     "input": [
      "time = np.array([1.,2.,3.,4.,5.,6.,7.,8.,9.,10.])\n",
      "pos = np.array([7.75,7.33,6.89,6.45,5.69,5.55,5.10,4.49,3.93,3.58])\n",
      "sigp = np.array([0.02,0.03,0.03,0.04,0.05,0.06,0.08,0.11,0.14,0.17])\n",
      "m, merr, b, berr = WeightedLLSqFit(time, pos, sigp)\n",
      "\n",
      "\n",
      "print m\n",
      "print merr\n",
      "print b\n",
      "print berr"
     ],
     "language": "python",
     "metadata": {},
     "outputs": [
      {
       "output_type": "stream",
       "stream": "stdout",
       "text": [
        "-0.472705004083\n",
        "0.461386648159\n",
        "8.27677359151\n",
        "3.57225332498\n"
       ]
      }
     ],
     "prompt_number": 5
    },
    {
     "cell_type": "code",
     "collapsed": false,
     "input": [
      "!cat 'waveform_2.npy'"
     ],
     "language": "python",
     "metadata": {},
     "outputs": [
      {
       "output_type": "stream",
       "stream": "stdout",
       "text": [
        "cat: waveform_2.npy: No such file or directory\r\n"
       ]
      }
     ],
     "prompt_number": 10
    },
    {
     "cell_type": "code",
     "collapsed": false,
     "input": [],
     "language": "python",
     "metadata": {},
     "outputs": [],
     "prompt_number": 6
    }
   ],
   "metadata": {}
  }
 ]
}