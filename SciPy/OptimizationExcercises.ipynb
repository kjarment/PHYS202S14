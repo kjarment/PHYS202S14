{
 "metadata": {
  "name": "",
  "signature": "sha256:2a3824b8f97f4fd43dc1755bd222a0246eb47fcf39297702a8bbf404017b19e9"
 },
 "nbformat": 3,
 "nbformat_minor": 0,
 "worksheets": [
  {
   "cells": [
    {
     "cell_type": "markdown",
     "metadata": {},
     "source": [
      "(a) Write a function that can compute the weighted linear least squares (WLSQ) best fit line to a set of data. Here is the function template to use:\n",
      "\n",
      "def WeightedLLSqFit(x,y,w):\n",
      "    \"\"\"Take in arrays representing (x,y) values for a set of linearly varying data and an array of weights w.\n",
      "    Perform a weighted linear least squares regression.  Return the resulting slope and intercept\n",
      "    parameters of the best fit line with their uncertainties.\n",
      "\n",
      "    If the weights are all equal to one, the uncertainties on the parameters are calculated using the \n",
      "    non-weighted least squares equations.\"\"\"\n",
      "\n",
      "    #your code goes here...\n",
      "\n",
      "    return slope,slerr,intercept,interr\n",
      "Your function should test whether there are unequal weights on the data points and return the correctly calculated uncertainties for whichever case is requested.\n",
      "Use the features of numpy arrays rather than loops to take advantage of their superior computational speed.\n",
      " "
     ]
    },
    {
     "cell_type": "code",
     "collapsed": false,
     "input": [
      "%pylab inline\n",
      "import numpy as np\n",
      "import matplotlib.pyplot as plt"
     ],
     "language": "python",
     "metadata": {},
     "outputs": [
      {
       "output_type": "stream",
       "stream": "stdout",
       "text": [
        "Populating the interactive namespace from numpy and matplotlib\n"
       ]
      }
     ],
     "prompt_number": 1
    },
    {
     "cell_type": "code",
     "collapsed": false,
     "input": [
      "def WeightedLLSqFit(x,y,w):\n",
      "    \"\"\"Take in arrays representing (x,y) values for a set of \n",
      "    linearly varying data and an array of weights w.\n",
      "    Perform a weighted linear least squares regression.  \n",
      "    \n",
      "    Return the resulting slope and intercept\n",
      "    parameters of the best fit line with their uncertainties.\n",
      "\n",
      "    If the weights are all equal to one, the uncertainties on the parameters are calculated using the \n",
      "    non-weighted least squares equations.\"\"\"\n",
      "    \n",
      "    \n",
      "    \n",
      "    #Instantiating variables\n",
      "    xave = x.mean()\n",
      "    yave = y.mean()\n",
      "    xyave = (x*y).mean()\n",
      "    x2ave = (x*x).mean()\n",
      "    wave = w.mean()\n",
      "    wxyave = (w*x*y).mean()\n",
      "    wxave = (w*x).mean()\n",
      "    wyave = (w*y).mean()\n",
      "    wx2ave = (w*x*x).mean()\n",
      "    denom = x2ave - xave**2\n",
      "    denom1 =(wave*wx2ave) - wxave**2\n",
      "    n = len(y)\n",
      "    \n",
      "    \n",
      "   \n",
      "        \n",
      "    if w.mean() == 1:\n",
      "        m = (xyave - xave*yave)/denom\n",
      "        b = (x2ave*yave - xave*xyave)/denom\n",
      "        delta = y- (m*x + b)\n",
      "        d2ave = (delta**2).mean()\n",
      "        merr = sqrt((n-2)**(-1)*d2ave/denom)\n",
      "        berr = sqrt((n-2)**(-1)*d2ave*x2ave/denom)\n",
      "    \n",
      "    else:\n",
      "        \n",
      "        m = (wave*wxyave - wxave*wyave)/denom1\n",
      "        b = (wx2ave*wyave - wxave*wxyave)/denom1\n",
      "        delta = y - (m*x + b)\n",
      "        d2ave = (delta**2).mean()\n",
      "        merr = sqrt(wave/denom1)\n",
      "        berr = sqrt(wx2ave/denom1)\n",
      "    \n",
      "    return m, merr, b, berr"
     ],
     "language": "python",
     "metadata": {},
     "outputs": [],
     "prompt_number": 3
    },
    {
     "cell_type": "code",
     "collapsed": false,
     "input": [],
     "language": "python",
     "metadata": {},
     "outputs": []
    }
   ],
   "metadata": {}
  }
 ]
}