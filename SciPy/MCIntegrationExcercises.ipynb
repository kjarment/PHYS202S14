{
 "metadata": {
  "name": "",
  "signature": "sha256:2129f9f7d960f4725c08dec8b47c16c9181130ba008c768da66c321a4f69e68a"
 },
 "nbformat": 3,
 "nbformat_minor": 0,
 "worksheets": [
  {
   "cells": [
    {
     "cell_type": "heading",
     "level": 1,
     "metadata": {},
     "source": [
      "Monte Carlo Integration Excercises"
     ]
    },
    {
     "cell_type": "code",
     "collapsed": false,
     "input": [
      "%pylab inline\n",
      "import numpy as np\n",
      "import matplotlib.pyplot as plt"
     ],
     "language": "python",
     "metadata": {},
     "outputs": [
      {
       "output_type": "stream",
       "stream": "stdout",
       "text": [
        "Populating the interactive namespace from numpy and matplotlib\n"
       ]
      }
     ],
     "prompt_number": 1
    },
    {
     "cell_type": "markdown",
     "metadata": {},
     "source": [
      "(a) Use the sample mean method to compute the potential at point P(2,3) due to the disk of charge for different numbers of samples N=(101,102,103,104,105,106). Report the value and its statistical uncertainty for each sample size. How does the result depend on N?"
     ]
    },
    {
     "cell_type": "code",
     "collapsed": false,
     "input": [
      "from Electrostatics import *\n",
      "import Electrostatics as estat"
     ],
     "language": "python",
     "metadata": {},
     "outputs": [],
     "prompt_number": 2
    },
    {
     "cell_type": "code",
     "collapsed": false,
     "input": [
      "help(pointPotential)"
     ],
     "language": "python",
     "metadata": {},
     "outputs": [
      {
       "output_type": "stream",
       "stream": "stdout",
       "text": [
        "Help on function pointPotential in module Electrostatics:\n",
        "\n",
        "pointPotential(x, y, q, Xc, Yc)\n",
        "    Return the electric potential for a point charge q at(Xc,Yc)\n",
        "    \n",
        "    Units returned are [Volts] if input units are [meters] and [Coulombs]\n",
        "\n"
       ]
      }
     ],
     "prompt_number": 3
    },
    {
     "cell_type": "code",
     "collapsed": false,
     "input": [
      "def PotentialSq(N, x, y, xmin=-1., xmax=1., ymin=0., ymax=2.):\n",
      "    samples_x = xmin + (xmax-xmin)*np.random.random_sample(N)\n",
      "    samples_y = ymin + (ymax-ymin)*np.random.random_sample(N)\n",
      "    \n",
      "    #since the charge is so small, we just take the value of omega\n",
      "    Q = 1 * 1e-6\n",
      "    \n",
      "    PP = pointPotential(x,y,Q,samples_x,samples_y)\n",
      "    I = PP.mean()*(xmax-xmin)*(ymax-ymin)\n",
      "    Iunc = (ymax-ymin)*(xmax-xmin)*np.sqrt( ((PP**2).mean()- (PP.mean())**2)/N)\n",
      "    \n",
      "    return I, Iunc\n",
      "    \n",
      "    \n",
      "N = [10,100,1000,10000,100000,1000000]\n",
      "for i in N:\n",
      "    print PotentialSq(i,2,3)"
     ],
     "language": "python",
     "metadata": {},
     "outputs": [
      {
       "output_type": "stream",
       "stream": "stdout",
       "text": [
        "(12465.646918783033, 523.88654727648691)\n",
        "(13073.705045615055, 279.72466455308097)\n",
        "(12982.886125655818, 94.065833483643289)\n",
        "(13013.043613146099, 29.742605752116855)\n",
        "(13040.282772596978, 9.390141869633041)\n",
        "(13020.877209907618, 2.9689231213073155)"
       ]
      },
      {
       "output_type": "stream",
       "stream": "stdout",
       "text": [
        "\n"
       ]
      }
     ],
     "prompt_number": 4
    },
    {
     "cell_type": "markdown",
     "metadata": {},
     "source": [
      "(b) Now use the same method to compute the electric potential, V, at point P(2,3), from a disk centered on the origin with radius, R=1.2 cm, and charge density, \u03c3 = 2 nC/m2 ."
     ]
    },
    {
     "cell_type": "code",
     "collapsed": false,
     "input": [
      "def PotentialCirc(N,x,y):\n",
      "    thetaf = 2*np.pi\n",
      "    rf = 1.2 #meters\n",
      "    Q = 2 * 1e-9\n",
      "    ymax = rf*np.sin(thetaf)\n",
      "    xmax = rf*np.cos(thetaf)\n",
      "    \n",
      "    \n",
      "\n",
      "    xsamp = (xmax)*random.random_sample(N)\n",
      "    ysamp = (ymax)*random.random_sample(N)\n",
      "    PP = pointPotential(x,y,Q,xsamp,ysamp)\n",
      "        \n",
      "    I = PP.mean()*(xmax)*(ymax)\n",
      "    Iunc = (ymax)*(xmax)*np.sqrt( ((PP**2).mean() - (PP.mean())**2)/N)\n",
      "        \n",
      "    \n",
      "    return I, Iunc\n",
      "\n",
      "\n",
      "for i in N:\n",
      "    print PotentialCirc(i,2,3)"
     ],
     "language": "python",
     "metadata": {},
     "outputs": [
      {
       "output_type": "stream",
       "stream": "stdout",
       "text": [
        "(-1.8718565366326804e-15, -2.1107369908781017e-17)\n",
        "(-1.9116391961369255e-15, -7.9626991752594236e-18)\n",
        "(-1.9117094988401731e-15, -2.6380198640186628e-18)\n",
        "(-1.9102293063329028e-15, -8.2779562477716457e-19)\n",
        "(-1.9099976242335939e-15, -2.6332166276561119e-19)\n",
        "(-1.9101029050061388e-15, -8.3129454010536758e-20)"
       ]
      },
      {
       "output_type": "stream",
       "stream": "stdout",
       "text": [
        "\n"
       ]
      }
     ],
     "prompt_number": 5
    },
    {
     "cell_type": "markdown",
     "metadata": {},
     "source": [
      "\n",
      "Use the sample mean method to compute the volume of a sphere with radius 1 using spherical coordinates:\n",
      "V=\u222b10\u222b\u03c00\u222b2\u03c00r2sin(\u03b8)drd\u03b8d\u03d5\n",
      "for N=(101,102,103,104,105,106). Report the value and statistical uncertainty for each sample size. How does the result depend on N?"
     ]
    },
    {
     "cell_type": "code",
     "collapsed": false,
     "input": [
      "def Volume(N):\n",
      "    Volume = lambda r, theta, phi: (r**2)*sin(theta)*1\n",
      "    \n",
      "    rf = 1\n",
      "    thetaf = 2*np.pi\n",
      "    phif = np.pi \n",
      "    \n",
      "    rsamp = (rf)*random.random_sample(N)\n",
      "    thetasamp = (rf)*random.random_sample(N)\n",
      "    phisamp = (rf)*random.random_sample(N)\n",
      "    \n",
      "    Vsamp = Volume(rsamp,thetasamp,phisamp)\n",
      "    \n",
      "    I = Vsamp.mean()*(rf)*(thetaf)*(phif)\n",
      "    Iunc = (rf)*(thetaf)*(phif)*np.sqrt( ((Vsamp**2).mean() - (Vsamp.mean())**2)/N)\n",
      "    \n",
      "    return I, Iunc\n",
      "\n",
      "for i in N:\n",
      "    print Volume(i)"
     ],
     "language": "python",
     "metadata": {},
     "outputs": [
      {
       "output_type": "stream",
       "stream": "stdout",
       "text": [
        "(3.3352075749757653, 0.71325373638077216)\n",
        "(2.9021984502109701, 0.3826720300514499)\n",
        "(2.8873780292276616, 0.10445040584612912)\n",
        "(3.0867711850465205, 0.035394240974732046)\n",
        "(3.0286410690887378, 0.010987487609796346)\n",
        "(3.0232960350541647, 0.0034795770265100487)"
       ]
      },
      {
       "output_type": "stream",
       "stream": "stdout",
       "text": [
        "\n"
       ]
      }
     ],
     "prompt_number": 6
    },
    {
     "cell_type": "markdown",
     "metadata": {},
     "source": [
      "(a) Use the hit or miss Monte Carlo method to estimate the integral of f(x)=41\u2212x2\u203e\u203e\u203e\u203e\u203e\u203e\u203e\u221a in the interval 0\u2264x\u22641 as a function of N, the number of samples. Let N range from 101 to 106 and use at least 100 different values for N.\n",
      "(np.logspace might be useful here to get evenly spaced values for N.)"
     ]
    },
    {
     "cell_type": "code",
     "collapsed": false,
     "input": [
      "help(np.logspace)"
     ],
     "language": "python",
     "metadata": {},
     "outputs": [
      {
       "output_type": "stream",
       "stream": "stdout",
       "text": [
        "Help on function logspace in module numpy.core.function_base:\n",
        "\n",
        "logspace(start, stop, num=50, endpoint=True, base=10.0)\n",
        "    Return numbers spaced evenly on a log scale.\n",
        "    \n",
        "    In linear space, the sequence starts at ``base ** start``\n",
        "    (`base` to the power of `start`) and ends with ``base ** stop``\n",
        "    (see `endpoint` below).\n",
        "    \n",
        "    Parameters\n",
        "    ----------\n",
        "    start : float\n",
        "        ``base ** start`` is the starting value of the sequence.\n",
        "    stop : float\n",
        "        ``base ** stop`` is the final value of the sequence, unless `endpoint`\n",
        "        is False.  In that case, ``num + 1`` values are spaced over the\n",
        "        interval in log-space, of which all but the last (a sequence of\n",
        "        length ``num``) are returned.\n",
        "    num : integer, optional\n",
        "        Number of samples to generate.  Default is 50.\n",
        "    endpoint : boolean, optional\n",
        "        If true, `stop` is the last sample. Otherwise, it is not included.\n",
        "        Default is True.\n",
        "    base : float, optional\n",
        "        The base of the log space. The step size between the elements in\n",
        "        ``ln(samples) / ln(base)`` (or ``log_base(samples)``) is uniform.\n",
        "        Default is 10.0.\n",
        "    \n",
        "    Returns\n",
        "    -------\n",
        "    samples : ndarray\n",
        "        `num` samples, equally spaced on a log scale.\n",
        "    \n",
        "    See Also\n",
        "    --------\n",
        "    arange : Similar to linspace, with the step size specified instead of the\n",
        "             number of samples. Note that, when used with a float endpoint, the\n",
        "             endpoint may or may not be included.\n",
        "    linspace : Similar to logspace, but with the samples uniformly distributed\n",
        "               in linear space, instead of log space.\n",
        "    \n",
        "    Notes\n",
        "    -----\n",
        "    Logspace is equivalent to the code\n",
        "    \n",
        "    >>> y = np.linspace(start, stop, num=num, endpoint=endpoint)\n",
        "    ... # doctest: +SKIP\n",
        "    >>> power(base, y)\n",
        "    ... # doctest: +SKIP\n",
        "    \n",
        "    Examples\n",
        "    --------\n",
        "    >>> np.logspace(2.0, 3.0, num=4)\n",
        "        array([  100.        ,   215.443469  ,   464.15888336,  1000.        ])\n",
        "    >>> np.logspace(2.0, 3.0, num=4, endpoint=False)\n",
        "        array([ 100.        ,  177.827941  ,  316.22776602,  562.34132519])\n",
        "    >>> np.logspace(2.0, 3.0, num=4, base=2.0)\n",
        "        array([ 4.        ,  5.0396842 ,  6.34960421,  8.        ])\n",
        "    \n",
        "    Graphical illustration:\n",
        "    \n",
        "    >>> import matplotlib.pyplot as plt\n",
        "    >>> N = 10\n",
        "    >>> x1 = np.logspace(0.1, 1, N, endpoint=True)\n",
        "    >>> x2 = np.logspace(0.1, 1, N, endpoint=False)\n",
        "    >>> y = np.zeros(N)\n",
        "    >>> plt.plot(x1, y, 'o')\n",
        "    [<matplotlib.lines.Line2D object at 0x...>]\n",
        "    >>> plt.plot(x2, y + 0.5, 'o')\n",
        "    [<matplotlib.lines.Line2D object at 0x...>]\n",
        "    >>> plt.ylim([-0.5, 1])\n",
        "    (-0.5, 1)\n",
        "    >>> plt.show()\n",
        "\n"
       ]
      }
     ],
     "prompt_number": 7
    },
    {
     "cell_type": "code",
     "collapsed": false,
     "input": [
      "def HorM(N,xmin=0,xmax=1):\n",
      "    f = lambda x: 4*np.sqrt(1-x**2)\n",
      "    x = np.arange(0,1+.001,0.001)\n",
      "    \n",
      "    #The boolean mask\n",
      "    maskx = x[logical_and((x > xmin),(x < xmax))]\n",
      "    ymax = f(maskx).max() *1.05\n",
      "    ymin = 0\n",
      "    \n",
      "    \n",
      "    xsamp = xmin + (xmax)*random.random_sample(N)\n",
      "    ysamp = ymin + (ymax)*random.random_sample(N)\n",
      "    \n",
      "    mask = (ysamp < f(xsamp))\n",
      "    I = (xmax)*(ymax)*mask.sum()/mask.size\n",
      "    \n",
      "    return I\n",
      "    \n",
      "    \n",
      "    \n",
      "    \n",
      "print HorM(100)\n",
      "#Keep getting None along with the value"
     ],
     "language": "python",
     "metadata": {},
     "outputs": [
      {
       "output_type": "stream",
       "stream": "stdout",
       "text": [
        "3.107998446\n"
       ]
      }
     ],
     "prompt_number": 11
    },
    {
     "cell_type": "code",
     "collapsed": false,
     "input": [
      "arrvalue = []    \n",
      "N = np.logspace(1,6,100, base = 10)\n",
      "for i in N:\n",
      "    print HorM(i)\n",
      "    arrvalue.append(HorM(i))"
     ],
     "language": "python",
     "metadata": {},
     "outputs": [
      {
       "output_type": "stream",
       "stream": "stdout",
       "text": [
        "3.77999811\n",
        "3.43636191818\n",
        "2.09999895\n",
        "3.29999835\n",
        "2.7999986\n",
        "3.4588218\n",
        "2.729998635\n",
        "3.24545292273\n",
        "3.35999832\n",
        "2.69999865\n",
        "2.84515986774\n",
        "3.11999844\n",
        "3.2549983725\n",
        "3.07999846\n",
        "3.107998446\n",
        "2.7999986\n",
        "3.47812326094\n",
        "3.09166512083\n",
        "3.37036868518\n",
        "2.67692173846\n",
        "3.294116\n",
        "3.27894572895\n",
        "3.25581232558\n",
        "3.24413630897\n",
        "3.18888729444\n",
        "3.19016233934\n",
        "2.95024242732\n",
        "3.09090754545\n",
        "3.03243091622\n",
        "3.11752421443\n",
        "3.10825532661\n",
        "3.15858152698\n",
        "3.16271028305\n",
        "3.12284326616\n",
        "3.15201377908\n",
        "3.10871639436\n",
        "3.24748696073\n",
        "3.14857758674\n",
        "3.22843212072\n",
        "3.18604990912\n",
        "3.07678929255\n",
        "3.24285552143\n",
        "3.11581978955\n",
        "3.20660217028\n",
        "3.12230059712\n",
        "3.0518938291\n",
        "3.08811632666\n",
        "3.13933853185\n",
        "3.16581167011\n",
        "3.16795014247\n",
        "3.13715152005\n",
        "3.11429174785\n",
        "3.11647987945\n",
        "3.13452474853\n",
        "3.14685000079\n",
        "3.12302146151\n",
        "3.15467617734\n",
        "3.11890378164\n",
        "3.18571101159\n",
        "3.11798691665\n",
        "3.12238232241\n",
        "3.15392121258\n",
        "3.16194963854\n",
        "3.13721798531"
       ]
      },
      {
       "output_type": "stream",
       "stream": "stdout",
       "text": [
        "\n",
        "3.14071183678\n",
        "3.14403096357\n",
        "3.15331257113\n",
        "3.14292640672\n",
        "3.15019154611"
       ]
      },
      {
       "output_type": "stream",
       "stream": "stdout",
       "text": [
        "\n",
        "3.12943716735\n",
        "3.1405709577\n",
        "3.13656518921\n",
        "3.13008367995\n",
        "3.14071327355"
       ]
      },
      {
       "output_type": "stream",
       "stream": "stdout",
       "text": [
        "\n",
        "3.15934080984\n",
        "3.14327325357\n",
        "3.13509984556"
       ]
      },
      {
       "output_type": "stream",
       "stream": "stdout",
       "text": [
        "\n",
        "3.1530632854\n",
        "3.14871873286"
       ]
      },
      {
       "output_type": "stream",
       "stream": "stdout",
       "text": [
        "\n",
        "3.13297489206\n",
        "3.13470034337"
       ]
      },
      {
       "output_type": "stream",
       "stream": "stdout",
       "text": [
        "\n",
        "3.15010062799\n",
        "3.1448124187"
       ]
      },
      {
       "output_type": "stream",
       "stream": "stdout",
       "text": [
        "\n",
        "3.14437609145\n",
        "3.14177878069"
       ]
      },
      {
       "output_type": "stream",
       "stream": "stdout",
       "text": [
        "\n",
        "3.13810259592"
       ]
      },
      {
       "output_type": "stream",
       "stream": "stdout",
       "text": [
        "\n",
        "3.14425114767"
       ]
      },
      {
       "output_type": "stream",
       "stream": "stdout",
       "text": [
        "\n",
        "3.13949872697"
       ]
      },
      {
       "output_type": "stream",
       "stream": "stdout",
       "text": [
        "\n",
        "3.14293063101"
       ]
      },
      {
       "output_type": "stream",
       "stream": "stdout",
       "text": [
        "\n",
        "3.14776453366"
       ]
      },
      {
       "output_type": "stream",
       "stream": "stdout",
       "text": [
        "\n",
        "3.14092842763"
       ]
      },
      {
       "output_type": "stream",
       "stream": "stdout",
       "text": [
        "\n",
        "3.14718720994"
       ]
      },
      {
       "output_type": "stream",
       "stream": "stdout",
       "text": [
        "\n",
        "3.14366139182"
       ]
      },
      {
       "output_type": "stream",
       "stream": "stdout",
       "text": [
        "\n",
        "3.14187609883"
       ]
      },
      {
       "output_type": "stream",
       "stream": "stdout",
       "text": [
        "\n",
        "3.14290115642"
       ]
      },
      {
       "output_type": "stream",
       "stream": "stdout",
       "text": [
        "\n",
        "3.14067760212"
       ]
      },
      {
       "output_type": "stream",
       "stream": "stdout",
       "text": [
        "\n",
        "3.14324132683"
       ]
      },
      {
       "output_type": "stream",
       "stream": "stdout",
       "text": [
        "\n",
        "3.13660847457"
       ]
      },
      {
       "output_type": "stream",
       "stream": "stdout",
       "text": [
        "\n",
        "3.14170307353"
       ]
      },
      {
       "output_type": "stream",
       "stream": "stdout",
       "text": [
        "\n",
        "3.14117842941"
       ]
      },
      {
       "output_type": "stream",
       "stream": "stdout",
       "text": [
        "\n"
       ]
      }
     ],
     "prompt_number": 12
    },
    {
     "cell_type": "code",
     "collapsed": false,
     "input": [
      "f1 = lambda x: 4*np.sqrt(1-x**2)\n",
      "tru = f1(np.pi)\n",
      "\n",
      "def Err(array, x):\n",
      "    errarray = []\n",
      "    \n",
      "    for i in array:\n",
      "        err = (x - i)/x * 100\n",
      "        errarray.append(err)\n",
      "        \n",
      "    return errarray\n",
      "\n",
      "errors = Err(arrvalue, tru)\n",
      "\n",
      "plt.plot(N, errors)\n",
      "plt.xlabel(r'$ N values$',fontsize=20)\n",
      "plt.ylabel(r'$ Error %$',fontsize=20)\n",
      "help(xlim())\n",
      "plt.show()"
     ],
     "language": "python",
     "metadata": {},
     "outputs": [
      {
       "output_type": "stream",
       "stream": "stdout",
       "text": [
        "Help on tuple object:\n",
        "\n",
        "class tuple(object)\n",
        " |  tuple() -> empty tuple\n",
        " |  tuple(iterable) -> tuple initialized from iterable's items\n",
        " |  \n",
        " |  If the argument is a tuple, the return value is the same object.\n",
        " |  \n",
        " |  Methods defined here:\n",
        " |  \n",
        " |  __add__(...)\n",
        " |      x.__add__(y) <==> x+y\n",
        " |  \n",
        " |  __contains__(...)\n",
        " |      x.__contains__(y) <==> y in x\n",
        " |  \n",
        " |  __eq__(...)\n",
        " |      x.__eq__(y) <==> x==y\n",
        " |  \n",
        " |  __ge__(...)\n",
        " |      x.__ge__(y) <==> x>=y\n",
        " |  \n",
        " |  __getattribute__(...)\n",
        " |      x.__getattribute__('name') <==> x.name\n",
        " |  \n",
        " |  __getitem__(...)\n",
        " |      x.__getitem__(y) <==> x[y]\n",
        " |  \n",
        " |  __getnewargs__(...)\n",
        " |  \n",
        " |  __getslice__(...)\n",
        " |      x.__getslice__(i, j) <==> x[i:j]\n",
        " |      \n",
        " |      Use of negative indices is not supported.\n",
        " |  \n",
        " |  __gt__(...)\n",
        " |      x.__gt__(y) <==> x>y\n",
        " |  \n",
        " |  __hash__(...)\n",
        " |      x.__hash__() <==> hash(x)\n",
        " |  \n",
        " |  __iter__(...)\n",
        " |      x.__iter__() <==> iter(x)\n",
        " |  \n",
        " |  __le__(...)\n",
        " |      x.__le__(y) <==> x<=y\n",
        " |  \n",
        " |  __len__(...)\n",
        " |      x.__len__() <==> len(x)\n",
        " |  \n",
        " |  __lt__(...)\n",
        " |      x.__lt__(y) <==> x<y\n",
        " |  \n",
        " |  __mul__(...)\n",
        " |      x.__mul__(n) <==> x*n\n",
        " |  \n",
        " |  __ne__(...)\n",
        " |      x.__ne__(y) <==> x!=y\n",
        " |  \n",
        " |  __repr__(...)\n",
        " |      x.__repr__() <==> repr(x)\n",
        " |  \n",
        " |  __rmul__(...)\n",
        " |      x.__rmul__(n) <==> n*x\n",
        " |  \n",
        " |  __sizeof__(...)\n",
        " |      T.__sizeof__() -- size of T in memory, in bytes\n",
        " |  \n",
        " |  count(...)\n",
        " |      T.count(value) -> integer -- return number of occurrences of value\n",
        " |  \n",
        " |  index(...)\n",
        " |      T.index(value, [start, [stop]]) -> integer -- return first index of value.\n",
        " |      Raises ValueError if the value is not present.\n",
        " |  \n",
        " |  ----------------------------------------------------------------------\n",
        " |  Data and other attributes defined here:\n",
        " |  \n",
        " |  __new__ = <built-in method __new__ of type object>\n",
        " |      T.__new__(S, ...) -> a new object with type S, a subtype of T\n",
        "\n"
       ]
      },
      {
       "metadata": {},
       "output_type": "display_data",
       "png": "[encoded data removed]",
       "text": [
        "<matplotlib.figure.Figure at 0x10067ca10>"
       ]
      }
     ],
     "prompt_number": 18
    },
    {
     "cell_type": "code",
     "collapsed": false,
     "input": [],
     "language": "python",
     "metadata": {},
     "outputs": []
    }
   ],
   "metadata": {}
  }
 ]
}