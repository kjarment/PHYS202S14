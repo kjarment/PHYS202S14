{
 "metadata": {
  "name": "",
  "signature": "sha256:566e20f7dcc58d23d8938dd7ea7e5233d447cc2aff636bfa00e547d963523a8a"
 },
 "nbformat": 3,
 "nbformat_minor": 0,
 "worksheets": [
  {
   "cells": [
    {
     "cell_type": "heading",
     "level": 1,
     "metadata": {},
     "source": [
      "Monte Carlo Integration Excercises"
     ]
    },
    {
     "cell_type": "code",
     "collapsed": false,
     "input": [
      "%pylab inline\n",
      "import numpy as np\n",
      "import matplotlib.pyplot as plt"
     ],
     "language": "python",
     "metadata": {},
     "outputs": [
      {
       "output_type": "stream",
       "stream": "stdout",
       "text": [
        "Populating the interactive namespace from numpy and matplotlib\n"
       ]
      }
     ],
     "prompt_number": 8
    },
    {
     "cell_type": "markdown",
     "metadata": {},
     "source": [
      "(a) Use the sample mean method to compute the potential at point P(2,3) due to the disk of charge for different numbers of samples N=(101,102,103,104,105,106). Report the value and its statistical uncertainty for each sample size. How does the result depend on N?"
     ]
    },
    {
     "cell_type": "code",
     "collapsed": false,
     "input": [
      "from Electrostatics import *\n",
      "import Electrostatics as estat"
     ],
     "language": "python",
     "metadata": {},
     "outputs": [],
     "prompt_number": 9
    },
    {
     "cell_type": "code",
     "collapsed": false,
     "input": [
      "help(pointPotential)"
     ],
     "language": "python",
     "metadata": {},
     "outputs": [
      {
       "output_type": "stream",
       "stream": "stdout",
       "text": [
        "Help on function pointPotential in module Electrostatics:\n",
        "\n",
        "pointPotential(x, y, q, Xc, Yc)\n",
        "    Return the electric potential for a point charge q at(Xc,Yc)\n",
        "    \n",
        "    Units returned are [Volts] if input units are [meters] and [Coulombs]\n",
        "\n"
       ]
      }
     ],
     "prompt_number": 10
    },
    {
     "cell_type": "code",
     "collapsed": false,
     "input": [
      "def PotentialSq(N, x, y, xmin=-1., xmax=1., ymin=0., ymax=2.):\n",
      "    samples_x = xmin + (xmax-xmin)*np.random.random_sample(N)\n",
      "    samples_y = ymin + (ymax-ymin)*np.random.random_sample(N)\n",
      "    \n",
      "    #since the charge is so small, we just take the value of omega\n",
      "    Q = 1 * 1e-6\n",
      "    \n",
      "    PP = pointPotential(x,y,Q,samples_x,samples_y)\n",
      "    I = PP.mean()*(xmax-xmin)*(ymax-ymin)\n",
      "    Iunc = (ymax-ymin)*(xmax-xmin)*np.sqrt( ((PP**2).mean()- (PP.mean())**2)/N)\n",
      "    \n",
      "    return I, Iunc\n",
      "    \n",
      "    \n",
      "N = [10,100,1000,10000,100000,1000000]\n",
      "for i in N:\n",
      "    print PotentialSq(i,2,3)"
     ],
     "language": "python",
     "metadata": {},
     "outputs": [
      {
       "output_type": "stream",
       "stream": "stdout",
       "text": [
        "(12003.72883898954, 520.82942075437154)\n",
        "(13048.617984908757, 285.75678217709878)\n",
        "(13063.727205943958, 95.981913571639993)\n",
        "(13052.830868031635, 30.155840695974682)\n",
        "(13028.712722458027, 9.3649346309107546)\n",
        "(13026.501493791544, 2.970738349228645)"
       ]
      },
      {
       "output_type": "stream",
       "stream": "stdout",
       "text": [
        "\n"
       ]
      }
     ],
     "prompt_number": 41
    },
    {
     "cell_type": "markdown",
     "metadata": {},
     "source": [
      "(b) Now use the same method to compute the electric potential, V, at point P(2,3), from a disk centered on the origin with radius, R=1.2 cm, and charge density, \u03c3 = 2 nC/m2 ."
     ]
    },
    {
     "cell_type": "code",
     "collapsed": false,
     "input": [
      "def PotentialCirc(N,x,y):\n",
      "    thetaf = 2*np.pi\n",
      "    rf = 1.2 #meters\n",
      "    Q = 2 * 1e-9\n",
      "    ymax = rf*np.sin(thetaf)\n",
      "    xmax = rf*np.cos(thetaf)\n",
      "    \n",
      "    \n",
      "\n",
      "    xsamp = (xmax)*random.random_sample(N)\n",
      "    ysamp = (ymax)*random.random_sample(N)\n",
      "    PP = pointPotential(x,y,Q,xsamp,ysamp)\n",
      "        \n",
      "    I = PP.mean()*(xmax)*(ymax)\n",
      "    Iunc = (ymax)*(xmax)*np.sqrt( ((PP**2).mean() - (PP.mean())**2)/N)\n",
      "        \n",
      "    \n",
      "    return I, Iunc\n",
      "\n",
      "\n",
      "for i in N:\n",
      "    print PotentialCirc(i,2,3)"
     ],
     "language": "python",
     "metadata": {},
     "outputs": [
      {
       "output_type": "stream",
       "stream": "stdout",
       "text": [
        "(-1.9361650585797926e-15, -2.4059753874276368e-17)\n",
        "(-1.9019766526357452e-15, -8.1160263179791414e-18)\n",
        "(-1.9080991282064764e-15, -2.6100905434880668e-18)\n",
        "(-1.9096437680119539e-15, -8.3253027778599457e-19)\n",
        "(-1.9099201199537582e-15, -2.6259890517638169e-19)\n",
        "(-1.9101049052328022e-15, -8.3123663937000175e-20)"
       ]
      },
      {
       "output_type": "stream",
       "stream": "stdout",
       "text": [
        "\n"
       ]
      }
     ],
     "prompt_number": 47
    },
    {
     "cell_type": "markdown",
     "metadata": {},
     "source": [
      "\n",
      "Use the sample mean method to compute the volume of a sphere with radius 1 using spherical coordinates:\n",
      "V=\u222b10\u222b\u03c00\u222b2\u03c00r2sin(\u03b8)drd\u03b8d\u03d5\n",
      "for N=(101,102,103,104,105,106). Report the value and statistical uncertainty for each sample size. How does the result depend on N?"
     ]
    },
    {
     "cell_type": "code",
     "collapsed": false,
     "input": [
      "def Volume(N):\n",
      "    Volume = lambda r, theta, phi: (r**2)*sin(theta)*1\n",
      "    \n",
      "    rf = 1\n",
      "    thetaf = 2*np.pi\n",
      "    phif = np.pi \n",
      "    \n",
      "    rsamp = (rf)*random.random_sample(N)\n",
      "    thetasamp = (rf)*random.random_sample(N)\n",
      "    phisamp = (rf)*random.random_sample(N)\n",
      "    \n",
      "    Vsamp = Volume(rsamp,thetasamp,phisamp)\n",
      "    \n",
      "    I = Vsamp.mean()*(rf)*(thetaf)*(phif)\n",
      "    Iunc = (rf)*(thetaf)*(phif)*np.sqrt( ((Vsamp**2).mean() - (Vsamp.mean())**2)/N)\n",
      "    \n",
      "    return I, Iunc\n",
      "\n",
      "for i in N:\n",
      "    print Volume(i)"
     ],
     "language": "python",
     "metadata": {},
     "outputs": [
      {
       "output_type": "stream",
       "stream": "stdout",
       "text": [
        "(2.8475943289674617, 1.22399385170446)\n",
        "(3.3191962786143385, 0.33986901468665165)\n",
        "(3.0276199486097366, 0.10860995682579289)\n",
        "(3.0263324675198939, 0.034493739360192635)\n",
        "(3.0193173675026919, 0.010981316506570851)\n",
        "(3.0253232699506087, 0.0034827883540530374)"
       ]
      },
      {
       "output_type": "stream",
       "stream": "stdout",
       "text": [
        "\n"
       ]
      }
     ],
     "prompt_number": 48
    },
    {
     "cell_type": "markdown",
     "metadata": {},
     "source": [
      "(a) Use the hit or miss Monte Carlo method to estimate the integral of f(x)=41\u2212x2\u203e\u203e\u203e\u203e\u203e\u203e\u203e\u221a in the interval 0\u2264x\u22641 as a function of N, the number of samples. Let N range from 101 to 106 and use at least 100 different values for N.\n",
      "(np.logspace might be useful here to get evenly spaced values for N.)"
     ]
    },
    {
     "cell_type": "code",
     "collapsed": false,
     "input": [
      "help(np.logspace)"
     ],
     "language": "python",
     "metadata": {},
     "outputs": [
      {
       "output_type": "stream",
       "stream": "stdout",
       "text": [
        "Help on function logspace in module numpy.core.function_base:\n",
        "\n",
        "logspace(start, stop, num=50, endpoint=True, base=10.0)\n",
        "    Return numbers spaced evenly on a log scale.\n",
        "    \n",
        "    In linear space, the sequence starts at ``base ** start``\n",
        "    (`base` to the power of `start`) and ends with ``base ** stop``\n",
        "    (see `endpoint` below).\n",
        "    \n",
        "    Parameters\n",
        "    ----------\n",
        "    start : float\n",
        "        ``base ** start`` is the starting value of the sequence.\n",
        "    stop : float\n",
        "        ``base ** stop`` is the final value of the sequence, unless `endpoint`\n",
        "        is False.  In that case, ``num + 1`` values are spaced over the\n",
        "        interval in log-space, of which all but the last (a sequence of\n",
        "        length ``num``) are returned.\n",
        "    num : integer, optional\n",
        "        Number of samples to generate.  Default is 50.\n",
        "    endpoint : boolean, optional\n",
        "        If true, `stop` is the last sample. Otherwise, it is not included.\n",
        "        Default is True.\n",
        "    base : float, optional\n",
        "        The base of the log space. The step size between the elements in\n",
        "        ``ln(samples) / ln(base)`` (or ``log_base(samples)``) is uniform.\n",
        "        Default is 10.0.\n",
        "    \n",
        "    Returns\n",
        "    -------\n",
        "    samples : ndarray\n",
        "        `num` samples, equally spaced on a log scale.\n",
        "    \n",
        "    See Also\n",
        "    --------\n",
        "    arange : Similar to linspace, with the step size specified instead of the\n",
        "             number of samples. Note that, when used with a float endpoint, the\n",
        "             endpoint may or may not be included.\n",
        "    linspace : Similar to logspace, but with the samples uniformly distributed\n",
        "               in linear space, instead of log space.\n",
        "    \n",
        "    Notes\n",
        "    -----\n",
        "    Logspace is equivalent to the code\n",
        "    \n",
        "    >>> y = np.linspace(start, stop, num=num, endpoint=endpoint)\n",
        "    ... # doctest: +SKIP\n",
        "    >>> power(base, y)\n",
        "    ... # doctest: +SKIP\n",
        "    \n",
        "    Examples\n",
        "    --------\n",
        "    >>> np.logspace(2.0, 3.0, num=4)\n",
        "        array([  100.        ,   215.443469  ,   464.15888336,  1000.        ])\n",
        "    >>> np.logspace(2.0, 3.0, num=4, endpoint=False)\n",
        "        array([ 100.        ,  177.827941  ,  316.22776602,  562.34132519])\n",
        "    >>> np.logspace(2.0, 3.0, num=4, base=2.0)\n",
        "        array([ 4.        ,  5.0396842 ,  6.34960421,  8.        ])\n",
        "    \n",
        "    Graphical illustration:\n",
        "    \n",
        "    >>> import matplotlib.pyplot as plt\n",
        "    >>> N = 10\n",
        "    >>> x1 = np.logspace(0.1, 1, N, endpoint=True)\n",
        "    >>> x2 = np.logspace(0.1, 1, N, endpoint=False)\n",
        "    >>> y = np.zeros(N)\n",
        "    >>> plt.plot(x1, y, 'o')\n",
        "    [<matplotlib.lines.Line2D object at 0x...>]\n",
        "    >>> plt.plot(x2, y + 0.5, 'o')\n",
        "    [<matplotlib.lines.Line2D object at 0x...>]\n",
        "    >>> plt.ylim([-0.5, 1])\n",
        "    (-0.5, 1)\n",
        "    >>> plt.show()\n",
        "\n"
       ]
      }
     ],
     "prompt_number": 49
    },
    {
     "cell_type": "code",
     "collapsed": false,
     "input": [
      "def HorM(N,xmin=0,xmax=1):\n",
      "    f = lambda x: 4*np.sqrt(1-x**2)\n",
      "    x = np.arange(0,1,0.001)\n",
      "    \n",
      "    #The boolean mask\n",
      "    maskx = x[logical_and((x > xmin)(x < xmax))]\n",
      "    ymax = f(maskx).max() *1.05\n",
      "    \n",
      "    \n",
      "    xsamp = (xmax)*random.random_sample(N)\n",
      "    ysamp = (ymax)*random.random_sample(N)\n",
      "    \n",
      "    mask = (ysamp < f(xsamp))\n",
      "    I = (xmax)*(ymax)*newmask.sum()/newmask.size\n",
      "    \n",
      "    print I\n",
      "    \n",
      "    \n",
      "    \n",
      "    \n",
      "    \n",
      "N = np.logspace(1,6,100)\n",
      "for i in N:\n",
      "    print HorM(i)"
     ],
     "language": "python",
     "metadata": {},
     "outputs": [
      {
       "ename": "TypeError",
       "evalue": "'numpy.ndarray' object is not callable",
       "output_type": "pyerr",
       "traceback": [
        "\u001b[0;31m---------------------------------------------------------------------------\u001b[0m\n\u001b[0;31mTypeError\u001b[0m                                 Traceback (most recent call last)",
        "\u001b[0;32m<ipython-input-51-f4140f2c0b98>\u001b[0m in \u001b[0;36m<module>\u001b[0;34m()\u001b[0m\n\u001b[1;32m     22\u001b[0m \u001b[0mN\u001b[0m \u001b[0;34m=\u001b[0m \u001b[0mnp\u001b[0m\u001b[0;34m.\u001b[0m\u001b[0mlogspace\u001b[0m\u001b[0;34m(\u001b[0m\u001b[0;36m1\u001b[0m\u001b[0;34m,\u001b[0m\u001b[0;36m6\u001b[0m\u001b[0;34m,\u001b[0m\u001b[0;36m100\u001b[0m\u001b[0;34m)\u001b[0m\u001b[0;34m\u001b[0m\u001b[0m\n\u001b[1;32m     23\u001b[0m \u001b[0;32mfor\u001b[0m \u001b[0mi\u001b[0m \u001b[0;32min\u001b[0m \u001b[0mN\u001b[0m\u001b[0;34m:\u001b[0m\u001b[0;34m\u001b[0m\u001b[0m\n\u001b[0;32m---> 24\u001b[0;31m     \u001b[0;32mprint\u001b[0m \u001b[0mHorM\u001b[0m\u001b[0;34m(\u001b[0m\u001b[0mi\u001b[0m\u001b[0;34m)\u001b[0m\u001b[0;34m\u001b[0m\u001b[0m\n\u001b[0m",
        "\u001b[0;32m<ipython-input-51-f4140f2c0b98>\u001b[0m in \u001b[0;36mHorM\u001b[0;34m(N, xmin, xmax)\u001b[0m\n\u001b[1;32m      4\u001b[0m \u001b[0;34m\u001b[0m\u001b[0m\n\u001b[1;32m      5\u001b[0m     \u001b[0;31m#The boolean mask\u001b[0m\u001b[0;34m\u001b[0m\u001b[0;34m\u001b[0m\u001b[0m\n\u001b[0;32m----> 6\u001b[0;31m     \u001b[0mmaskx\u001b[0m \u001b[0;34m=\u001b[0m \u001b[0mx\u001b[0m\u001b[0;34m[\u001b[0m\u001b[0mlogical_and\u001b[0m\u001b[0;34m(\u001b[0m\u001b[0;34m(\u001b[0m\u001b[0mx\u001b[0m \u001b[0;34m>\u001b[0m \u001b[0mxmin\u001b[0m\u001b[0;34m)\u001b[0m\u001b[0;34m(\u001b[0m\u001b[0mx\u001b[0m \u001b[0;34m<\u001b[0m \u001b[0mxmax\u001b[0m\u001b[0;34m)\u001b[0m\u001b[0;34m)\u001b[0m\u001b[0;34m]\u001b[0m\u001b[0;34m\u001b[0m\u001b[0m\n\u001b[0m\u001b[1;32m      7\u001b[0m     \u001b[0mymax\u001b[0m \u001b[0;34m=\u001b[0m \u001b[0mf\u001b[0m\u001b[0;34m(\u001b[0m\u001b[0mmaskx\u001b[0m\u001b[0;34m)\u001b[0m\u001b[0;34m.\u001b[0m\u001b[0mmax\u001b[0m\u001b[0;34m(\u001b[0m\u001b[0;34m)\u001b[0m \u001b[0;34m*\u001b[0m\u001b[0;36m1.05\u001b[0m\u001b[0;34m\u001b[0m\u001b[0m\n\u001b[1;32m      8\u001b[0m \u001b[0;34m\u001b[0m\u001b[0m\n",
        "\u001b[0;31mTypeError\u001b[0m: 'numpy.ndarray' object is not callable"
       ]
      }
     ],
     "prompt_number": 51
    },
    {
     "cell_type": "code",
     "collapsed": false,
     "input": [],
     "language": "python",
     "metadata": {},
     "outputs": []
    }
   ],
   "metadata": {}
  }
 ]
}