{
 "metadata": {
  "name": "",
  "signature": "sha256:eea62d80aa8e08b1811792f26ed9584850bf9d7400f2b6f16fbd524ba30f75fa"
 },
 "nbformat": 3,
 "nbformat_minor": 0,
 "worksheets": [
  {
   "cells": [
    {
     "cell_type": "heading",
     "level": 1,
     "metadata": {},
     "source": [
      "Monte Carlo Integration Excercises"
     ]
    },
    {
     "cell_type": "code",
     "collapsed": false,
     "input": [
      "%pylab inline\n",
      "import numpy as np\n",
      "import matplotlib.pyplot as plt"
     ],
     "language": "python",
     "metadata": {},
     "outputs": [
      {
       "output_type": "stream",
       "stream": "stdout",
       "text": [
        "Populating the interactive namespace from numpy and matplotlib\n"
       ]
      }
     ],
     "prompt_number": 2
    },
    {
     "cell_type": "markdown",
     "metadata": {},
     "source": [
      "(a) Use the sample mean method to compute the potential at point P(2,3) due to the disk of charge for different numbers of samples N=(101,102,103,104,105,106). Report the value and its statistical uncertainty for each sample size. How does the result depend on N?"
     ]
    },
    {
     "cell_type": "code",
     "collapsed": false,
     "input": [
      "from Electrostatics import *\n",
      "import Electrostatics as estat"
     ],
     "language": "python",
     "metadata": {},
     "outputs": [],
     "prompt_number": 3
    },
    {
     "cell_type": "code",
     "collapsed": false,
     "input": [
      "help(pointPotential)"
     ],
     "language": "python",
     "metadata": {},
     "outputs": [
      {
       "output_type": "stream",
       "stream": "stdout",
       "text": [
        "Help on function pointPotential in module Electrostatics:\n",
        "\n",
        "pointPotential(x, y, q, Xc, Yc)\n",
        "    Return the electric potential for a point charge q at(Xc,Yc)\n",
        "    \n",
        "    Units returned are [Volts] if input units are [meters] and [Coulombs]\n",
        "\n"
       ]
      }
     ],
     "prompt_number": 4
    },
    {
     "cell_type": "code",
     "collapsed": false,
     "input": [
      "def PotentialSq(N, x, y, xmin=-1., xmax=1., ymin=0., ymax=2.):\n",
      "    samples_x = xmin + (xmax-xmin)*np.random.random_sample(N)\n",
      "    samples_y = ymin + (ymax-ymin)*np.random.random_sample(N)\n",
      "    \n",
      "    #since the charge is so small, we just take the value of omega\n",
      "    Q = 1 * 1e-6\n",
      "    \n",
      "    PP = pointPotential(x,y,Q,samples_x,samples_y)\n",
      "    I = PP.mean()*(xmax-xmin)*(ymax-ymin)\n",
      "    Iunc = (ymax-ymin)*(xmax-xmin)*np.sqrt( ((PP**2).mean()- (PP.mean())**2)/N)\n",
      "    \n",
      "    return I, Iunc\n",
      "    \n",
      "    \n",
      "N = [10,100,1000,10000,100000,1000000]\n",
      "for i in N:\n",
      "    print PotentialSq(i,2,3)"
     ],
     "language": "python",
     "metadata": {},
     "outputs": [
      {
       "output_type": "stream",
       "stream": "stdout",
       "text": [
        "(14403.334655301258, 758.90994738839333)\n",
        "(13295.688642501118, 340.76341959732645)\n",
        "(12994.647101551507, 92.515672675838829)\n",
        "(13051.850247489547, 29.915687507893786)\n",
        "(13032.106133549345, 9.3942446227341474)\n",
        "(13024.511631699539, 2.9709331487076618)"
       ]
      },
      {
       "output_type": "stream",
       "stream": "stdout",
       "text": [
        "\n"
       ]
      }
     ],
     "prompt_number": 5
    },
    {
     "cell_type": "markdown",
     "metadata": {},
     "source": [
      "(b) Now use the same method to compute the electric potential, V, at point P(2,3), from a disk centered on the origin with radius, R=1.2 cm, and charge density, \u03c3 = 2 nC/m2 ."
     ]
    },
    {
     "cell_type": "code",
     "collapsed": false,
     "input": [
      "def PotentialCirc(N,x,y):\n",
      "    thetaf = 2*np.pi\n",
      "    rf = 1.2 #meters\n",
      "    Q = 2 * 1e-9\n",
      "    ymax = rf*np.sin(thetaf)\n",
      "    xmax = rf*np.cos(thetaf)\n",
      "    \n",
      "    \n",
      "\n",
      "    xsamp = (xmax)*random.random_sample(N)\n",
      "    ysamp = (ymax)*random.random_sample(N)\n",
      "    PP = pointPotential(x,y,Q,xsamp,ysamp)\n",
      "        \n",
      "    I = PP.mean()*(xmax)*(ymax)\n",
      "    Iunc = (ymax)*(xmax)*np.sqrt( ((PP**2).mean() - (PP.mean())**2)/N)\n",
      "        \n",
      "    \n",
      "    return I, Iunc\n",
      "\n",
      "\n",
      "for i in N:\n",
      "    print PotentialCirc(i,2,3)"
     ],
     "language": "python",
     "metadata": {},
     "outputs": [
      {
       "output_type": "stream",
       "stream": "stdout",
       "text": [
        "(-1.9111942113431266e-15, -2.2649333500948091e-17)\n",
        "(-1.8907592535076196e-15, -8.3500456945017139e-18)\n",
        "(-1.9078587546451136e-15, -2.6326474276032596e-18)\n",
        "(-1.9093963378345607e-15, -8.3087322402267269e-19)\n",
        "(-1.9100805032685225e-15, -2.6290316072183644e-19)\n",
        "(-1.9100467855427396e-15, -8.3099426763208373e-20)"
       ]
      },
      {
       "output_type": "stream",
       "stream": "stdout",
       "text": [
        "\n"
       ]
      }
     ],
     "prompt_number": 6
    },
    {
     "cell_type": "markdown",
     "metadata": {},
     "source": [
      "\n",
      "Use the sample mean method to compute the volume of a sphere with radius 1 using spherical coordinates:\n",
      "V=\u222b10\u222b\u03c00\u222b2\u03c00r2sin(\u03b8)drd\u03b8d\u03d5\n",
      "for N=(101,102,103,104,105,106). Report the value and statistical uncertainty for each sample size. How does the result depend on N?"
     ]
    },
    {
     "cell_type": "code",
     "collapsed": false,
     "input": [
      "def Volume(N):\n",
      "    Volume = lambda r, theta, phi: (r**2)*sin(theta)*1\n",
      "    \n",
      "    rf = 1\n",
      "    thetaf = 2*np.pi\n",
      "    phif = np.pi \n",
      "    \n",
      "    rsamp = (rf)*random.random_sample(N)\n",
      "    thetasamp = (rf)*random.random_sample(N)\n",
      "    phisamp = (rf)*random.random_sample(N)\n",
      "    \n",
      "    Vsamp = Volume(rsamp,thetasamp,phisamp)\n",
      "    \n",
      "    I = Vsamp.mean()*(rf)*(thetaf)*(phif)\n",
      "    Iunc = (rf)*(thetaf)*(phif)*np.sqrt( ((Vsamp**2).mean() - (Vsamp.mean())**2)/N)\n",
      "    \n",
      "    return I, Iunc\n",
      "\n",
      "for i in N:\n",
      "    print Volume(i)"
     ],
     "language": "python",
     "metadata": {},
     "outputs": [
      {
       "output_type": "stream",
       "stream": "stdout",
       "text": [
        "(2.015360098908884, 0.76413452329708376)\n",
        "(3.2313126112504276, 0.35582052354814037)\n",
        "(3.0205646643611757, 0.11162635346612709)\n",
        "(2.98458006862234, 0.034551408913822731)\n",
        "(3.0020988282634065, 0.010985544442389708)\n",
        "(3.0260371463160989, 0.0034788304405545807)"
       ]
      },
      {
       "output_type": "stream",
       "stream": "stdout",
       "text": [
        "\n"
       ]
      }
     ],
     "prompt_number": 7
    },
    {
     "cell_type": "markdown",
     "metadata": {},
     "source": [
      "(a) Use the hit or miss Monte Carlo method to estimate the integral of f(x)=41\u2212x2\u203e\u203e\u203e\u203e\u203e\u203e\u203e\u221a in the interval 0\u2264x\u22641 as a function of N, the number of samples. Let N range from 101 to 106 and use at least 100 different values for N.\n",
      "(np.logspace might be useful here to get evenly spaced values for N.)"
     ]
    },
    {
     "cell_type": "code",
     "collapsed": false,
     "input": [
      "help(np.logspace)"
     ],
     "language": "python",
     "metadata": {},
     "outputs": [
      {
       "output_type": "stream",
       "stream": "stdout",
       "text": [
        "Help on function logspace in module numpy.core.function_base:\n",
        "\n",
        "logspace(start, stop, num=50, endpoint=True, base=10.0)\n",
        "    Return numbers spaced evenly on a log scale.\n",
        "    \n",
        "    In linear space, the sequence starts at ``base ** start``\n",
        "    (`base` to the power of `start`) and ends with ``base ** stop``\n",
        "    (see `endpoint` below).\n",
        "    \n",
        "    Parameters\n",
        "    ----------\n",
        "    start : float\n",
        "        ``base ** start`` is the starting value of the sequence.\n",
        "    stop : float\n",
        "        ``base ** stop`` is the final value of the sequence, unless `endpoint`\n",
        "        is False.  In that case, ``num + 1`` values are spaced over the\n",
        "        interval in log-space, of which all but the last (a sequence of\n",
        "        length ``num``) are returned.\n",
        "    num : integer, optional\n",
        "        Number of samples to generate.  Default is 50.\n",
        "    endpoint : boolean, optional\n",
        "        If true, `stop` is the last sample. Otherwise, it is not included.\n",
        "        Default is True.\n",
        "    base : float, optional\n",
        "        The base of the log space. The step size between the elements in\n",
        "        ``ln(samples) / ln(base)`` (or ``log_base(samples)``) is uniform.\n",
        "        Default is 10.0.\n",
        "    \n",
        "    Returns\n",
        "    -------\n",
        "    samples : ndarray\n",
        "        `num` samples, equally spaced on a log scale.\n",
        "    \n",
        "    See Also\n",
        "    --------\n",
        "    arange : Similar to linspace, with the step size specified instead of the\n",
        "             number of samples. Note that, when used with a float endpoint, the\n",
        "             endpoint may or may not be included.\n",
        "    linspace : Similar to logspace, but with the samples uniformly distributed\n",
        "               in linear space, instead of log space.\n",
        "    \n",
        "    Notes\n",
        "    -----\n",
        "    Logspace is equivalent to the code\n",
        "    \n",
        "    >>> y = np.linspace(start, stop, num=num, endpoint=endpoint)\n",
        "    ... # doctest: +SKIP\n",
        "    >>> power(base, y)\n",
        "    ... # doctest: +SKIP\n",
        "    \n",
        "    Examples\n",
        "    --------\n",
        "    >>> np.logspace(2.0, 3.0, num=4)\n",
        "        array([  100.        ,   215.443469  ,   464.15888336,  1000.        ])\n",
        "    >>> np.logspace(2.0, 3.0, num=4, endpoint=False)\n",
        "        array([ 100.        ,  177.827941  ,  316.22776602,  562.34132519])\n",
        "    >>> np.logspace(2.0, 3.0, num=4, base=2.0)\n",
        "        array([ 4.        ,  5.0396842 ,  6.34960421,  8.        ])\n",
        "    \n",
        "    Graphical illustration:\n",
        "    \n",
        "    >>> import matplotlib.pyplot as plt\n",
        "    >>> N = 10\n",
        "    >>> x1 = np.logspace(0.1, 1, N, endpoint=True)\n",
        "    >>> x2 = np.logspace(0.1, 1, N, endpoint=False)\n",
        "    >>> y = np.zeros(N)\n",
        "    >>> plt.plot(x1, y, 'o')\n",
        "    [<matplotlib.lines.Line2D object at 0x...>]\n",
        "    >>> plt.plot(x2, y + 0.5, 'o')\n",
        "    [<matplotlib.lines.Line2D object at 0x...>]\n",
        "    >>> plt.ylim([-0.5, 1])\n",
        "    (-0.5, 1)\n",
        "    >>> plt.show()\n",
        "\n"
       ]
      }
     ],
     "prompt_number": 8
    },
    {
     "cell_type": "code",
     "collapsed": false,
     "input": [
      "def HorM(N,xmin=0,xmax=1):\n",
      "    f = lambda x: 4*np.sqrt(1-x**2)\n",
      "    x = np.arange(0,1+.001,0.001)\n",
      "    \n",
      "    #The boolean mask\n",
      "    maskx = x[logical_and((x > xmin),(x < xmax))]\n",
      "    ymax = f(maskx).max() *1.05\n",
      "    ymin = 0\n",
      "    \n",
      "    \n",
      "    xsamp = xmin + (xmax)*random.random_sample(N)\n",
      "    ysamp = ymin + (ymax)*random.random_sample(N)\n",
      "    \n",
      "    mask = (ysamp < f(xsamp))\n",
      "    I = (xmax)*(ymax)*mask.sum()/mask.size\n",
      "    \n",
      "    return I\n",
      "    \n",
      "    \n",
      "    \n",
      "    \n",
      "print HorM(100)\n",
      "#Keep getting None along with the value"
     ],
     "language": "python",
     "metadata": {},
     "outputs": [
      {
       "output_type": "stream",
       "stream": "stdout",
       "text": [
        "3.023998488\n"
       ]
      }
     ],
     "prompt_number": 9
    },
    {
     "cell_type": "code",
     "collapsed": false,
     "input": [
      "arrvalue = []    \n",
      "N = np.logspace(1,6,100, base = 10)\n",
      "for i in N:\n",
      "    print HorM(i)\n",
      "    arrvalue.append(HorM(i))"
     ],
     "language": "python",
     "metadata": {},
     "outputs": [
      {
       "output_type": "stream",
       "stream": "stdout",
       "text": [
        "2.93999853\n",
        "3.05454392727\n",
        "2.449998775\n",
        "2.9999985\n",
        "3.35999832\n",
        "2.470587\n",
        "3.569998215\n",
        "2.09999895\n",
        "2.687998656\n",
        "3.29999835\n",
        "3.11612747419\n",
        "3.11999844\n",
        "3.4649982675\n",
        "3.45333160667\n",
        "3.275998362\n",
        "3.2421036421\n",
        "3.08437345781\n",
        "2.91666520833\n",
        "3.42222051111\n",
        "3.18461379231\n",
        "3.00588085\n",
        "3.27894572895\n",
        "2.93023109302\n",
        "3.24413630897\n",
        "3.18888729444\n",
        "3.30491638033\n",
        "3.27804714146\n",
        "3.14545297273\n",
        "2.98378229189\n",
        "3.27628702165\n",
        "3.13394338716\n",
        "3.15858152698\n",
        "3.16271028305\n",
        "3.02327435043\n",
        "3.09558386487\n",
        "3.14461381231\n",
        "3.234701579\n",
        "3.13721088065\n",
        "3.19301045169\n",
        "3.22210139324\n",
        "3.14498410086\n",
        "3.14285557143\n",
        "3.10628156571\n",
        "3.149998425\n",
        "3.12230059712\n",
        "3.13710467811\n",
        "3.15199462172\n",
        "3.10558220355\n",
        "3.16264902108\n",
        "3.14683047486\n",
        "3.11083103187\n",
        "3.16450426259\n",
        "3.17110269442\n",
        "3.15751421072\n",
        "3.17676003081\n",
        "3.11110955556\n",
        "3.13658886829\n",
        "3.16110365477\n",
        "3.13924757713\n",
        "3.11358670931\n",
        "3.1607706636\n",
        "3.09778176369\n",
        "3.16226005967\n",
        "3.12782263505\n",
        "3.14710789754\n",
        "3.1446879318\n",
        "3.15077822409\n",
        "3.13824065227\n",
        "3.12655352225\n",
        "3.16148247191\n",
        "3.11743081069\n",
        "3.13918099172"
       ]
      },
      {
       "output_type": "stream",
       "stream": "stdout",
       "text": [
        "\n",
        "3.14531688323\n",
        "3.14624117767\n",
        "3.13750346585\n",
        "3.14053527029\n",
        "3.1439963388\n",
        "3.14270242989\n",
        "3.14133032162\n",
        "3.15004141372\n",
        "3.13917783068"
       ]
      },
      {
       "output_type": "stream",
       "stream": "stdout",
       "text": [
        "\n",
        "3.14035727606\n",
        "3.1351379391\n",
        "3.14124432343\n",
        "3.13949554616"
       ]
      },
      {
       "output_type": "stream",
       "stream": "stdout",
       "text": [
        "\n",
        "3.14054166879\n",
        "3.13560404275\n",
        "3.14373760385"
       ]
      },
      {
       "output_type": "stream",
       "stream": "stdout",
       "text": [
        "\n",
        "3.13871938803\n",
        "3.1391648918"
       ]
      },
      {
       "output_type": "stream",
       "stream": "stdout",
       "text": [
        "\n",
        "3.1415145534\n",
        "3.13895588704"
       ]
      },
      {
       "output_type": "stream",
       "stream": "stdout",
       "text": [
        "\n",
        "3.13978428401"
       ]
      },
      {
       "output_type": "stream",
       "stream": "stdout",
       "text": [
        "\n",
        "3.14323474248"
       ]
      },
      {
       "output_type": "stream",
       "stream": "stdout",
       "text": [
        "\n",
        "3.1400464731"
       ]
      },
      {
       "output_type": "stream",
       "stream": "stdout",
       "text": [
        "\n",
        "3.14551941433"
       ]
      },
      {
       "output_type": "stream",
       "stream": "stdout",
       "text": [
        "\n",
        "3.14116954695"
       ]
      },
      {
       "output_type": "stream",
       "stream": "stdout",
       "text": [
        "\n",
        "3.14362541277"
       ]
      },
      {
       "output_type": "stream",
       "stream": "stdout",
       "text": [
        "\n",
        "3.14052358377"
       ]
      },
      {
       "output_type": "stream",
       "stream": "stdout",
       "text": [
        "\n",
        "3.1418000291"
       ]
      },
      {
       "output_type": "stream",
       "stream": "stdout",
       "text": [
        "\n"
       ]
      }
     ],
     "prompt_number": 10
    },
    {
     "cell_type": "code",
     "collapsed": false,
     "input": [
      "f1 = lambda x: 4*np.sqrt(1-x**2)\n",
      "tru = np.pi\n",
      "\n",
      "def Err(array, x):\n",
      "    errarray = []\n",
      "    \n",
      "    for i in array:\n",
      "        err = (x - i)/x * 100\n",
      "        errarray.append(err)\n",
      "        \n",
      "    return errarray\n",
      "\n",
      "errors = Err(arrvalue, tru)\n",
      "\n",
      "plt.plot(N, errors)\n",
      "plt.xlabel(r'$ N values$',fontsize=20)\n",
      "plt.ylabel(r'$ Error %$',fontsize=20)\n",
      "plt.yscale('log')\n",
      "plt.xscale('log')\n",
      "plt.show()"
     ],
     "language": "python",
     "metadata": {},
     "outputs": [
      {
       "metadata": {},
       "output_type": "display_data",
       "png": "[encoded data removed]",
       "text": [
        "<matplotlib.figure.Figure at 0x101e84790>"
       ]
      }
     ],
     "prompt_number": 11
    },
    {
     "cell_type": "code",
     "collapsed": false,
     "input": [
      "#It seems that the error gets closer to 0 as we get a larger sample"
     ],
     "language": "python",
     "metadata": {},
     "outputs": [],
     "prompt_number": 12
    },
    {
     "cell_type": "code",
     "collapsed": false,
     "input": [
      "def sampleMean(N, xmin=0., xmax=1.):\n",
      "    f = lambda x: 4*np.sqrt(1-x**2)\n",
      "    x = np.arange(0.,1.001,.001)\n",
      "    Iana = lambda x: 2*(np.sqrt(1-x**2)*x + np.arcsin(x))\n",
      "    Itru = Iana(xmax) - Iana(xmin)\n",
      "    \n",
      "    \n",
      "    x_samples = (xmax)*np.random.random_sample(N)\n",
      "    \n",
      "    approx = f(x_samples)\n",
      "    \n",
      "    Integral = approx.mean() * (xmax)\n",
      "    \n",
      "    \n",
      "    #Finding the uncertainity of the integral\n",
      "    Iunc = (xmax)*np.sqrt( ((approx**2).mean() - (approx.mean())**2)/N)\n",
      "    Ierr = 100*np.abs((Itru - Integral)/Itru)\n",
      "    \n",
      "    ymax = approx.max()\n",
      "    ymin = 0.\n",
      "    \n",
      "    \n",
      "    return Integral, Iunc, Ierr"
     ],
     "language": "python",
     "metadata": {},
     "outputs": [],
     "prompt_number": 39
    },
    {
     "cell_type": "code",
     "collapsed": false,
     "input": [
      "N1 = np.logspace(4,6,100,base=10)\n",
      "arr3d = np.arange(300).reshape(100,3)\n",
      "\n",
      "\n",
      "for i in range(len(N1)):\n",
      "    arr3d[i] = sampleMean(N1[i])\n",
      "    \n",
      "I = arr3d[:,0]\n",
      "Unc = arr3d[:,1]\n",
      "Err = arr3d[:,2]"
     ],
     "language": "python",
     "metadata": {},
     "outputs": [],
     "prompt_number": 40
    },
    {
     "cell_type": "code",
     "collapsed": false,
     "input": [
      "print I\n",
      "print Unc\n",
      "print Err"
     ],
     "language": "python",
     "metadata": {},
     "outputs": [
      {
       "output_type": "stream",
       "stream": "stdout",
       "text": [
        "[3 3 3 3 3 3 3 3 3 3 3 3 3 3 3 3 3 3 3 3 3 3 3 3 3 3 3 3 3 3 3 3 3 3 3 3 3\n",
        " 3 3 3 3 3 3 3 3 3 3 3 3 3 3 3 3 3 3 3 3 3 3 3 3 3 3 3 3 3 3 3 3 3 3 3 3 3\n",
        " 3 3 3 3 3 3 3 3 3 3 3 3 3 3 3 3 3 3 3 3 3 3 3 3 3 3]\n",
        "[0 0 0 0 0 0 0 0 0 0 0 0 0 0 0 0 0 0 0 0 0 0 0 0 0 0 0 0 0 0 0 0 0 0 0 0 0\n",
        " 0 0 0 0 0 0 0 0 0 0 0 0 0 0 0 0 0 0 0 0 0 0 0 0 0 0 0 0 0 0 0 0 0 0 0 0 0\n",
        " 0 0 0 0 0 0 0 0 0 0 0 0 0 0 0 0 0 0 0 0 0 0 0 0 0 0]\n",
        "[0 0 0 0 0 0 0 0 0 0 0 0 0 0 0 0 0 0 0 0 0 0 0 0 0 0 0 0 0 0 0 0 0 0 0 0 0\n",
        " 0 0 0 0 0 0 0 0 0 0 0 0 0 0 0 0 0 0 0 0 0 0 0 0 0 0 0 0 0 0 0 0 0 0 0 0 0\n",
        " 0 0 0 0 0 0 0 0 0 0 0 0 0 0 0 0 0 0 0 0 0 0 0 0 0 0]\n"
       ]
      }
     ],
     "prompt_number": 41
    },
    {
     "cell_type": "code",
     "collapsed": false,
     "input": [
      "plt.plot(N1, I, color='r', label = \"Sample Mean Integral\")\n",
      "plt.yscale('log')\n",
      "plt.xscale('log')\n",
      "plt.show()"
     ],
     "language": "python",
     "metadata": {},
     "outputs": [
      {
       "metadata": {},
       "output_type": "display_data",
       "png": "[encoded data removed]",
       "text": [
        "<matplotlib.figure.Figure at 0x1071b21d0>"
       ]
      }
     ],
     "prompt_number": 33
    },
    {
     "cell_type": "code",
     "collapsed": false,
     "input": [
      "plt.plot(N1, Unc, color='g',label='Uncertainty')\n",
      "plt.show()"
     ],
     "language": "python",
     "metadata": {},
     "outputs": [
      {
       "metadata": {},
       "output_type": "display_data",
       "png": "[encoded data removed]",
       "text": [
        "<matplotlib.figure.Figure at 0x106706650>"
       ]
      }
     ],
     "prompt_number": 35
    },
    {
     "cell_type": "code",
     "collapsed": false,
     "input": [
      "plt.plot(N1, Err, color='b', label='Error')\n",
      "plt.show()"
     ],
     "language": "python",
     "metadata": {},
     "outputs": [
      {
       "metadata": {},
       "output_type": "display_data",
       "png": "[encoded data removed]",
       "text": [
        "<matplotlib.figure.Figure at 0x1021b9050>"
       ]
      }
     ],
     "prompt_number": 37
    },
    {
     "cell_type": "code",
     "collapsed": false,
     "input": [],
     "language": "python",
     "metadata": {},
     "outputs": []
    }
   ],
   "metadata": {}
  }
 ]
}