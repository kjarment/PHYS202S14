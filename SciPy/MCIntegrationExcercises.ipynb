{
 "metadata": {
  "name": "",
<<<<<<< HEAD
  "signature": "sha256:947d109b9caa3f1806a9f7edeb7814ce3671d682874291f3deac9f6d496b2c38"
=======
  "signature": "sha256:fad8dfc6cae8ed5caf535be643c0a6fa1073acd0e4221d1bfd19555097da951d"
>>>>>>> eda372ef9a9730d225ea3eb5748539dac7e4d503
 },
 "nbformat": 3,
 "nbformat_minor": 0,
 "worksheets": [
  {
   "cells": [
    {
     "cell_type": "heading",
     "level": 1,
     "metadata": {},
     "source": [
      "Monte Carlo Integration Excercises"
     ]
    },
    {
     "cell_type": "code",
     "collapsed": false,
     "input": [
      "%pylab inline\n",
      "import numpy as np\n",
      "import matplotlib.pyplot as plt"
     ],
     "language": "python",
     "metadata": {},
     "outputs": [
      {
       "output_type": "stream",
       "stream": "stdout",
       "text": [
        "Populating the interactive namespace from numpy and matplotlib\n"
       ]
      }
     ],
     "prompt_number": 2
    },
    {
     "cell_type": "markdown",
     "metadata": {},
     "source": [
      "(a) Use the sample mean method to compute the potential at point P(2,3) due to the disk of charge for different numbers of samples N=(101,102,103,104,105,106). Report the value and its statistical uncertainty for each sample size. How does the result depend on N?"
     ]
    },
    {
     "cell_type": "code",
     "collapsed": false,
     "input": [
      "from Electrostatics import *\n",
      "import Electrostatics as estat"
     ],
     "language": "python",
     "metadata": {},
     "outputs": [],
     "prompt_number": 3
    },
    {
     "cell_type": "code",
     "collapsed": false,
     "input": [
      "help(pointPotential)"
     ],
     "language": "python",
     "metadata": {},
     "outputs": [
      {
       "output_type": "stream",
       "stream": "stdout",
       "text": [
        "Help on function pointPotential in module Electrostatics:\n",
        "\n",
        "pointPotential(x, y, q, Xc, Yc)\n",
        "    Return the electric potential for a point charge q at(Xc,Yc)\n",
        "    \n",
        "    Units returned are [Volts] if input units are [meters] and [Coulombs]\n",
        "\n"
       ]
      }
     ],
     "prompt_number": 4
    },
    {
     "cell_type": "code",
     "collapsed": false,
     "input": [
      "def PotentialSq(N, x, y, xmin=-1., xmax=1., ymin=0., ymax=2.):\n",
      "    samples_x = xmin + (xmax-xmin)*np.random.random_sample(N)\n",
      "    samples_y = ymin + (ymax-ymin)*np.random.random_sample(N)\n",
      "    \n",
      "    #since the charge is so small, we just take the value of omega\n",
      "    Q = 1 * 1e-6\n",
      "    \n",
      "    PP = pointPotential(x,y,Q,samples_x,samples_y)\n",
      "    I = PP.mean()*(xmax-xmin)*(ymax-ymin)\n",
      "    Iunc = (ymax-ymin)*(xmax-xmin)*np.sqrt( ((PP**2).mean()- (PP.mean())**2)/N)\n",
      "    \n",
      "    return I, Iunc\n",
      "    \n",
      "    \n",
      "N = [10,100,1000,10000,100000,1000000]\n",
      "for i in N:\n",
      "    print PotentialSq(i,2,3)"
     ],
     "language": "python",
     "metadata": {},
     "outputs": [
      {
       "output_type": "stream",
       "stream": "stdout",
       "text": [
<<<<<<< HEAD
        "(12514.657920396083, 1095.8003038996571)\n",
        "(12845.795097846416, 292.13056222719672)\n",
        "(13022.745388078471, 95.580326015504156)\n",
        "(13005.674123588515, 29.671207953079531)\n",
        "(13035.076455756638, 9.4154745577242238)\n",
        "(13022.902349874263, 2.9714916346860001)"
=======
        "(12721.291879795446, 1125.541471965146)\n",
        "(12570.555443457502, 262.02743640326435)\n",
        "(13079.249069420652, 99.054631606390316)\n",
        "(13036.343807583549, 29.569201251085701)\n",
        "(13033.910036156652, 9.4157035845858665)\n",
        "(13025.515736334199, 2.9713805050769229)"
>>>>>>> eda372ef9a9730d225ea3eb5748539dac7e4d503
       ]
      },
      {
       "output_type": "stream",
       "stream": "stdout",
       "text": [
        "\n"
       ]
      }
     ],
     "prompt_number": 5
    },
    {
     "cell_type": "markdown",
     "metadata": {},
     "source": [
      "(b) Now use the same method to compute the electric potential, V, at point P(2,3), from a disk centered on the origin with radius, R=1.2 cm, and charge density, \u03c3 = 2 nC/m2 ."
     ]
    },
    {
     "cell_type": "code",
     "collapsed": false,
     "input": [
      "def PotentialCirc(N,x,y):\n",
      "    thetaf = 2*np.pi\n",
      "    rf = 1.2 #meters\n",
      "    Q = 2 * 1e-9\n",
      "    ymax = rf*np.sin(thetaf)\n",
      "    xmax = rf*np.cos(thetaf)\n",
      "    \n",
      "    \n",
      "\n",
      "    xsamp = (xmax)*random.random_sample(N)\n",
      "    ysamp = (ymax)*random.random_sample(N)\n",
      "    PP = pointPotential(x,y,Q,xsamp,ysamp)\n",
      "        \n",
      "    I = PP.mean()*(xmax)*(ymax)\n",
      "    Iunc = (ymax)*(xmax)*np.sqrt( ((PP**2).mean() - (PP.mean())**2)/N)\n",
      "        \n",
      "    \n",
      "    return I, Iunc\n",
      "\n",
      "\n",
      "for i in N:\n",
      "    print PotentialCirc(i,2,3)"
     ],
     "language": "python",
     "metadata": {},
     "outputs": [
      {
       "output_type": "stream",
       "stream": "stdout",
       "text": [
<<<<<<< HEAD
        "(-1.9291837217714689e-15, -2.3051336104647259e-17)\n",
        "(-1.9193634606506082e-15, -8.2740364571356349e-18)\n",
        "(-1.9095762790706919e-15, -2.6097865219720698e-18)\n",
        "(-1.9087263931664246e-15, -8.3686806546543546e-19)\n",
        "(-1.9098669571002528e-15, -2.6230889852554424e-19)\n",
        "(-1.9100168653286079e-15, -8.3154518342698585e-20)"
=======
        "(-1.8950784188929756e-15, -2.380234628757125e-17)\n",
        "(-1.9166069270929962e-15, -8.3192256902164341e-18)\n",
        "(-1.9079008456100399e-15, -2.6314023905539997e-18)\n",
        "(-1.9103767296173755e-15, -8.3909770785837258e-19)\n",
        "(-1.9101532027883976e-15, -2.623381440833959e-19)\n",
        "(-1.9101255743839625e-15, -8.314797656611648e-20)"
>>>>>>> eda372ef9a9730d225ea3eb5748539dac7e4d503
       ]
      },
      {
       "output_type": "stream",
       "stream": "stdout",
       "text": [
        "\n"
       ]
      }
     ],
     "prompt_number": 6
    },
    {
     "cell_type": "markdown",
     "metadata": {},
     "source": [
      "\n",
      "Use the sample mean method to compute the volume of a sphere with radius 1 using spherical coordinates:\n",
      "V=\u222b10\u222b\u03c00\u222b2\u03c00r2sin(\u03b8)drd\u03b8d\u03d5\n",
      "for N=(101,102,103,104,105,106). Report the value and statistical uncertainty for each sample size. How does the result depend on N?"
     ]
    },
    {
     "cell_type": "code",
     "collapsed": false,
     "input": [
      "def Volume(N):\n",
      "    Volume = lambda r, theta, phi: (r**2)*sin(theta)*1\n",
      "    \n",
      "    rf = 1\n",
      "    thetaf = 2*np.pi\n",
      "    phif = np.pi \n",
      "    \n",
      "    rsamp = (rf)*random.random_sample(N)\n",
      "    thetasamp = (rf)*random.random_sample(N)\n",
      "    phisamp = (rf)*random.random_sample(N)\n",
      "    \n",
      "    Vsamp = Volume(rsamp,thetasamp,phisamp)\n",
      "    \n",
      "    I = Vsamp.mean()*(rf)*(thetaf)*(phif)\n",
      "    Iunc = (rf)*(thetaf)*(phif)*np.sqrt( ((Vsamp**2).mean() - (Vsamp.mean())**2)/N)\n",
      "    \n",
      "    return I, Iunc\n",
      "\n",
      "for i in N:\n",
      "    print Volume(i)"
     ],
     "language": "python",
     "metadata": {},
     "outputs": [
      {
       "output_type": "stream",
       "stream": "stdout",
       "text": [
<<<<<<< HEAD
        "(5.5197666983030196, 1.4616089323139698)\n",
        "(3.1880456789448655, 0.38632796402367303)\n",
        "(2.8028709752369001, 0.10220691555842101)\n",
        "(2.9924934946460553, 0.034495061981383676)\n",
        "(3.0170789405360137, 0.010997948696786138)\n",
        "(3.0260017606403991, 0.0034813778474524575)"
=======
        "(2.556294540596812, 1.0867946275659219)\n",
        "(2.9534383706293617, 0.33107927752886274)\n",
        "(3.0108653631910451, 0.11116669991493902)\n",
        "(3.0546845895718953, 0.035137434284765214)\n",
        "(3.0167215498812765, 0.010942588915845241)\n",
        "(3.0212206055559654, 0.0034820520847304534)"
>>>>>>> eda372ef9a9730d225ea3eb5748539dac7e4d503
       ]
      },
      {
       "output_type": "stream",
       "stream": "stdout",
       "text": [
        "\n"
       ]
      }
     ],
     "prompt_number": 7
    },
    {
     "cell_type": "markdown",
     "metadata": {},
     "source": [
      "(a) Use the hit or miss Monte Carlo method to estimate the integral of f(x)=41\u2212x2\u203e\u203e\u203e\u203e\u203e\u203e\u203e\u221a in the interval 0\u2264x\u22641 as a function of N, the number of samples. Let N range from 101 to 106 and use at least 100 different values for N.\n",
      "(np.logspace might be useful here to get evenly spaced values for N.)"
     ]
    },
    {
     "cell_type": "code",
     "collapsed": false,
     "input": [
      "help(np.logspace)"
     ],
     "language": "python",
     "metadata": {},
     "outputs": [
      {
       "output_type": "stream",
       "stream": "stdout",
       "text": [
        "Help on function logspace in module numpy.core.function_base:\n",
        "\n",
        "logspace(start, stop, num=50, endpoint=True, base=10.0)\n",
        "    Return numbers spaced evenly on a log scale.\n",
        "    \n",
        "    In linear space, the sequence starts at ``base ** start``\n",
        "    (`base` to the power of `start`) and ends with ``base ** stop``\n",
        "    (see `endpoint` below).\n",
        "    \n",
        "    Parameters\n",
        "    ----------\n",
        "    start : float\n",
        "        ``base ** start`` is the starting value of the sequence.\n",
        "    stop : float\n",
        "        ``base ** stop`` is the final value of the sequence, unless `endpoint`\n",
        "        is False.  In that case, ``num + 1`` values are spaced over the\n",
        "        interval in log-space, of which all but the last (a sequence of\n",
        "        length ``num``) are returned.\n",
        "    num : integer, optional\n",
        "        Number of samples to generate.  Default is 50.\n",
        "    endpoint : boolean, optional\n",
        "        If true, `stop` is the last sample. Otherwise, it is not included.\n",
        "        Default is True.\n",
        "    base : float, optional\n",
        "        The base of the log space. The step size between the elements in\n",
        "        ``ln(samples) / ln(base)`` (or ``log_base(samples)``) is uniform.\n",
        "        Default is 10.0.\n",
        "    \n",
        "    Returns\n",
        "    -------\n",
        "    samples : ndarray\n",
        "        `num` samples, equally spaced on a log scale.\n",
        "    \n",
        "    See Also\n",
        "    --------\n",
        "    arange : Similar to linspace, with the step size specified instead of the\n",
        "             number of samples. Note that, when used with a float endpoint, the\n",
        "             endpoint may or may not be included.\n",
        "    linspace : Similar to logspace, but with the samples uniformly distributed\n",
        "               in linear space, instead of log space.\n",
        "    \n",
        "    Notes\n",
        "    -----\n",
        "    Logspace is equivalent to the code\n",
        "    \n",
        "    >>> y = np.linspace(start, stop, num=num, endpoint=endpoint)\n",
        "    ... # doctest: +SKIP\n",
        "    >>> power(base, y)\n",
        "    ... # doctest: +SKIP\n",
        "    \n",
        "    Examples\n",
        "    --------\n",
        "    >>> np.logspace(2.0, 3.0, num=4)\n",
        "        array([  100.        ,   215.443469  ,   464.15888336,  1000.        ])\n",
        "    >>> np.logspace(2.0, 3.0, num=4, endpoint=False)\n",
        "        array([ 100.        ,  177.827941  ,  316.22776602,  562.34132519])\n",
        "    >>> np.logspace(2.0, 3.0, num=4, base=2.0)\n",
        "        array([ 4.        ,  5.0396842 ,  6.34960421,  8.        ])\n",
        "    \n",
        "    Graphical illustration:\n",
        "    \n",
        "    >>> import matplotlib.pyplot as plt\n",
        "    >>> N = 10\n",
        "    >>> x1 = np.logspace(0.1, 1, N, endpoint=True)\n",
        "    >>> x2 = np.logspace(0.1, 1, N, endpoint=False)\n",
        "    >>> y = np.zeros(N)\n",
        "    >>> plt.plot(x1, y, 'o')\n",
        "    [<matplotlib.lines.Line2D object at 0x...>]\n",
        "    >>> plt.plot(x2, y + 0.5, 'o')\n",
        "    [<matplotlib.lines.Line2D object at 0x...>]\n",
        "    >>> plt.ylim([-0.5, 1])\n",
        "    (-0.5, 1)\n",
        "    >>> plt.show()\n",
        "\n"
       ]
      }
     ],
     "prompt_number": 8
    },
    {
     "cell_type": "code",
     "collapsed": false,
     "input": [
      "def HorM(N,xmin=0,xmax=1):\n",
      "    f = lambda x: 4*np.sqrt(1-x**2)\n",
      "    x = np.arange(0,1+.001,0.001)\n",
      "    \n",
      "    #The boolean mask\n",
      "    maskx = x[logical_and((x > xmin),(x < xmax))]\n",
      "    ymax = f(maskx).max() *1.05\n",
      "    ymin = 0\n",
      "    \n",
      "    \n",
      "    xsamp = xmin + (xmax)*random.random_sample(N)\n",
      "    ysamp = ymin + (ymax)*random.random_sample(N)\n",
      "    \n",
      "    mask = (ysamp < f(xsamp))\n",
      "    I = (xmax)*(ymax)*mask.sum()/mask.size\n",
      "    \n",
      "    return I\n",
      "    \n",
      "    \n",
      "    \n",
      "    \n",
      "print HorM(100)\n",
      "#Keep getting None along with the value"
     ],
     "language": "python",
     "metadata": {},
     "outputs": [
      {
       "output_type": "stream",
       "stream": "stdout",
       "text": [
        "3.149998425\n"
       ]
      }
     ],
     "prompt_number": 9
    },
    {
     "cell_type": "code",
     "collapsed": false,
     "input": [
      "arrvalue = []    \n",
      "N = np.logspace(1,6,100, base = 10)\n",
      "for i in N:\n",
      "    print HorM(i)\n",
      "    arrvalue.append(HorM(i))"
     ],
     "language": "python",
     "metadata": {},
     "outputs": [
      {
       "output_type": "stream",
       "stream": "stdout",
       "text": [
<<<<<<< HEAD
        "4.1999979\n",
        "3.05454392727\n",
        "3.149998425\n",
        "3.29999835\n",
        "3.35999832\n",
        "3.2117631\n",
        "2.51999874\n",
        "3.24545292273\n",
        "3.023998488\n",
        "3.29999835\n",
        "3.38709508064\n",
        "3.11999844\n",
        "2.8349985825\n",
        "3.35999832\n",
        "3.107998446\n",
        "2.94736694737\n",
        "3.28124835937\n",
        "3.26666503333\n",
        "3.37036868518\n",
        "3.09230614615\n",
        "3.0470573\n",
        "3.05789320789\n",
        "3.0930217093\n",
        "3.09930879517\n",
        "3.05925772963\n",
        "2.96065425738\n",
        "3.27804714146\n",
        "2.90908945455\n",
        "3.22702541351\n",
        "3.13195719691\n",
        "3.21100756881\n",
        "3.19291393488\n",
        "3.19321874237\n",
        "3.149998425\n",
        "3.13589094645\n",
        "3.27384451692\n",
        "3.10684776164\n",
        "3.16562764587\n",
        "3.27903450506\n",
        "3.11845337639\n",
        "3.06876637393\n",
        "3.11071273036\n",
        "3.24935492339\n",
        "3.12169655236\n",
        "3.13237253453\n",
        "3.14831663193\n",
        "3.0821277365\n",
        "3.12512534099\n",
        "3.11362796126\n",
        "3.12993474076\n",
        "3.11083103187\n",
        "3.13437675375\n",
        "3.11747302154\n",
        "3.18492472333\n",
        "3.16731475817\n",
        "3.0977962489\n",
        "3.08482174241\n",
        "3.14611159458\n",
        "3.13183319929\n",
        "3.16550915585\n",
        "3.15371974379\n",
        "3.130210141\n",
        "3.16381216532\n",
        "3.11124260518\n",
        "3.12570569422"
       ]
      },
      {
       "output_type": "stream",
       "stream": "stdout",
       "text": [
        "\n",
        "3.13351947188\n",
        "3.1599408634\n",
        "3.1385877452\n",
        "3.15559893719\n",
        "3.12503609548\n",
        "3.14583564723\n",
        "3.13384039493"
       ]
      },
      {
       "output_type": "stream",
       "stream": "stdout",
       "text": [
        "\n",
        "3.14162986587\n",
        "3.14166338207\n",
        "3.14942173458\n",
        "3.1393716274"
=======
        "2.51999874\n",
        "3.81817990909\n",
        "3.149998425\n",
        "2.69999865\n",
        "3.91999804\n",
        "2.470587\n",
        "2.729998635\n",
        "3.43636191818\n",
        "3.527998236\n",
        "2.9999985\n",
        "3.38709508064\n",
        "2.9999985\n",
        "3.0449984775\n",
        "3.35999832\n",
        "3.191998404\n",
        "3.61052451053\n",
        "3.08437345781\n",
        "2.91666520833\n",
        "2.95555407778\n",
        "2.9999985\n",
        "2.9647044\n",
        "3.27894572895\n",
        "3.0930217093\n",
        "2.92551577862\n",
        "3.13703546852\n",
        "3.25901476393\n",
        "3.31902273073\n",
        "3.23636201818\n",
        "3.17837678919\n",
        "3.01649333711\n",
        "3.14678741743\n",
        "3.28446702262\n",
        "3.24406617458\n",
        "3.13189498578\n",
        "3.14395236276\n",
        "3.12307536154\n",
        "3.08127699817\n",
        "3.28497805981\n",
        "3.12216711361\n",
        "3.07789545676\n",
        "3.13696118223\n",
        "3.18571269286\n",
        "3.09038452596\n",
        "3.14716823774\n",
        "3.149998425\n",
        "3.16401336727\n",
        "3.09809731027\n",
        "3.17131821129\n",
        "3.14841710049\n",
        "3.13979058565\n",
        "3.13589816347\n",
        "3.10759674588\n",
        "3.14826042634\n",
        "3.15574579055\n",
        "3.10670759207\n",
        "3.14123967062\n",
        "3.15093397547\n",
        "3.16776679264\n",
        "3.13035032373\n",
        "3.16946934245\n",
        "3.15998722806\n",
        "3.14241436902\n",
        "3.14177226503\n",
        "3.14136299278\n",
        "3.16457406347\n",
        "3.13746128126\n",
        "3.14590447978\n",
        "3.14639733594\n",
        "3.13752280129\n",
        "3.14910445728\n",
        "3.14644782043\n",
        "3.13700115629\n",
        "3.13862203593"
>>>>>>> eda372ef9a9730d225ea3eb5748539dac7e4d503
       ]
      },
      {
       "output_type": "stream",
       "stream": "stdout",
       "text": [
        "\n",
<<<<<<< HEAD
        "3.14564158071\n",
        "3.14677082865\n",
        "3.14350338375\n",
        "3.13576915883"
=======
        "3.14874600922\n",
        "3.14065604016\n",
        "3.14361550148\n",
        "3.14186361782\n",
        "3.14736752713\n",
        "3.14707686369\n",
        "3.13413558749\n",
        "3.14468858428"
>>>>>>> eda372ef9a9730d225ea3eb5748539dac7e4d503
       ]
      },
      {
       "output_type": "stream",
       "stream": "stdout",
       "text": [
        "\n",
<<<<<<< HEAD
        "3.14170359275\n",
        "3.1460125083"
=======
        "3.14015287008\n",
        "3.13953542983\n",
        "3.14170328943\n",
        "3.13903889926"
>>>>>>> eda372ef9a9730d225ea3eb5748539dac7e4d503
       ]
      },
      {
       "output_type": "stream",
       "stream": "stdout",
       "text": [
        "\n",
<<<<<<< HEAD
        "3.14924023694\n",
        "3.14704889348"
=======
        "3.13940771386\n",
        "3.14200366225\n",
        "3.15102847208"
>>>>>>> eda372ef9a9730d225ea3eb5748539dac7e4d503
       ]
      },
      {
       "output_type": "stream",
       "stream": "stdout",
       "text": [
        "\n",
<<<<<<< HEAD
        "3.14629718166\n",
        "3.13957887686"
=======
        "3.14534568074\n",
        "3.14181196906"
>>>>>>> eda372ef9a9730d225ea3eb5748539dac7e4d503
       ]
      },
      {
       "output_type": "stream",
       "stream": "stdout",
       "text": [
        "\n",
<<<<<<< HEAD
        "3.14244173144"
=======
        "3.13785425773\n",
        "3.14650570325"
>>>>>>> eda372ef9a9730d225ea3eb5748539dac7e4d503
       ]
      },
      {
       "output_type": "stream",
       "stream": "stdout",
       "text": [
        "\n",
<<<<<<< HEAD
        "3.13515811705"
=======
        "3.14173705713"
>>>>>>> eda372ef9a9730d225ea3eb5748539dac7e4d503
       ]
      },
      {
       "output_type": "stream",
       "stream": "stdout",
       "text": [
        "\n",
<<<<<<< HEAD
        "3.14300610131"
=======
        "3.14019678152"
>>>>>>> eda372ef9a9730d225ea3eb5748539dac7e4d503
       ]
      },
      {
       "output_type": "stream",
       "stream": "stdout",
       "text": [
        "\n",
<<<<<<< HEAD
        "3.14217476645"
=======
        "3.1404446263"
>>>>>>> eda372ef9a9730d225ea3eb5748539dac7e4d503
       ]
      },
      {
       "output_type": "stream",
       "stream": "stdout",
       "text": [
        "\n",
<<<<<<< HEAD
        "3.1372561702"
=======
        "3.13765481328"
>>>>>>> eda372ef9a9730d225ea3eb5748539dac7e4d503
       ]
      },
      {
       "output_type": "stream",
       "stream": "stdout",
       "text": [
        "\n",
<<<<<<< HEAD
        "3.1403934402"
=======
        "3.14046109349"
>>>>>>> eda372ef9a9730d225ea3eb5748539dac7e4d503
       ]
      },
      {
       "output_type": "stream",
       "stream": "stdout",
       "text": [
        "\n",
<<<<<<< HEAD
        "3.14176549558"
=======
        "3.1390145848"
>>>>>>> eda372ef9a9730d225ea3eb5748539dac7e4d503
       ]
      },
      {
       "output_type": "stream",
       "stream": "stdout",
       "text": [
        "\n",
<<<<<<< HEAD
        "3.13937821982"
=======
        "3.14146717558"
>>>>>>> eda372ef9a9730d225ea3eb5748539dac7e4d503
       ]
      },
      {
       "output_type": "stream",
       "stream": "stdout",
       "text": [
        "\n",
<<<<<<< HEAD
        "3.1401065717"
       ]
      },
      {
       "output_type": "stream",
       "stream": "stdout",
       "text": [
        "\n",
        "3.13913276977"
       ]
      },
      {
       "output_type": "stream",
       "stream": "stdout",
       "text": [
        "\n",
        "3.14071113589"
       ]
      },
      {
       "output_type": "stream",
       "stream": "stdout",
       "text": [
        "\n",
        "3.1415902887"
       ]
      },
      {
       "output_type": "stream",
       "stream": "stdout",
       "text": [
        "\n",
        "3.13792398835"
       ]
      },
      {
       "output_type": "stream",
       "stream": "stdout",
       "text": [
        "\n",
        "3.13988063006"
=======
        "3.13851143074"
>>>>>>> eda372ef9a9730d225ea3eb5748539dac7e4d503
       ]
      },
      {
       "output_type": "stream",
       "stream": "stdout",
       "text": [
        "\n"
       ]
      }
     ],
     "prompt_number": 10
    },
    {
     "cell_type": "code",
     "collapsed": false,
     "input": [
      "f1 = lambda x: 4*np.sqrt(1-x**2)\n",
      "tru = np.pi\n",
      "\n",
      "def Err(array, x):\n",
      "    errarray = []\n",
      "    \n",
      "    for i in array:\n",
      "        err = (x - i)/x * 100\n",
      "        errarray.append(err)\n",
      "        \n",
      "    return errarray\n",
      "\n",
      "errors = Err(arrvalue, tru)\n",
      "\n",
      "plt.plot(N, errors)\n",
      "plt.xlabel(r'$ N values$',fontsize=20)\n",
      "plt.ylabel(r'$ Error %$',fontsize=20)\n",
      "plt.yscale('log')\n",
      "plt.xscale('log')\n",
      "plt.show()"
     ],
     "language": "python",
     "metadata": {},
     "outputs": [
      {
       "metadata": {},
       "output_type": "display_data",
<<<<<<< HEAD
       "png": "iVBORw0KGgoAAAANSUhEUgAAAZcAAAEfCAYAAACNhYu4AAAABHNCSVQICAgIfAhkiAAAAAlwSFlz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\nLkREJDsmFyIikt3/AZyEIUXndx5XAAAAAElFTkSuQmCC\n",
       "text": [
        "<matplotlib.figure.Figure at 0x101e6a790>"
=======
       "png": "iVBORw0KGgoAAAANSUhEUgAAAZcAAAEfCAYAAACNhYu4AAAABHNCSVQICAgIfAhkiAAAAAlwSFlz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\nSUVORK5CYII=\n",
       "text": [
        "<matplotlib.figure.Figure at 0x10622b650>"
>>>>>>> eda372ef9a9730d225ea3eb5748539dac7e4d503
       ]
      }
     ],
     "prompt_number": 11
    },
    {
     "cell_type": "code",
     "collapsed": false,
     "input": [
      "#It seems that the error gets closer to 0 as we get a larger sample"
     ],
     "language": "python",
     "metadata": {},
     "outputs": [],
     "prompt_number": 12
<<<<<<< HEAD
=======
    },
    {
     "cell_type": "code",
     "collapsed": false,
     "input": [
      "def sampleMean(N, xmin=0., xmax=1.):\n",
      "    f = lambda x: 4*np.sqrt(1-x**2)\n",
      "    x = np.arange(0.,1.001,.001)\n",
      "    Iana = lambda x: 2*(np.sqrt(1-x**2)*x + np.arcsin(x))\n",
      "    Itru = Iana(xmax) - Iana(xmin)\n",
      "    \n",
      "    \n",
      "    x_samples = (xmax)*np.random.random_sample(N)\n",
      "    \n",
      "    approx = f(x_samples)\n",
      "    \n",
      "    Integral = approx.mean() * (xmax)\n",
      "    \n",
      "    \n",
      "    #Finding the uncertainity of the integral\n",
      "    Iunc = (xmax)*np.sqrt( ((approx**2).mean() - (approx.mean())**2)/N)\n",
      "    Ierr = 100*np.abs((Itru - Integral)/Itru)\n",
      "    \n",
      "    ymax = approx.max()\n",
      "    ymin = 0.\n",
      "    \n",
      "    \n",
      "    return Integral, Iunc, Ierr"
     ],
     "language": "python",
     "metadata": {},
     "outputs": [],
     "prompt_number": 13
>>>>>>> eda372ef9a9730d225ea3eb5748539dac7e4d503
    },
    {
     "cell_type": "code",
     "collapsed": false,
     "input": [
<<<<<<< HEAD
      "def sampleMean(N, xmin=0., xmax=1.):\n",
      "    f = lambda x: 4*np.sqrt(1-x**2)\n",
      "    x = np.arange(0.,1.001,.001)\n",
      "    Iana = lambda x: 2*(np.sqrt(1-x**2)*x + np.arcsin(x))\n",
      "    Itru = Iana(xmax) - Iana(xmin)\n",
      "    \n",
      "    "
     ],
     "language": "python",
     "metadata": {},
     "outputs": [],
     "prompt_number": 13
=======
      "N1 = np.logspace(4,6,100,base=10)\n",
      "I = []\n",
      "Unc = []\n",
      "Err = []\n",
      "\n",
      "for i in range(len(N1)):\n",
      "    arr3d = sampleMean(N1[i])\n",
      "    I.append(arr3d[0])\n",
      "    Unc.append(arr3d[1])\n",
      "    Err.append(arr3d[2])\n",
      "\n",
      "for i in range(len(I)):\n",
      "    print \"Integral\", \"\\tUncertainty\", \"\\tError\"\n",
      "    print I[i], Unc[i], Err[i], \"\\n\""
     ],
     "language": "python",
     "metadata": {},
     "outputs": [
      {
       "output_type": "stream",
       "stream": "stdout",
       "text": [
        "Integral \tUncertainty \tError\n",
        "3.13977089048 0.0088947655937 0.05798852072 \n",
        "\n",
        "Integral \tUncertainty \tError\n",
        "3.14265067458 0.00864141680484 0.0336778542371 \n",
        "\n",
        "Integral \tUncertainty \tError\n",
        "3.15001111863 0.00847681233006 0.267968065014 \n",
        "\n",
        "Integral \tUncertainty \tError\n",
        "3.15613092742 0.00823859983354 0.462767628808 \n",
        "\n",
        "Integral \tUncertainty \tError\n",
        "3.14375618847 0.00808669300002 0.0688674540892 \n",
        "\n",
        "Integral \tUncertainty \tError\n",
        "3.1310838623 0.00803227005497 0.334505216047 \n",
        "\n",
        "Integral \tUncertainty \tError\n",
        "3.1379207613 0.00780508820208 0.116879961574 \n",
        "\n",
        "Integral \tUncertainty \tError\n",
        "3.14103634216 0.00760751363813 0.0177079426941 \n",
        "\n",
        "Integral \tUncertainty \tError\n",
        "3.14436608924 0.00742532920501 0.0882811984679 \n",
        "\n",
        "Integral \tUncertainty \tError\n",
        "3.1385238117 0.00727006630499 0.0976842713865 \n",
        "\n",
        "Integral \tUncertainty \tError\n",
        "3.14276557479 0.00706584673943 0.0373352413218 \n",
        "\n",
        "Integral \tUncertainty \tError\n",
        "3.13543490777 0.0069607970647 0.196007137136 \n",
        "\n",
        "Integral \tUncertainty \tError\n",
        "3.13079890129 0.00675780707054 0.343575806651 \n",
        "\n",
        "Integral \tUncertainty \tError\n",
        "3.11993251042 0.00667137369121 0.689463770713 \n",
        "\n",
        "Integral \tUncertainty \tError\n",
        "3.12863556916 0.00653886431362 0.412436807086 \n",
        "\n",
        "Integral \tUncertainty \tError\n",
        "3.14007284172 0.00631616737145 0.0483771142675 \n",
        "\n",
        "Integral \tUncertainty \tError\n",
        "3.13262237234 0.00620016051555 0.285532920403 \n",
        "\n",
        "Integral \tUncertainty \tError\n",
        "3.13661554216 0.00603226036178 0.158426377209 \n",
        "\n",
        "Integral \tUncertainty \tError\n",
        "3.13985762306 0.0058917967681 0.0552277370222 \n",
        "\n",
        "Integral \tUncertainty \tError\n",
        "3.14466435795 0.00573441446793 0.0977753866247 \n",
        "\n",
        "Integral \tUncertainty \tError\n",
        "3.14571215608 0.0055866141317 0.131127836943 \n",
        "\n",
        "Integral \tUncertainty \tError\n",
        "3.14697342986 0.00544383842072 0.171275428236 \n",
        "\n",
        "Integral \tUncertainty \tError\n",
        "3.14375927121 0.0053232137816 0.0689655806834 \n",
        "\n",
        "Integral \tUncertainty \tError\n",
        "3.14651910161 0.00521899896965 0.156813710761 \n",
        "\n",
        "Integral \tUncertainty \tError\n",
        "3.1435159502 0.00509054236732 0.0612204326459 \n",
        "\n",
        "Integral \tUncertainty \tError\n",
        "3.14003479796 0.00499825373859 0.0495880848635 \n",
        "\n",
        "Integral \tUncertainty \tError\n",
        "3.14954658134 0.00487954545129 0.25318138383 \n",
        "\n",
        "Integral \tUncertainty \tError\n",
        "3.13727802425 0.00479589338732 0.137338917493 \n",
        "\n",
        "Integral \tUncertainty \tError\n",
        "3.14494236941 0.00464879493678 0.106624766218 \n",
        "\n",
        "Integral \tUncertainty \tError\n",
        "3.14574156889 0.00453720352036 0.132064075551 \n",
        "\n",
        "Integral \tUncertainty \tError\n",
        "3.14128500574 0.0044376347321 0.00979273528673 \n",
        "\n",
        "Integral \tUncertainty \tError\n",
        "3.14476100731 0.004315779696 0.100851831209 \n",
        "\n",
        "Integral \tUncertainty \tError\n",
        "3.14164587174 0.00425620069931 0.00169398647532 \n",
        "\n",
        "Integral \tUncertainty \tError\n",
        "3.13766939262 0.00416046215385 0.124881275349 \n",
        "\n",
        "Integral \tUncertainty \tError\n",
        "3.14341669543 0.00403935915656 0.0580610550533 \n",
        "\n",
        "Integral \tUncertainty \tError\n",
        "3.14759684419 0.00391791989908 0.191119322643 \n",
        "\n",
        "Integral \tUncertainty \tError\n",
        "3.14928587065 0.00383102887084 0.244882704576 \n",
        "\n",
        "Integral \tUncertainty \tError\n",
        "3.14455440553 0.00376436839293 0.0942754921491 \n",
        "\n",
        "Integral \tUncertainty \tError\n",
        "3.14368148119 0.0036910225604 0.066489447644 \n",
        "\n",
        "Integral \tUncertainty \tError\n",
        "3.14468775514 0.00360012022621 0.098520142218 \n",
        "\n",
        "Integral \tUncertainty \tError\n",
        "3.13969458188 0.00351153287759 0.0604174989252 \n",
        "\n",
        "Integral \tUncertainty \tError\n",
        "3.14387101773 0.0034418308925 0.0725225829847 \n",
        "\n",
        "Integral \tUncertainty \tError\n",
        "3.14482912705 0.00336215426425 0.103020149863 \n",
        "\n",
        "Integral \tUncertainty \tError\n",
        "3.14150027018 0.00327724572044 0.00294065525904 \n",
        "\n",
        "Integral \tUncertainty \tError\n",
        "3.13828563147 0.00320699930263 0.105265783322 \n",
        "\n",
        "Integral \tUncertainty \tError\n",
        "3.14266275667 0.00313692665528 0.0340624388156 \n",
        "\n",
        "Integral \tUncertainty \tError\n",
        "3.14077507471 0.00306200256962 0.0260243440147 \n",
        "\n",
        "Integral \tUncertainty \tError\n",
        "3.14227697437 0.00299383574996 0.0217826068794 \n",
        "\n",
        "Integral \tUncertainty \tError\n",
        "3.13819039892 0.00293294078254 0.10829712958 \n",
        "\n",
        "Integral \tUncertainty \tError\n",
        "3.13687334778 0.00286582059329 0.150220169379 \n",
        "\n",
        "Integral \tUncertainty \tError\n",
        "3.14246553981 0.00278611806342 0.0277848313348 \n",
        "\n",
        "Integral \tUncertainty \tError\n",
        "3.14150928712 0.00273689841241 0.00265363730019 \n",
        "\n",
        "Integral \tUncertainty \tError\n",
        "3.1386404778 0.00266715921658 0.0939706741201 \n",
        "\n",
        "Integral \tUncertainty \tError\n",
        "3.1417004763 0.0026027508342 0.00343210339512 \n",
        "\n",
        "Integral \tUncertainty \tError\n",
        "3.1431655455 0.00254302639031 0.0500667044332 \n",
        "\n",
        "Integral \tUncertainty \tError\n",
        "3.14689860174 0.00247352343735 0.168893575175 \n",
        "\n",
        "Integral \tUncertainty \tError\n",
        "3.1406022856 0.00242859719379 0.0315243922218 \n",
        "\n",
        "Integral \tUncertainty \tError\n",
        "3.13772362206 0.00237877586456 0.123155098729 \n",
        "\n",
        "Integral \tUncertainty \tError\n",
        "3.14077541603 0.00231636588015 0.0260134795109 \n",
        "\n",
        "Integral \tUncertainty \tError\n",
        "3.13839677408 0.00226872130119 0.101728004284 \n",
        "\n",
        "Integral \tUncertainty \tError\n",
        "3.14384584456 0.00220932438465 0.0717212960235 \n",
        "\n",
        "Integral \tUncertainty \tError\n",
        "3.14050879643 0.00216385405378 0.0345002449517 \n",
        "\n",
        "Integral \tUncertainty \tError\n",
        "3.14059503593 0.00211227520858 0.0317551564439 \n",
        "\n",
        "Integral \tUncertainty \tError\n",
        "3.1462444664 0.00205768023178 0.148071800494 \n",
        "\n",
        "Integral \tUncertainty \tError\n",
        "3.14459439619 0.0020081069647 0.0955484345932 \n",
        "\n",
        "Integral \tUncertainty \tError\n",
        "3.14056110246 0.00196597043913 0.0328352922391 \n",
        "\n",
        "Integral \tUncertainty \tError\n",
        "3.14135764464 0.00192441700946 0.00748056720985 \n",
        "\n",
        "Integral \tUncertainty \tError\n",
        "3.13880593512 0.00188302514297 0.0887040038307 \n",
        "\n",
        "Integral \tUncertainty \tError\n",
        "3.14282425149 0.00183486756977 0.0392029789003 \n",
        "\n",
        "Integral \tUncertainty \tError\n",
        "3.14121430184 0.00179891977459 0.0120433103711 \n",
        "\n",
        "Integral \tUncertainty \tError\n",
        "3.14256278893 0.00174898636566 0.0308803669717 \n",
        "\n",
        "Integral \tUncertainty \tError\n",
        "3.14190893257 0.0017132911531 0.010067472547 \n",
        "\n",
        "Integral \tUncertainty \tError\n",
        "3.14455535219 0.00166764325236 0.0943056255051 \n",
        "\n",
        "Integral \tUncertainty \tError\n",
        "3.1421689113 0.00163771279196 0.0183428527652 \n",
        "\n",
        "Integral \tUncertainty \tError\n",
        "3.14050720341 0.00160157731578 0.0345509522497 \n",
        "\n",
        "Integral \tUncertainty \tError\n",
        "3.14292740243 0.00155899706752 0.0424863751074 \n",
        "\n",
        "Integral \tUncertainty \tError\n",
        "3.13974855672 0.00152601447315 0.0586994263908 \n",
        "\n",
        "Integral \tUncertainty \tError\n",
        "3.13879185948 0.00149336275374 0.0891520454708 \n",
        "\n",
        "Integral \tUncertainty \tError\n",
        "3.14067692446 0.00145659021477 0.0291485635899 \n",
        "\n",
        "Integral \tUncertainty \tError\n",
        "3.13871438772 0.00142533602937 0.0916180481272 \n",
        "\n",
        "Integral \tUncertainty \tError\n",
        "3.14186755508 0.00138986340073 0.00875038631882 \n",
        "\n",
        "Integral \tUncertainty \tError\n",
        "3.14174731912 0.00135667572183 0.00492315676572 \n",
        "\n",
        "Integral \tUncertainty \tError\n",
        "3.14149611888 0.0013252527696 0.00307279536345 \n",
        "\n",
        "Integral \tUncertainty \tError\n",
        "3.13793444977 0.00129765122623 0.116444244104 \n",
        "\n",
        "Integral \tUncertainty \tError\n",
        "3.14235810196 0.00126611234483 0.0243649782513 \n",
        "\n",
        "Integral \tUncertainty \tError\n",
        "3.13994149837 0.0012393981665 0.0525579028602 \n",
        "\n",
        "Integral \tUncertainty \tError\n",
        "3.14171025775 0.00120731797307 0.00374345662764 \n",
        "\n",
        "Integral \tUncertainty \tError\n",
        "3.14199177325 0.00117979609487 0.012704373276 \n",
        "\n",
        "Integral \tUncertainty \tError\n",
        "3.14189987533 0.00115392732906 0.00977917171558 \n",
        "\n",
        "Integral \tUncertainty \tError\n",
        "3.14267870778 0.00112477970471 0.0345701784341 \n",
        "\n",
        "Integral \tUncertainty \tError\n",
        "3.14125301288 0.00110142637659 0.0108110996226 \n",
        "\n",
        "Integral \tUncertainty \tError\n",
        "3.14107952052 0.00107524728126 0.016333532904 \n",
        "\n",
        "Integral \tUncertainty \tError\n",
        "3.14057441011 0.00105119735142 0.0324116967559 \n",
        "\n",
        "Integral \tUncertainty \tError\n",
        "3.1401179418 0.00102715270783 0.0469415342917 \n",
        "\n",
        "Integral \tUncertainty \tError\n",
        "3.14153347045 0.0010032560429 0.00188385791416 \n",
        "\n",
        "Integral \tUncertainty \tError\n",
        "3.1411085758 0.000979450219823 0.0154086747097 \n",
        "\n",
        "Integral \tUncertainty \tError\n",
        "3.14083173751 0.000958451009101 0.0242207109233 \n",
        "\n",
        "Integral \tUncertainty \tError\n",
        "3.14258889264 0.00093460116398 0.0317112739133 \n",
        "\n",
        "Integral \tUncertainty \tError\n",
        "3.14009097334 0.000914915120862 0.0477999670241 \n",
        "\n",
        "Integral \tUncertainty \tError\n",
        "3.14298678516 0.000891678004174 0.0443765860604 \n",
        "\n"
       ]
      }
     ],
     "prompt_number": 34
    },
    {
     "cell_type": "code",
     "collapsed": false,
     "input": [
      "plt.plot(N1, I, color='r', label = \"Sample Mean Integral\")\n",
      "plt.legend()\n",
      "plt.show()"
     ],
     "language": "python",
     "metadata": {},
     "outputs": [
      {
       "metadata": {},
       "output_type": "display_data",
       "png": "iVBORw0KGgoAAAANSUhEUgAAAZEAAAEACAYAAAByG0uxAAAABHNCSVQICAgIfAhkiAAAAAlwSFlz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\n/wMUguaQy/yoWQAAAABJRU5ErkJggg==\n",
       "text": [
        "<matplotlib.figure.Figure at 0x10078ce50>"
       ]
      }
     ],
     "prompt_number": 35
    },
    {
     "cell_type": "code",
     "collapsed": false,
     "input": [
      "plt.plot(N1, Unc, color='g',label='Uncertainty')\n",
      "plt.yscale('log')\n",
      "plt.xscale('log')\n",
      "plt.legend()\n",
      "plt.show()"
     ],
     "language": "python",
     "metadata": {},
     "outputs": [
      {
       "metadata": {},
       "output_type": "display_data",
       "png": "iVBORw0KGgoAAAANSUhEUgAAAX8AAAEHCAYAAABGNUbLAAAABHNCSVQICAgIfAhkiAAAAAlwSFlz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\nAElFTkSuQmCC\n",
       "text": [
        "<matplotlib.figure.Figure at 0x10634e510>"
       ]
      }
     ],
     "prompt_number": 36
    },
    {
     "cell_type": "code",
     "collapsed": false,
     "input": [
      "plt.plot(N1, Err, color='b', label='Error')\n",
      "plt.yscale('log')\n",
      "plt.xscale('log')\n",
      "plt.legend()\n",
      "plt.show()"
     ],
     "language": "python",
     "metadata": {},
     "outputs": [
      {
       "metadata": {},
       "output_type": "display_data",
       "png": "iVBORw0KGgoAAAANSUhEUgAAAX8AAAEHCAYAAABGNUbLAAAABHNCSVQICAgIfAhkiAAAAAlwSFlz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\nPPjV2EkAAAAASUVORK5CYII=\n",
       "text": [
        "<matplotlib.figure.Figure at 0x10078c050>"
       ]
      }
     ],
     "prompt_number": 37
>>>>>>> eda372ef9a9730d225ea3eb5748539dac7e4d503
    }
   ],
   "metadata": {}
  }
 ]
}