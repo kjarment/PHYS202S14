{
 "metadata": {
  "name": "",
  "signature": "sha256:2d241dc6a753f2a87ab0bd0517b3f9aa926cb32740085902449939513f865e2a"
 },
 "nbformat": 3,
 "nbformat_minor": 0,
 "worksheets": [
  {
   "cells": [
    {
     "cell_type": "heading",
     "level": 1,
     "metadata": {},
     "source": [
      "Differentiation Excercises"
     ]
    },
    {
     "cell_type": "code",
     "collapsed": false,
     "input": [
      "%pylab inline\n",
      "import numpy as np\n",
      "import matplotlib.pyplot as plt"
     ],
     "language": "python",
     "metadata": {},
     "outputs": [
      {
       "output_type": "stream",
       "stream": "stdout",
       "text": [
        "Populating the interactive namespace from numpy and matplotlib\n"
       ]
      }
     ],
     "prompt_number": 2
    },
    {
     "cell_type": "raw",
     "metadata": {},
     "source": [
      "Let\u2019s explore the accuracy of numerical differentiation.\n",
      "(a) Write two functions called twoPtForwardDiff(x,y) and twoPtCenteredDiff(x,y) that take as arguments arrays of values x and y(x) and return the derivatives of y with respect to x. Make sure that the arrays returned by the function have the same shape as the input arrays.\n",
      "    def twoPtForwardDiff(x,y):\n",
      "        \"\"\"include a docstring to describe what your function does\"\"\"\n",
      "    \n",
      "        # your code goes here ...\n",
      "    \n",
      "        return dydx\n",
      "        \n",
      "    def twoPtCenteredDiff(x,y):\n",
      "        \"\"\"include a docstring to describe what your function does\"\"\"\n",
      "    \n",
      "        # your code goes here ...\n",
      "    \n",
      "        return dydx"
     ]
    },
    {
     "cell_type": "code",
     "collapsed": false,
     "input": [
      "def twoPtForwardDiff(x,y):\n",
      "    \"\"\"\n",
      "    Creates an array dydx, which is the derivative of y w.r.t x\n",
      "    We slice the array and calculate the derivative using the method most\n",
      "    familiar to us: By taking the change in y and dividing by the change in x\n",
      "    moving to the right on our graph. After, we return dydx.\n",
      "    \"\"\"\n",
      "    \n",
      "    dydx = np.zeros(y.shape,float)\n",
      "    dydx[0:-1] = np.diff(y)/np.diff(x)\n",
      "    dydx[-1] = (y[-1] - y[-2])/(x[-1] - x[-2])\n",
      "    return dydx\n",
      "\n",
      "def twoPtCenteredDiff(x,y):\n",
      "    \"\"\"\n",
      "    Creates an array that generates the derivative of y w.r.t x. \n",
      "    We are taking the points that are on opposites sides of the array\n",
      "    and calcuting the slope using these points. \n",
      "    \"\"\"\n",
      "    dydxc = np.zeros(y.shape,float)\n",
      "    dydxc[0:-1] = (y[1:] - y[:-1])/(x[1:] - x[:-1])\n",
      "    return dydxc\n"
     ],
     "language": "python",
     "metadata": {},
     "outputs": [],
     "prompt_number": 20
    },
    {
     "cell_type": "raw",
     "metadata": {},
     "source": [
      "b) Use your functions to take the derivative of the function y=8x4+3x over the range 0 <x< 10, with steps of 0.1. How do you know they work correctly? (Hint: compare to the analytical result)."
     ]
    },
    {
     "cell_type": "code",
     "collapsed": false,
     "input": [
      "x = np.arange(0.,10.,0.1)\n",
      "y = 8*x**4 + 3*x"
     ],
     "language": "python",
     "metadata": {},
     "outputs": [],
     "prompt_number": 45
    },
    {
     "cell_type": "code",
     "collapsed": false,
     "input": [
      "print twoPtForwardDiff(x,y)\n",
      "print twoPtCenteredDiff(x,y)"
     ],
     "language": "python",
     "metadata": {},
     "outputs": [
      {
       "output_type": "stream",
       "stream": "stdout",
       "text": [
        "[  3.00800000e+00   3.12000000e+00   3.52000000e+00   4.40000000e+00\n",
        "   5.95200000e+00   8.36800000e+00   1.18400000e+01   1.65600000e+01\n",
        "   2.27200000e+01   3.05120000e+01   4.01280000e+01   5.17600000e+01\n",
        "   6.56000000e+01   8.18400000e+01   1.00672000e+02   1.22288000e+02\n",
        "   1.46880000e+02   1.74640000e+02   2.05760000e+02   2.40432000e+02\n",
        "   2.78848000e+02   3.21200000e+02   3.67680000e+02   4.18480000e+02\n",
        "   4.73792000e+02   5.33808000e+02   5.98720000e+02   6.68720000e+02\n",
        "   7.44000000e+02   8.24752000e+02   9.11168000e+02   1.00344000e+03\n",
        "   1.10176000e+03   1.20632000e+03   1.31731200e+03   1.43492800e+03\n",
        "   1.55936000e+03   1.69080000e+03   1.82944000e+03   1.97547200e+03\n",
        "   2.12908800e+03   2.29048000e+03   2.45984000e+03   2.63736000e+03\n",
        "   2.82323200e+03   3.01764800e+03   3.22080000e+03   3.43288000e+03\n",
        "   3.65408000e+03   3.88459200e+03   4.12460800e+03   4.37432000e+03\n",
        "   4.63392000e+03   4.90360000e+03   5.18355200e+03   5.47396800e+03\n",
        "   5.77504000e+03   6.08696000e+03   6.40992000e+03   6.74411200e+03\n",
        "   7.08972800e+03   7.44696000e+03   7.81600000e+03   8.19704000e+03\n",
        "   8.59027200e+03   8.99588800e+03   9.41408000e+03   9.84504000e+03\n",
        "   1.02889600e+04   1.07460320e+04   1.12164480e+04   1.17004000e+04\n",
        "   1.21980800e+04   1.27096800e+04   1.32353920e+04   1.37754080e+04\n",
        "   1.43299200e+04   1.48991200e+04   1.54832000e+04   1.60823520e+04\n",
        "   1.66967680e+04   1.73266400e+04   1.79721600e+04   1.86335200e+04\n",
        "   1.93109120e+04   2.00045280e+04   2.07145600e+04   2.14412000e+04\n",
        "   2.21846400e+04   2.29450720e+04   2.37226880e+04   2.45176800e+04\n",
        "   2.53302400e+04   2.61605600e+04   2.70088320e+04   2.78752480e+04\n",
        "   2.87600000e+04   2.96632800e+04   3.05852800e+04   3.05852800e+04]\n",
        "[  3.00800000e+00   3.12000000e+00   3.52000000e+00   4.40000000e+00\n",
        "   5.95200000e+00   8.36800000e+00   1.18400000e+01   1.65600000e+01\n",
        "   2.27200000e+01   3.05120000e+01   4.01280000e+01   5.17600000e+01\n",
        "   6.56000000e+01   8.18400000e+01   1.00672000e+02   1.22288000e+02\n",
        "   1.46880000e+02   1.74640000e+02   2.05760000e+02   2.40432000e+02\n",
        "   2.78848000e+02   3.21200000e+02   3.67680000e+02   4.18480000e+02\n",
        "   4.73792000e+02   5.33808000e+02   5.98720000e+02   6.68720000e+02\n",
        "   7.44000000e+02   8.24752000e+02   9.11168000e+02   1.00344000e+03\n",
        "   1.10176000e+03   1.20632000e+03   1.31731200e+03   1.43492800e+03\n",
        "   1.55936000e+03   1.69080000e+03   1.82944000e+03   1.97547200e+03\n",
        "   2.12908800e+03   2.29048000e+03   2.45984000e+03   2.63736000e+03\n",
        "   2.82323200e+03   3.01764800e+03   3.22080000e+03   3.43288000e+03\n",
        "   3.65408000e+03   3.88459200e+03   4.12460800e+03   4.37432000e+03\n",
        "   4.63392000e+03   4.90360000e+03   5.18355200e+03   5.47396800e+03\n",
        "   5.77504000e+03   6.08696000e+03   6.40992000e+03   6.74411200e+03\n",
        "   7.08972800e+03   7.44696000e+03   7.81600000e+03   8.19704000e+03\n",
        "   8.59027200e+03   8.99588800e+03   9.41408000e+03   9.84504000e+03\n",
        "   1.02889600e+04   1.07460320e+04   1.12164480e+04   1.17004000e+04\n",
        "   1.21980800e+04   1.27096800e+04   1.32353920e+04   1.37754080e+04\n",
        "   1.43299200e+04   1.48991200e+04   1.54832000e+04   1.60823520e+04\n",
        "   1.66967680e+04   1.73266400e+04   1.79721600e+04   1.86335200e+04\n",
        "   1.93109120e+04   2.00045280e+04   2.07145600e+04   2.14412000e+04\n",
        "   2.21846400e+04   2.29450720e+04   2.37226880e+04   2.45176800e+04\n",
        "   2.53302400e+04   2.61605600e+04   2.70088320e+04   2.78752480e+04\n",
        "   2.87600000e+04   2.96632800e+04   3.05852800e+04   0.00000000e+00]\n"
       ]
      }
     ],
     "prompt_number": 46
    },
    {
     "cell_type": "raw",
     "metadata": {},
     "source": [
      "c) What is the accuracy of the results if you use a spacing of 0.01? (Plot the relative error)"
     ]
    },
    {
     "cell_type": "code",
     "collapsed": false,
     "input": [
      "x1 = np.arange(0.,10.,0.01)\n",
      "y1 = 8*x1**4 + 3*x1\n",
      "dydxexact = 32*x1**3 + 3"
     ],
     "language": "python",
     "metadata": {},
     "outputs": [],
     "prompt_number": 94
    },
    {
     "cell_type": "code",
     "collapsed": false,
     "input": [
      "plt.plot(x1,twoPtForwardDiff(x1,y1),label='Forward Difference')\n",
      "plt.plot(x1, twoPtCenteredDiff(x1,y1),label='Centered Difference')\n",
      "plt.plot(x1,dydxexact, label='exact')\n",
      "plt.legend(loc='upper left')\n",
      "plt.show()"
     ],
     "language": "python",
     "metadata": {},
     "outputs": [
      {
       "metadata": {},
       "output_type": "display_data",
       "png": "[encoded data removed]",
       "text": [
        "<matplotlib.figure.Figure at 0x108163850>"
       ]
      }
     ],
     "prompt_number": 95
    },
    {
     "cell_type": "code",
     "collapsed": false,
     "input": [
      "def perr(x,y,f,der):\n",
      "    dydx = f(x,y)\n",
      "    err = abs( (dydx[1:] - der[1:])/der[1:])\n",
      "    return err\n"
     ],
     "language": "python",
     "metadata": {},
     "outputs": [],
     "prompt_number": 96
    },
    {
     "cell_type": "code",
     "collapsed": false,
     "input": [
      "print plt.semilogy(x1[1:], perr(x1,y1,twoPtForwardDiff, dydxexact), label = 'forward difference')                   \n",
      "print plt.semilogy(x1[1:], perr(x1,y1,twoPtCenteredDiff, dydxexact), label = 'Centered difference')\n",
      "plt.ylabel('percent error with dydxexact')"
     ],
     "language": "python",
     "metadata": {},
     "outputs": [
      {
       "output_type": "stream",
       "stream": "stdout",
       "text": [
        "[<matplotlib.lines.Line2D object at 0x108d1d110>]\n",
        "[<matplotlib.lines.Line2D object at 0x108d1be50>]\n"
       ]
      },
      {
       "metadata": {},
       "output_type": "pyout",
       "prompt_number": 97,
       "text": [
        "<matplotlib.text.Text at 0x108d22d50>"
       ]
      },
      {
       "metadata": {},
       "output_type": "display_data",
       "png": "[encoded data removed]",
       "text": [
        "<matplotlib.figure.Figure at 0x108163f10>"
       ]
      }
     ],
     "prompt_number": 97
    },
    {
     "cell_type": "raw",
     "metadata": {},
     "source": [
      "(d) For what minimum spacing is the 2pt-centered difference derivative accurate to 5 significant figures over its full range (excluding the last point)?"
     ]
    },
    {
     "cell_type": "markdown",
     "metadata": {},
     "source": [
      "From playing around with our code, I have determined that .000003 would be the smallest spacing necessary to for our centered difference derivative to 5 significant figures\n",
      "        \n",
      "        "
     ]
    },
    {
     "cell_type": "raw",
     "metadata": {},
     "source": [
      "\n",
      "Question 2\n",
      "Numerical differentiation plays an important role in fast electronic signal processing in many experimental contexts, such as the data acquisition systems of high energy particle and nuclear physics. The data collected is often a series of fast time samples of energy deposited in a detector by a fast-moving charged particle. The sheer volume of data can be enormous, so some signal processing within the electronics chain is necessary to reduce the size of the collected dataset.\n",
      "Due to the stochastic nature of the particle interactions and the inherent noise in the readout electronics, these signals can be very noisy. Unfortunately, numerical differentiation can amplify these fluctuations. By choosing your differentiation algorithm carefully, you can minimize the impact of these fluctuations on the collected signals.\n",
      "Generate and plot an example of a noisy sinusoidally varying dataset with the following:"
     ]
    },
    {
     "cell_type": "code",
     "collapsed": false,
     "input": [
      "x2 = np.linspace(0,2*pi,100)\n",
      "y2 = np.sin(x) + 0.1*random.random(size=x.shape)"
     ],
     "language": "python",
     "metadata": {},
     "outputs": [],
     "prompt_number": 102
    },
    {
     "cell_type": "raw",
     "metadata": {},
     "source": [
      "(a) Now that we do not control the spacing of the data points, we have to use higher order differencing methods to reach a smoother and more accurate derivative. The four-point center differencing method is defined by\n",
      "dydx[i]\u2243y[i\u22122]\u22128y[i\u22121]+8y[i+1]\u2212y[i+2]12h\n",
      "where h is the spacing between points on the x axis (assumed to be equal). This comes from keeping higher order terms from the Taylor expansion used to define the derivative. This method can be used to obtain dydx[2:-2]. In order to calculate values for dydx[0], dydx[1], dydx[-1] and dydx[-2] you must use the lowest order finite difference method (like the ones you defined in your twoPtForwardDiff(x,y) and twoPtCenteredDiff(x,y) functions). Create another function, fourPtCenteredDiff(x,y), that computes the derivative using the higher order method above. Test that it works for y=8x4+3x and plot the relative error from the analytical result."
     ]
    },
    {
     "cell_type": "code",
     "collapsed": false,
     "input": [
      "def fourPtCenteredDiff(x,y):\n",
      "    dydx = np.zeros(y.shape,float)\n",
      "    dycenter = twoPtCenteredDiff(x,y)\n",
      "    dydx[2:-2] = (y[0:-4] - 8*y[1:-3] + 8*y[3:-1] - y[4:])\n",
      "    dydx[0]= (y[1] - y[0])/(x[1] - x[0])\n",
      "    dydx[1]= dycenter[1]\n",
      "    dydx[-1]= (y[-1] - y[-2])/(x[-1] - x[-2])\n",
      "    dydx[-2]= dycenter[-2]\n",
      "    return dydx\n",
      "\n",
      "print fourPtCenteredDiff(x2,y2)"
     ],
     "language": "python",
     "metadata": {},
     "outputs": [
      {
       "output_type": "stream",
       "stream": "stdout",
       "text": [
        "[ 0.2824733   1.2241123   0.72656155  1.00328994  0.74975605  0.15593822\n",
        "  1.07953054  0.82044255  0.77488477  0.28706885  0.39094649  0.71927537\n",
        "  0.70832505  0.66084104  0.04208768  0.51906908  0.41588136  0.31082854\n",
        "  0.27644219  0.1661755   0.36945943  0.10300786  0.34136327  0.03716445\n",
        " -0.49494988  0.02639192  0.50397795  0.32193485 -0.62792574 -0.39946734\n",
        " -0.23643463 -0.54070623  0.17282443  0.20436218 -0.95716128 -1.10582271\n",
        " -0.10635224 -0.47132751 -1.06313261 -0.03501397 -0.60964183 -1.14911578\n",
        " -0.64268645 -0.67933614 -0.45510053 -0.74747564 -1.0675933  -0.4121285\n",
        " -0.06657184 -1.16297901 -0.98717949 -0.1571931  -1.12208478 -0.69454227\n",
        " -0.37828313 -1.42091771 -0.41316743 -0.65315047 -0.87372611 -0.54700627\n",
        " -1.05274735 -0.13080561 -0.51419411 -0.81989862 -0.32301237  0.01897468\n",
        " -0.20969404 -0.76393524 -0.24071078 -0.26471224 -0.39694796 -0.31273438\n",
        " -0.18692481  0.25979304 -0.08584866  0.05890315  0.51027611  0.03305522\n",
        " -0.17307981  0.58483635  0.54296564 -0.0242827   0.22850831  0.52760848\n",
        "  0.16835321  0.46244569  0.7041818   0.09262691  0.95755312  0.78345317\n",
        "  0.21426262  1.03762209  0.43438696  0.57163697  0.99056036  0.8973567\n",
        "  0.66134099  0.74925879  0.46050866  0.46050866]\n"
       ]
      }
     ],
     "prompt_number": 103
    },
    {
     "cell_type": "code",
     "collapsed": false,
     "input": [],
     "language": "python",
     "metadata": {},
     "outputs": []
    }
   ],
   "metadata": {}
  }
 ]
}