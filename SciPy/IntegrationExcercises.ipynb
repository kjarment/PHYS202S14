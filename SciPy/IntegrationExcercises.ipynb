{
 "metadata": {
  "name": "",
  "signature": "sha256:94d835bd3d903f96696a217c087f36ab959a5545e1bdb352942abf103b2e6e0b"
 },
 "nbformat": 3,
 "nbformat_minor": 0,
 "worksheets": [
  {
   "cells": [
    {
     "cell_type": "heading",
     "level": 1,
     "metadata": {},
     "source": [
      "Integration Excercises\n"
     ]
    },
    {
     "cell_type": "code",
     "collapsed": false,
     "input": [
      "%pylab inline\n",
      "import numpy as np\n",
      "import matplotlib.pyplot as plt"
     ],
     "language": "python",
     "metadata": {},
     "outputs": [
      {
       "output_type": "stream",
       "stream": "stdout",
       "text": [
        "Populating the interactive namespace from numpy and matplotlib\n"
       ]
      }
     ],
     "prompt_number": 2
    },
    {
     "cell_type": "markdown",
     "metadata": {},
     "source": [
      "(a) Write two functions trapz(func,a,b,N) and simps(func,a,b,N) to compute the integral of the function func over the variable x using the trapezoidal rule and Simpson's rule to a file called Integrators.py. Do not use the scipy.integrate built-in functions. Include docstrings with each function that describe what they do. Then import the module and use the functions to answer the following questions. To avoid namespace conflicts, import your module as myint and then call the functions from that namespace. i.e.\n",
      "    import integrators as myint\n",
      "    #...your code...here\n",
      "    I = myint.trapz(func,a,b,N)\n",
      "Also, be sure that you import any needed modules inside your Integrators.py file."
     ]
    },
    {
     "cell_type": "code",
     "collapsed": false,
     "input": [
      "func = lambda x: x**4 - 2*x + 1\n",
      "\n",
      "def trapz(func,a,b,N):\n",
      "    h = (b-a)/N\n",
      "    k = np.arange(1,N)\n",
      "    I = h*(0.5*func(a) + 0.5*func(b) + func(a+k*h).sum())\n",
      "    return I\n",
      "\n",
      "def simps(func,a,b,N):\n",
      "    h = (b-a)/N\n",
      "    k1 = np.arange(1,N/2+1)\n",
      "    k2 = np.arange(1,N/2)\n",
      "    I = (1./3.)*h*(func(a) + func(b) + 4.*func(a+(2*k1-1)*h).sum() + 2.*func(a+2*k2*h).sum())\n",
      "    return I\n",
      "\n",
      "print trapz(func, 0.0, 2.0, 10)"
     ],
     "language": "python",
     "metadata": {},
     "outputs": [
      {
       "output_type": "stream",
       "stream": "stdout",
       "text": [
        "4.50656\n"
       ]
      }
     ],
     "prompt_number": 3
    },
    {
     "cell_type": "code",
     "collapsed": false,
     "input": [
      "%%file Integrators.py\n",
      "\n",
      "from numpy import *\n",
      "import numpy as np\n",
      "\n",
      "def trapz(func,a,b,N):\n",
      "    \"\"\"\n",
      "    In this function, we use the trapezoidal method of integrating in order\n",
      "    to find the integral. Trapz takes 4 parameters: The function we are\n",
      "    integrating, the starting point (a), the ending point (b), and the amount\n",
      "    of trapezoids (or slices of the function) we are applying to the problem.\n",
      "    We create h, the actual length of each trapezoid, and k which is an\n",
      "    array that contains the number of the trapezoid we would like to look at.\n",
      "    Next, we plug in all of our values into an algorithm, and we return \n",
      "    our result!\n",
      "    \"\"\"\n",
      "    \n",
      "    h = (b-a)/N\n",
      "    k = np.arange(1,N)\n",
      "    I = h*(0.5*func(a) + 0.5*func(b) + func(a+k*h).sum())\n",
      "    return I\n",
      "\n",
      "def simps(func,a,b,N):\n",
      "    \"\"\"\n",
      "    In this function, we use Simpsons method in order to examine the integral.\n",
      "    Simps takes the same parameters as trapz, and we create close to the same\n",
      "    amount of variables as well. We create several arrays in order to slice \n",
      "    up our function at many points in order to make Simpsons rule apply.\n",
      "    After we declare all of our variables, we plug them all into the algorithm\n",
      "    and return the final answer.\n",
      "    \"\"\"\n",
      "    \n",
      "    h = (b-a)/N\n",
      "    k1 = np.arange(1,N/2+1)\n",
      "    k2 = np.arange(1,N/2)\n",
      "    I = (1./3.)*h*(func(a) + func(b) + 4.*func(a+(2*k1-1)*h).sum() + 2.*func(a+2*k2*h).sum())\n",
      "    return I"
     ],
     "language": "python",
     "metadata": {},
     "outputs": [
      {
       "output_type": "stream",
       "stream": "stdout",
       "text": [
        "Overwriting Integrators.py\n"
       ]
      }
     ],
     "prompt_number": 4
    },
    {
     "cell_type": "markdown",
     "metadata": {},
     "source": [
      "(b) Use your trapz and simps functions from part (a) to calculate the integral of x4\u22122x+1 from x = 0 to x = 2 with N = 10, N = 100, and N = 1000. Then compare your result to the known correct value of 4.4. What is the percent error in each case?"
     ]
    },
    {
     "cell_type": "code",
     "collapsed": false,
     "input": [
      "func = lambda x: x**4 - 2*x + 1\n",
      "\n",
      "trap = trapz(func, 0.0,2.0,10.)\n",
      "simp = simps(func,0.0,2.0,10.)\n",
      "\n",
      "print trap, simp\n",
      "#Gives us the same result as the it did on the tour"
     ],
     "language": "python",
     "metadata": {},
     "outputs": [
      {
       "output_type": "stream",
       "stream": "stdout",
       "text": [
        "4.50656 4.40042666667\n"
       ]
      }
     ],
     "prompt_number": 5
    },
    {
     "cell_type": "code",
     "collapsed": false,
     "input": [
      "err = lambda x,y : str(abs(x-y)/x * 100) + \" %\"\n",
      "\n",
      "print err(4.4, trap)\n",
      "print err(4.4, simp)"
     ],
     "language": "python",
     "metadata": {},
     "outputs": [
      {
       "output_type": "stream",
       "stream": "stdout",
       "text": [
        "2.42181818182 %\n",
        "0.00969696969697 %\n"
       ]
      }
     ],
     "prompt_number": 6
    },
    {
     "cell_type": "raw",
     "metadata": {},
     "source": [
      "Consider the integral\n",
      "E(x)=\u222bx0e\u2212t2dt\n",
      "This is the error function, commonly seen in probability and statistics. There is no known way to perform this particular integral analytically, although the integrand can be expanded in a Taylor series and terms computed to arbitrary order. For most applications, numerical approaches are the only way forward.\n",
      "(a) Use scipy.integrate.cumtrapz to calculate E(x) for values of x from 0 to 3 in steps of 0.1. Print the result."
     ]
    },
    {
     "cell_type": "code",
     "collapsed": false,
     "input": [
      "from scipy.integrate import cumtrapz\n",
      "import scipy.integrate as integrate"
     ],
     "language": "python",
     "metadata": {},
     "outputs": [],
     "prompt_number": 7
    },
    {
     "cell_type": "code",
     "collapsed": false,
     "input": [
      "help(cumtrapz)"
     ],
     "language": "python",
     "metadata": {},
     "outputs": [
      {
       "output_type": "stream",
       "stream": "stdout",
       "text": [
        "Help on function cumtrapz in module scipy.integrate.quadrature:\n",
        "\n",
        "cumtrapz(y, x=None, dx=1.0, axis=-1, initial=None)\n",
        "    Cumulatively integrate y(x) using the composite trapezoidal rule.\n",
        "    \n",
        "    Parameters\n",
        "    ----------\n",
        "    y : array_like\n",
        "        Values to integrate.\n",
        "    x : array_like, optional\n",
        "        The coordinate to integrate along.  If None (default), use spacing `dx`\n",
        "        between consecutive elements in `y`.\n",
        "    dx : int, optional\n",
        "        Spacing between elements of `y`.  Only used if `x` is None.\n",
        "    axis : int, optional\n",
        "        Specifies the axis to cumulate.  Default is -1 (last axis).\n",
        "    initial : scalar, optional\n",
        "        If given, uses this value as the first value in the returned result.\n",
        "        Typically this value should be 0.  Default is None, which means no\n",
        "        value at ``x[0]`` is returned and `res` has one element less than `y`\n",
        "        along the axis of integration.\n",
        "    \n",
        "    Returns\n",
        "    -------\n",
        "    res : ndarray\n",
        "        The result of cumulative integration of `y` along `axis`.\n",
        "        If `initial` is None, the shape is such that the axis of integration\n",
        "        has one less value than `y`.  If `initial` is given, the shape is equal\n",
        "        to that of `y`.\n",
        "    \n",
        "    See Also\n",
        "    --------\n",
        "    numpy.cumsum, numpy.cumprod\n",
        "    quad: adaptive quadrature using QUADPACK\n",
        "    romberg: adaptive Romberg quadrature\n",
        "    quadrature: adaptive Gaussian quadrature\n",
        "    fixed_quad: fixed-order Gaussian quadrature\n",
        "    dblquad: double integrals\n",
        "    tplquad: triple integrals\n",
        "    romb: integrators for sampled data\n",
        "    ode: ODE integrators\n",
        "    odeint: ODE integrators\n",
        "    \n",
        "    Examples\n",
        "    --------\n",
        "    >>> from scipy import integrate\n",
        "    >>> import matplotlib.pyplot as plt\n",
        "    \n",
        "    >>> x = np.linspace(-2, 2, num=20)\n",
        "    >>> y = x\n",
        "    >>> y_int = integrate.cumtrapz(y, x, initial=0)\n",
        "    >>> plt.plot(x, y_int, 'ro', x, y[0] + 0.5 * x**2, 'b-')\n",
        "    >>> plt.show()\n",
        "\n"
       ]
      }
     ],
     "prompt_number": 8
    },
    {
     "cell_type": "code",
     "collapsed": false,
     "input": [
      "x = np.arange(4)\n",
      "y = e**(-x**2)\n",
      "\n",
      "erf = cumtrapz(y,x,0.1)\n",
      "\n",
      "print erf"
     ],
     "language": "python",
     "metadata": {},
     "outputs": [
      {
       "output_type": "stream",
       "stream": "stdout",
       "text": [
        "[ 0.68393972  0.87703726  0.88625678]\n"
       ]
      }
     ],
     "prompt_number": 9
    },
    {
     "cell_type": "raw",
     "metadata": {},
     "source": [
      "b) Plot the integrand as a function of t and E(x) as a function of x (both ranging from 0 to 3) on the same graph."
     ]
    },
    {
     "cell_type": "code",
     "collapsed": false,
     "input": [
      "t = x\n",
      "plt.plot(t[1:], erf)\n",
      "plt.plot(x, y)"
     ],
     "language": "python",
     "metadata": {},
     "outputs": [
      {
       "metadata": {},
       "output_type": "pyout",
       "prompt_number": 10,
       "text": [
        "[<matplotlib.lines.Line2D at 0x1051bb310>]"
       ]
      },
      {
       "metadata": {},
       "output_type": "display_data",
       "png": "[encoded data removed]",
       "text": [
        "<matplotlib.figure.Figure at 0x1051bb290>"
       ]
      }
     ],
     "prompt_number": 10
    },
    {
     "cell_type": "raw",
     "metadata": {},
     "source": [
      "Consider a particle in a one-dimensional box of width L. The probability of finding the particle between a and b is given by\n",
      "P(a,b)=\u222bba|\u03c8(x)|2dx\n",
      "where\n",
      "\u03c8(x)=2L\u203e\u203e\u203e\u221asin(n\u03c0xL)\n",
      "is the wavefunction.\n",
      "(a) What is the probability of finding the particle between L/3 and L/2 for the ground state (n = 1) and for the first excited state (n = 2)? Let L = 1. Perform the integral using both scipy.integrate.trapz and scipy.integrate.quad with an accuracy of 6 sig figs. How many slices did you need to use for scipy.integrate.trapz?\n",
      " "
     ]
    },
    {
     "cell_type": "code",
     "collapsed": false,
     "input": [
      "import Integrators as myint"
     ],
     "language": "python",
     "metadata": {},
     "outputs": [],
     "prompt_number": 11
    },
    {
     "cell_type": "code",
     "collapsed": false,
     "input": [
      "n = np.array([1,2])\n",
      "L1 = 1./3.\n",
      "L2 = 1./2.\n",
      "x = [L1,L2]\n",
      "L = 1.\n",
      "\n",
      "wavefunc = lambda n : np.sqrt(2/L)*sin((n*np.pi*x)/L)\n",
      "\n",
      "print wavefunc(n)"
     ],
     "language": "python",
     "metadata": {},
     "outputs": [
      {
       "output_type": "stream",
       "stream": "stdout",
       "text": [
        "[  1.22474487e+00   1.73191211e-16]\n"
       ]
      }
     ],
     "prompt_number": 26
    },
    {
     "cell_type": "code",
     "collapsed": false,
     "input": [
      "Probtrapz = lambda func, x: integrate.trapz(wavefunc**2,x)\n",
      "Probquad = lambda func, a, b: integrate.quad(wavefunc**2,a,b)\n",
      "MyProbtrapz = lambda func, a, b, N: myint.trapz(wavefunc**2,\n",
      "                                                    a, b, N)\n",
      "\n",
      "\n",
      "print Probtrapz(wavefunc(n), x)\n",
      "print Probquad(wavefunc(n), L1, L2)"
     ],
     "language": "python",
     "metadata": {},
     "outputs": [
      {
       "output_type": "stream",
       "stream": "stdout",
       "text": [
        "0.125\n"
       ]
      },
      {
       "ename": "error",
       "evalue": "quad: first argument is not callable",
       "output_type": "pyerr",
       "traceback": [
        "\u001b[0;31m---------------------------------------------------------------------------\u001b[0m\n\u001b[0;31merror\u001b[0m                                     Traceback (most recent call last)",
        "\u001b[0;32m<ipython-input-25-1d70b8937dd2>\u001b[0m in \u001b[0;36m<module>\u001b[0;34m()\u001b[0m\n\u001b[1;32m      6\u001b[0m \u001b[0;34m\u001b[0m\u001b[0m\n\u001b[1;32m      7\u001b[0m \u001b[0;32mprint\u001b[0m \u001b[0mProbtrapz\u001b[0m\u001b[0;34m(\u001b[0m\u001b[0mwavefunc\u001b[0m\u001b[0;34m(\u001b[0m\u001b[0mn\u001b[0m\u001b[0;34m)\u001b[0m\u001b[0;34m,\u001b[0m \u001b[0mx\u001b[0m\u001b[0;34m)\u001b[0m\u001b[0;34m\u001b[0m\u001b[0m\n\u001b[0;32m----> 8\u001b[0;31m \u001b[0;32mprint\u001b[0m \u001b[0mProbquad\u001b[0m\u001b[0;34m(\u001b[0m\u001b[0mwavefunc\u001b[0m\u001b[0;34m(\u001b[0m\u001b[0mn\u001b[0m\u001b[0;34m)\u001b[0m\u001b[0;34m,\u001b[0m \u001b[0mL1\u001b[0m\u001b[0;34m,\u001b[0m \u001b[0mL2\u001b[0m\u001b[0;34m)\u001b[0m\u001b[0;34m\u001b[0m\u001b[0m\n\u001b[0m",
        "\u001b[0;32m<ipython-input-25-1d70b8937dd2>\u001b[0m in \u001b[0;36m<lambda>\u001b[0;34m(wavefunc, a, b)\u001b[0m\n\u001b[1;32m      1\u001b[0m \u001b[0mProbtrapz\u001b[0m \u001b[0;34m=\u001b[0m \u001b[0;32mlambda\u001b[0m \u001b[0mwavefunc\u001b[0m\u001b[0;34m,\u001b[0m \u001b[0mx\u001b[0m\u001b[0;34m:\u001b[0m \u001b[0mintegrate\u001b[0m\u001b[0;34m.\u001b[0m\u001b[0mtrapz\u001b[0m\u001b[0;34m(\u001b[0m\u001b[0mwavefunc\u001b[0m\u001b[0;34m**\u001b[0m\u001b[0;36m2\u001b[0m\u001b[0;34m,\u001b[0m\u001b[0mx\u001b[0m\u001b[0;34m)\u001b[0m\u001b[0;34m\u001b[0m\u001b[0m\n\u001b[0;32m----> 2\u001b[0;31m \u001b[0mProbquad\u001b[0m \u001b[0;34m=\u001b[0m \u001b[0;32mlambda\u001b[0m \u001b[0mwavefunc\u001b[0m\u001b[0;34m,\u001b[0m \u001b[0ma\u001b[0m\u001b[0;34m,\u001b[0m \u001b[0mb\u001b[0m\u001b[0;34m:\u001b[0m \u001b[0mintegrate\u001b[0m\u001b[0;34m.\u001b[0m\u001b[0mquad\u001b[0m\u001b[0;34m(\u001b[0m\u001b[0mwavefunc\u001b[0m\u001b[0;34m**\u001b[0m\u001b[0;36m2\u001b[0m\u001b[0;34m,\u001b[0m\u001b[0ma\u001b[0m\u001b[0;34m,\u001b[0m\u001b[0mb\u001b[0m\u001b[0;34m)\u001b[0m\u001b[0;34m\u001b[0m\u001b[0m\n\u001b[0m\u001b[1;32m      3\u001b[0m MyProbtrapz = lambda wavefunc, a, b, N: myint.trapz(wavefunc**2,\n\u001b[1;32m      4\u001b[0m                                                     a, b, N)\n\u001b[1;32m      5\u001b[0m \u001b[0;34m\u001b[0m\u001b[0m\n",
        "\u001b[0;32m/Users/Kevin/anaconda/lib/python2.7/site-packages/scipy/integrate/quadpack.pyc\u001b[0m in \u001b[0;36mquad\u001b[0;34m(func, a, b, args, full_output, epsabs, epsrel, limit, points, weight, wvar, wopts, maxp1, limlst)\u001b[0m\n\u001b[1;32m    252\u001b[0m         \u001b[0margs\u001b[0m \u001b[0;34m=\u001b[0m \u001b[0;34m(\u001b[0m\u001b[0margs\u001b[0m\u001b[0;34m,\u001b[0m\u001b[0;34m)\u001b[0m\u001b[0;34m\u001b[0m\u001b[0m\n\u001b[1;32m    253\u001b[0m     \u001b[0;32mif\u001b[0m \u001b[0;34m(\u001b[0m\u001b[0mweight\u001b[0m \u001b[0;32mis\u001b[0m \u001b[0mNone\u001b[0m\u001b[0;34m)\u001b[0m\u001b[0;34m:\u001b[0m\u001b[0;34m\u001b[0m\u001b[0m\n\u001b[0;32m--> 254\u001b[0;31m         \u001b[0mretval\u001b[0m \u001b[0;34m=\u001b[0m \u001b[0m_quad\u001b[0m\u001b[0;34m(\u001b[0m\u001b[0mfunc\u001b[0m\u001b[0;34m,\u001b[0m\u001b[0ma\u001b[0m\u001b[0;34m,\u001b[0m\u001b[0mb\u001b[0m\u001b[0;34m,\u001b[0m\u001b[0margs\u001b[0m\u001b[0;34m,\u001b[0m\u001b[0mfull_output\u001b[0m\u001b[0;34m,\u001b[0m\u001b[0mepsabs\u001b[0m\u001b[0;34m,\u001b[0m\u001b[0mepsrel\u001b[0m\u001b[0;34m,\u001b[0m\u001b[0mlimit\u001b[0m\u001b[0;34m,\u001b[0m\u001b[0mpoints\u001b[0m\u001b[0;34m)\u001b[0m\u001b[0;34m\u001b[0m\u001b[0m\n\u001b[0m\u001b[1;32m    255\u001b[0m     \u001b[0;32melse\u001b[0m\u001b[0;34m:\u001b[0m\u001b[0;34m\u001b[0m\u001b[0m\n\u001b[1;32m    256\u001b[0m         \u001b[0mretval\u001b[0m \u001b[0;34m=\u001b[0m \u001b[0m_quad_weight\u001b[0m\u001b[0;34m(\u001b[0m\u001b[0mfunc\u001b[0m\u001b[0;34m,\u001b[0m\u001b[0ma\u001b[0m\u001b[0;34m,\u001b[0m\u001b[0mb\u001b[0m\u001b[0;34m,\u001b[0m\u001b[0margs\u001b[0m\u001b[0;34m,\u001b[0m\u001b[0mfull_output\u001b[0m\u001b[0;34m,\u001b[0m\u001b[0mepsabs\u001b[0m\u001b[0;34m,\u001b[0m\u001b[0mepsrel\u001b[0m\u001b[0;34m,\u001b[0m\u001b[0mlimlst\u001b[0m\u001b[0;34m,\u001b[0m\u001b[0mlimit\u001b[0m\u001b[0;34m,\u001b[0m\u001b[0mmaxp1\u001b[0m\u001b[0;34m,\u001b[0m\u001b[0mweight\u001b[0m\u001b[0;34m,\u001b[0m\u001b[0mwvar\u001b[0m\u001b[0;34m,\u001b[0m\u001b[0mwopts\u001b[0m\u001b[0;34m)\u001b[0m\u001b[0;34m\u001b[0m\u001b[0m\n",
        "\u001b[0;32m/Users/Kevin/anaconda/lib/python2.7/site-packages/scipy/integrate/quadpack.pyc\u001b[0m in \u001b[0;36m_quad\u001b[0;34m(func, a, b, args, full_output, epsabs, epsrel, limit, points)\u001b[0m\n\u001b[1;32m    317\u001b[0m     \u001b[0;32mif\u001b[0m \u001b[0mpoints\u001b[0m \u001b[0;32mis\u001b[0m \u001b[0mNone\u001b[0m\u001b[0;34m:\u001b[0m\u001b[0;34m\u001b[0m\u001b[0m\n\u001b[1;32m    318\u001b[0m         \u001b[0;32mif\u001b[0m \u001b[0minfbounds\u001b[0m \u001b[0;34m==\u001b[0m \u001b[0;36m0\u001b[0m\u001b[0;34m:\u001b[0m\u001b[0;34m\u001b[0m\u001b[0m\n\u001b[0;32m--> 319\u001b[0;31m             \u001b[0;32mreturn\u001b[0m \u001b[0m_quadpack\u001b[0m\u001b[0;34m.\u001b[0m\u001b[0m_qagse\u001b[0m\u001b[0;34m(\u001b[0m\u001b[0mfunc\u001b[0m\u001b[0;34m,\u001b[0m\u001b[0ma\u001b[0m\u001b[0;34m,\u001b[0m\u001b[0mb\u001b[0m\u001b[0;34m,\u001b[0m\u001b[0margs\u001b[0m\u001b[0;34m,\u001b[0m\u001b[0mfull_output\u001b[0m\u001b[0;34m,\u001b[0m\u001b[0mepsabs\u001b[0m\u001b[0;34m,\u001b[0m\u001b[0mepsrel\u001b[0m\u001b[0;34m,\u001b[0m\u001b[0mlimit\u001b[0m\u001b[0;34m)\u001b[0m\u001b[0;34m\u001b[0m\u001b[0m\n\u001b[0m\u001b[1;32m    320\u001b[0m         \u001b[0;32melse\u001b[0m\u001b[0;34m:\u001b[0m\u001b[0;34m\u001b[0m\u001b[0m\n\u001b[1;32m    321\u001b[0m             \u001b[0;32mreturn\u001b[0m \u001b[0m_quadpack\u001b[0m\u001b[0;34m.\u001b[0m\u001b[0m_qagie\u001b[0m\u001b[0;34m(\u001b[0m\u001b[0mfunc\u001b[0m\u001b[0;34m,\u001b[0m\u001b[0mbound\u001b[0m\u001b[0;34m,\u001b[0m\u001b[0minfbounds\u001b[0m\u001b[0;34m,\u001b[0m\u001b[0margs\u001b[0m\u001b[0;34m,\u001b[0m\u001b[0mfull_output\u001b[0m\u001b[0;34m,\u001b[0m\u001b[0mepsabs\u001b[0m\u001b[0;34m,\u001b[0m\u001b[0mepsrel\u001b[0m\u001b[0;34m,\u001b[0m\u001b[0mlimit\u001b[0m\u001b[0;34m)\u001b[0m\u001b[0;34m\u001b[0m\u001b[0m\n",
        "\u001b[0;31merror\u001b[0m: quad: first argument is not callable"
       ]
      }
     ],
     "prompt_number": 25
    },
    {
     "cell_type": "code",
     "collapsed": false,
     "input": [
      "help(integrate.quad)"
     ],
     "language": "python",
     "metadata": {},
     "outputs": [
      {
       "output_type": "stream",
       "stream": "stdout",
       "text": [
        "Help on function quad in module scipy.integrate.quadpack:\n",
        "\n",
        "quad(func, a, b, args=(), full_output=0, epsabs=1.49e-08, epsrel=1.49e-08, limit=50, points=None, weight=None, wvar=None, wopts=None, maxp1=50, limlst=50)\n",
        "    Compute a definite integral.\n",
        "    \n",
        "    Integrate func from `a` to `b` (possibly infinite interval) using a\n",
        "    technique from the Fortran library QUADPACK.\n",
        "    \n",
        "    Run scipy.integrate.quad_explain() for more information on the\n",
        "    more esoteric inputs and outputs.\n",
        "    \n",
        "    Parameters\n",
        "    ----------\n",
        "    func : function\n",
        "        A Python function or method to integrate.  If `func` takes many\n",
        "        arguments, it is integrated along the axis corresponding to the\n",
        "        first argument.\n",
        "    a : float\n",
        "        Lower limit of integration (use -numpy.inf for -infinity).\n",
        "    b : float\n",
        "        Upper limit of integration (use numpy.inf for +infinity).\n",
        "    args : tuple, optional\n",
        "        Extra arguments to pass to `func`.\n",
        "    full_output : int, optional\n",
        "        Non-zero to return a dictionary of integration information.\n",
        "        If non-zero, warning messages are also suppressed and the\n",
        "        message is appended to the output tuple.\n",
        "    \n",
        "    Returns\n",
        "    -------\n",
        "    y : float\n",
        "        The integral of func from `a` to `b`.\n",
        "    abserr : float\n",
        "        An estimate of the absolute error in the result.\n",
        "    infodict : dict\n",
        "        A dictionary containing additional information.\n",
        "        Run scipy.integrate.quad_explain() for more information.\n",
        "    message :\n",
        "        A convergence message.\n",
        "    explain :\n",
        "        Appended only with 'cos' or 'sin' weighting and infinite\n",
        "        integration limits, it contains an explanation of the codes in\n",
        "        infodict['ierlst']\n",
        "    \n",
        "    Other Parameters\n",
        "    ----------------\n",
        "    epsabs : float or int, optional\n",
        "        Absolute error tolerance.\n",
        "    epsrel : float or int, optional\n",
        "        Relative error tolerance.\n",
        "    limit : float or int, optional\n",
        "        An upper bound on the number of subintervals used in the adaptive\n",
        "        algorithm.\n",
        "    points : (sequence of floats,ints), optional\n",
        "        A sequence of break points in the bounded integration interval\n",
        "        where local difficulties of the integrand may occur (e.g.,\n",
        "        singularities, discontinuities). The sequence does not have\n",
        "        to be sorted.\n",
        "    weight : float or int, optional\n",
        "        String indicating weighting function.\n",
        "    wvar : optional\n",
        "        Variables for use with weighting functions.\n",
        "    wopts : optional\n",
        "        Optional input for reusing Chebyshev moments.\n",
        "    maxp1 : float or int, optional\n",
        "        An upper bound on the number of Chebyshev moments.\n",
        "    limlst : int, optional\n",
        "        Upper bound on the number of cylces (>=3) for use with a sinusoidal\n",
        "        weighting and an infinite end-point.\n",
        "    \n",
        "    See Also\n",
        "    --------\n",
        "    dblquad : double integral\n",
        "    tplquad : triple integral\n",
        "    nquad : n-dimensional integrals (uses `quad` recursively)\n",
        "    fixed_quad : fixed-order Gaussian quadrature\n",
        "    quadrature : adaptive Gaussian quadrature\n",
        "    odeint : ODE integrator\n",
        "    ode : ODE integrator\n",
        "    simps : integrator for sampled data\n",
        "    romb : integrator for sampled data\n",
        "    scipy.special : for coefficients and roots of orthogonal polynomials\n",
        "    \n",
        "    Examples\n",
        "    --------\n",
        "    Calculate :math:`\\int^4_0 x^2 dx` and compare with an analytic result\n",
        "    \n",
        "    >>> from scipy import integrate\n",
        "    >>> x2 = lambda x: x**2\n",
        "    >>> integrate.quad(x2, 0, 4)\n",
        "    (21.333333333333332, 2.3684757858670003e-13)\n",
        "    >>> print(4**3 / 3.)  # analytical result\n",
        "    21.3333333333\n",
        "    \n",
        "    Calculate :math:`\\int^\\infty_0 e^{-x} dx`\n",
        "    \n",
        "    >>> invexp = lambda x: np.exp(-x)\n",
        "    >>> integrate.quad(invexp, 0, np.inf)\n",
        "    (1.0, 5.842605999138044e-11)\n",
        "    \n",
        "    >>> f = lambda x,a : a*x\n",
        "    >>> y, err = integrate.quad(f, 0, 1, args=(1,))\n",
        "    >>> y\n",
        "    0.5\n",
        "    >>> y, err = integrate.quad(f, 0, 1, args=(3,))\n",
        "    >>> y\n",
        "    1.5\n",
        "\n"
       ]
      }
     ],
     "prompt_number": 27
    },
    {
     "cell_type": "code",
     "collapsed": false,
     "input": [],
     "language": "python",
     "metadata": {},
     "outputs": []
    }
   ],
   "metadata": {}
  }
 ]
}