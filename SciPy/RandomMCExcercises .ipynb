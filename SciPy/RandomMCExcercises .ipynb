{
 "metadata": {
  "name": "",
  "signature": "sha256:0d143e90c0ca315f6729a16cee5bfcca12842309e1731e5c317ed70c0d265568"
 },
 "nbformat": 3,
 "nbformat_minor": 0,
 "worksheets": [
  {
   "cells": [
    {
     "cell_type": "heading",
     "level": 1,
     "metadata": {},
     "source": [
      "Random Numbers, Monte Carlo Sampling and Simulation Excercises"
     ]
    },
    {
     "cell_type": "code",
     "collapsed": false,
     "input": [
      "%pylab inline\n",
      "import numpy as np\n",
      "import matplotlib.pyplot as plt"
     ],
     "language": "python",
     "metadata": {},
     "outputs": [
      {
       "output_type": "stream",
       "stream": "stdout",
       "text": [
        "Populating the interactive namespace from numpy and matplotlib\n"
       ]
      },
      {
       "output_type": "stream",
       "stream": "stderr",
       "text": [
        "WARNING: pylab import has clobbered these variables: ['f']\n",
        "`%matplotlib` prevents importing * from pylab and numpy\n"
       ]
      }
     ],
     "prompt_number": 12
    },
    {
     "cell_type": "code",
     "collapsed": false,
     "input": [
      "a = 1.5\n",
      "b = 6.\n",
      "x = np.arange(1, 100, 2)\n",
      "\n",
      "f = lambda a,b,x: (a*b**(-a)*x**(a-1))*np.exp(-(x/b)**a)\n",
      "#The CDF of Weibull distribution\n",
      "F = lambda a,b,x: 1 - np.exp(-(x/b)**a) \n"
     ],
     "language": "python",
     "metadata": {},
     "outputs": [],
     "prompt_number": 28
    },
    {
     "cell_type": "markdown",
     "metadata": {},
     "source": [
      "(b) Find the inverse of the CDF F\u22121(x) analytically. "
     ]
    },
    {
     "cell_type": "code",
     "collapsed": false,
     "input": [
      "Finv = lambda a,b,x: b*(-np.log(1-x))**(1/a)\n"
     ],
     "language": "python",
     "metadata": {},
     "outputs": [],
     "prompt_number": 29
    },
    {
     "cell_type": "markdown",
     "metadata": {},
     "source": [
      "(c) Write a program to generate 10,000 samples from the Weibull distribution and plot the true distribution, the CDF and the sampled distribution as a histogram, all on the same graph. Let \u03b1 = 1.5, \u03b2 = 6."
     ]
    },
    {
     "cell_type": "code",
     "collapsed": false,
     "input": [
      "N = 10000\n",
      "\n",
      "z = np.random.random_sample(N)\n",
      "\n",
      "xsamples = Finv(a,b,z)\n",
      "\n",
      "plt.hist(xsamples, 50, normed=True, label = \"Sampled Distribution\")\n",
      "plt.plot(x, f(a,b,x), color='r')\n",
      "plt.plot(x, F(a,b,x), color='g')\n",
      "plt.show()"
     ],
     "language": "python",
     "metadata": {},
     "outputs": [
      {
       "metadata": {},
       "output_type": "display_data",
       "png": "[encoded data removed]",
       "text": [
        "<matplotlib.figure.Figure at 0x104ef45d0>"
       ]
      }
     ],
     "prompt_number": 15
    },
    {
     "cell_type": "code",
     "collapsed": false,
     "input": [
      "print xsamples, len(xsamples)\n",
      "print z"
     ],
     "language": "python",
     "metadata": {},
     "outputs": [
      {
       "output_type": "stream",
       "stream": "stdout",
       "text": [
        "[  4.80813957   4.61753049   6.26181881 ...,  14.69627171  11.54609431\n",
        "   5.56704066] 10000\n",
        "[ 0.51196228  0.49091006  0.65567305 ...,  0.97836402  0.93071137\n",
        "  0.59087598]\n"
       ]
      }
     ],
     "prompt_number": 16
    },
    {
     "cell_type": "markdown",
     "metadata": {},
     "source": [
      "(d) Run the four statistical tests of randomness (mean, variance, chi-square, K-S) on your results from question 1(c). Does it pass all of them?"
     ]
    },
    {
     "cell_type": "code",
     "collapsed": false,
     "input": [
      "def meanTest(z):\n",
      "    mean = z.sum()/len(z)\n",
      "    return mean\n",
      "\n",
      "print meanTest(z)"
     ],
     "language": "python",
     "metadata": {},
     "outputs": [
      {
       "output_type": "stream",
       "stream": "stdout",
       "text": [
        "0.500812023733\n"
       ]
      }
     ],
     "prompt_number": 17
    },
    {
     "cell_type": "code",
     "collapsed": false,
     "input": [
      "def varianceTest(z):\n",
      "    sums = 0\n",
      "    for i in range(len(z)):\n",
      "        sums += (z[i] - meanTest(z))**2\n",
      "    \n",
      "    variance = sums/len(z) \n",
      "    return variance"
     ],
     "language": "python",
     "metadata": {},
     "outputs": [],
     "prompt_number": 18
    },
    {
     "cell_type": "code",
     "collapsed": false,
     "input": [
      "print varianceTest(z)"
     ],
     "language": "python",
     "metadata": {},
     "outputs": [
      {
       "output_type": "stream",
       "stream": "stdout",
       "text": [
        "0.0846228912703\n"
       ]
      }
     ],
     "prompt_number": 19
    },
    {
     "cell_type": "code",
     "collapsed": false,
     "input": [
      "#Chi-square test: Oi = number of x values in one little 'rectangle'\n",
      "# Ei = the value of x where the red graph and blue graph meet\n",
      "#k = number of rectangles\n",
      "\n",
      "def xSquareTest(xsamp, f, a, b, x, k=50):\n",
      "    arrk = range(k)\n",
      "    s = 0\n",
      "    freq, b = np.histogram(xsamp, k)\n",
      "\n",
      "    \n",
      "    \n",
      "    for i in arrk:\n",
      "        s += ((freq[i] - f(a,b,x[i]))**2)/f(a,b,x[i])\n",
      "        \n",
      "    return s"
     ],
     "language": "python",
     "metadata": {},
     "outputs": [],
     "prompt_number": 34
    },
    {
     "cell_type": "code",
     "collapsed": false,
     "input": [
      "print xSquareTest(xsamples, f, a,b,x)"
     ],
     "language": "python",
     "metadata": {},
     "outputs": [
      {
       "output_type": "stream",
       "stream": "stdout",
       "text": [
        "1.46259716472e+29\n"
       ]
      }
     ],
     "prompt_number": 35
    },
    {
     "cell_type": "markdown",
     "metadata": {},
     "source": [
      "\n",
      "The Beta(4,3) distribution has density\n",
      "f(x)={60x3(1\u2212x)200\u2264x\u22641otherwise\n",
      "The maximum of this distribution is f(0.6)=2.0736 (exactly).\n",
      "(a) Write a program that uses the Rejection Sampling Method to generate a set of 10,000 samples from this distribution and plot the density distribution, the CDF, and a histogram of the sampled distribution on the same graph.\n",
      "Note: Do not use the built-in Beta function from numpy.random."
     ]
    },
    {
     "cell_type": "code",
     "collapsed": false,
     "input": [
      "f1 = lambda x: 60*x**3*(1-x)**2\n",
      "F1 = lambda x: 10*x**6 - 24*x**5 +15*x**4\n",
      "xmin = 0.\n",
      "xmax = 1.\n",
      "\n",
      "x = np.arange(0.,1.001,0.001)\n",
      "\n",
      "subx = x[logical_and((x>xmin),(x<xmax))]\n",
      "\n",
      "\n",
      "ymin = 0.\n",
      "ymax = f1(subx).max()"
     ],
     "language": "python",
     "metadata": {},
     "outputs": [],
     "prompt_number": 21
    },
    {
     "cell_type": "code",
     "collapsed": false,
     "input": [
      "samples_x = (xmax)*np.random.random_sample(N)\n",
      "samples_y = (ymax)*np.random.random_sample(N)"
     ],
     "language": "python",
     "metadata": {},
     "outputs": [],
     "prompt_number": 22
    },
    {
     "cell_type": "code",
     "collapsed": false,
     "input": [
      "newmask = (samples_y < f1(samples_x))\n",
      "\n",
      "plt.plot(samples_x[:500], f1(samples_x[:500]),'r.')\n",
      "plt.plot(samples_x[:500], F1(samples_x[:500]), 'g.')\n",
      "plt.hist(samples_x[newmask[:500]], 50, normed=50, color = 'b')\n",
      "\n",
      "plt.plot([xmin,xmin], [ymin,ymax], color='k', linestyle='--')\n",
      "plt.plot([xmax,xmax], [ymin,ymax], color='k', linestyle='--')\n",
      "plt.plot([xmin,xmax], [ymax, ymax], color='k', linestyle='--')\n",
      "plt.show()\n",
      "#The four statistical tests?"
     ],
     "language": "python",
     "metadata": {},
     "outputs": [
      {
       "metadata": {},
       "output_type": "display_data",
       "png": "[encoded data removed]",
       "text": [
        "<matplotlib.figure.Figure at 0x105067050>"
       ]
      }
     ],
     "prompt_number": 23
    },
    {
     "cell_type": "markdown",
     "metadata": {},
     "source": [
      "(b) Run the four statistical tests of randomness (mean, variance, chi-square, K-S) on your results from question 2(a). Does it pass all of them?"
     ]
    },
    {
     "cell_type": "code",
     "collapsed": false,
     "input": [
      "print meanTest(samples_x)\n",
      "print meanTest(samples_y)"
     ],
     "language": "python",
     "metadata": {},
     "outputs": [
      {
       "output_type": "stream",
       "stream": "stdout",
       "text": [
        "0.502257099025\n",
        "1.04901679534\n"
       ]
      }
     ],
     "prompt_number": 24
    },
    {
     "cell_type": "code",
     "collapsed": false,
     "input": [
      "print varianceTest(samples_x)\n",
      "print varianceTest(samples_y)"
     ],
     "language": "python",
     "metadata": {},
     "outputs": [
      {
       "output_type": "stream",
       "stream": "stdout",
       "text": [
        "0.0829975457364\n",
        "0.355282419159"
       ]
      },
      {
       "output_type": "stream",
       "stream": "stdout",
       "text": [
        "\n"
       ]
      }
     ],
     "prompt_number": 25
    },
    {
     "cell_type": "markdown",
     "metadata": {},
     "source": [
      "a) Plot the Woods-Saxon distribution \u03c1(r) and r2\u03c1(r) for gold from r = 0 fm to r = 18 fm."
     ]
    },
    {
     "cell_type": "code",
     "collapsed": false,
     "input": [
      "pr = lambda R, a, w, r: 1/ (1 + exp((r-R)/a))\n",
      "R = 6.38\n",
      "a = 0.535\n",
      "w = 0.\n",
      "r = np.arange(0.,18.001,0.001)\n",
      "N = 10000\n",
      "\n",
      "prF = lambda R,a,w,r: r - a*log(np.exp(r/a) + np.exp(R/a))\n",
      "rmin = pr(R,a,w,r).min()\n",
      "rmax = pr(R,a,w,r).max()"
     ],
     "language": "python",
     "metadata": {},
     "outputs": [],
     "prompt_number": 36
    },
    {
     "cell_type": "code",
     "collapsed": false,
     "input": [
      "rsam = xmin + (xmax)*np.random.random_sample(N)"
     ],
     "language": "python",
     "metadata": {},
     "outputs": []
    },
    {
     "cell_type": "markdown",
     "metadata": {},
     "source": [
      "(b) Let\u2019s create a realistic distribution for two gold ions, A, and B.\n",
      "\n",
      "First, distribute 197 nucleons for each nucleus using the Woods-Saxon distribution multiplied by the spherical coordinate weighting factor, r2. Use the distribute1d function from the tour to sample r values numerically.\n",
      "\n",
      "Then, use uniform sampling of a number u from [0,1) scaled by 2\u03c0 to obtain the azimuthal angle \u03d5 = 2\u03c0u\n",
      "\n",
      "Followed by uniform sampling of another number v = [0,1), transformed to \u03b8=cos\u22121(2v\u22121) to obtain the polar angle \u03b8.\n",
      "\n",
      "(Note that this is the physics definition of azimuthal and polar angles, not the math definition.)\n",
      "\n",
      "The reason for these transformations is that the volume element dV=r2sin\u03b8drd\u03b8d\u03d5 has both radial and polar angle dependence. If you do not sample in this way, your results will be bunched up at the poles and toward the outer edges of the sphere.\n",
      " "
     ]
    },
    {
     "cell_type": "code",
     "collapsed": false,
     "input": [],
     "language": "python",
     "metadata": {},
     "outputs": []
    }
   ],
   "metadata": {}
  }
 ]
}