{
 "metadata": {
  "name": "",
<<<<<<< HEAD
  "signature": "sha256:8d08bca99992a962c72d9f67ef3d8af692f87740b7ed973932ebc3e2518178b2"
=======
  "signature": "sha256:0a77cbc290f76f153adb0e38c22ce03a047a86e578285a44b569b84314df3123"
>>>>>>> eda372ef9a9730d225ea3eb5748539dac7e4d503
 },
 "nbformat": 3,
 "nbformat_minor": 0,
 "worksheets": [
  {
   "cells": [
    {
     "cell_type": "heading",
     "level": 1,
     "metadata": {},
     "source": [
      "Random Numbers, Monte Carlo Sampling and Simulation Excercises"
     ]
    },
    {
     "cell_type": "code",
     "collapsed": false,
     "input": [
      "%pylab inline\n",
      "import numpy as np\n",
      "import matplotlib.pyplot as plt"
     ],
     "language": "python",
     "metadata": {},
     "outputs": [
      {
       "output_type": "stream",
       "stream": "stdout",
       "text": [
        "Populating the interactive namespace from numpy and matplotlib\n"
       ]
      },
      {
       "output_type": "stream",
       "stream": "stderr",
       "text": [
        "WARNING: pylab import has clobbered these variables: ['f']\n",
        "`%matplotlib` prevents importing * from pylab and numpy\n"
       ]
      }
     ],
     "prompt_number": 2
    },
    {
     "cell_type": "code",
     "collapsed": false,
     "input": [
      "a = 1.5\n",
      "b = 6.\n",
      "x = np.arange(1, 100, 1)\n",
      "\n",
      "f = lambda a,b,x: (a*b**(-a)*x**(a-1))*np.exp(-(x/b)**a)\n",
      "#The CDF of Weibull distribution\n",
      "F = lambda a,b,x: 1 - np.exp(-(x/b)**a) \n"
     ],
     "language": "python",
     "metadata": {},
     "outputs": [],
<<<<<<< HEAD
     "prompt_number": 3
=======
     "prompt_number": 18
>>>>>>> eda372ef9a9730d225ea3eb5748539dac7e4d503
    },
    {
     "cell_type": "markdown",
     "metadata": {},
     "source": [
      "(b) Find the inverse of the CDF F\u22121(x) analytically. "
     ]
    },
    {
     "cell_type": "code",
     "collapsed": false,
     "input": [
      "Finv = lambda a,b,x: b*(-np.log(1-x))**(1/a)\n"
     ],
     "language": "python",
     "metadata": {},
     "outputs": [],
<<<<<<< HEAD
     "prompt_number": 4
=======
     "prompt_number": 19
>>>>>>> eda372ef9a9730d225ea3eb5748539dac7e4d503
    },
    {
     "cell_type": "markdown",
     "metadata": {},
     "source": [
      "(c) Write a program to generate 10,000 samples from the Weibull distribution and plot the true distribution, the CDF and the sampled distribution as a histogram, all on the same graph. Let \u03b1 = 1.5, \u03b2 = 6."
     ]
    },
    {
     "cell_type": "code",
     "collapsed": false,
     "input": [
      "N = 10000\n",
      "\n",
      "z = np.random.random_sample(N)\n",
      "\n",
      "xsamples = Finv(a,b,z)\n",
      "\n",
      "plt.hist(xsamples, 50, normed=True, label = \"Sampled Distribution\")\n",
      "plt.plot(x, f(a,b,x), color='r')\n",
      "plt.plot(x, F(a,b,x), color='g')\n",
      "plt.show()"
     ],
     "language": "python",
     "metadata": {},
     "outputs": [
      {
       "metadata": {},
       "output_type": "display_data",
<<<<<<< HEAD
       "png": "iVBORw0KGgoAAAANSUhEUgAAAXgAAAEACAYAAAC57G0KAAAABHNCSVQICAgIfAhkiAAAAAlwSFlz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\nW1gk6HCAqgAAAABJRU5ErkJggg==\n",
       "text": [
        "<matplotlib.figure.Figure at 0x104ec3ad0>"
       ]
      }
     ],
     "prompt_number": 5
=======
       "png": "iVBORw0KGgoAAAANSUhEUgAAAXgAAAEACAYAAAC57G0KAAAABHNCSVQICAgIfAhkiAAAAAlwSFlz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\n8lEMeCIiH8WAJyLyUQx4IiIf9f8BFG9Da+virxAAAAAASUVORK5CYII=\n",
       "text": [
        "<matplotlib.figure.Figure at 0x1064bfb90>"
       ]
      }
     ],
     "prompt_number": 20
>>>>>>> eda372ef9a9730d225ea3eb5748539dac7e4d503
    },
    {
     "cell_type": "code",
     "collapsed": false,
     "input": [
      "print xsamples, len(xsamples)"
     ],
     "language": "python",
     "metadata": {},
     "outputs": [
      {
       "output_type": "stream",
       "stream": "stdout",
       "text": [
<<<<<<< HEAD
        "0.501159141644\n"
       ]
      }
     ],
     "prompt_number": 6
=======
        "[ 9.98051763  0.35683817  5.67167245 ...,  3.37235332  5.8947036\n",
        "  1.80488665] 10000\n"
       ]
      }
     ],
     "prompt_number": 22
    },
    {
     "cell_type": "markdown",
     "metadata": {},
     "source": [
      "(d) Run the four statistical tests of randomness (mean, variance, chi-square, K-S) on your results from question 1(c). Does it pass all of them?"
     ]
>>>>>>> eda372ef9a9730d225ea3eb5748539dac7e4d503
    },
    {
     "cell_type": "code",
     "collapsed": false,
     "input": [
      "def meanTest(z):\n",
      "    mean = z.sum()/len(z)\n",
      "    return mean\n",
      "\n",
      "print meanTest(z)"
     ],
     "language": "python",
     "metadata": {},
     "outputs": [
      {
       "output_type": "stream",
       "stream": "stdout",
       "text": [
        "0.497076392775\n"
       ]
      }
     ],
     "prompt_number": 12
    },
    {
     "cell_type": "code",
     "collapsed": false,
     "input": [
      "def varianceTest(z):\n",
      "    sums = 0\n",
      "    for i in range(len(z)):\n",
      "        sums += (z[i] - meanTest(z))**2\n",
      "    \n",
      "    variance = sums/len(z) \n",
      "    return variance"
     ],
     "language": "python",
     "metadata": {},
     "outputs": [],
     "prompt_number": 14
    },
    {
     "cell_type": "code",
     "collapsed": false,
     "input": [
      "print varianceTest(z)"
     ],
     "language": "python",
     "metadata": {},
     "outputs": [
      {
       "output_type": "stream",
       "stream": "stdout",
       "text": [
<<<<<<< HEAD
        "0.0837691406529\n"
       ]
      }
     ],
     "prompt_number": 7
=======
        "0.084042232586\n"
       ]
      }
     ],
     "prompt_number": 15
>>>>>>> eda372ef9a9730d225ea3eb5748539dac7e4d503
    },
    {
     "cell_type": "code",
     "collapsed": false,
     "input": [
      "#Chi-square test: Oi = number of x values in one little 'rectangle'\n",
      "# Ei = the value of x where the red graph and blue graph meet\n",
      "#k = number of rectangles\n",
      "\n",
      "def xSquareTest(xsamp, z, f, k=50):\n",
      "    arrk = range(k)\n",
      "    "
     ],
     "language": "python",
     "metadata": {},
     "outputs": [],
<<<<<<< HEAD
     "prompt_number": 7
=======
     "prompt_number": 23
>>>>>>> eda372ef9a9730d225ea3eb5748539dac7e4d503
    },
    {
     "cell_type": "markdown",
     "metadata": {},
     "source": [
      "\n",
      "The Beta(4,3) distribution has density\n",
      "f(x)={60x3(1\u2212x)200\u2264x\u22641otherwise\n",
      "The maximum of this distribution is f(0.6)=2.0736 (exactly).\n",
      "(a) Write a program that uses the Rejection Sampling Method to generate a set of 10,000 samples from this distribution and plot the density distribution, the CDF, and a histogram of the sampled distribution on the same graph.\n",
      "Note: Do not use the built-in Beta function from numpy.random."
     ]
    },
    {
     "cell_type": "code",
     "collapsed": false,
     "input": [
<<<<<<< HEAD
      "f = lambda x: 60*x**3*(1-x)**2\n",
      "F = lambda x: 10*x**6 - 24*x**5 + 15*x**4\n",
=======
      "f1 = lambda x: 60*x**3*(1-x)**2\n",
      "F1 = lambda x: 10*x**6 - 24*x**5 +15*x**4\n",
>>>>>>> eda372ef9a9730d225ea3eb5748539dac7e4d503
      "xmin = 0.\n",
      "xmax = 1.\n",
      "\n",
      "x = np.arange(0.,1.001,0.001)\n",
      "\n",
      "subx = x[logical_and((x>xmin),(x<xmax))]\n",
      "\n",
      "\n",
      "ymin = 0.\n",
      "ymax = f(subx).max()"
     ],
     "language": "python",
     "metadata": {},
     "outputs": [],
<<<<<<< HEAD
     "prompt_number": 8
=======
     "prompt_number": 17
>>>>>>> eda372ef9a9730d225ea3eb5748539dac7e4d503
    },
    {
     "cell_type": "code",
     "collapsed": false,
     "input": [
      "samples_x = (xmax)*np.random.random_sample(N)\n",
      "samples_y = (ymax)*np.random.random_sample(N)"
     ],
     "language": "python",
     "metadata": {},
     "outputs": [],
     "prompt_number": 9
    },
    {
     "cell_type": "code",
     "collapsed": false,
     "input": [
      "newmask = (samples_y < f(samples_x))\n",
      "\n",
      "plt.plot(samples_x[:500], f(samples_x[:500]),'r.')\n",
      "plt.plot(samples_x[:500], F(samples_x[:500]), 'g.')\n",
      "plt.hist(samples_x[newmask[:500]], 50, normed=50, color = 'b')\n",
      "\n",
      "plt.plot([xmin,xmin], [ymin,ymax], color='k', linestyle='--')\n",
      "plt.plot([xmax,xmax], [ymin,ymax], color='k', linestyle='--')\n",
      "plt.plot([xmin,xmax], [ymax, ymax], color='k', linestyle='--')\n",
      "plt.show()\n",
      "#The four statistical tests?"
     ],
     "language": "python",
     "metadata": {},
     "outputs": [
      {
       "metadata": {},
       "output_type": "display_data",
<<<<<<< HEAD
       "png": "iVBORw0KGgoAAAANSUhEUgAAAXYAAAEACAYAAACnJV25AAAABHNCSVQICAgIfAhkiAAAAAlwSFlz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\n",
       "text": [
        "<matplotlib.figure.Figure at 0x105054fd0>"
       ]
      }
     ],
     "prompt_number": 13
=======
       "png": "iVBORw0KGgoAAAANSUhEUgAAAXYAAAEACAYAAACnJV25AAAABHNCSVQICAgIfAhkiAAAAAlwSFlz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\nCCF0RoJdCCF05v8DddBsO1XwcO0AAAAASUVORK5CYII=\n",
       "text": [
        "<matplotlib.figure.Figure at 0x1062be150>"
       ]
      }
     ],
     "prompt_number": 10
>>>>>>> eda372ef9a9730d225ea3eb5748539dac7e4d503
    },
    {
     "cell_type": "markdown",
     "metadata": {},
     "source": [
      "(b) Run the four statistical tests of randomness (mean, variance, chi-square, K-S) on your results from question 2(a). Does it pass all of them?"
     ]
    },
    {
     "cell_type": "code",
     "collapsed": false,
     "input": [],
     "language": "python",
     "metadata": {},
     "outputs": []
    },
    {
     "cell_type": "markdown",
     "metadata": {},
     "source": [
      "a) Plot the Woods-Saxon distribution \u03c1(r) and r2\u03c1(r) for gold from r = 0 fm to r = 18 fm."
     ]
    },
    {
     "cell_type": "code",
     "collapsed": false,
     "input": [],
     "language": "python",
     "metadata": {},
     "outputs": [],
     "prompt_number": 10
<<<<<<< HEAD
=======
    },
    {
     "cell_type": "markdown",
     "metadata": {},
     "source": [
      "(b) Let\u2019s create a realistic distribution for two gold ions, A, and B.\n",
      "\n",
      "First, distribute 197 nucleons for each nucleus using the Woods-Saxon distribution multiplied by the spherical coordinate weighting factor, r2. Use the distribute1d function from the tour to sample r values numerically.\n",
      "\n",
      "Then, use uniform sampling of a number u from [0,1) scaled by 2\u03c0 to obtain the azimuthal angle \u03d5 = 2\u03c0u\n",
      "\n",
      "Followed by uniform sampling of another number v = [0,1), transformed to \u03b8=cos\u22121(2v\u22121) to obtain the polar angle \u03b8.\n",
      "\n",
      "(Note that this is the physics definition of azimuthal and polar angles, not the math definition.)\n",
      "\n",
      "The reason for these transformations is that the volume element dV=r2sin\u03b8drd\u03b8d\u03d5 has both radial and polar angle dependence. If you do not sample in this way, your results will be bunched up at the poles and toward the outer edges of the sphere.\n",
      " "
     ]
    },
    {
     "cell_type": "code",
     "collapsed": false,
     "input": [],
     "language": "python",
     "metadata": {},
     "outputs": []
>>>>>>> eda372ef9a9730d225ea3eb5748539dac7e4d503
    }
   ],
   "metadata": {}
  }
 ]
}