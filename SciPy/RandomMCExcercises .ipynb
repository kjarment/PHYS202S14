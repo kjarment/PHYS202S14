{
 "metadata": {
  "name": "",
  "signature": "sha256:643e7b20c8661e390a3c1a1674779e619fea4c0dbcb8efe312e44a765fb2e7ad"
 },
 "nbformat": 3,
 "nbformat_minor": 0,
 "worksheets": [
  {
   "cells": [
    {
     "cell_type": "heading",
     "level": 1,
     "metadata": {},
     "source": [
      "Random Numbers, Monte Carlo Sampling and Simulation Excercises"
     ]
    },
    {
     "cell_type": "code",
     "collapsed": false,
     "input": [
      "%pylab inline\n",
      "import numpy as np\n",
      "import matplotlib.pyplot as plt"
     ],
     "language": "python",
     "metadata": {},
     "outputs": [
      {
       "output_type": "stream",
       "stream": "stdout",
       "text": [
        "Populating the interactive namespace from numpy and matplotlib\n"
       ]
      },
      {
       "output_type": "stream",
       "stream": "stderr",
       "text": [
        "WARNING: pylab import has clobbered these variables: ['f']\n",
        "`%matplotlib` prevents importing * from pylab and numpy\n"
       ]
      }
     ],
     "prompt_number": 3
    },
    {
     "cell_type": "code",
     "collapsed": false,
     "input": [
      "a = 1.5\n",
      "b = 6.\n",
      "x = np.arange(1, 100, 1)\n",
      "\n",
      "f = lambda a,b,x: (a*b**(-a)*x**(a-1))*np.exp(-(x/b)**a)\n",
      "#The CDF of Weibull distribution\n",
      "F = lambda a,b,x: 1 - np.exp(-(x/b)**a) \n"
     ],
     "language": "python",
     "metadata": {},
     "outputs": [],
     "prompt_number": 4
    },
    {
     "cell_type": "markdown",
     "metadata": {},
     "source": [
      "(b) Find the inverse of the CDF F\u22121(x) analytically. "
     ]
    },
    {
     "cell_type": "code",
     "collapsed": false,
     "input": [
      "Finv = lambda a,b,x: b*(-np.log(1-x))**(1/a)\n"
     ],
     "language": "python",
     "metadata": {},
     "outputs": [],
     "prompt_number": 5
    },
    {
     "cell_type": "markdown",
     "metadata": {},
     "source": [
      "(c) Write a program to generate 10,000 samples from the Weibull distribution and plot the true distribution, the CDF and the sampled distribution as a histogram, all on the same graph. Let \u03b1 = 1.5, \u03b2 = 6."
     ]
    },
    {
     "cell_type": "code",
     "collapsed": false,
     "input": [
      "N = 10000\n",
      "\n",
      "z = np.random.random_sample(N)\n",
      "\n",
      "xsamples = Finv(a,b,z)\n",
      "\n",
      "plt.hist(xsamples, 50, normed=True, label = \"Sampled Distribution\")\n",
      "plt.plot(x, f(a,b,x), color='r')\n",
      "plt.plot(x, F(a,b,x), color='g')\n",
      "plt.show()\n",
      "\n",
      "#Chi-square test: Oi = number of x values in one little 'rectangle'\n",
      "# Ei = the value of x where the red graph and blue graph meet\n",
      "#k = number of rectangles"
     ],
     "language": "python",
     "metadata": {},
     "outputs": [
      {
       "metadata": {},
       "output_type": "display_data",
       "png": "[encoded data removed]",
       "text": [
        "<matplotlib.figure.Figure at 0x1062e1850>"
       ]
      }
     ],
     "prompt_number": 6
    },
    {
     "cell_type": "code",
     "collapsed": false,
     "input": [
      "mean = z.sum()/len(z)\n",
      "print mean"
     ],
     "language": "python",
     "metadata": {},
     "outputs": [
      {
       "output_type": "stream",
       "stream": "stdout",
       "text": [
        "0.495951201431\n"
       ]
      }
     ],
     "prompt_number": 7
    },
    {
     "cell_type": "code",
     "collapsed": false,
     "input": [
      "sums = 0\n",
      "for i in range(len(z)):\n",
      "    sums += (z[i] - mean)**2\n",
      "    \n",
      "variance = sums/len(z) \n",
      "print variance"
     ],
     "language": "python",
     "metadata": {},
     "outputs": [
      {
       "output_type": "stream",
       "stream": "stdout",
       "text": [
        "0.0825552593442\n"
       ]
      }
     ],
     "prompt_number": 8
    },
    {
     "cell_type": "code",
     "collapsed": false,
     "input": [],
     "language": "python",
     "metadata": {},
     "outputs": [],
     "prompt_number": 8
    },
    {
     "cell_type": "markdown",
     "metadata": {},
     "source": [
      "\n",
      "The Beta(4,3) distribution has density\n",
      "f(x)={60x3(1\u2212x)200\u2264x\u22641otherwise\n",
      "The maximum of this distribution is f(0.6)=2.0736 (exactly).\n",
      "(a) Write a program that uses the Rejection Sampling Method to generate a set of 10,000 samples from this distribution and plot the density distribution, the CDF, and a histogram of the sampled distribution on the same graph.\n",
      "Note: Do not use the built-in Beta function from numpy.random."
     ]
    },
    {
     "cell_type": "code",
     "collapsed": false,
     "input": [
      "f = lambda x: 60*x**3*(1-x)**2\n",
      "F = lambda x: 10*x**6 - 24*x**5 +15*x**4\n",
      "xmin = 0.\n",
      "xmax = 1.\n",
      "\n",
      "x = np.arange(0.,1.001,0.001)\n",
      "\n",
      "subx = x[logical_and((x>xmin),(x<xmax))]\n",
      "\n",
      "\n",
      "ymin = 0.\n",
      "ymax = f(subx).max()"
     ],
     "language": "python",
     "metadata": {},
     "outputs": [],
     "prompt_number": 9
    },
    {
     "cell_type": "code",
     "collapsed": false,
     "input": [
      "samples_x = (xmax)*np.random.random_sample(N)\n",
      "samples_y = (ymax)*np.random.random_sample(N)"
     ],
     "language": "python",
     "metadata": {},
     "outputs": [],
     "prompt_number": 10
    },
    {
     "cell_type": "code",
     "collapsed": false,
     "input": [
      "newmask = (samples_y < f(samples_x))\n",
      "\n",
      "plt.plot(samples_x[:500], f(samples_x[:500]),'r.')\n",
      "plt.plot(samples_x[:500], F(samples_x[:500]), 'g.')\n",
      "plt.hist(samples_x[newmask[:500]], 50, normed=50, color = 'b')\n",
      "\n",
      "\n",
      "plt.plot([xmin,xmin], [ymin,ymax], color='k', linestyle='--')\n",
      "plt.plot([xmax,xmax], [ymin,ymax], color='k', linestyle='--')\n",
      "plt.plot([xmin,xmax], [ymax, ymax], color='k', linestyle='--')\n",
      "plt.show()"
     ],
     "language": "python",
     "metadata": {},
     "outputs": [
      {
       "metadata": {},
       "output_type": "display_data",
       "png": "[encoded data removed]",
       "text": [
        "<matplotlib.figure.Figure at 0x106303310>"
       ]
      }
     ],
     "prompt_number": 11
    },
    {
     "cell_type": "markdown",
     "metadata": {},
     "source": [
      "(b) Run the four statistical tests of randomness (mean, variance, chi-square, K-S) on your results from question 2(a). Does it pass all of them?"
     ]
    },
    {
     "cell_type": "markdown",
     "metadata": {},
     "source": [
      "a) Plot the Woods-Saxon distribution \u03c1(r) and r2\u03c1(r) for gold from r = 0 fm to r = 18 fm."
     ]
    },
    {
     "cell_type": "code",
     "collapsed": false,
     "input": [],
     "language": "python",
     "metadata": {},
     "outputs": [],
     "prompt_number": 11
    }
   ],
   "metadata": {}
  }
 ]
}