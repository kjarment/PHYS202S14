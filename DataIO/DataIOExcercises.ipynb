{
 "metadata": {
  "name": "",
  "signature": "sha256:3d5e8d9838497a852b7c5a026bc3189fc50a5dd8db88b4029f8a51801238306e"
 },
 "nbformat": 3,
 "nbformat_minor": 0,
 "worksheets": [
  {
   "cells": [
    {
     "cell_type": "heading",
     "level": 1,
     "metadata": {},
     "source": [
      "Data I/O Excercises"
     ]
    },
    {
     "cell_type": "code",
     "collapsed": false,
     "input": [
      "%pylab inline\n",
      "import numpy as np"
     ],
     "language": "python",
     "metadata": {},
     "outputs": [
      {
       "output_type": "stream",
       "stream": "stdout",
       "text": [
        "Populating the interactive namespace from numpy and matplotlib\n"
       ]
      },
      {
       "output_type": "stream",
       "stream": "stderr",
       "text": [
        "WARNING: pylab import has clobbered these variables: ['f', 'random', 'e']\n",
        "`%matplotlib` prevents importing * from pylab and numpy\n"
       ]
      }
     ],
     "prompt_number": 64
    },
    {
     "cell_type": "code",
     "collapsed": false,
     "input": [
      "f = open('messy_data.dat', 'w')\n",
      "import random\n",
      "for i in range(100):\n",
      "    for j in range(5):\n",
      "        f.write(' ' * random.randint(0, 6))\n",
      "        f.write('%0*.*g' % (random.randint(8, 12),\n",
      "                            random.randint(5, 10),\n",
      "                            100 * random.random()))\n",
      "        if j != 4:\n",
      "            f.write(',')\n",
      "    f.write('\\n')\n",
      "f.close()"
     ],
     "language": "python",
     "metadata": {},
     "outputs": [],
     "prompt_number": 65
    },
    {
     "cell_type": "code",
     "collapsed": false,
     "input": [
      "!head -4 messy_data.dat"
     ],
     "language": "python",
     "metadata": {},
     "outputs": [
      {
       "output_type": "stream",
       "stream": "stdout",
       "text": [
        "      0037.875924,   28.159207, 0088.4245,    70.1992398,    15.3962615\r\n",
        "00062.697,062.92779758,     34.3611356,  00091.097178,   0023.182763\r\n",
        "     30.191085, 46.56859249, 004.467695,   079.699449, 089.1814\r\n",
        "      86.931174,     00045.426,  00000021.217,   020.80802,     00000033.715\r\n"
       ]
      }
     ],
     "prompt_number": 66
    },
    {
     "cell_type": "heading",
     "level": 4,
     "metadata": {},
     "source": [
      "(a) Write a program that reads in the contents of \"messy_data.dat\" and extracts the numbers from each line, using the string manipulations we used in section 1 (remember that float() will convert a suitable string to a floating-point number)."
     ]
    },
    {
     "cell_type": "code",
     "collapsed": false,
     "input": [
      "for line in open(\"messy_data.dat\"):\n",
      "    for item in line.split(\",\"):\n",
      "        print float(item),\n",
      "        print '   ',\n",
      "    print ' '\n",
      "\n"
     ],
     "language": "python",
     "metadata": {},
     "outputs": [
      {
       "output_type": "stream",
       "stream": "stdout",
       "text": [
        "37.875924     28.159207     88.4245     70.1992398     15.3962615      \n",
        "62.697     62.92779758     34.3611356     91.097178     23.182763      \n",
        "30.191085     46.56859249     4.467695     79.699449     89.1814      \n",
        "86.931174     45.426     21.217     20.80802     33.715      \n",
        "84.704093     38.25354928     36.8118384     18.443     5.20654      \n",
        "81.24724193     95.6436     57.3588531     92.454463     33.58165      \n",
        "89.286943     21.71783     59.66514237     10.3186     66.1248      \n",
        "31.834181     87.212982     57.699     59.8894     59.5197695      \n",
        "40.692611     15.1175426     53.9180169     31.8036     92.232      \n",
        "33.09061564     65.4915     19.30403     68.698     68.7566568      \n",
        "20.97625094     33.7304     80.2846408     92.962911     10.3172267      \n",
        "47.3472065     71.76183049     2.08162118     12.468     95.982721      \n",
        "69.6679429     8.092802     50.404     25.0512     79.8516125      \n",
        "44.525696     44.30573544     25.1909459     18.9472548     18.41116      \n",
        "81.220987     41.7259     14.72977757     27.37824814     76.68884      \n",
        "42.64965149     9.231     2.6372     38.31828992     0.9096      \n",
        "64.9643822     8.399967479     54.97921     76.68937     94.84201      \n",
        "58.76514     64.084     70.83945     41.1987344     87.083258      \n",
        "29.037     40.0279606     51.53332     75.0194121     37.97      \n",
        "50.27099     74.449473     57.5889     99.976     69.0470571      \n",
        "69.687914     17.963     35.9838     30.964     6.15692      \n",
        "41.15     22.2073     80.913     8.865021671     65.818      \n",
        "89.495309     28.72675     72.512     2.668840199     32.54859857      \n",
        "13.4969755     38.5114749     65.6691162     24.303969     49.587      \n",
        "47.7601225     50.19646     17.165     61.832964     17.661788      \n",
        "77.66178     76.394     17.27395553     9.133653     86.3082      \n",
        "13.614123     1.3259     18.928034     9.200839     38.711433      \n",
        "35.8440307     26.5772     35.3485     60.61050195     14.809      \n",
        "22.9148071     40.31428     24.235     81.52798137     83.92990749      \n",
        "60.7269     80.245989     72.691165     70.683727     83.70283      \n",
        "26.43825     33.971     78.0222     89.4210171     3.453368      \n",
        "73.32656     28.88529189     21.1738     77.2569     18.21088527      \n",
        "81.8723     7.37672     88.26036     27.73482368     77.37261      \n",
        "34.239437     78.3822114     83.556     46.3902     27.885121      \n",
        "50.61470382     65.8091     3.906554122     34.15     90.8890467      \n",
        "84.08515716     93.65     24.027     57.56123     44.061956      \n",
        "26.5479894     46.5183     0.1510816     24.101998     50.3445389      \n",
        "49.5530966     55.0246461     7.4262     78.99193     73.14187055      \n",
        "7.50247219     94.62214306     12.575     47.695     24.389      \n",
        "95.87166     25.9915     72.71772427     60.173     79.1308      \n",
        "71.59072172     58.65068     85.6977673     17.2814     46.300545      \n",
        "33.5292     63.8412     43.445     45.95815     15.322811      \n",
        "90.20265432     16.649     68.35118     56.1757     92.53232      \n",
        "44.0500542     85.9695     56.548846     52.2707765     24.42345      \n",
        "41.049732     43.183332     87.9825     89.009     98.9148      \n",
        "2.3466792     8.9921     55.13474     61.747025     68.0932      \n",
        "80.013     53.626375     69.1061     48.7250511     74.2241      \n",
        "36.9718637     11.8548106     85.8556     63.261712     27.1251      \n",
        "0.728335     60.495     44.35033     82.99221453     55.064511      \n",
        "95.8621     44.8166     99.0842556     36.5227     46.1917      \n",
        "79.468421     90.125609     19.263788     9.47986     20.1844      \n",
        "23.0042875     35.6865     36.115     0.22937775     27.495      \n",
        "44.6103784     22.90795     24.4389     77.62483421     28.78056      \n",
        "15.8686559     50.8500038     45.1808776     78.9545     44.524219      \n",
        "43.822     83.741     29.522173     27.697     2.94598      \n",
        "36.547179     24.358     63.099     26.9832     0.25429294      \n",
        "66.899655     64.23968     74.702963     13.869135     67.0163      \n",
        "70.9089     86.81430488     88.35209352     91.7667     36.281042      \n",
        "24.991     80.87548     7.3063     34.7908     21.048316      \n",
        "94.9541     29.034     47.7469     65.75641     96.0299      \n",
        "55.96852     88.38834     40.99698     12.97637822     43.451      \n",
        "5.42808942     35.65349     7.3708     85.922     86.26459      \n",
        "26.8639     55.537     29.956     79.95556541     30.2376349      \n",
        "63.803398     84.2452     83.5887     13.3662     69.287      \n",
        "67.970869     21.9531     23.90446     30.864127     53.49729114      \n",
        "71.4084     74.8835035     79.552534     91.03759     41.0574      \n",
        "38.73302     37.961341     72.327212     45.068136     50.685443      \n",
        "81.0307     41.7628     35.248     51.248     38.83655      \n",
        "32.9140213     60.339     84.6584917     85.116396     36.2069629      \n",
        "74.8642689     71.558924     51.5988485     50.219     6.02982      \n",
        "91.313     28.408475     16.59133     77.35059     16.3251      \n",
        "48.55785     80.785825     87.33873506     66.18148     97.3816      \n",
        "97.6298     27.34381     94.118208     27.67063209     67.8020228      \n",
        "34.7019429     31.06584     61.1127     92.1581218     32.3046616      \n",
        "48.4241219     74.87131511     78.301924     38.0319753     6.81983      \n",
        "7.475098482     84.6194     88.649331     61.447     11.6190969      \n",
        "86.6988     96.05147652     92.029     68.6453     48.93945      \n",
        "90.198214     28.523     25.685     39.4806248     34.5571      \n",
        "1.4348222     32.9208     55.748     97.0629     75.44869144      \n",
        "57.337     28.22437     82.2368     51.462348     50.52918008      \n",
        "60.20793     97.94862     8.712896944     41.187     1.994416      \n",
        "7.193598391     55.002     50.3029745     59.3560624     13.85527      \n",
        "4.891618077     21.41114618     85.4905     23.3207691     52.57051      \n",
        "2.351212     31.2277115     29.211     93.99047737     1.51519      \n",
        "77.5391873     25.63029     60.1456     67.37054     71.43371      \n",
        "97.91074     71.209503     21.964     72.538863     48.7438261      \n",
        "25.7744     26.40947464     40.66     90.35883261     49.09050658      \n",
        "57.53549812     70.27238     5.16426926     38.64197     11.594397      \n",
        "23.7106     65.12991664     5.9794081     95.775351     41.0198018      \n",
        "3.437556     73.9692     31.3562     63.23454947     34.0905      \n",
        "75.27385     35.344099     6.5077     17.6635935     99.66878      \n",
        "68.331     56.51587735     99.1653     87.71205     84.0309      \n",
        "4.93704767     25.361739     43.9804166     30.3477     47.18909317      \n",
        "60.759     90.198204     46.736121     27.29541902     55.042      \n",
        "47.3901134     50.1139     27.88056     89.19731194     68.2179152      \n",
        "51.84694     20.94536287     5.5157872     13.4142     78.3796      \n",
        "64.08098     45.5469     66.0098     43.5666     7.184852      \n",
        "35.5827     9.88431593     11.840839     52.453988     57.04387595      \n",
        "23.61392     11.5691905     56.005393     11.5421     93.335      \n",
        "42.5525694     3.085345     61.067525     12.108     62.2976      \n"
       ]
      }
     ],
     "prompt_number": 67
    },
    {
     "cell_type": "heading",
     "level": 4,
     "metadata": {},
     "source": [
      "(b) Next write out a new file named \"clean_data.dat\". The new file should contain the same data as the old file, but with uniform formatting and aligned columns."
     ]
    },
    {
     "cell_type": "code",
     "collapsed": false,
     "input": [
      "fout = open('clean_data.dat', 'w')\n",
      "for line in open('messy_data.dat'):\n",
      "    for item in line.split(','):\n",
      "        fout.write('%8.5f'%float(item))  \n",
      "        fout.write('\\t')\n",
      "    fout.write('\\n')\n",
      "fout.close()\n",
      "\"\"\"The first part of our character buffer object tells us the maximum amount of characters in a number. \n",
      "The second character tells us how many digits past the decimal point we put\"\"\"\n",
      "#We write \\n into the file to indent the file to the next line\n",
      "#The \\t just means to tab right after we print the number"
     ],
     "language": "python",
     "metadata": {},
     "outputs": [
      {
       "metadata": {},
       "output_type": "pyout",
       "prompt_number": 68,
       "text": [
        "'The first part of our character buffer object tells us the maximum amount of characters in a number. \\nThe second character tells us how many digits past the decimal point we put'"
       ]
      }
     ],
     "prompt_number": 68
    },
    {
     "cell_type": "code",
     "collapsed": false,
     "input": [
      "fout = open('clean_data.dat', 'w')\n",
      "for line in open('messy_data.dat'):\n",
      "    for item in line.split(','):\n",
      "        fout.write('%8.5f'%float(item))\n",
      "        fout.write('\\t')\n",
      "    fout.write('\\n')\n",
      "fout.close()"
     ],
     "language": "python",
     "metadata": {},
     "outputs": [],
     "prompt_number": 69
    },
    {
     "cell_type": "code",
     "collapsed": false,
     "input": [
      "!head -5 'clean_data.dat'"
     ],
     "language": "python",
     "metadata": {},
     "outputs": [
      {
       "output_type": "stream",
       "stream": "stdout",
       "text": [
        "37.87592\t28.15921\t88.42450\t70.19924\t15.39626\t\r\n",
        "62.69700\t62.92780\t34.36114\t91.09718\t23.18276\t\r\n",
        "30.19109\t46.56859\t 4.46769\t79.69945\t89.18140\t\r\n",
        "86.93117\t45.42600\t21.21700\t20.80802\t33.71500\t\r\n",
        "84.70409\t38.25355\t36.81184\t18.44300\t 5.20654\t\r\n"
       ]
      }
     ],
     "prompt_number": 70
    },
    {
     "cell_type": "heading",
     "level": 4,
     "metadata": {},
     "source": [
      "(c) Now re-do the same task using NumPy's loadtxt and savetxt functions.\n"
     ]
    },
    {
     "cell_type": "code",
     "collapsed": false,
     "input": [
      "data = np.loadtxt(\"messy_data.dat\", delimiter= ',')\n",
      "np.savetxt(\"clean_data.dat\", data, delimiter = '\\t', fmt = '%8.5f')"
     ],
     "language": "python",
     "metadata": {},
     "outputs": [],
     "prompt_number": 74
    },
    {
     "cell_type": "code",
     "collapsed": false,
     "input": [
      "!head -5 \"clean_data.dat\""
     ],
     "language": "python",
     "metadata": {},
     "outputs": [
      {
       "output_type": "stream",
       "stream": "stdout",
       "text": [
        "37.87592\t28.15921\t88.42450\t70.19924\t15.39626\r\n",
        "62.69700\t62.92780\t34.36114\t91.09718\t23.18276\r\n",
        "30.19109\t46.56859\t 4.46769\t79.69945\t89.18140\r\n",
        "86.93117\t45.42600\t21.21700\t20.80802\t33.71500\r\n",
        "84.70409\t38.25355\t36.81184\t18.44300\t 5.20654\r\n"
       ]
      }
     ],
     "prompt_number": 75
    },
    {
     "cell_type": "code",
     "collapsed": false,
     "input": [],
     "language": "python",
     "metadata": {},
     "outputs": []
    }
   ],
   "metadata": {}
  }
 ]
}