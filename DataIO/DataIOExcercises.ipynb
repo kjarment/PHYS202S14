{
 "metadata": {
  "name": "",
  "signature": "sha256:aaf9684ff51c01ca273807be2268facc7573c5abbf75a0dce9a0df302d1302cf"
 },
 "nbformat": 3,
 "nbformat_minor": 0,
 "worksheets": [
  {
   "cells": [
    {
     "cell_type": "heading",
     "level": 1,
     "metadata": {},
     "source": [
      "Data I/O Excercises"
     ]
    },
    {
     "cell_type": "code",
     "collapsed": false,
     "input": [
      "%pylab inline\n",
      "import numpy as np"
     ],
     "language": "python",
     "metadata": {},
     "outputs": [
      {
       "output_type": "stream",
       "stream": "stdout",
       "text": [
        "Populating the interactive namespace from numpy and matplotlib\n"
       ]
      }
     ],
     "prompt_number": 1
    },
    {
     "cell_type": "code",
     "collapsed": false,
     "input": [
      "f = open('messy_data.dat', 'w')\n",
      "import random\n",
      "for i in range(100):\n",
      "    for j in range(5):\n",
      "        f.write(' ' * random.randint(0, 6))\n",
      "        f.write('%0*.*g' % (random.randint(8, 12),\n",
      "                            random.randint(5, 10),\n",
      "                            100 * random.random()))\n",
      "        if j != 4:\n",
      "            f.write(',')\n",
      "    f.write('\\n')\n",
      "f.close()"
     ],
     "language": "python",
     "metadata": {},
     "outputs": [],
     "prompt_number": 2
    },
    {
     "cell_type": "code",
     "collapsed": false,
     "input": [
      "!head -4 messy_data.dat"
     ],
     "language": "python",
     "metadata": {},
     "outputs": [
      {
       "output_type": "stream",
       "stream": "stdout",
       "text": [
        "0.437754225,  00088.710769,   030.52678418,  00013.132355,      11.0049398\r\n",
        "      81.32779261,    027.66823,00001.3595,  00000052.622,    64.5887646\r\n",
        "      0035.9241162,  028.9236763,00015.487,   086.6716885,      00031.825884\r\n",
        "      0074.09087,0004.2374679,     0000087.5489,  034.199122, 044.07211\r\n"
       ]
      }
     ],
     "prompt_number": 3
    },
    {
     "cell_type": "code",
     "collapsed": false,
     "input": [],
     "language": "python",
     "metadata": {},
     "outputs": []
    },
    {
     "cell_type": "heading",
     "level": 4,
     "metadata": {},
     "source": [
      "(a) Write a program that reads in the contents of \"messy_data.dat\" and extracts the numbers from each line, using the string manipulations we used in section 1 (remember that float() will convert a suitable string to a floating-point number)."
     ]
    }
   ],
   "metadata": {}
  }
 ]
}